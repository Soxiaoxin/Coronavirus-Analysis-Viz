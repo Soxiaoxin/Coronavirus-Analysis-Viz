{
 "cells": [
  {
   "cell_type": "markdown",
   "metadata": {},
   "source": [
    "基于Kaggle网站的数据集，对新冠肺炎进行EDA和可视化。"
   ]
  },
  {
   "cell_type": "code",
   "execution_count": 67,
   "metadata": {},
   "outputs": [],
   "source": [
    "import pandas as pd\n",
    "import numpy as np\n",
    "\n",
    "# Customize visualization\n",
    "# Seaborn and matplotlib visualization.\n",
    "import altair as alt\n",
    "import matplotlib.pyplot as plt\n",
    "import seaborn as sns\n",
    "sns.set_style(\"whitegrid\")\n",
    "%matplotlib inline\n",
    "\n",
    "# Display markdown formatted output like bold, italic bold etc.\n",
    "from IPython.display import Markdown\n",
    "def bold(string):\n",
    "    display(Markdown(string))\n",
    "\n",
    "# 绘制地图\n",
    "import folium \n",
    "from folium import plugins\n",
    "# import calmap\n",
    "import plotly.express as px\n",
    "\n",
    "# Graphics in retina format \n",
    "%config InlineBackend.figure_format = 'retina' \n",
    "\n",
    "# Increase the default plot size and set the color scheme\n",
    "plt.rcParams['figure.figsize'] = 8, 5\n",
    "\n",
    "# Disable warnings \n",
    "import warnings\n",
    "warnings.filterwarnings('ignore')"
   ]
  },
  {
   "cell_type": "markdown",
   "metadata": {},
   "source": [
    "# Import Data\n",
    "\n",
    "直接从数据源下载，一直报错。尝试netsh winsock reset并重启，仍然无效。将数据下载下来再进行分析。\n",
    "\n",
    "Kaggle中的数据不全，数据集的时间截止到：2020-02-17\n",
    "\n",
    "而到文档更新时间2020-3-3,韩国已经确诊超4千，这里只有几十个。"
   ]
  },
  {
   "cell_type": "code",
   "execution_count": 53,
   "metadata": {},
   "outputs": [],
   "source": [
    "# urlopen error [WinError 10060]\n",
    "# confirmed = pd.read_csv('https://raw.githubusercontent.com/CSSEGISandData/COVID-19/master/csse_covid_19_data/csse_covid_19_time_series/time_series_19-covid-Confirmed.csv')\n"
   ]
  },
  {
   "cell_type": "code",
   "execution_count": 54,
   "metadata": {},
   "outputs": [],
   "source": [
    "# confirmed = pd.read_csv('novel-corona-virus-2019-dataset/time_series_covid_19_confirmed.csv')\n",
    "# confirmed.head()"
   ]
  },
  {
   "cell_type": "code",
   "execution_count": 13,
   "metadata": {},
   "outputs": [],
   "source": [
    "# recovered = pd.read_csv('novel-corona-virus-2019-dataset/time_series_covid_19_recovered.csv')\n",
    "# recovered.head()"
   ]
  },
  {
   "cell_type": "code",
   "execution_count": 14,
   "metadata": {},
   "outputs": [],
   "source": [
    "# deaths = pd.read_csv('novel-corona-virus-2019-dataset/time_series_covid_19_deaths.csv')\n",
    "# deaths.head()"
   ]
  },
  {
   "cell_type": "code",
   "execution_count": 15,
   "metadata": {},
   "outputs": [],
   "source": [
    "# confirmed.shape, recovered.shape, deaths.shape"
   ]
  },
  {
   "cell_type": "code",
   "execution_count": 16,
   "metadata": {},
   "outputs": [],
   "source": [
    "# confirmed.isna().sum()[confirmed.isna().sum() > 0]"
   ]
  },
  {
   "cell_type": "code",
   "execution_count": 17,
   "metadata": {},
   "outputs": [],
   "source": [
    "# recovered.isna().sum()[recovered.isna().sum() > 0]"
   ]
  },
  {
   "cell_type": "code",
   "execution_count": 18,
   "metadata": {},
   "outputs": [],
   "source": [
    "# deaths.isna().sum()[deaths.isna().sum() > 0]"
   ]
  },
  {
   "cell_type": "code",
   "execution_count": 19,
   "metadata": {},
   "outputs": [],
   "source": [
    "# 将表中有缺失值的数据使用Unknown填充。\n",
    "# confirmed = confirmed.fillna('unknow')\n",
    "# recovered = recovered.fillna('unknow')\n",
    "# deaths = deaths.fillna('unknow')"
   ]
  },
  {
   "cell_type": "code",
   "execution_count": 127,
   "metadata": {},
   "outputs": [],
   "source": [
    "data = pd.read_csv(\"novel-corona-virus-2019-dataset/2019_nCoV_data.csv\")\n",
    "# data.head()"
   ]
  },
  {
   "cell_type": "markdown",
   "metadata": {},
   "source": [
    "**缺失值填充。**"
   ]
  },
  {
   "cell_type": "code",
   "execution_count": 16,
   "metadata": {},
   "outputs": [
    {
     "data": {
      "text/plain": [
       "Province/State    462\n",
       "dtype: int64"
      ]
     },
     "execution_count": 16,
     "metadata": {},
     "output_type": "execute_result"
    }
   ],
   "source": [
    "data.isna().sum()[data.isna().sum() > 0]"
   ]
  },
  {
   "cell_type": "markdown",
   "metadata": {},
   "source": [
    "看原始数据发现，在Province/State这列，有462个空白缺失值。使用Unknown填充。\n"
   ]
  },
  {
   "cell_type": "code",
   "execution_count": 17,
   "metadata": {},
   "outputs": [],
   "source": [
    "data = data.fillna('Unknow')"
   ]
  },
  {
   "cell_type": "markdown",
   "metadata": {},
   "source": [
    "这里的数据有**重复**的，需要去除那些不是最新时间的数据。\n",
    "\n"
   ]
  },
  {
   "cell_type": "code",
   "execution_count": 128,
   "metadata": {},
   "outputs": [
    {
     "data": {
      "text/html": [
       "<div>\n",
       "<style scoped>\n",
       "    .dataframe tbody tr th:only-of-type {\n",
       "        vertical-align: middle;\n",
       "    }\n",
       "\n",
       "    .dataframe tbody tr th {\n",
       "        vertical-align: top;\n",
       "    }\n",
       "\n",
       "    .dataframe thead th {\n",
       "        text-align: right;\n",
       "    }\n",
       "</style>\n",
       "<table border=\"1\" class=\"dataframe\">\n",
       "  <thead>\n",
       "    <tr style=\"text-align: right;\">\n",
       "      <th></th>\n",
       "      <th>Sno</th>\n",
       "      <th>Date</th>\n",
       "      <th>Province/State</th>\n",
       "      <th>Country</th>\n",
       "      <th>Last Update</th>\n",
       "      <th>Confirmed</th>\n",
       "      <th>Deaths</th>\n",
       "      <th>Recovered</th>\n",
       "    </tr>\n",
       "  </thead>\n",
       "  <tbody>\n",
       "    <tr>\n",
       "      <th>0</th>\n",
       "      <td>1</td>\n",
       "      <td>2020-01-22 12:00:00</td>\n",
       "      <td>Anhui</td>\n",
       "      <td>China</td>\n",
       "      <td>2020-01-22 12:00:00</td>\n",
       "      <td>1.0</td>\n",
       "      <td>0.0</td>\n",
       "      <td>0.0</td>\n",
       "    </tr>\n",
       "    <tr>\n",
       "      <th>1</th>\n",
       "      <td>2</td>\n",
       "      <td>2020-01-22 12:00:00</td>\n",
       "      <td>Beijing</td>\n",
       "      <td>China</td>\n",
       "      <td>2020-01-22 12:00:00</td>\n",
       "      <td>14.0</td>\n",
       "      <td>0.0</td>\n",
       "      <td>0.0</td>\n",
       "    </tr>\n",
       "    <tr>\n",
       "      <th>2</th>\n",
       "      <td>3</td>\n",
       "      <td>2020-01-22 12:00:00</td>\n",
       "      <td>Chongqing</td>\n",
       "      <td>China</td>\n",
       "      <td>2020-01-22 12:00:00</td>\n",
       "      <td>6.0</td>\n",
       "      <td>0.0</td>\n",
       "      <td>0.0</td>\n",
       "    </tr>\n",
       "    <tr>\n",
       "      <th>3</th>\n",
       "      <td>4</td>\n",
       "      <td>2020-01-22 12:00:00</td>\n",
       "      <td>Fujian</td>\n",
       "      <td>China</td>\n",
       "      <td>2020-01-22 12:00:00</td>\n",
       "      <td>1.0</td>\n",
       "      <td>0.0</td>\n",
       "      <td>0.0</td>\n",
       "    </tr>\n",
       "    <tr>\n",
       "      <th>4</th>\n",
       "      <td>5</td>\n",
       "      <td>2020-01-22 12:00:00</td>\n",
       "      <td>Gansu</td>\n",
       "      <td>China</td>\n",
       "      <td>2020-01-22 12:00:00</td>\n",
       "      <td>0.0</td>\n",
       "      <td>0.0</td>\n",
       "      <td>0.0</td>\n",
       "    </tr>\n",
       "  </tbody>\n",
       "</table>\n",
       "</div>"
      ],
      "text/plain": [
       "   Sno                Date Province/State Country         Last Update  \\\n",
       "0    1 2020-01-22 12:00:00          Anhui   China 2020-01-22 12:00:00   \n",
       "1    2 2020-01-22 12:00:00        Beijing   China 2020-01-22 12:00:00   \n",
       "2    3 2020-01-22 12:00:00      Chongqing   China 2020-01-22 12:00:00   \n",
       "3    4 2020-01-22 12:00:00         Fujian   China 2020-01-22 12:00:00   \n",
       "4    5 2020-01-22 12:00:00          Gansu   China 2020-01-22 12:00:00   \n",
       "\n",
       "   Confirmed  Deaths  Recovered  \n",
       "0        1.0     0.0        0.0  \n",
       "1       14.0     0.0        0.0  \n",
       "2        6.0     0.0        0.0  \n",
       "3        1.0     0.0        0.0  \n",
       "4        0.0     0.0        0.0  "
      ]
     },
     "execution_count": 128,
     "metadata": {},
     "output_type": "execute_result"
    }
   ],
   "source": [
    "data['Last Update'] = data['Last Update'].apply(pd.to_datetime)\n",
    "data['Date'] = data['Date'].apply(pd.to_datetime)\n",
    "data.head()"
   ]
  },
  {
   "cell_type": "code",
   "execution_count": 129,
   "metadata": {},
   "outputs": [
    {
     "data": {
      "text/html": [
       "<div>\n",
       "<style scoped>\n",
       "    .dataframe tbody tr th:only-of-type {\n",
       "        vertical-align: middle;\n",
       "    }\n",
       "\n",
       "    .dataframe tbody tr th {\n",
       "        vertical-align: top;\n",
       "    }\n",
       "\n",
       "    .dataframe thead th {\n",
       "        text-align: right;\n",
       "    }\n",
       "</style>\n",
       "<table border=\"1\" class=\"dataframe\">\n",
       "  <thead>\n",
       "    <tr style=\"text-align: right;\">\n",
       "      <th></th>\n",
       "      <th>Sno</th>\n",
       "      <th>Date</th>\n",
       "      <th>Province/State</th>\n",
       "      <th>Country</th>\n",
       "      <th>Last Update</th>\n",
       "      <th>Confirmed</th>\n",
       "      <th>Deaths</th>\n",
       "      <th>Recovered</th>\n",
       "    </tr>\n",
       "  </thead>\n",
       "  <tbody>\n",
       "    <tr>\n",
       "      <th>1644</th>\n",
       "      <td>1645</td>\n",
       "      <td>2020-02-17 22:00:00</td>\n",
       "      <td>Hubei</td>\n",
       "      <td>Mainland China</td>\n",
       "      <td>2020-02-17 23:13:06</td>\n",
       "      <td>59989.0</td>\n",
       "      <td>1789.0</td>\n",
       "      <td>7862.0</td>\n",
       "    </tr>\n",
       "    <tr>\n",
       "      <th>1645</th>\n",
       "      <td>1646</td>\n",
       "      <td>2020-02-17 22:00:00</td>\n",
       "      <td>Guangdong</td>\n",
       "      <td>Mainland China</td>\n",
       "      <td>2020-02-17 12:43:02</td>\n",
       "      <td>1322.0</td>\n",
       "      <td>4.0</td>\n",
       "      <td>524.0</td>\n",
       "    </tr>\n",
       "    <tr>\n",
       "      <th>1646</th>\n",
       "      <td>1647</td>\n",
       "      <td>2020-02-17 22:00:00</td>\n",
       "      <td>Henan</td>\n",
       "      <td>Mainland China</td>\n",
       "      <td>2020-02-17 14:53:02</td>\n",
       "      <td>1246.0</td>\n",
       "      <td>16.0</td>\n",
       "      <td>509.0</td>\n",
       "    </tr>\n",
       "    <tr>\n",
       "      <th>1647</th>\n",
       "      <td>1648</td>\n",
       "      <td>2020-02-17 22:00:00</td>\n",
       "      <td>Zhejiang</td>\n",
       "      <td>Mainland China</td>\n",
       "      <td>2020-02-17 11:23:06</td>\n",
       "      <td>1171.0</td>\n",
       "      <td>0.0</td>\n",
       "      <td>507.0</td>\n",
       "    </tr>\n",
       "    <tr>\n",
       "      <th>1648</th>\n",
       "      <td>1649</td>\n",
       "      <td>2020-02-17 22:00:00</td>\n",
       "      <td>Hunan</td>\n",
       "      <td>Mainland China</td>\n",
       "      <td>2020-02-17 11:43:01</td>\n",
       "      <td>1006.0</td>\n",
       "      <td>3.0</td>\n",
       "      <td>498.0</td>\n",
       "    </tr>\n",
       "  </tbody>\n",
       "</table>\n",
       "</div>"
      ],
      "text/plain": [
       "       Sno                Date Province/State         Country  \\\n",
       "1644  1645 2020-02-17 22:00:00          Hubei  Mainland China   \n",
       "1645  1646 2020-02-17 22:00:00      Guangdong  Mainland China   \n",
       "1646  1647 2020-02-17 22:00:00          Henan  Mainland China   \n",
       "1647  1648 2020-02-17 22:00:00       Zhejiang  Mainland China   \n",
       "1648  1649 2020-02-17 22:00:00          Hunan  Mainland China   \n",
       "\n",
       "             Last Update  Confirmed  Deaths  Recovered  \n",
       "1644 2020-02-17 23:13:06    59989.0  1789.0     7862.0  \n",
       "1645 2020-02-17 12:43:02     1322.0     4.0      524.0  \n",
       "1646 2020-02-17 14:53:02     1246.0    16.0      509.0  \n",
       "1647 2020-02-17 11:23:06     1171.0     0.0      507.0  \n",
       "1648 2020-02-17 11:43:01     1006.0     3.0      498.0  "
      ]
     },
     "execution_count": 129,
     "metadata": {},
     "output_type": "execute_result"
    }
   ],
   "source": [
    "d = data['Date'][-1:].astype('str')\n",
    "year = int(d.values[0].split('-')[0])\n",
    "month = int(d.values[0].split('-')[1])\n",
    "day = int(d.values[0].split('-')[2].split()[0])\n",
    "\n",
    "# china = data[data['Country']=='Mainland China' | data['Country']=='China' | data['Country']=='Hong Kong' | data['Country']=='Macau' | data['Country']=='Taiwan']\n",
    "\n",
    "china = data[data['Country'].isin(['Mainland China', 'China', 'Hong Kong', 'Macau', 'Taiwan'])]\n",
    "\n",
    "from datetime import date\n",
    "data_latest = data[data['Date'] > pd.Timestamp(date(year,month,day))]\n",
    "\n",
    "china_latest = china[china['Date'] > pd.Timestamp(date(year,month,day))]\n",
    "\n",
    "data_latest.head()"
   ]
  },
  {
   "cell_type": "code",
   "execution_count": 143,
   "metadata": {},
   "outputs": [],
   "source": [
    "# china[china['Country'] == 'Taiwan']"
   ]
  },
  {
   "cell_type": "code",
   "execution_count": 131,
   "metadata": {},
   "outputs": [
    {
     "name": "stdout",
     "output_type": "stream",
     "text": [
      "<class 'pandas.core.frame.DataFrame'>\n",
      "Int64Index: 75 entries, 1644 to 1718\n",
      "Data columns (total 8 columns):\n",
      "Sno               75 non-null int64\n",
      "Date              75 non-null datetime64[ns]\n",
      "Province/State    53 non-null object\n",
      "Country           75 non-null object\n",
      "Last Update       75 non-null datetime64[ns]\n",
      "Confirmed         75 non-null float64\n",
      "Deaths            75 non-null float64\n",
      "Recovered         75 non-null float64\n",
      "dtypes: datetime64[ns](2), float64(3), int64(1), object(2)\n",
      "memory usage: 5.3+ KB\n"
     ]
    }
   ],
   "source": [
    "data_latest.info()"
   ]
  },
  {
   "cell_type": "code",
   "execution_count": 20,
   "metadata": {},
   "outputs": [],
   "source": [
    "data = data_latest"
   ]
  },
  {
   "cell_type": "markdown",
   "metadata": {},
   "source": [
    "# EDA & Viz"
   ]
  },
  {
   "cell_type": "markdown",
   "metadata": {},
   "source": [
    "## 全球概览\n",
    "\n",
    "截止到数据集中的时间，全球共有27个国家有确诊新冠肺炎病例。\n",
    "\n",
    "**原始数据中Hong Kong Taiwan Macau为中国港澳台地区，未统计在Mainland China中。**"
   ]
  },
  {
   "cell_type": "code",
   "execution_count": 8,
   "metadata": {
    "scrolled": true
   },
   "outputs": [
    {
     "name": "stdout",
     "output_type": "stream",
     "text": [
      "Names of Country: \n",
      " ['Mainland China', 'Others', 'Singapore', 'Japan', 'Hong Kong', 'Thailand', 'South Korea', 'Malaysia', 'Taiwan', 'Germany', 'Vietnam', 'France', 'Macau', 'UK', 'United Arab Emirates', 'Australia', 'Canada', 'India', 'Italy', 'Philippines', 'Russia', 'Spain', 'US', 'Belgium', 'Cambodia', 'Egypt', 'Finland', 'Nepal', 'Sri Lanka', 'Sweden']\n",
      "\n",
      "\n",
      "Number of countries: 30\n"
     ]
    }
   ],
   "source": [
    "countries = data['Country'].unique().tolist()\n",
    "print(\"Names of Country: \\n\", countries)\n",
    "print(\"\\n\")\n",
    "print(\"Number of countries:\", len(countries))"
   ]
  },
  {
   "cell_type": "markdown",
   "metadata": {},
   "source": [
    "我们发现国家名称中有China和Mainland China，替换掉China。\n",
    "\n",
    "还有Others这一列，存储的是Cruise Ship，替换。"
   ]
  },
  {
   "cell_type": "code",
   "execution_count": 179,
   "metadata": {},
   "outputs": [
    {
     "name": "stdout",
     "output_type": "stream",
     "text": [
      "['Mainland China', 'Diamond Princess Cruise Ship', 'Singapore', 'Japan', 'Hong Kong', 'Thailand', 'South Korea', 'Malaysia', 'Taiwan', 'Germany', 'Vietnam', 'France', 'Macau', 'UK', 'United Arab Emirates', 'Australia', 'Canada', 'India', 'Italy', 'Philippines', 'Russia', 'Spain', 'US', 'Belgium', 'Cambodia', 'Egypt', 'Finland', 'Nepal', 'Sri Lanka', 'Sweden']\n"
     ]
    }
   ],
   "source": [
    "data['Country'].replace({'China': 'Mainland China'},inplace=True)\n",
    "data['Country'].replace({'Others': 'Diamond Princess Cruise Ship'},inplace=True)\n",
    "countries = data['Country'].unique().tolist()\n",
    "print(countries)"
   ]
  },
  {
   "cell_type": "markdown",
   "metadata": {},
   "source": [
    "\n",
    "\n",
    "### 数量信息"
   ]
  },
  {
   "cell_type": "code",
   "execution_count": 21,
   "metadata": {},
   "outputs": [
    {
     "name": "stdout",
     "output_type": "stream",
     "text": [
      "Till 2020-2-17, Gloabal Confirmed Cases are :  73260.0\n",
      "Till 2020-2-17, Gloabal Deaths Cases are :  1868.0\n",
      "Till 2020-2-17, Gloabal Recovered Cases are :  12583.0\n"
     ]
    },
    {
     "data": {
      "text/html": [
       "<div>\n",
       "<style scoped>\n",
       "    .dataframe tbody tr th:only-of-type {\n",
       "        vertical-align: middle;\n",
       "    }\n",
       "\n",
       "    .dataframe tbody tr th {\n",
       "        vertical-align: top;\n",
       "    }\n",
       "\n",
       "    .dataframe thead th {\n",
       "        text-align: right;\n",
       "    }\n",
       "</style>\n",
       "<table border=\"1\" class=\"dataframe\">\n",
       "  <thead>\n",
       "    <tr style=\"text-align: right;\">\n",
       "      <th></th>\n",
       "      <th>Confirmed</th>\n",
       "      <th>Deaths</th>\n",
       "      <th>Recovered</th>\n",
       "    </tr>\n",
       "    <tr>\n",
       "      <th>Country</th>\n",
       "      <th></th>\n",
       "      <th></th>\n",
       "      <th></th>\n",
       "    </tr>\n",
       "  </thead>\n",
       "  <tbody>\n",
       "    <tr>\n",
       "      <th>Mainland China</th>\n",
       "      <td>72364.0</td>\n",
       "      <td>1863.0</td>\n",
       "      <td>12455.0</td>\n",
       "    </tr>\n",
       "    <tr>\n",
       "      <th>Others</th>\n",
       "      <td>454.0</td>\n",
       "      <td>0.0</td>\n",
       "      <td>0.0</td>\n",
       "    </tr>\n",
       "    <tr>\n",
       "      <th>Singapore</th>\n",
       "      <td>77.0</td>\n",
       "      <td>0.0</td>\n",
       "      <td>24.0</td>\n",
       "    </tr>\n",
       "    <tr>\n",
       "      <th>Japan</th>\n",
       "      <td>66.0</td>\n",
       "      <td>1.0</td>\n",
       "      <td>12.0</td>\n",
       "    </tr>\n",
       "    <tr>\n",
       "      <th>Hong Kong</th>\n",
       "      <td>60.0</td>\n",
       "      <td>1.0</td>\n",
       "      <td>2.0</td>\n",
       "    </tr>\n",
       "    <tr>\n",
       "      <th>Thailand</th>\n",
       "      <td>35.0</td>\n",
       "      <td>0.0</td>\n",
       "      <td>15.0</td>\n",
       "    </tr>\n",
       "    <tr>\n",
       "      <th>South Korea</th>\n",
       "      <td>30.0</td>\n",
       "      <td>0.0</td>\n",
       "      <td>10.0</td>\n",
       "    </tr>\n",
       "    <tr>\n",
       "      <th>Taiwan</th>\n",
       "      <td>22.0</td>\n",
       "      <td>1.0</td>\n",
       "      <td>2.0</td>\n",
       "    </tr>\n",
       "    <tr>\n",
       "      <th>Malaysia</th>\n",
       "      <td>22.0</td>\n",
       "      <td>0.0</td>\n",
       "      <td>7.0</td>\n",
       "    </tr>\n",
       "    <tr>\n",
       "      <th>Vietnam</th>\n",
       "      <td>16.0</td>\n",
       "      <td>0.0</td>\n",
       "      <td>7.0</td>\n",
       "    </tr>\n",
       "    <tr>\n",
       "      <th>Germany</th>\n",
       "      <td>16.0</td>\n",
       "      <td>0.0</td>\n",
       "      <td>1.0</td>\n",
       "    </tr>\n",
       "    <tr>\n",
       "      <th>US</th>\n",
       "      <td>15.0</td>\n",
       "      <td>0.0</td>\n",
       "      <td>3.0</td>\n",
       "    </tr>\n",
       "    <tr>\n",
       "      <th>Australia</th>\n",
       "      <td>15.0</td>\n",
       "      <td>0.0</td>\n",
       "      <td>10.0</td>\n",
       "    </tr>\n",
       "    <tr>\n",
       "      <th>France</th>\n",
       "      <td>12.0</td>\n",
       "      <td>1.0</td>\n",
       "      <td>4.0</td>\n",
       "    </tr>\n",
       "    <tr>\n",
       "      <th>Macau</th>\n",
       "      <td>10.0</td>\n",
       "      <td>0.0</td>\n",
       "      <td>5.0</td>\n",
       "    </tr>\n",
       "    <tr>\n",
       "      <th>United Arab Emirates</th>\n",
       "      <td>9.0</td>\n",
       "      <td>0.0</td>\n",
       "      <td>4.0</td>\n",
       "    </tr>\n",
       "    <tr>\n",
       "      <th>UK</th>\n",
       "      <td>9.0</td>\n",
       "      <td>0.0</td>\n",
       "      <td>8.0</td>\n",
       "    </tr>\n",
       "    <tr>\n",
       "      <th>Canada</th>\n",
       "      <td>8.0</td>\n",
       "      <td>0.0</td>\n",
       "      <td>1.0</td>\n",
       "    </tr>\n",
       "    <tr>\n",
       "      <th>Italy</th>\n",
       "      <td>3.0</td>\n",
       "      <td>0.0</td>\n",
       "      <td>0.0</td>\n",
       "    </tr>\n",
       "    <tr>\n",
       "      <th>India</th>\n",
       "      <td>3.0</td>\n",
       "      <td>0.0</td>\n",
       "      <td>3.0</td>\n",
       "    </tr>\n",
       "    <tr>\n",
       "      <th>Philippines</th>\n",
       "      <td>3.0</td>\n",
       "      <td>1.0</td>\n",
       "      <td>1.0</td>\n",
       "    </tr>\n",
       "    <tr>\n",
       "      <th>Spain</th>\n",
       "      <td>2.0</td>\n",
       "      <td>0.0</td>\n",
       "      <td>2.0</td>\n",
       "    </tr>\n",
       "    <tr>\n",
       "      <th>Russia</th>\n",
       "      <td>2.0</td>\n",
       "      <td>0.0</td>\n",
       "      <td>2.0</td>\n",
       "    </tr>\n",
       "    <tr>\n",
       "      <th>Sri Lanka</th>\n",
       "      <td>1.0</td>\n",
       "      <td>0.0</td>\n",
       "      <td>1.0</td>\n",
       "    </tr>\n",
       "    <tr>\n",
       "      <th>Sweden</th>\n",
       "      <td>1.0</td>\n",
       "      <td>0.0</td>\n",
       "      <td>0.0</td>\n",
       "    </tr>\n",
       "    <tr>\n",
       "      <th>Egypt</th>\n",
       "      <td>1.0</td>\n",
       "      <td>0.0</td>\n",
       "      <td>0.0</td>\n",
       "    </tr>\n",
       "    <tr>\n",
       "      <th>Finland</th>\n",
       "      <td>1.0</td>\n",
       "      <td>0.0</td>\n",
       "      <td>1.0</td>\n",
       "    </tr>\n",
       "    <tr>\n",
       "      <th>Cambodia</th>\n",
       "      <td>1.0</td>\n",
       "      <td>0.0</td>\n",
       "      <td>1.0</td>\n",
       "    </tr>\n",
       "    <tr>\n",
       "      <th>Belgium</th>\n",
       "      <td>1.0</td>\n",
       "      <td>0.0</td>\n",
       "      <td>1.0</td>\n",
       "    </tr>\n",
       "    <tr>\n",
       "      <th>Nepal</th>\n",
       "      <td>1.0</td>\n",
       "      <td>0.0</td>\n",
       "      <td>1.0</td>\n",
       "    </tr>\n",
       "  </tbody>\n",
       "</table>\n",
       "</div>"
      ],
      "text/plain": [
       "                      Confirmed  Deaths  Recovered\n",
       "Country                                           \n",
       "Mainland China          72364.0  1863.0    12455.0\n",
       "Others                    454.0     0.0        0.0\n",
       "Singapore                  77.0     0.0       24.0\n",
       "Japan                      66.0     1.0       12.0\n",
       "Hong Kong                  60.0     1.0        2.0\n",
       "Thailand                   35.0     0.0       15.0\n",
       "South Korea                30.0     0.0       10.0\n",
       "Taiwan                     22.0     1.0        2.0\n",
       "Malaysia                   22.0     0.0        7.0\n",
       "Vietnam                    16.0     0.0        7.0\n",
       "Germany                    16.0     0.0        1.0\n",
       "US                         15.0     0.0        3.0\n",
       "Australia                  15.0     0.0       10.0\n",
       "France                     12.0     1.0        4.0\n",
       "Macau                      10.0     0.0        5.0\n",
       "United Arab Emirates        9.0     0.0        4.0\n",
       "UK                          9.0     0.0        8.0\n",
       "Canada                      8.0     0.0        1.0\n",
       "Italy                       3.0     0.0        0.0\n",
       "India                       3.0     0.0        3.0\n",
       "Philippines                 3.0     1.0        1.0\n",
       "Spain                       2.0     0.0        2.0\n",
       "Russia                      2.0     0.0        2.0\n",
       "Sri Lanka                   1.0     0.0        1.0\n",
       "Sweden                      1.0     0.0        0.0\n",
       "Egypt                       1.0     0.0        0.0\n",
       "Finland                     1.0     0.0        1.0\n",
       "Cambodia                    1.0     0.0        1.0\n",
       "Belgium                     1.0     0.0        1.0\n",
       "Nepal                       1.0     0.0        1.0"
      ]
     },
     "execution_count": 21,
     "metadata": {},
     "output_type": "execute_result"
    }
   ],
   "source": [
    "cases = pd.DataFrame(data.groupby('Country')['Confirmed', 'Deaths', 'Recovered'].sum())\n",
    "\n",
    "print('Till 2020-2-17, Gloabal Confirmed Cases are : ', cases['Confirmed'].sum())\n",
    "\n",
    "print('Till 2020-2-17, Gloabal Deaths Cases are : ', cases['Deaths'].sum())\n",
    "\n",
    "print('Till 2020-2-17, Gloabal Recovered Cases are : ', cases['Recovered'].sum())\n",
    "\n",
    "cases.sort_values(by = 'Confirmed', ascending = False)"
   ]
  },
  {
   "cell_type": "markdown",
   "metadata": {},
   "source": [
    "出现死亡的有6个国家。"
   ]
  },
  {
   "cell_type": "code",
   "execution_count": 184,
   "metadata": {},
   "outputs": [
    {
     "data": {
      "text/html": [
       "<style  type=\"text/css\" >\n",
       "    #T_52f864b8_5d2c_11ea_a544_98541b8573barow0_col0 {\n",
       "            background-color:  #f2f2f2;\n",
       "        }    #T_52f864b8_5d2c_11ea_a544_98541b8573barow0_col1 {\n",
       "            background-color:  #f2f2f2;\n",
       "        }    #T_52f864b8_5d2c_11ea_a544_98541b8573barow0_col2 {\n",
       "            background-color:  #f2f2f2;\n",
       "        }    #T_52f864b8_5d2c_11ea_a544_98541b8573barow1_col0 {\n",
       "            background-color:  #f2f2f2;\n",
       "        }    #T_52f864b8_5d2c_11ea_a544_98541b8573barow1_col1 {\n",
       "            background-color:  #f2f2f2;\n",
       "        }    #T_52f864b8_5d2c_11ea_a544_98541b8573barow1_col2 {\n",
       "            background-color:  #f2f2f2;\n",
       "        }    #T_52f864b8_5d2c_11ea_a544_98541b8573barow2_col0 {\n",
       "            background-color:  #f2f2f2;\n",
       "        }    #T_52f864b8_5d2c_11ea_a544_98541b8573barow2_col1 {\n",
       "            background-color:  #f2f2f2;\n",
       "        }    #T_52f864b8_5d2c_11ea_a544_98541b8573barow2_col2 {\n",
       "            background-color:  #f2f2f2;\n",
       "        }    #T_52f864b8_5d2c_11ea_a544_98541b8573barow3_col0 {\n",
       "            background-color:  #fbb4ae;\n",
       "        }    #T_52f864b8_5d2c_11ea_a544_98541b8573barow3_col1 {\n",
       "            background-color:  #fbb4ae;\n",
       "        }    #T_52f864b8_5d2c_11ea_a544_98541b8573barow3_col2 {\n",
       "            background-color:  #fbb4ae;\n",
       "        }    #T_52f864b8_5d2c_11ea_a544_98541b8573barow4_col0 {\n",
       "            background-color:  #f2f2f2;\n",
       "        }    #T_52f864b8_5d2c_11ea_a544_98541b8573barow4_col1 {\n",
       "            background-color:  #f2f2f2;\n",
       "        }    #T_52f864b8_5d2c_11ea_a544_98541b8573barow4_col2 {\n",
       "            background-color:  #f2f2f2;\n",
       "        }    #T_52f864b8_5d2c_11ea_a544_98541b8573barow5_col0 {\n",
       "            background-color:  #f2f2f2;\n",
       "        }    #T_52f864b8_5d2c_11ea_a544_98541b8573barow5_col1 {\n",
       "            background-color:  #f2f2f2;\n",
       "        }    #T_52f864b8_5d2c_11ea_a544_98541b8573barow5_col2 {\n",
       "            background-color:  #f2f2f2;\n",
       "        }</style>  \n",
       "<table id=\"T_52f864b8_5d2c_11ea_a544_98541b8573ba\" > \n",
       "<thead>    <tr> \n",
       "        <th class=\"blank level0\" ></th> \n",
       "        <th class=\"col_heading level0 col0\" >Confirmed</th> \n",
       "        <th class=\"col_heading level0 col1\" >Deaths</th> \n",
       "        <th class=\"col_heading level0 col2\" >Recovered</th> \n",
       "    </tr>    <tr> \n",
       "        <th class=\"index_name level0\" >Country</th> \n",
       "        <th class=\"blank\" ></th> \n",
       "        <th class=\"blank\" ></th> \n",
       "        <th class=\"blank\" ></th> \n",
       "    </tr></thead> \n",
       "<tbody>    <tr> \n",
       "        <th id=\"T_52f864b8_5d2c_11ea_a544_98541b8573balevel0_row0\" class=\"row_heading level0 row0\" >France</th> \n",
       "        <td id=\"T_52f864b8_5d2c_11ea_a544_98541b8573barow0_col0\" class=\"data row0 col0\" >12</td> \n",
       "        <td id=\"T_52f864b8_5d2c_11ea_a544_98541b8573barow0_col1\" class=\"data row0 col1\" >1</td> \n",
       "        <td id=\"T_52f864b8_5d2c_11ea_a544_98541b8573barow0_col2\" class=\"data row0 col2\" >4</td> \n",
       "    </tr>    <tr> \n",
       "        <th id=\"T_52f864b8_5d2c_11ea_a544_98541b8573balevel0_row1\" class=\"row_heading level0 row1\" >Hong Kong</th> \n",
       "        <td id=\"T_52f864b8_5d2c_11ea_a544_98541b8573barow1_col0\" class=\"data row1 col0\" >60</td> \n",
       "        <td id=\"T_52f864b8_5d2c_11ea_a544_98541b8573barow1_col1\" class=\"data row1 col1\" >1</td> \n",
       "        <td id=\"T_52f864b8_5d2c_11ea_a544_98541b8573barow1_col2\" class=\"data row1 col2\" >2</td> \n",
       "    </tr>    <tr> \n",
       "        <th id=\"T_52f864b8_5d2c_11ea_a544_98541b8573balevel0_row2\" class=\"row_heading level0 row2\" >Japan</th> \n",
       "        <td id=\"T_52f864b8_5d2c_11ea_a544_98541b8573barow2_col0\" class=\"data row2 col0\" >66</td> \n",
       "        <td id=\"T_52f864b8_5d2c_11ea_a544_98541b8573barow2_col1\" class=\"data row2 col1\" >1</td> \n",
       "        <td id=\"T_52f864b8_5d2c_11ea_a544_98541b8573barow2_col2\" class=\"data row2 col2\" >12</td> \n",
       "    </tr>    <tr> \n",
       "        <th id=\"T_52f864b8_5d2c_11ea_a544_98541b8573balevel0_row3\" class=\"row_heading level0 row3\" >Mainland China</th> \n",
       "        <td id=\"T_52f864b8_5d2c_11ea_a544_98541b8573barow3_col0\" class=\"data row3 col0\" >72364</td> \n",
       "        <td id=\"T_52f864b8_5d2c_11ea_a544_98541b8573barow3_col1\" class=\"data row3 col1\" >1863</td> \n",
       "        <td id=\"T_52f864b8_5d2c_11ea_a544_98541b8573barow3_col2\" class=\"data row3 col2\" >12455</td> \n",
       "    </tr>    <tr> \n",
       "        <th id=\"T_52f864b8_5d2c_11ea_a544_98541b8573balevel0_row4\" class=\"row_heading level0 row4\" >Philippines</th> \n",
       "        <td id=\"T_52f864b8_5d2c_11ea_a544_98541b8573barow4_col0\" class=\"data row4 col0\" >3</td> \n",
       "        <td id=\"T_52f864b8_5d2c_11ea_a544_98541b8573barow4_col1\" class=\"data row4 col1\" >1</td> \n",
       "        <td id=\"T_52f864b8_5d2c_11ea_a544_98541b8573barow4_col2\" class=\"data row4 col2\" >1</td> \n",
       "    </tr>    <tr> \n",
       "        <th id=\"T_52f864b8_5d2c_11ea_a544_98541b8573balevel0_row5\" class=\"row_heading level0 row5\" >Taiwan</th> \n",
       "        <td id=\"T_52f864b8_5d2c_11ea_a544_98541b8573barow5_col0\" class=\"data row5 col0\" >22</td> \n",
       "        <td id=\"T_52f864b8_5d2c_11ea_a544_98541b8573barow5_col1\" class=\"data row5 col1\" >1</td> \n",
       "        <td id=\"T_52f864b8_5d2c_11ea_a544_98541b8573barow5_col2\" class=\"data row5 col2\" >2</td> \n",
       "    </tr></tbody> \n",
       "</table> "
      ],
      "text/plain": [
       "<pandas.io.formats.style.Styler at 0xf9a1c25f60>"
      ]
     },
     "execution_count": 184,
     "metadata": {},
     "output_type": "execute_result"
    }
   ],
   "source": [
    "temp = cases[cases['Deaths'] > 0]\n",
    "temp.style.background_gradient(cmap='Pastel1_r')"
   ]
  },
  {
   "cell_type": "markdown",
   "metadata": {},
   "source": [
    "确诊的全部被治愈的国家有8个。"
   ]
  },
  {
   "cell_type": "code",
   "execution_count": 13,
   "metadata": {},
   "outputs": [
    {
     "data": {
      "text/html": [
       "<style  type=\"text/css\" >\n",
       "    #T_394ca3e4_5e7e_11ea_b42a_98541b8573barow0_col0 {\n",
       "            background-color:  #67000d;\n",
       "        }    #T_394ca3e4_5e7e_11ea_b42a_98541b8573barow0_col1 {\n",
       "            background-color:  #fff5f0;\n",
       "        }    #T_394ca3e4_5e7e_11ea_b42a_98541b8573barow0_col2 {\n",
       "            background-color:  #67000d;\n",
       "        }    #T_394ca3e4_5e7e_11ea_b42a_98541b8573barow1_col0 {\n",
       "            background-color:  #fb694a;\n",
       "        }    #T_394ca3e4_5e7e_11ea_b42a_98541b8573barow1_col1 {\n",
       "            background-color:  #fff5f0;\n",
       "        }    #T_394ca3e4_5e7e_11ea_b42a_98541b8573barow1_col2 {\n",
       "            background-color:  #fb694a;\n",
       "        }    #T_394ca3e4_5e7e_11ea_b42a_98541b8573barow2_col0 {\n",
       "            background-color:  #fb694a;\n",
       "        }    #T_394ca3e4_5e7e_11ea_b42a_98541b8573barow2_col1 {\n",
       "            background-color:  #fff5f0;\n",
       "        }    #T_394ca3e4_5e7e_11ea_b42a_98541b8573barow2_col2 {\n",
       "            background-color:  #fb694a;\n",
       "        }    #T_394ca3e4_5e7e_11ea_b42a_98541b8573barow3_col0 {\n",
       "            background-color:  #fff5f0;\n",
       "        }    #T_394ca3e4_5e7e_11ea_b42a_98541b8573barow3_col1 {\n",
       "            background-color:  #fff5f0;\n",
       "        }    #T_394ca3e4_5e7e_11ea_b42a_98541b8573barow3_col2 {\n",
       "            background-color:  #fff5f0;\n",
       "        }    #T_394ca3e4_5e7e_11ea_b42a_98541b8573barow4_col0 {\n",
       "            background-color:  #fff5f0;\n",
       "        }    #T_394ca3e4_5e7e_11ea_b42a_98541b8573barow4_col1 {\n",
       "            background-color:  #fff5f0;\n",
       "        }    #T_394ca3e4_5e7e_11ea_b42a_98541b8573barow4_col2 {\n",
       "            background-color:  #fff5f0;\n",
       "        }    #T_394ca3e4_5e7e_11ea_b42a_98541b8573barow5_col0 {\n",
       "            background-color:  #fff5f0;\n",
       "        }    #T_394ca3e4_5e7e_11ea_b42a_98541b8573barow5_col1 {\n",
       "            background-color:  #fff5f0;\n",
       "        }    #T_394ca3e4_5e7e_11ea_b42a_98541b8573barow5_col2 {\n",
       "            background-color:  #fff5f0;\n",
       "        }    #T_394ca3e4_5e7e_11ea_b42a_98541b8573barow6_col0 {\n",
       "            background-color:  #fff5f0;\n",
       "        }    #T_394ca3e4_5e7e_11ea_b42a_98541b8573barow6_col1 {\n",
       "            background-color:  #fff5f0;\n",
       "        }    #T_394ca3e4_5e7e_11ea_b42a_98541b8573barow6_col2 {\n",
       "            background-color:  #fff5f0;\n",
       "        }    #T_394ca3e4_5e7e_11ea_b42a_98541b8573barow7_col0 {\n",
       "            background-color:  #fff5f0;\n",
       "        }    #T_394ca3e4_5e7e_11ea_b42a_98541b8573barow7_col1 {\n",
       "            background-color:  #fff5f0;\n",
       "        }    #T_394ca3e4_5e7e_11ea_b42a_98541b8573barow7_col2 {\n",
       "            background-color:  #fff5f0;\n",
       "        }</style>  \n",
       "<table id=\"T_394ca3e4_5e7e_11ea_b42a_98541b8573ba\" > \n",
       "<thead>    <tr> \n",
       "        <th class=\"blank level0\" ></th> \n",
       "        <th class=\"col_heading level0 col0\" >Confirmed</th> \n",
       "        <th class=\"col_heading level0 col1\" >Deaths</th> \n",
       "        <th class=\"col_heading level0 col2\" >Recovered</th> \n",
       "    </tr>    <tr> \n",
       "        <th class=\"index_name level0\" >Country</th> \n",
       "        <th class=\"blank\" ></th> \n",
       "        <th class=\"blank\" ></th> \n",
       "        <th class=\"blank\" ></th> \n",
       "    </tr></thead> \n",
       "<tbody>    <tr> \n",
       "        <th id=\"T_394ca3e4_5e7e_11ea_b42a_98541b8573balevel0_row0\" class=\"row_heading level0 row0\" >India</th> \n",
       "        <td id=\"T_394ca3e4_5e7e_11ea_b42a_98541b8573barow0_col0\" class=\"data row0 col0\" >3</td> \n",
       "        <td id=\"T_394ca3e4_5e7e_11ea_b42a_98541b8573barow0_col1\" class=\"data row0 col1\" >0</td> \n",
       "        <td id=\"T_394ca3e4_5e7e_11ea_b42a_98541b8573barow0_col2\" class=\"data row0 col2\" >3</td> \n",
       "    </tr>    <tr> \n",
       "        <th id=\"T_394ca3e4_5e7e_11ea_b42a_98541b8573balevel0_row1\" class=\"row_heading level0 row1\" >Russia</th> \n",
       "        <td id=\"T_394ca3e4_5e7e_11ea_b42a_98541b8573barow1_col0\" class=\"data row1 col0\" >2</td> \n",
       "        <td id=\"T_394ca3e4_5e7e_11ea_b42a_98541b8573barow1_col1\" class=\"data row1 col1\" >0</td> \n",
       "        <td id=\"T_394ca3e4_5e7e_11ea_b42a_98541b8573barow1_col2\" class=\"data row1 col2\" >2</td> \n",
       "    </tr>    <tr> \n",
       "        <th id=\"T_394ca3e4_5e7e_11ea_b42a_98541b8573balevel0_row2\" class=\"row_heading level0 row2\" >Spain</th> \n",
       "        <td id=\"T_394ca3e4_5e7e_11ea_b42a_98541b8573barow2_col0\" class=\"data row2 col0\" >2</td> \n",
       "        <td id=\"T_394ca3e4_5e7e_11ea_b42a_98541b8573barow2_col1\" class=\"data row2 col1\" >0</td> \n",
       "        <td id=\"T_394ca3e4_5e7e_11ea_b42a_98541b8573barow2_col2\" class=\"data row2 col2\" >2</td> \n",
       "    </tr>    <tr> \n",
       "        <th id=\"T_394ca3e4_5e7e_11ea_b42a_98541b8573balevel0_row3\" class=\"row_heading level0 row3\" >Belgium</th> \n",
       "        <td id=\"T_394ca3e4_5e7e_11ea_b42a_98541b8573barow3_col0\" class=\"data row3 col0\" >1</td> \n",
       "        <td id=\"T_394ca3e4_5e7e_11ea_b42a_98541b8573barow3_col1\" class=\"data row3 col1\" >0</td> \n",
       "        <td id=\"T_394ca3e4_5e7e_11ea_b42a_98541b8573barow3_col2\" class=\"data row3 col2\" >1</td> \n",
       "    </tr>    <tr> \n",
       "        <th id=\"T_394ca3e4_5e7e_11ea_b42a_98541b8573balevel0_row4\" class=\"row_heading level0 row4\" >Cambodia</th> \n",
       "        <td id=\"T_394ca3e4_5e7e_11ea_b42a_98541b8573barow4_col0\" class=\"data row4 col0\" >1</td> \n",
       "        <td id=\"T_394ca3e4_5e7e_11ea_b42a_98541b8573barow4_col1\" class=\"data row4 col1\" >0</td> \n",
       "        <td id=\"T_394ca3e4_5e7e_11ea_b42a_98541b8573barow4_col2\" class=\"data row4 col2\" >1</td> \n",
       "    </tr>    <tr> \n",
       "        <th id=\"T_394ca3e4_5e7e_11ea_b42a_98541b8573balevel0_row5\" class=\"row_heading level0 row5\" >Finland</th> \n",
       "        <td id=\"T_394ca3e4_5e7e_11ea_b42a_98541b8573barow5_col0\" class=\"data row5 col0\" >1</td> \n",
       "        <td id=\"T_394ca3e4_5e7e_11ea_b42a_98541b8573barow5_col1\" class=\"data row5 col1\" >0</td> \n",
       "        <td id=\"T_394ca3e4_5e7e_11ea_b42a_98541b8573barow5_col2\" class=\"data row5 col2\" >1</td> \n",
       "    </tr>    <tr> \n",
       "        <th id=\"T_394ca3e4_5e7e_11ea_b42a_98541b8573balevel0_row6\" class=\"row_heading level0 row6\" >Nepal</th> \n",
       "        <td id=\"T_394ca3e4_5e7e_11ea_b42a_98541b8573barow6_col0\" class=\"data row6 col0\" >1</td> \n",
       "        <td id=\"T_394ca3e4_5e7e_11ea_b42a_98541b8573barow6_col1\" class=\"data row6 col1\" >0</td> \n",
       "        <td id=\"T_394ca3e4_5e7e_11ea_b42a_98541b8573barow6_col2\" class=\"data row6 col2\" >1</td> \n",
       "    </tr>    <tr> \n",
       "        <th id=\"T_394ca3e4_5e7e_11ea_b42a_98541b8573balevel0_row7\" class=\"row_heading level0 row7\" >Sri Lanka</th> \n",
       "        <td id=\"T_394ca3e4_5e7e_11ea_b42a_98541b8573barow7_col0\" class=\"data row7 col0\" >1</td> \n",
       "        <td id=\"T_394ca3e4_5e7e_11ea_b42a_98541b8573barow7_col1\" class=\"data row7 col1\" >0</td> \n",
       "        <td id=\"T_394ca3e4_5e7e_11ea_b42a_98541b8573barow7_col2\" class=\"data row7 col2\" >1</td> \n",
       "    </tr></tbody> \n",
       "</table> "
      ],
      "text/plain": [
       "<pandas.io.formats.style.Styler at 0xf58a46b518>"
      ]
     },
     "execution_count": 13,
     "metadata": {},
     "output_type": "execute_result"
    }
   ],
   "source": [
    "tmp = cases[cases['Confirmed'] == cases['Recovered'] + cases['Deaths']]\n",
    "tmp = tmp.sort_values('Confirmed', ascending = False)\n",
    "tmp.style.background_gradient(cmap='Reds')"
   ]
  },
  {
   "cell_type": "markdown",
   "metadata": {},
   "source": [
    "### 绘制世界确诊地图\n",
    "\n",
    "这里参考了Kaggle中的方式，以及绘制地图博客：https://www.cnblogs.com/traditional/p/12386907.html"
   ]
  },
  {
   "cell_type": "code",
   "execution_count": 22,
   "metadata": {},
   "outputs": [
    {
     "data": {
      "text/html": [
       "<div>\n",
       "<style scoped>\n",
       "    .dataframe tbody tr th:only-of-type {\n",
       "        vertical-align: middle;\n",
       "    }\n",
       "\n",
       "    .dataframe tbody tr th {\n",
       "        vertical-align: top;\n",
       "    }\n",
       "\n",
       "    .dataframe thead th {\n",
       "        text-align: right;\n",
       "    }\n",
       "</style>\n",
       "<table border=\"1\" class=\"dataframe\">\n",
       "  <thead>\n",
       "    <tr style=\"text-align: right;\">\n",
       "      <th></th>\n",
       "      <th>Code</th>\n",
       "      <th>Country</th>\n",
       "      <th>latitude</th>\n",
       "      <th>longitude</th>\n",
       "      <th>Confirmed</th>\n",
       "      <th>Deaths</th>\n",
       "      <th>Recovered</th>\n",
       "    </tr>\n",
       "  </thead>\n",
       "  <tbody>\n",
       "    <tr>\n",
       "      <th>0</th>\n",
       "      <td>AE</td>\n",
       "      <td>United Arab Emirates</td>\n",
       "      <td>23.424076</td>\n",
       "      <td>53.847818</td>\n",
       "      <td>9.0</td>\n",
       "      <td>0.0</td>\n",
       "      <td>4.0</td>\n",
       "    </tr>\n",
       "    <tr>\n",
       "      <th>1</th>\n",
       "      <td>AU</td>\n",
       "      <td>Australia</td>\n",
       "      <td>-25.274398</td>\n",
       "      <td>133.775136</td>\n",
       "      <td>15.0</td>\n",
       "      <td>0.0</td>\n",
       "      <td>10.0</td>\n",
       "    </tr>\n",
       "    <tr>\n",
       "      <th>2</th>\n",
       "      <td>BE</td>\n",
       "      <td>Belgium</td>\n",
       "      <td>50.503887</td>\n",
       "      <td>4.469936</td>\n",
       "      <td>1.0</td>\n",
       "      <td>0.0</td>\n",
       "      <td>1.0</td>\n",
       "    </tr>\n",
       "    <tr>\n",
       "      <th>3</th>\n",
       "      <td>CA</td>\n",
       "      <td>Canada</td>\n",
       "      <td>56.130366</td>\n",
       "      <td>-106.346771</td>\n",
       "      <td>8.0</td>\n",
       "      <td>0.0</td>\n",
       "      <td>1.0</td>\n",
       "    </tr>\n",
       "    <tr>\n",
       "      <th>4</th>\n",
       "      <td>CN</td>\n",
       "      <td>Mainland China</td>\n",
       "      <td>35.861660</td>\n",
       "      <td>104.195397</td>\n",
       "      <td>72364.0</td>\n",
       "      <td>1863.0</td>\n",
       "      <td>12455.0</td>\n",
       "    </tr>\n",
       "  </tbody>\n",
       "</table>\n",
       "</div>"
      ],
      "text/plain": [
       "  Code               Country   latitude   longitude  Confirmed  Deaths  \\\n",
       "0   AE  United Arab Emirates  23.424076   53.847818        9.0     0.0   \n",
       "1   AU             Australia -25.274398  133.775136       15.0     0.0   \n",
       "2   BE               Belgium  50.503887    4.469936        1.0     0.0   \n",
       "3   CA                Canada  56.130366 -106.346771        8.0     0.0   \n",
       "4   CN        Mainland China  35.861660  104.195397    72364.0  1863.0   \n",
       "\n",
       "   Recovered  \n",
       "0        4.0  \n",
       "1       10.0  \n",
       "2        1.0  \n",
       "3        1.0  \n",
       "4    12455.0  "
      ]
     },
     "execution_count": 22,
     "metadata": {},
     "output_type": "execute_result"
    }
   ],
   "source": [
    "world_coordinates = pd.read_csv('novel-corona-virus-2019-dataset/world_coordinates.csv')\n",
    "\n",
    "# 相应的要将坐标数据中的国家替换\n",
    "\n",
    "world_coordinates['Country'].replace({'China': 'Mainland China'},inplace=True)\n",
    "\n",
    "world_data = pd.merge(world_coordinates, cases, on='Country')\n",
    "world_data.head()"
   ]
  },
  {
   "cell_type": "code",
   "execution_count": 109,
   "metadata": {},
   "outputs": [],
   "source": [
    "# world_data.info()\n",
    "# 想根据多少来显示圆圈大小，方法不可行，差距太大\n",
    "# tmp = world_data['Confirmed'].max()  - world_data['Confirmed'].min()\n",
    "# world_data['ConfirmedNew'] = (world_data['Confirmed'] - world_data['Confirmed'].min()) / tmp\n",
    "\n",
    "# world_data['ConfirmedNew'].max(), world_data['ConfirmedNew'].min()"
   ]
  },
  {
   "cell_type": "code",
   "execution_count": 140,
   "metadata": {},
   "outputs": [],
   "source": [
    "# for lat, lon, value, name in zip(world_data['latitude'], world_data['longitude'], world_data['Confirmed'], world_data['Country']):\n",
    "#    print(lat, lon)\n",
    "\n",
    "# world_map = folium.Map(location=[10, -20], zoom_start=2.3,tiles='Stamen Toner')\n",
    "world_map = folium.Map(location=[10, -20], zoom_start=2.3)\n",
    "# len(world_data)\n",
    "\n",
    "for i in range(len(world_data)):\n",
    "    \n",
    "    folium.CircleMarker(location = [world_data['latitude'][i], world_data['longitude'][i]], \n",
    "                                    # popup = popup\n",
    "                       radius = 10,\n",
    "                \n",
    "                        color = 'red',\n",
    "                        \n",
    "                        fill_color='red',\n",
    "                        fill_opacity=0.7 ).add_to(world_map)\n",
    "                        \n",
    "# world_map"
   ]
  },
  {
   "cell_type": "code",
   "execution_count": 186,
   "metadata": {},
   "outputs": [
    {
     "data": {
      "text/html": [
       "<div style=\"width:100%;\"><div style=\"position:relative;width:100%;height:0;padding-bottom:60%;\"><iframe src=\"data:text/html;charset=utf-8;base64,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\" style=\"position:absolute;width:100%;height:100%;left:0;top:0;border:none !important;\" allowfullscreen webkitallowfullscreen mozallowfullscreen></iframe></div></div>"
      ],
      "text/plain": [
       "<folium.folium.Map at 0xf9a1d4a828>"
      ]
     },
     "execution_count": 186,
     "metadata": {},
     "output_type": "execute_result"
    }
   ],
   "source": [
    "world_map = folium.Map(location=[10, -20], zoom_start=2.3,tiles='Stamen Toner')\n",
    " \n",
    "\n",
    "for lat, lon, value, name in zip(world_data['latitude'], world_data['longitude'], world_data['Confirmed'], world_data['Country']):\n",
    "    folium.CircleMarker(location = [lat, lon],\n",
    "                        radius = 10,\n",
    "                        # radius = value_ra,\n",
    "                        # 使用变量显示时，地图显示错误\n",
    "                        # 使用上面的HTML格式显示\n",
    "                        # popup = ('<strong>Country</strong>: ' + str(name).capitalize() + '<br>'\n",
    "                        #          '<strong>Confirmed Cases</strong>: ' + str(value) + '<br>'),\n",
    "                        # popup = str(name),\n",
    "                        # popup='<p style=\"color: green\"></p> '+ str(name),\n",
    "                        # popup = '<b>Country:{}</b></br> <b>Cases:{}</b></br>'.format(name, value),\n",
    "                        color = 'red',\n",
    "                        \n",
    "                        fill_color='red',\n",
    "                        fill_opacity=0.7 \n",
    "                       ).add_to(world_map)\n",
    "world_map.save('confirmed_world_map.html')\n",
    "world_map"
   ]
  },
  {
   "cell_type": "markdown",
   "metadata": {},
   "source": [
    "## 中国信息"
   ]
  },
  {
   "cell_type": "code",
   "execution_count": 132,
   "metadata": {},
   "outputs": [
    {
     "name": "stdout",
     "output_type": "stream",
     "text": [
      "<class 'pandas.core.frame.DataFrame'>\n",
      "RangeIndex: 913 entries, 0 to 912\n",
      "Data columns (total 5 columns):\n",
      "Date              913 non-null object\n",
      "Province/State    913 non-null object\n",
      "Confirmed         913 non-null float64\n",
      "Deaths            913 non-null float64\n",
      "Recovered         913 non-null float64\n",
      "dtypes: float64(3), object(2)\n",
      "memory usage: 35.7+ KB\n"
     ]
    }
   ],
   "source": [
    "# 包含时间变量的数据\n",
    "china_data = china.groupby(['Date', 'Province/State'])['Confirmed', 'Deaths', 'Recovered'\n",
    "                                                      ].max()\n",
    "china_data = china_data.reset_index()\n",
    "# china_map['size'] = china_map['Confirmed'].pow(0.5)\n",
    "china_data['Date'] = pd.to_datetime(china_data['Date'])\n",
    "china_data['Date'] = china_data['Date'].dt.strftime('%m/%d/%Y')\n",
    "china_data.info()"
   ]
  },
  {
   "cell_type": "markdown",
   "metadata": {},
   "source": [
    "### 各省数据分布"
   ]
  },
  {
   "cell_type": "code",
   "execution_count": 133,
   "metadata": {},
   "outputs": [
    {
     "name": "stdout",
     "output_type": "stream",
     "text": [
      "Till 2020-2-17, China Confirmed Cases are :  72456.0\n",
      "Till 2020-2-17, China Deaths Cases are :  1865.0\n",
      "Till 2020-2-17, China Recovered Cases are :  12464.0\n"
     ]
    },
    {
     "data": {
      "text/markdown": [
       "**Present Scenario of China Condition of 2019-nCoV, 17 february 2020**"
      ],
      "text/plain": [
       "<IPython.core.display.Markdown object>"
      ]
     },
     "metadata": {},
     "output_type": "display_data"
    },
    {
     "data": {
      "text/html": [
       "<style  type=\"text/css\" >\n",
       "    #T_69773be4_5ead_11ea_832b_98541b8573ba th {\n",
       "          font-size: 11px;\n",
       "          text-align: center;\n",
       "          font-weight: bold;\n",
       "          color: #6d6d6d;\n",
       "          background-color: #f7f7f9;\n",
       "    }    #T_69773be4_5ead_11ea_832b_98541b8573ba td {\n",
       "          font-size: 11px;\n",
       "          color: black;\n",
       "    }    #T_69773be4_5ead_11ea_832b_98541b8573barow0_col0 {\n",
       "            background-color:  #008000;\n",
       "            background-color:  yellow;\n",
       "        }    #T_69773be4_5ead_11ea_832b_98541b8573barow0_col1 {\n",
       "            background-color:  #008000;\n",
       "            background-color:  yellow;\n",
       "        }    #T_69773be4_5ead_11ea_832b_98541b8573barow0_col2 {\n",
       "            background-color:  #008000;\n",
       "            background-color:  yellow;\n",
       "        }    #T_69773be4_5ead_11ea_832b_98541b8573barow1_col0 {\n",
       "            background-color:  #e1fde1;\n",
       "            : ;\n",
       "        }    #T_69773be4_5ead_11ea_832b_98541b8573barow1_col1 {\n",
       "            background-color:  #e5ffe5;\n",
       "            : ;\n",
       "        }    #T_69773be4_5ead_11ea_832b_98541b8573barow1_col2 {\n",
       "            background-color:  #d6f7d6;\n",
       "            : ;\n",
       "        }    #T_69773be4_5ead_11ea_832b_98541b8573barow2_col0 {\n",
       "            background-color:  #e1fde1;\n",
       "            : ;\n",
       "        }    #T_69773be4_5ead_11ea_832b_98541b8573barow2_col1 {\n",
       "            background-color:  #e4fee4;\n",
       "            : ;\n",
       "        }    #T_69773be4_5ead_11ea_832b_98541b8573barow2_col2 {\n",
       "            background-color:  #d7f7d7;\n",
       "            : ;\n",
       "        }    #T_69773be4_5ead_11ea_832b_98541b8573barow3_col0 {\n",
       "            background-color:  #e2fde2;\n",
       "            : ;\n",
       "        }    #T_69773be4_5ead_11ea_832b_98541b8573barow3_col1 {\n",
       "            background-color:  #e5ffe5;\n",
       "            : ;\n",
       "        }    #T_69773be4_5ead_11ea_832b_98541b8573barow3_col2 {\n",
       "            background-color:  #d7f7d7;\n",
       "            : ;\n",
       "        }    #T_69773be4_5ead_11ea_832b_98541b8573barow4_col0 {\n",
       "            background-color:  #e2fde2;\n",
       "            : ;\n",
       "        }    #T_69773be4_5ead_11ea_832b_98541b8573barow4_col1 {\n",
       "            background-color:  #e5ffe5;\n",
       "            : ;\n",
       "        }    #T_69773be4_5ead_11ea_832b_98541b8573barow4_col2 {\n",
       "            background-color:  #d7f7d7;\n",
       "            : ;\n",
       "        }    #T_69773be4_5ead_11ea_832b_98541b8573barow5_col0 {\n",
       "            background-color:  #e2fde2;\n",
       "            : ;\n",
       "        }    #T_69773be4_5ead_11ea_832b_98541b8573barow5_col1 {\n",
       "            background-color:  #e5ffe5;\n",
       "            : ;\n",
       "        }    #T_69773be4_5ead_11ea_832b_98541b8573barow5_col2 {\n",
       "            background-color:  #ddfbdd;\n",
       "            : ;\n",
       "        }    #T_69773be4_5ead_11ea_832b_98541b8573barow6_col0 {\n",
       "            background-color:  #e3fee3;\n",
       "            : ;\n",
       "        }    #T_69773be4_5ead_11ea_832b_98541b8573barow6_col1 {\n",
       "            background-color:  #e5ffe5;\n",
       "            : ;\n",
       "        }    #T_69773be4_5ead_11ea_832b_98541b8573barow6_col2 {\n",
       "            background-color:  #defbde;\n",
       "            : ;\n",
       "        }    #T_69773be4_5ead_11ea_832b_98541b8573barow7_col0 {\n",
       "            background-color:  #e4fee4;\n",
       "            : ;\n",
       "        }    #T_69773be4_5ead_11ea_832b_98541b8573barow7_col1 {\n",
       "            background-color:  #e5ffe5;\n",
       "            : ;\n",
       "        }    #T_69773be4_5ead_11ea_832b_98541b8573barow7_col2 {\n",
       "            background-color:  #defbde;\n",
       "            : ;\n",
       "        }    #T_69773be4_5ead_11ea_832b_98541b8573barow8_col0 {\n",
       "            background-color:  #e4fee4;\n",
       "            : ;\n",
       "        }    #T_69773be4_5ead_11ea_832b_98541b8573barow8_col1 {\n",
       "            background-color:  #e5ffe5;\n",
       "            : ;\n",
       "        }    #T_69773be4_5ead_11ea_832b_98541b8573barow8_col2 {\n",
       "            background-color:  #dffcdf;\n",
       "            : ;\n",
       "        }    #T_69773be4_5ead_11ea_832b_98541b8573barow9_col0 {\n",
       "            background-color:  #e4fee4;\n",
       "            : ;\n",
       "        }    #T_69773be4_5ead_11ea_832b_98541b8573barow9_col1 {\n",
       "            background-color:  #e5ffe5;\n",
       "            : ;\n",
       "        }    #T_69773be4_5ead_11ea_832b_98541b8573barow9_col2 {\n",
       "            background-color:  #e0fce0;\n",
       "            : ;\n",
       "        }    #T_69773be4_5ead_11ea_832b_98541b8573barow10_col0 {\n",
       "            background-color:  #e4fee4;\n",
       "            : ;\n",
       "        }    #T_69773be4_5ead_11ea_832b_98541b8573barow10_col1 {\n",
       "            background-color:  #e5ffe5;\n",
       "            : ;\n",
       "        }    #T_69773be4_5ead_11ea_832b_98541b8573barow10_col2 {\n",
       "            background-color:  #e1fde1;\n",
       "            : ;\n",
       "        }    #T_69773be4_5ead_11ea_832b_98541b8573barow11_col0 {\n",
       "            background-color:  #e5ffe5;\n",
       "            : ;\n",
       "        }    #T_69773be4_5ead_11ea_832b_98541b8573barow11_col1 {\n",
       "            background-color:  #e5ffe5;\n",
       "            : ;\n",
       "        }    #T_69773be4_5ead_11ea_832b_98541b8573barow11_col2 {\n",
       "            background-color:  #e4fee4;\n",
       "            : ;\n",
       "        }    #T_69773be4_5ead_11ea_832b_98541b8573barow12_col0 {\n",
       "            background-color:  #e5ffe5;\n",
       "            : ;\n",
       "        }    #T_69773be4_5ead_11ea_832b_98541b8573barow12_col1 {\n",
       "            background-color:  #e5ffe5;\n",
       "            : ;\n",
       "        }    #T_69773be4_5ead_11ea_832b_98541b8573barow12_col2 {\n",
       "            background-color:  #e3fee3;\n",
       "            : ;\n",
       "        }    #T_69773be4_5ead_11ea_832b_98541b8573barow13_col0 {\n",
       "            background-color:  #e5ffe5;\n",
       "            : ;\n",
       "        }    #T_69773be4_5ead_11ea_832b_98541b8573barow13_col1 {\n",
       "            background-color:  #e5ffe5;\n",
       "            : ;\n",
       "        }    #T_69773be4_5ead_11ea_832b_98541b8573barow13_col2 {\n",
       "            background-color:  #e1fde1;\n",
       "            : ;\n",
       "        }    #T_69773be4_5ead_11ea_832b_98541b8573barow14_col0 {\n",
       "            background-color:  #e5ffe5;\n",
       "            : ;\n",
       "        }    #T_69773be4_5ead_11ea_832b_98541b8573barow14_col1 {\n",
       "            background-color:  #e5ffe5;\n",
       "            : ;\n",
       "        }    #T_69773be4_5ead_11ea_832b_98541b8573barow14_col2 {\n",
       "            background-color:  #e3fee3;\n",
       "            : ;\n",
       "        }    #T_69773be4_5ead_11ea_832b_98541b8573barow15_col0 {\n",
       "            background-color:  #e5ffe5;\n",
       "            : ;\n",
       "        }    #T_69773be4_5ead_11ea_832b_98541b8573barow15_col1 {\n",
       "            background-color:  #e5ffe5;\n",
       "            : ;\n",
       "        }    #T_69773be4_5ead_11ea_832b_98541b8573barow15_col2 {\n",
       "            background-color:  #e4fee4;\n",
       "            : ;\n",
       "        }    #T_69773be4_5ead_11ea_832b_98541b8573barow16_col0 {\n",
       "            background-color:  #e5ffe5;\n",
       "            : ;\n",
       "        }    #T_69773be4_5ead_11ea_832b_98541b8573barow16_col1 {\n",
       "            background-color:  #e5ffe5;\n",
       "            : ;\n",
       "        }    #T_69773be4_5ead_11ea_832b_98541b8573barow16_col2 {\n",
       "            background-color:  #e4fee4;\n",
       "            : ;\n",
       "        }    #T_69773be4_5ead_11ea_832b_98541b8573barow17_col0 {\n",
       "            background-color:  #e5ffe5;\n",
       "            : ;\n",
       "        }    #T_69773be4_5ead_11ea_832b_98541b8573barow17_col1 {\n",
       "            background-color:  #e5ffe5;\n",
       "            : ;\n",
       "        }    #T_69773be4_5ead_11ea_832b_98541b8573barow17_col2 {\n",
       "            background-color:  #e5ffe5;\n",
       "            : ;\n",
       "        }    #T_69773be4_5ead_11ea_832b_98541b8573barow18_col0 {\n",
       "            background-color:  #e5ffe5;\n",
       "            : ;\n",
       "        }    #T_69773be4_5ead_11ea_832b_98541b8573barow18_col1 {\n",
       "            background-color:  #e5ffe5;\n",
       "            : ;\n",
       "        }    #T_69773be4_5ead_11ea_832b_98541b8573barow18_col2 {\n",
       "            background-color:  #e5ffe5;\n",
       "            : ;\n",
       "        }    #T_69773be4_5ead_11ea_832b_98541b8573barow19_col0 {\n",
       "            background-color:  #e5ffe5;\n",
       "            : ;\n",
       "        }    #T_69773be4_5ead_11ea_832b_98541b8573barow19_col1 {\n",
       "            background-color:  #e5ffe5;\n",
       "            : ;\n",
       "        }    #T_69773be4_5ead_11ea_832b_98541b8573barow19_col2 {\n",
       "            background-color:  #e5ffe5;\n",
       "            : ;\n",
       "        }    #T_69773be4_5ead_11ea_832b_98541b8573barow20_col0 {\n",
       "            background-color:  #e5ffe5;\n",
       "            : ;\n",
       "        }    #T_69773be4_5ead_11ea_832b_98541b8573barow20_col1 {\n",
       "            background-color:  #e5ffe5;\n",
       "            : ;\n",
       "        }    #T_69773be4_5ead_11ea_832b_98541b8573barow20_col2 {\n",
       "            background-color:  #e5ffe5;\n",
       "            : ;\n",
       "        }    #T_69773be4_5ead_11ea_832b_98541b8573barow21_col0 {\n",
       "            background-color:  #e5ffe5;\n",
       "            : ;\n",
       "        }    #T_69773be4_5ead_11ea_832b_98541b8573barow21_col1 {\n",
       "            background-color:  #e5ffe5;\n",
       "            : ;\n",
       "        }    #T_69773be4_5ead_11ea_832b_98541b8573barow21_col2 {\n",
       "            background-color:  #e5ffe5;\n",
       "            : ;\n",
       "        }    #T_69773be4_5ead_11ea_832b_98541b8573barow22_col0 {\n",
       "            background-color:  #e5ffe5;\n",
       "            : ;\n",
       "        }    #T_69773be4_5ead_11ea_832b_98541b8573barow22_col1 {\n",
       "            background-color:  #e5ffe5;\n",
       "            : ;\n",
       "        }    #T_69773be4_5ead_11ea_832b_98541b8573barow22_col2 {\n",
       "            background-color:  #e5ffe5;\n",
       "            : ;\n",
       "        }    #T_69773be4_5ead_11ea_832b_98541b8573barow23_col0 {\n",
       "            background-color:  #e5ffe5;\n",
       "            : ;\n",
       "        }    #T_69773be4_5ead_11ea_832b_98541b8573barow23_col1 {\n",
       "            background-color:  #e5ffe5;\n",
       "            : ;\n",
       "        }    #T_69773be4_5ead_11ea_832b_98541b8573barow23_col2 {\n",
       "            background-color:  #e5ffe5;\n",
       "            : ;\n",
       "        }    #T_69773be4_5ead_11ea_832b_98541b8573barow24_col0 {\n",
       "            background-color:  #e5ffe5;\n",
       "            : ;\n",
       "        }    #T_69773be4_5ead_11ea_832b_98541b8573barow24_col1 {\n",
       "            background-color:  #e5ffe5;\n",
       "            : ;\n",
       "        }    #T_69773be4_5ead_11ea_832b_98541b8573barow24_col2 {\n",
       "            background-color:  #e5ffe5;\n",
       "            : ;\n",
       "        }    #T_69773be4_5ead_11ea_832b_98541b8573barow25_col0 {\n",
       "            background-color:  #e5ffe5;\n",
       "            : ;\n",
       "        }    #T_69773be4_5ead_11ea_832b_98541b8573barow25_col1 {\n",
       "            background-color:  #e5ffe5;\n",
       "            : ;\n",
       "        }    #T_69773be4_5ead_11ea_832b_98541b8573barow25_col2 {\n",
       "            background-color:  #e5ffe5;\n",
       "            : ;\n",
       "        }    #T_69773be4_5ead_11ea_832b_98541b8573barow26_col0 {\n",
       "            background-color:  #e5ffe5;\n",
       "            : ;\n",
       "        }    #T_69773be4_5ead_11ea_832b_98541b8573barow26_col1 {\n",
       "            background-color:  #e5ffe5;\n",
       "            : ;\n",
       "        }    #T_69773be4_5ead_11ea_832b_98541b8573barow26_col2 {\n",
       "            background-color:  #e5ffe5;\n",
       "            : ;\n",
       "        }    #T_69773be4_5ead_11ea_832b_98541b8573barow27_col0 {\n",
       "            background-color:  #e5ffe5;\n",
       "            : ;\n",
       "        }    #T_69773be4_5ead_11ea_832b_98541b8573barow27_col1 {\n",
       "            background-color:  #e5ffe5;\n",
       "            : ;\n",
       "        }    #T_69773be4_5ead_11ea_832b_98541b8573barow27_col2 {\n",
       "            background-color:  #e5ffe5;\n",
       "            : ;\n",
       "        }    #T_69773be4_5ead_11ea_832b_98541b8573barow28_col0 {\n",
       "            background-color:  #e5ffe5;\n",
       "            : ;\n",
       "        }    #T_69773be4_5ead_11ea_832b_98541b8573barow28_col1 {\n",
       "            background-color:  #e5ffe5;\n",
       "            : ;\n",
       "        }    #T_69773be4_5ead_11ea_832b_98541b8573barow28_col2 {\n",
       "            background-color:  #e5ffe5;\n",
       "            : ;\n",
       "        }    #T_69773be4_5ead_11ea_832b_98541b8573barow29_col0 {\n",
       "            background-color:  #e5ffe5;\n",
       "            : ;\n",
       "        }    #T_69773be4_5ead_11ea_832b_98541b8573barow29_col1 {\n",
       "            background-color:  #e5ffe5;\n",
       "            : ;\n",
       "        }    #T_69773be4_5ead_11ea_832b_98541b8573barow29_col2 {\n",
       "            background-color:  #e5ffe5;\n",
       "            : ;\n",
       "        }    #T_69773be4_5ead_11ea_832b_98541b8573barow30_col0 {\n",
       "            background-color:  #e5ffe5;\n",
       "            : ;\n",
       "        }    #T_69773be4_5ead_11ea_832b_98541b8573barow30_col1 {\n",
       "            background-color:  #e5ffe5;\n",
       "            : ;\n",
       "        }    #T_69773be4_5ead_11ea_832b_98541b8573barow30_col2 {\n",
       "            background-color:  #e5ffe5;\n",
       "            : ;\n",
       "        }    #T_69773be4_5ead_11ea_832b_98541b8573barow31_col0 {\n",
       "            background-color:  #e5ffe5;\n",
       "            : ;\n",
       "        }    #T_69773be4_5ead_11ea_832b_98541b8573barow31_col1 {\n",
       "            background-color:  #e5ffe5;\n",
       "            : ;\n",
       "        }    #T_69773be4_5ead_11ea_832b_98541b8573barow31_col2 {\n",
       "            background-color:  #e5ffe5;\n",
       "            : ;\n",
       "        }    #T_69773be4_5ead_11ea_832b_98541b8573barow32_col0 {\n",
       "            background-color:  #e5ffe5;\n",
       "            : ;\n",
       "        }    #T_69773be4_5ead_11ea_832b_98541b8573barow32_col1 {\n",
       "            background-color:  #e5ffe5;\n",
       "            : ;\n",
       "        }    #T_69773be4_5ead_11ea_832b_98541b8573barow32_col2 {\n",
       "            background-color:  #e5ffe5;\n",
       "            : ;\n",
       "        }    #T_69773be4_5ead_11ea_832b_98541b8573barow33_col0 {\n",
       "            background-color:  #e5ffe5;\n",
       "            : ;\n",
       "        }    #T_69773be4_5ead_11ea_832b_98541b8573barow33_col1 {\n",
       "            background-color:  #e5ffe5;\n",
       "            : ;\n",
       "        }    #T_69773be4_5ead_11ea_832b_98541b8573barow33_col2 {\n",
       "            background-color:  #e5ffe5;\n",
       "            : ;\n",
       "        }</style>  \n",
       "<table id=\"T_69773be4_5ead_11ea_832b_98541b8573ba\" > \n",
       "<thead>    <tr> \n",
       "        <th class=\"blank level0\" ></th> \n",
       "        <th class=\"col_heading level0 col0\" >Confirmed</th> \n",
       "        <th class=\"col_heading level0 col1\" >Deaths</th> \n",
       "        <th class=\"col_heading level0 col2\" >Recovered</th> \n",
       "    </tr>    <tr> \n",
       "        <th class=\"index_name level0\" >Province/State</th> \n",
       "        <th class=\"blank\" ></th> \n",
       "        <th class=\"blank\" ></th> \n",
       "        <th class=\"blank\" ></th> \n",
       "    </tr></thead> \n",
       "<tbody>    <tr> \n",
       "        <th id=\"T_69773be4_5ead_11ea_832b_98541b8573balevel0_row0\" class=\"row_heading level0 row0\" >Hubei</th> \n",
       "        <td id=\"T_69773be4_5ead_11ea_832b_98541b8573barow0_col0\" class=\"data row0 col0\" >59989</td> \n",
       "        <td id=\"T_69773be4_5ead_11ea_832b_98541b8573barow0_col1\" class=\"data row0 col1\" >1789</td> \n",
       "        <td id=\"T_69773be4_5ead_11ea_832b_98541b8573barow0_col2\" class=\"data row0 col2\" >7862</td> \n",
       "    </tr>    <tr> \n",
       "        <th id=\"T_69773be4_5ead_11ea_832b_98541b8573balevel0_row1\" class=\"row_heading level0 row1\" >Guangdong</th> \n",
       "        <td id=\"T_69773be4_5ead_11ea_832b_98541b8573barow1_col0\" class=\"data row1 col0\" >1322</td> \n",
       "        <td id=\"T_69773be4_5ead_11ea_832b_98541b8573barow1_col1\" class=\"data row1 col1\" >4</td> \n",
       "        <td id=\"T_69773be4_5ead_11ea_832b_98541b8573barow1_col2\" class=\"data row1 col2\" >524</td> \n",
       "    </tr>    <tr> \n",
       "        <th id=\"T_69773be4_5ead_11ea_832b_98541b8573balevel0_row2\" class=\"row_heading level0 row2\" >Henan</th> \n",
       "        <td id=\"T_69773be4_5ead_11ea_832b_98541b8573barow2_col0\" class=\"data row2 col0\" >1246</td> \n",
       "        <td id=\"T_69773be4_5ead_11ea_832b_98541b8573barow2_col1\" class=\"data row2 col1\" >16</td> \n",
       "        <td id=\"T_69773be4_5ead_11ea_832b_98541b8573barow2_col2\" class=\"data row2 col2\" >509</td> \n",
       "    </tr>    <tr> \n",
       "        <th id=\"T_69773be4_5ead_11ea_832b_98541b8573balevel0_row3\" class=\"row_heading level0 row3\" >Zhejiang</th> \n",
       "        <td id=\"T_69773be4_5ead_11ea_832b_98541b8573barow3_col0\" class=\"data row3 col0\" >1171</td> \n",
       "        <td id=\"T_69773be4_5ead_11ea_832b_98541b8573barow3_col1\" class=\"data row3 col1\" >0</td> \n",
       "        <td id=\"T_69773be4_5ead_11ea_832b_98541b8573barow3_col2\" class=\"data row3 col2\" >507</td> \n",
       "    </tr>    <tr> \n",
       "        <th id=\"T_69773be4_5ead_11ea_832b_98541b8573balevel0_row4\" class=\"row_heading level0 row4\" >Hunan</th> \n",
       "        <td id=\"T_69773be4_5ead_11ea_832b_98541b8573barow4_col0\" class=\"data row4 col0\" >1006</td> \n",
       "        <td id=\"T_69773be4_5ead_11ea_832b_98541b8573barow4_col1\" class=\"data row4 col1\" >3</td> \n",
       "        <td id=\"T_69773be4_5ead_11ea_832b_98541b8573barow4_col2\" class=\"data row4 col2\" >498</td> \n",
       "    </tr>    <tr> \n",
       "        <th id=\"T_69773be4_5ead_11ea_832b_98541b8573balevel0_row5\" class=\"row_heading level0 row5\" >Anhui</th> \n",
       "        <td id=\"T_69773be4_5ead_11ea_832b_98541b8573barow5_col0\" class=\"data row5 col0\" >973</td> \n",
       "        <td id=\"T_69773be4_5ead_11ea_832b_98541b8573barow5_col1\" class=\"data row5 col1\" >6</td> \n",
       "        <td id=\"T_69773be4_5ead_11ea_832b_98541b8573barow5_col2\" class=\"data row5 col2\" >280</td> \n",
       "    </tr>    <tr> \n",
       "        <th id=\"T_69773be4_5ead_11ea_832b_98541b8573balevel0_row6\" class=\"row_heading level0 row6\" >Jiangxi</th> \n",
       "        <td id=\"T_69773be4_5ead_11ea_832b_98541b8573barow6_col0\" class=\"data row6 col0\" >930</td> \n",
       "        <td id=\"T_69773be4_5ead_11ea_832b_98541b8573barow6_col1\" class=\"data row6 col1\" >1</td> \n",
       "        <td id=\"T_69773be4_5ead_11ea_832b_98541b8573barow6_col2\" class=\"data row6 col2\" >275</td> \n",
       "    </tr>    <tr> \n",
       "        <th id=\"T_69773be4_5ead_11ea_832b_98541b8573balevel0_row7\" class=\"row_heading level0 row7\" >Jiangsu</th> \n",
       "        <td id=\"T_69773be4_5ead_11ea_832b_98541b8573barow7_col0\" class=\"data row7 col0\" >626</td> \n",
       "        <td id=\"T_69773be4_5ead_11ea_832b_98541b8573barow7_col1\" class=\"data row7 col1\" >0</td> \n",
       "        <td id=\"T_69773be4_5ead_11ea_832b_98541b8573barow7_col2\" class=\"data row7 col2\" >258</td> \n",
       "    </tr>    <tr> \n",
       "        <th id=\"T_69773be4_5ead_11ea_832b_98541b8573balevel0_row8\" class=\"row_heading level0 row8\" >Chongqing</th> \n",
       "        <td id=\"T_69773be4_5ead_11ea_832b_98541b8573barow8_col0\" class=\"data row8 col0\" >553</td> \n",
       "        <td id=\"T_69773be4_5ead_11ea_832b_98541b8573barow8_col1\" class=\"data row8 col1\" >5</td> \n",
       "        <td id=\"T_69773be4_5ead_11ea_832b_98541b8573barow8_col2\" class=\"data row8 col2\" >225</td> \n",
       "    </tr>    <tr> \n",
       "        <th id=\"T_69773be4_5ead_11ea_832b_98541b8573balevel0_row9\" class=\"row_heading level0 row9\" >Shandong</th> \n",
       "        <td id=\"T_69773be4_5ead_11ea_832b_98541b8573barow9_col0\" class=\"data row9 col0\" >541</td> \n",
       "        <td id=\"T_69773be4_5ead_11ea_832b_98541b8573barow9_col1\" class=\"data row9 col1\" >2</td> \n",
       "        <td id=\"T_69773be4_5ead_11ea_832b_98541b8573barow9_col2\" class=\"data row9 col2\" >191</td> \n",
       "    </tr>    <tr> \n",
       "        <th id=\"T_69773be4_5ead_11ea_832b_98541b8573balevel0_row10\" class=\"row_heading level0 row10\" >Sichuan</th> \n",
       "        <td id=\"T_69773be4_5ead_11ea_832b_98541b8573barow10_col0\" class=\"data row10 col0\" >495</td> \n",
       "        <td id=\"T_69773be4_5ead_11ea_832b_98541b8573barow10_col1\" class=\"data row10 col1\" >3</td> \n",
       "        <td id=\"T_69773be4_5ead_11ea_832b_98541b8573barow10_col2\" class=\"data row10 col2\" >156</td> \n",
       "    </tr>    <tr> \n",
       "        <th id=\"T_69773be4_5ead_11ea_832b_98541b8573balevel0_row11\" class=\"row_heading level0 row11\" >Heilongjiang</th> \n",
       "        <td id=\"T_69773be4_5ead_11ea_832b_98541b8573barow11_col0\" class=\"data row11 col0\" >457</td> \n",
       "        <td id=\"T_69773be4_5ead_11ea_832b_98541b8573barow11_col1\" class=\"data row11 col1\" >11</td> \n",
       "        <td id=\"T_69773be4_5ead_11ea_832b_98541b8573barow11_col2\" class=\"data row11 col2\" >85</td> \n",
       "    </tr>    <tr> \n",
       "        <th id=\"T_69773be4_5ead_11ea_832b_98541b8573balevel0_row12\" class=\"row_heading level0 row12\" >Beijing</th> \n",
       "        <td id=\"T_69773be4_5ead_11ea_832b_98541b8573barow12_col0\" class=\"data row12 col0\" >381</td> \n",
       "        <td id=\"T_69773be4_5ead_11ea_832b_98541b8573barow12_col1\" class=\"data row12 col1\" >4</td> \n",
       "        <td id=\"T_69773be4_5ead_11ea_832b_98541b8573barow12_col2\" class=\"data row12 col2\" >114</td> \n",
       "    </tr>    <tr> \n",
       "        <th id=\"T_69773be4_5ead_11ea_832b_98541b8573balevel0_row13\" class=\"row_heading level0 row13\" >Shanghai</th> \n",
       "        <td id=\"T_69773be4_5ead_11ea_832b_98541b8573barow13_col0\" class=\"data row13 col0\" >333</td> \n",
       "        <td id=\"T_69773be4_5ead_11ea_832b_98541b8573barow13_col1\" class=\"data row13 col1\" >1</td> \n",
       "        <td id=\"T_69773be4_5ead_11ea_832b_98541b8573barow13_col2\" class=\"data row13 col2\" >161</td> \n",
       "    </tr>    <tr> \n",
       "        <th id=\"T_69773be4_5ead_11ea_832b_98541b8573balevel0_row14\" class=\"row_heading level0 row14\" >Hebei</th> \n",
       "        <td id=\"T_69773be4_5ead_11ea_832b_98541b8573barow14_col0\" class=\"data row14 col0\" >301</td> \n",
       "        <td id=\"T_69773be4_5ead_11ea_832b_98541b8573barow14_col1\" class=\"data row14 col1\" >3</td> \n",
       "        <td id=\"T_69773be4_5ead_11ea_832b_98541b8573barow14_col2\" class=\"data row14 col2\" >122</td> \n",
       "    </tr>    <tr> \n",
       "        <th id=\"T_69773be4_5ead_11ea_832b_98541b8573balevel0_row15\" class=\"row_heading level0 row15\" >Fujian</th> \n",
       "        <td id=\"T_69773be4_5ead_11ea_832b_98541b8573barow15_col0\" class=\"data row15 col0\" >290</td> \n",
       "        <td id=\"T_69773be4_5ead_11ea_832b_98541b8573barow15_col1\" class=\"data row15 col1\" >0</td> \n",
       "        <td id=\"T_69773be4_5ead_11ea_832b_98541b8573barow15_col2\" class=\"data row15 col2\" >90</td> \n",
       "    </tr>    <tr> \n",
       "        <th id=\"T_69773be4_5ead_11ea_832b_98541b8573balevel0_row16\" class=\"row_heading level0 row16\" >Shaanxi</th> \n",
       "        <td id=\"T_69773be4_5ead_11ea_832b_98541b8573barow16_col0\" class=\"data row16 col0\" >240</td> \n",
       "        <td id=\"T_69773be4_5ead_11ea_832b_98541b8573barow16_col1\" class=\"data row16 col1\" >0</td> \n",
       "        <td id=\"T_69773be4_5ead_11ea_832b_98541b8573barow16_col2\" class=\"data row16 col2\" >79</td> \n",
       "    </tr>    <tr> \n",
       "        <th id=\"T_69773be4_5ead_11ea_832b_98541b8573balevel0_row17\" class=\"row_heading level0 row17\" >Guangxi</th> \n",
       "        <td id=\"T_69773be4_5ead_11ea_832b_98541b8573barow17_col0\" class=\"data row17 col0\" >238</td> \n",
       "        <td id=\"T_69773be4_5ead_11ea_832b_98541b8573barow17_col1\" class=\"data row17 col1\" >2</td> \n",
       "        <td id=\"T_69773be4_5ead_11ea_832b_98541b8573barow17_col2\" class=\"data row17 col2\" >53</td> \n",
       "    </tr>    <tr> \n",
       "        <th id=\"T_69773be4_5ead_11ea_832b_98541b8573balevel0_row18\" class=\"row_heading level0 row18\" >Yunnan</th> \n",
       "        <td id=\"T_69773be4_5ead_11ea_832b_98541b8573barow18_col0\" class=\"data row18 col0\" >171</td> \n",
       "        <td id=\"T_69773be4_5ead_11ea_832b_98541b8573barow18_col1\" class=\"data row18 col1\" >0</td> \n",
       "        <td id=\"T_69773be4_5ead_11ea_832b_98541b8573barow18_col2\" class=\"data row18 col2\" >47</td> \n",
       "    </tr>    <tr> \n",
       "        <th id=\"T_69773be4_5ead_11ea_832b_98541b8573balevel0_row19\" class=\"row_heading level0 row19\" >Hainan</th> \n",
       "        <td id=\"T_69773be4_5ead_11ea_832b_98541b8573barow19_col0\" class=\"data row19 col0\" >163</td> \n",
       "        <td id=\"T_69773be4_5ead_11ea_832b_98541b8573barow19_col1\" class=\"data row19 col1\" >4</td> \n",
       "        <td id=\"T_69773be4_5ead_11ea_832b_98541b8573barow19_col2\" class=\"data row19 col2\" >59</td> \n",
       "    </tr>    <tr> \n",
       "        <th id=\"T_69773be4_5ead_11ea_832b_98541b8573balevel0_row20\" class=\"row_heading level0 row20\" >Guizhou</th> \n",
       "        <td id=\"T_69773be4_5ead_11ea_832b_98541b8573barow20_col0\" class=\"data row20 col0\" >146</td> \n",
       "        <td id=\"T_69773be4_5ead_11ea_832b_98541b8573barow20_col1\" class=\"data row20 col1\" >1</td> \n",
       "        <td id=\"T_69773be4_5ead_11ea_832b_98541b8573barow20_col2\" class=\"data row20 col2\" >57</td> \n",
       "    </tr>    <tr> \n",
       "        <th id=\"T_69773be4_5ead_11ea_832b_98541b8573balevel0_row21\" class=\"row_heading level0 row21\" >Shanxi</th> \n",
       "        <td id=\"T_69773be4_5ead_11ea_832b_98541b8573barow21_col0\" class=\"data row21 col0\" >130</td> \n",
       "        <td id=\"T_69773be4_5ead_11ea_832b_98541b8573barow21_col1\" class=\"data row21 col1\" >0</td> \n",
       "        <td id=\"T_69773be4_5ead_11ea_832b_98541b8573barow21_col2\" class=\"data row21 col2\" >53</td> \n",
       "    </tr>    <tr> \n",
       "        <th id=\"T_69773be4_5ead_11ea_832b_98541b8573balevel0_row22\" class=\"row_heading level0 row22\" >Tianjin</th> \n",
       "        <td id=\"T_69773be4_5ead_11ea_832b_98541b8573barow22_col0\" class=\"data row22 col0\" >125</td> \n",
       "        <td id=\"T_69773be4_5ead_11ea_832b_98541b8573barow22_col1\" class=\"data row22 col1\" >3</td> \n",
       "        <td id=\"T_69773be4_5ead_11ea_832b_98541b8573barow22_col2\" class=\"data row22 col2\" >46</td> \n",
       "    </tr>    <tr> \n",
       "        <th id=\"T_69773be4_5ead_11ea_832b_98541b8573balevel0_row23\" class=\"row_heading level0 row23\" >Liaoning</th> \n",
       "        <td id=\"T_69773be4_5ead_11ea_832b_98541b8573barow23_col0\" class=\"data row23 col0\" >121</td> \n",
       "        <td id=\"T_69773be4_5ead_11ea_832b_98541b8573barow23_col1\" class=\"data row23 col1\" >1</td> \n",
       "        <td id=\"T_69773be4_5ead_11ea_832b_98541b8573barow23_col2\" class=\"data row23 col2\" >43</td> \n",
       "    </tr>    <tr> \n",
       "        <th id=\"T_69773be4_5ead_11ea_832b_98541b8573balevel0_row24\" class=\"row_heading level0 row24\" >Gansu</th> \n",
       "        <td id=\"T_69773be4_5ead_11ea_832b_98541b8573barow24_col0\" class=\"data row24 col0\" >91</td> \n",
       "        <td id=\"T_69773be4_5ead_11ea_832b_98541b8573barow24_col1\" class=\"data row24 col1\" >2</td> \n",
       "        <td id=\"T_69773be4_5ead_11ea_832b_98541b8573barow24_col2\" class=\"data row24 col2\" >58</td> \n",
       "    </tr>    <tr> \n",
       "        <th id=\"T_69773be4_5ead_11ea_832b_98541b8573balevel0_row25\" class=\"row_heading level0 row25\" >Jilin</th> \n",
       "        <td id=\"T_69773be4_5ead_11ea_832b_98541b8573barow25_col0\" class=\"data row25 col0\" >89</td> \n",
       "        <td id=\"T_69773be4_5ead_11ea_832b_98541b8573barow25_col1\" class=\"data row25 col1\" >1</td> \n",
       "        <td id=\"T_69773be4_5ead_11ea_832b_98541b8573barow25_col2\" class=\"data row25 col2\" >34</td> \n",
       "    </tr>    <tr> \n",
       "        <th id=\"T_69773be4_5ead_11ea_832b_98541b8573balevel0_row26\" class=\"row_heading level0 row26\" >Xinjiang</th> \n",
       "        <td id=\"T_69773be4_5ead_11ea_832b_98541b8573barow26_col0\" class=\"data row26 col0\" >75</td> \n",
       "        <td id=\"T_69773be4_5ead_11ea_832b_98541b8573barow26_col1\" class=\"data row26 col1\" >1</td> \n",
       "        <td id=\"T_69773be4_5ead_11ea_832b_98541b8573barow26_col2\" class=\"data row26 col2\" >12</td> \n",
       "    </tr>    <tr> \n",
       "        <th id=\"T_69773be4_5ead_11ea_832b_98541b8573balevel0_row27\" class=\"row_heading level0 row27\" >Inner Mongolia</th> \n",
       "        <td id=\"T_69773be4_5ead_11ea_832b_98541b8573barow27_col0\" class=\"data row27 col0\" >72</td> \n",
       "        <td id=\"T_69773be4_5ead_11ea_832b_98541b8573barow27_col1\" class=\"data row27 col1\" >0</td> \n",
       "        <td id=\"T_69773be4_5ead_11ea_832b_98541b8573barow27_col2\" class=\"data row27 col2\" >8</td> \n",
       "    </tr>    <tr> \n",
       "        <th id=\"T_69773be4_5ead_11ea_832b_98541b8573balevel0_row28\" class=\"row_heading level0 row28\" >Ningxia</th> \n",
       "        <td id=\"T_69773be4_5ead_11ea_832b_98541b8573barow28_col0\" class=\"data row28 col0\" >70</td> \n",
       "        <td id=\"T_69773be4_5ead_11ea_832b_98541b8573barow28_col1\" class=\"data row28 col1\" >0</td> \n",
       "        <td id=\"T_69773be4_5ead_11ea_832b_98541b8573barow28_col2\" class=\"data row28 col2\" >35</td> \n",
       "    </tr>    <tr> \n",
       "        <th id=\"T_69773be4_5ead_11ea_832b_98541b8573balevel0_row29\" class=\"row_heading level0 row29\" >Hong Kong</th> \n",
       "        <td id=\"T_69773be4_5ead_11ea_832b_98541b8573barow29_col0\" class=\"data row29 col0\" >60</td> \n",
       "        <td id=\"T_69773be4_5ead_11ea_832b_98541b8573barow29_col1\" class=\"data row29 col1\" >1</td> \n",
       "        <td id=\"T_69773be4_5ead_11ea_832b_98541b8573barow29_col2\" class=\"data row29 col2\" >2</td> \n",
       "    </tr>    <tr> \n",
       "        <th id=\"T_69773be4_5ead_11ea_832b_98541b8573balevel0_row30\" class=\"row_heading level0 row30\" >Taiwan</th> \n",
       "        <td id=\"T_69773be4_5ead_11ea_832b_98541b8573barow30_col0\" class=\"data row30 col0\" >22</td> \n",
       "        <td id=\"T_69773be4_5ead_11ea_832b_98541b8573barow30_col1\" class=\"data row30 col1\" >1</td> \n",
       "        <td id=\"T_69773be4_5ead_11ea_832b_98541b8573barow30_col2\" class=\"data row30 col2\" >2</td> \n",
       "    </tr>    <tr> \n",
       "        <th id=\"T_69773be4_5ead_11ea_832b_98541b8573balevel0_row31\" class=\"row_heading level0 row31\" >Qinghai</th> \n",
       "        <td id=\"T_69773be4_5ead_11ea_832b_98541b8573barow31_col0\" class=\"data row31 col0\" >18</td> \n",
       "        <td id=\"T_69773be4_5ead_11ea_832b_98541b8573barow31_col1\" class=\"data row31 col1\" >0</td> \n",
       "        <td id=\"T_69773be4_5ead_11ea_832b_98541b8573barow31_col2\" class=\"data row31 col2\" >13</td> \n",
       "    </tr>    <tr> \n",
       "        <th id=\"T_69773be4_5ead_11ea_832b_98541b8573balevel0_row32\" class=\"row_heading level0 row32\" >Macau</th> \n",
       "        <td id=\"T_69773be4_5ead_11ea_832b_98541b8573barow32_col0\" class=\"data row32 col0\" >10</td> \n",
       "        <td id=\"T_69773be4_5ead_11ea_832b_98541b8573barow32_col1\" class=\"data row32 col1\" >0</td> \n",
       "        <td id=\"T_69773be4_5ead_11ea_832b_98541b8573barow32_col2\" class=\"data row32 col2\" >5</td> \n",
       "    </tr>    <tr> \n",
       "        <th id=\"T_69773be4_5ead_11ea_832b_98541b8573balevel0_row33\" class=\"row_heading level0 row33\" >Tibet</th> \n",
       "        <td id=\"T_69773be4_5ead_11ea_832b_98541b8573barow33_col0\" class=\"data row33 col0\" >1</td> \n",
       "        <td id=\"T_69773be4_5ead_11ea_832b_98541b8573barow33_col1\" class=\"data row33 col1\" >0</td> \n",
       "        <td id=\"T_69773be4_5ead_11ea_832b_98541b8573barow33_col2\" class=\"data row33 col2\" >1</td> \n",
       "    </tr></tbody> \n",
       "</table> "
      ],
      "text/plain": [
       "<pandas.io.formats.style.Styler at 0xf596c34b00>"
      ]
     },
     "execution_count": 133,
     "metadata": {},
     "output_type": "execute_result"
    }
   ],
   "source": [
    "china_cases = pd.DataFrame(china_latest.groupby('Province/State')['Confirmed', 'Deaths', 'Recovered'].sum())\n",
    "\n",
    "print('Till 2020-2-17, China Confirmed Cases are : ', china_cases['Confirmed'].sum())\n",
    "\n",
    "print('Till 2020-2-17, China Deaths Cases are : ', china_cases['Deaths'].sum())\n",
    "\n",
    "print('Till 2020-2-17, China Recovered Cases are : ', china_cases['Recovered'].sum())\n",
    "\n",
    "china_cases = china_cases.sort_values(by = 'Confirmed', ascending = False)\n",
    "\n",
    "bold(\"**Present Scenario of China Condition of 2019-nCoV, 17 february 2020**\")\n",
    "\n",
    "# china_cases.style.background_gradient(cmap='Pastel1_r')\n",
    "\n",
    "cm = sns.light_palette(\"green\", as_cmap=True)\n",
    "\n",
    "# Set CSS properties for th elements in dataframe\n",
    "th_props = [\n",
    "  ('font-size', '11px'),\n",
    "  ('text-align', 'center'),\n",
    "  ('font-weight', 'bold'),\n",
    "  ('color', '#6d6d6d'),\n",
    "  ('background-color', '#f7f7f9')\n",
    "  ]\n",
    "\n",
    "## Set CSS properties for td elements in dataframe\n",
    "td_props = [\n",
    "  ('font-size', '11px'),\n",
    "  ('color', 'black')\n",
    "   ]\n",
    "\n",
    "# Set table styles\n",
    "styles = [\n",
    "  dict(selector=\"th\", props=th_props),\n",
    "  dict(selector=\"td\", props=td_props)\n",
    "  ]\n",
    "\n",
    "(china_cases.style\n",
    "  .background_gradient(cmap=cm, subset=[\"Confirmed\",\"Deaths\",\"Recovered\"])\n",
    "  .highlight_max(subset=[\"Confirmed\",\"Deaths\",\"Recovered\"])\n",
    "  .set_table_styles(styles))"
   ]
  },
  {
   "cell_type": "code",
   "execution_count": 134,
   "metadata": {},
   "outputs": [
    {
     "data": {
      "text/html": [
       "<div>\n",
       "<style scoped>\n",
       "    .dataframe tbody tr th:only-of-type {\n",
       "        vertical-align: middle;\n",
       "    }\n",
       "\n",
       "    .dataframe tbody tr th {\n",
       "        vertical-align: top;\n",
       "    }\n",
       "\n",
       "    .dataframe thead th {\n",
       "        text-align: right;\n",
       "    }\n",
       "</style>\n",
       "<table border=\"1\" class=\"dataframe\">\n",
       "  <thead>\n",
       "    <tr style=\"text-align: right;\">\n",
       "      <th></th>\n",
       "      <th>Province/State</th>\n",
       "      <th>Confirmed</th>\n",
       "      <th>Deaths</th>\n",
       "      <th>Recovered</th>\n",
       "    </tr>\n",
       "  </thead>\n",
       "  <tbody>\n",
       "    <tr>\n",
       "      <th>0</th>\n",
       "      <td>Hubei</td>\n",
       "      <td>59989.0</td>\n",
       "      <td>1789.0</td>\n",
       "      <td>7862.0</td>\n",
       "    </tr>\n",
       "    <tr>\n",
       "      <th>1</th>\n",
       "      <td>Guangdong</td>\n",
       "      <td>1322.0</td>\n",
       "      <td>4.0</td>\n",
       "      <td>524.0</td>\n",
       "    </tr>\n",
       "    <tr>\n",
       "      <th>2</th>\n",
       "      <td>Henan</td>\n",
       "      <td>1246.0</td>\n",
       "      <td>16.0</td>\n",
       "      <td>509.0</td>\n",
       "    </tr>\n",
       "    <tr>\n",
       "      <th>3</th>\n",
       "      <td>Zhejiang</td>\n",
       "      <td>1171.0</td>\n",
       "      <td>0.0</td>\n",
       "      <td>507.0</td>\n",
       "    </tr>\n",
       "    <tr>\n",
       "      <th>4</th>\n",
       "      <td>Hunan</td>\n",
       "      <td>1006.0</td>\n",
       "      <td>3.0</td>\n",
       "      <td>498.0</td>\n",
       "    </tr>\n",
       "  </tbody>\n",
       "</table>\n",
       "</div>"
      ],
      "text/plain": [
       "  Province/State  Confirmed  Deaths  Recovered\n",
       "0          Hubei    59989.0  1789.0     7862.0\n",
       "1      Guangdong     1322.0     4.0      524.0\n",
       "2          Henan     1246.0    16.0      509.0\n",
       "3       Zhejiang     1171.0     0.0      507.0\n",
       "4          Hunan     1006.0     3.0      498.0"
      ]
     },
     "execution_count": 134,
     "metadata": {},
     "output_type": "execute_result"
    }
   ],
   "source": [
    "# 重新设置数据表格的形式\n",
    "# 上面的格式是表头单独一列，下面重置之后是一行了\n",
    "# 便于后面的绘图\n",
    "china_cases = china_cases.reset_index()\n",
    "china_cases.head()"
   ]
  },
  {
   "cell_type": "code",
   "execution_count": 61,
   "metadata": {},
   "outputs": [
    {
     "data": {
      "text/plain": [
       "'\\nsns.barplot(x = \"Confirmed\", y = \"Province/State\", data = china_cases,\\n            label=\"Confirmed\", color=\"orange\",alpha=0.7)\\n\\n\\n#sns.barplot(x = \"Recovered\", y = \"Province/State\", data=china_9_feb[1:],\\n#            label=\"Recovered\", color=\"g\",alpha=0.7)\\nsns.barplot(x = \"Recovered\", y = \"Province/State\", data = china_cases,\\n            label=\"Recovered\", color=\"g\",alpha=0.7)\\n\\n\\nsns.barplot(x=\"Deaths\", y=\"Province/State\", data=china_cases,\\n            label=\"Deaths\", color=\"r\",alpha=0.7)\\n\\n# Add a legend and informative axis label\\nax.set_title(\\'Confirmed vs Recovered vs Death figures of Provinces of China other than Hubei\\', fontsize=20, fontweight=\\'bold\\', position=(0.53, 1.05))\\nax.legend(ncol=2, loc=\"lower right\", frameon=True)\\nax.set(xlim=(0, 24), ylabel=\"\",\\n       xlabel=\"Stats\")\\nsns.despine(left=True, bottom=True)\\n'"
      ]
     },
     "execution_count": 61,
     "metadata": {},
     "output_type": "execute_result"
    }
   ],
   "source": [
    "# f, ax = plt.subplots(figsize=(15, 10))\n",
    "\n",
    "'''\n",
    "sns.barplot(x = \"Confirmed\", y = \"Province/State\", data = china_cases,\n",
    "            label=\"Confirmed\", color=\"orange\",alpha=0.7)\n",
    "\n",
    "\n",
    "#sns.barplot(x = \"Recovered\", y = \"Province/State\", data=china_9_feb[1:],\n",
    "#            label=\"Recovered\", color=\"g\",alpha=0.7)\n",
    "sns.barplot(x = \"Recovered\", y = \"Province/State\", data = china_cases,\n",
    "            label=\"Recovered\", color=\"g\",alpha=0.7)\n",
    "\n",
    "\n",
    "sns.barplot(x=\"Deaths\", y=\"Province/State\", data=china_cases,\n",
    "            label=\"Deaths\", color=\"r\",alpha=0.7)\n",
    "\n",
    "# Add a legend and informative axis label\n",
    "ax.set_title('Confirmed vs Recovered vs Death figures of Provinces of China other than Hubei', fontsize=20, fontweight='bold', position=(0.53, 1.05))\n",
    "ax.legend(ncol=2, loc=\"lower right\", frameon=True)\n",
    "ax.set(xlim=(0, 24), ylabel=\"\",\n",
    "       xlabel=\"Stats\")\n",
    "sns.despine(left=True, bottom=True)\n",
    "'''"
   ]
  },
  {
   "cell_type": "markdown",
   "metadata": {},
   "source": [
    "### 中国确诊地图"
   ]
  },
  {
   "cell_type": "code",
   "execution_count": 135,
   "metadata": {},
   "outputs": [],
   "source": [
    "china_coordinates= pd.read_csv(\"novel-corona-virus-2019-dataset/China_states_coordinates.csv\")\n",
    "china_coordinates.rename(columns={'States':'Province/State'},inplace=True)"
   ]
  },
  {
   "cell_type": "code",
   "execution_count": 119,
   "metadata": {},
   "outputs": [
    {
     "data": {
      "text/html": [
       "<div>\n",
       "<style scoped>\n",
       "    .dataframe tbody tr th:only-of-type {\n",
       "        vertical-align: middle;\n",
       "    }\n",
       "\n",
       "    .dataframe tbody tr th {\n",
       "        vertical-align: top;\n",
       "    }\n",
       "\n",
       "    .dataframe thead th {\n",
       "        text-align: right;\n",
       "    }\n",
       "</style>\n",
       "<table border=\"1\" class=\"dataframe\">\n",
       "  <thead>\n",
       "    <tr style=\"text-align: right;\">\n",
       "      <th></th>\n",
       "      <th>Province/State</th>\n",
       "      <th>Latitude</th>\n",
       "      <th>Longitude</th>\n",
       "      <th>Date</th>\n",
       "      <th>Confirmed</th>\n",
       "      <th>Deaths</th>\n",
       "      <th>Recovered</th>\n",
       "    </tr>\n",
       "  </thead>\n",
       "  <tbody>\n",
       "    <tr>\n",
       "      <th>0</th>\n",
       "      <td>Anhui</td>\n",
       "      <td>33.25</td>\n",
       "      <td>115.35</td>\n",
       "      <td>02/17/2020</td>\n",
       "      <td>973.0</td>\n",
       "      <td>6.0</td>\n",
       "      <td>280.0</td>\n",
       "    </tr>\n",
       "    <tr>\n",
       "      <th>1</th>\n",
       "      <td>Beijing</td>\n",
       "      <td>39.54</td>\n",
       "      <td>115.79</td>\n",
       "      <td>02/17/2020</td>\n",
       "      <td>381.0</td>\n",
       "      <td>4.0</td>\n",
       "      <td>114.0</td>\n",
       "    </tr>\n",
       "    <tr>\n",
       "      <th>2</th>\n",
       "      <td>Chongqing</td>\n",
       "      <td>31.05</td>\n",
       "      <td>109.52</td>\n",
       "      <td>02/17/2020</td>\n",
       "      <td>553.0</td>\n",
       "      <td>5.0</td>\n",
       "      <td>225.0</td>\n",
       "    </tr>\n",
       "    <tr>\n",
       "      <th>3</th>\n",
       "      <td>Fujian</td>\n",
       "      <td>26.23</td>\n",
       "      <td>117.58</td>\n",
       "      <td>02/17/2020</td>\n",
       "      <td>290.0</td>\n",
       "      <td>0.0</td>\n",
       "      <td>90.0</td>\n",
       "    </tr>\n",
       "    <tr>\n",
       "      <th>4</th>\n",
       "      <td>Gansu</td>\n",
       "      <td>39.83</td>\n",
       "      <td>97.73</td>\n",
       "      <td>02/17/2020</td>\n",
       "      <td>91.0</td>\n",
       "      <td>2.0</td>\n",
       "      <td>58.0</td>\n",
       "    </tr>\n",
       "  </tbody>\n",
       "</table>\n",
       "</div>"
      ],
      "text/plain": [
       "  Province/State  Latitude  Longitude        Date  Confirmed  Deaths  \\\n",
       "0          Anhui     33.25     115.35  02/17/2020      973.0     6.0   \n",
       "1        Beijing     39.54     115.79  02/17/2020      381.0     4.0   \n",
       "2      Chongqing     31.05     109.52  02/17/2020      553.0     5.0   \n",
       "3         Fujian     26.23     117.58  02/17/2020      290.0     0.0   \n",
       "4          Gansu     39.83      97.73  02/17/2020       91.0     2.0   \n",
       "\n",
       "   Recovered  \n",
       "0      280.0  \n",
       "1      114.0  \n",
       "2      225.0  \n",
       "3       90.0  \n",
       "4       58.0  "
      ]
     },
     "execution_count": 119,
     "metadata": {},
     "output_type": "execute_result"
    }
   ],
   "source": [
    "china_data_cor = pd.merge(china_coordinates, china_data, on = 'Province/State')\n",
    "china_data_cor.head()"
   ]
  },
  {
   "cell_type": "code",
   "execution_count": 120,
   "metadata": {},
   "outputs": [],
   "source": [
    "# china_data_cor.drop(['index'],axis=1,inplace=True)\n",
    "# china_data_cor.head()\n",
    "#"
   ]
  },
  {
   "cell_type": "code",
   "execution_count": 121,
   "metadata": {},
   "outputs": [
    {
     "data": {
      "text/html": [
       "<div style=\"width:100%;\"><div style=\"position:relative;width:100%;height:0;padding-bottom:60%;\"><iframe src=\"data:text/html;charset=utf-8;base64,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\" style=\"position:absolute;width:100%;height:100%;left:0;top:0;border:none !important;\" allowfullscreen webkitallowfullscreen mozallowfullscreen></iframe></div></div>"
      ],
      "text/plain": [
       "<folium.folium.Map at 0xf596955c88>"
      ]
     },
     "execution_count": 121,
     "metadata": {},
     "output_type": "execute_result"
    }
   ],
   "source": [
    "latitude = 39.91666667\n",
    "longitude = 116.383333\n",
    "\n",
    "# china_map = folium.Map(location=[latitude, longitude], zoom_start=12)\n",
    "\n",
    "china_map1 = folium.Map(location=[latitude, longitude], zoom_start=4,tiles='Stamen Toner')\n",
    "\n",
    "# _popup_conf = str(province) + '\\n(Confirmed='+str(filtered_data_last.loc[i, 'Confirmed']) + '\\nDeaths=' + str(death) + '\\nRecovered=' + str(recovered) + ')'\n",
    "\n",
    "for lat, lon, value, name in zip(china_data_cor['Latitude'], china_data_cor['Longitude'], china_data_cor['Confirmed'], china_data_cor['Province/State']):\n",
    "    folium.CircleMarker([lat, lon],\n",
    "                        radius=8,\n",
    "                        # popup = str(name) + 'Confirmed: ' + str(value),\n",
    "                        # popup = ('Province: ' + str(name).capitalize() + '<br>'\n",
    "                        # 'Confirmed: ' + str(value) + '<br>'),\n",
    "                        color='red',\n",
    "                        \n",
    "                        fill_color='yellow',\n",
    "                        fill_opacity=0.7 ).add_to(china_map1)\n",
    "    # folium.Map(titles='jj', attr=\"attribution\")    \n",
    "china_map1.save('confirmed_china_map.html')\n",
    "china_map1"
   ]
  },
  {
   "cell_type": "markdown",
   "metadata": {},
   "source": [
    "### 中国治愈地图"
   ]
  },
  {
   "cell_type": "code",
   "execution_count": 122,
   "metadata": {},
   "outputs": [
    {
     "data": {
      "text/html": [
       "<div style=\"width:100%;\"><div style=\"position:relative;width:100%;height:0;padding-bottom:60%;\"><iframe src=\"data:text/html;charset=utf-8;base64,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\" style=\"position:absolute;width:100%;height:100%;left:0;top:0;border:none !important;\" allowfullscreen webkitallowfullscreen mozallowfullscreen></iframe></div></div>"
      ],
      "text/plain": [
       "<folium.folium.Map at 0xf596955c88>"
      ]
     },
     "execution_count": 122,
     "metadata": {},
     "output_type": "execute_result"
    }
   ],
   "source": [
    "china_map2 = folium.Map(location=[latitude, longitude], zoom_start=4,tiles='Stamen Toner')\n",
    "\n",
    "for lat, lon, value, name in zip(china_data_cor['Latitude'], china_data_cor['Longitude'], china_data_cor['Recovered'], china_data_cor['Province/State']):\n",
    "    folium.CircleMarker([lat, lon],\n",
    "                        radius = 8,\n",
    "                        # popup = ('Province: ' + str(name).capitalize() + '<br>'\n",
    "                        # 'Confirmed: ' + str(value) + '<br>'),\n",
    "                        color='green',\n",
    "                        \n",
    "                        fill_color='green',\n",
    "                        fill_opacity=0.7 ).add_to(china_map1)\n",
    "    # folium.Map(titles='jj', attr=\"attribution\")    \n",
    "china_map1"
   ]
  },
  {
   "cell_type": "markdown",
   "metadata": {},
   "source": [
    "### 时间趋势"
   ]
  },
  {
   "cell_type": "code",
   "execution_count": 136,
   "metadata": {},
   "outputs": [],
   "source": [
    "china_map = china_data\n",
    "china_map['size'] = china_map['Confirmed'].pow(0.5)\n",
    "china_map['Date'] = pd.to_datetime(china_map['Date'])\n",
    "china_map['Date'] = china_map['Date'].dt.strftime('%m/%d/%Y')\n",
    "china_map.head()\n",
    "\n",
    "china_map = pd.merge(china_coordinates, china_data, on = 'Province/State')\n",
    "\n",
    "# china_map.info()"
   ]
  },
  {
   "cell_type": "code",
   "execution_count": 137,
   "metadata": {},
   "outputs": [],
   "source": [
    "# china_data"
   ]
  },
  {
   "cell_type": "code",
   "execution_count": 138,
   "metadata": {},
   "outputs": [
    {
     "data": {
      "application/vnd.plotly.v1+json": {
       "config": {
        "plotlyServerURL": "https://plot.ly"
       },
       "data": [
        {
         "customdata": [
          [
           1,
           0,
           0
          ],
          [
           14,
           0,
           0
          ],
          [
           6,
           0,
           0
          ],
          [
           1,
           0,
           0
          ],
          [
           0,
           0,
           0
          ],
          [
           26,
           0,
           0
          ],
          [
           2,
           0,
           0
          ],
          [
           1,
           0,
           0
          ],
          [
           4,
           0,
           0
          ],
          [
           1,
           0,
           0
          ],
          [
           0,
           0,
           0
          ],
          [
           5,
           0,
           0
          ],
          [
           444,
           0,
           0
          ],
          [
           4,
           0,
           0
          ],
          [
           1,
           0,
           0
          ],
          [
           2,
           0,
           0
          ],
          [
           0,
           0,
           0
          ],
          [
           2,
           0,
           0
          ],
          [
           0,
           0,
           0
          ],
          [
           0,
           0,
           0
          ],
          [
           2,
           0,
           0
          ],
          [
           9,
           0,
           0
          ],
          [
           5,
           0,
           0
          ],
          [
           4,
           0,
           0
          ],
          [
           1,
           0,
           0
          ],
          [
           10,
           0,
           0
          ],
          [
           0,
           0,
           0
          ],
          [
           0,
           0,
           0
          ],
          [
           1,
           0,
           0
          ],
          [
           1,
           0,
           0
          ]
         ],
         "geo": "geo",
         "hoverlabel": {
          "namelength": 0
         },
         "hovertemplate": "<b>%{hovertext}</b><br><br>Date=01/22/2020<br>size=%{marker.color}<br>Confirmed=%{customdata[0]}<br>Deaths=%{customdata[1]}<br>Recovered=%{customdata[2]}<br>Latitude=%{lat}<br>Longitude=%{lon}",
         "hovertext": [
          "Anhui",
          "Beijing",
          "Chongqing",
          "Fujian",
          "Gansu",
          "Guangdong",
          "Guangxi",
          "Guizhou",
          "Hainan",
          "Hebei",
          "Heilongjiang",
          "Henan",
          "Hubei",
          "Hunan",
          "Jiangsu",
          "Jiangxi",
          "Jilin",
          "Liaoning",
          "Inner Mongolia",
          "Shaanxi",
          "Shandong",
          "Shanghai",
          "Sichuan",
          "Tianjin",
          "Yunnan",
          "Zhejiang",
          "Tibet",
          "Hong Kong",
          "Macau",
          "Taiwan"
         ],
         "lat": [
          33.25,
          39.54,
          31.05,
          26.23,
          39.83,
          23.08,
          21.95,
          27.68,
          18.26,
          37.72,
          46.4,
          33.57,
          32.57,
          25.97,
          34.38,
          27.97,
          45.5,
          41.81,
          50.78,
          34.8,
          35.99,
          31.22,
          31.13,
          39.23,
          25.03,
          28.85,
          30.15,
          22.2,
          22.13,
          23.03
         ],
         "legendgroup": "",
         "lon": [
          115.35,
          115.79,
          109.52,
          117.58,
          97.73,
          114.4,
          108.62,
          109.13,
          109.5,
          115.7,
          125.32,
          114.03,
          110.78,
          113.4,
          118.35,
          116.36,
          124.3,
          120.76,
          121.52,
          109.94,
          119.38,
          121.44,
          104.4,
          117.78,
          98.47,
          121.12,
          88.78,
          114.08,
          113.33,
          121.5
         ],
         "marker": {
          "color": [
           1,
           3.7416573867739413,
           2.449489742783178,
           1,
           0,
           5.0990195135927845,
           1.4142135623730951,
           1,
           2,
           1,
           0,
           2.23606797749979,
           21.071307505705477,
           2,
           1,
           1.4142135623730951,
           0,
           1.4142135623730951,
           0,
           0,
           1.4142135623730951,
           3,
           2.23606797749979,
           2,
           1,
           3.1622776601683795,
           0,
           0,
           1,
           1
          ],
          "coloraxis": "coloraxis",
          "size": [
           1,
           3.7416573867739413,
           2.449489742783178,
           1,
           0,
           5.0990195135927845,
           1.4142135623730951,
           1,
           2,
           1,
           0,
           2.23606797749979,
           21.071307505705477,
           2,
           1,
           1.4142135623730951,
           0,
           1.4142135623730951,
           0,
           0,
           1.4142135623730951,
           3,
           2.23606797749979,
           2,
           1,
           3.1622776601683795,
           0,
           0,
           1,
           1
          ],
          "sizemode": "area",
          "sizeref": 0.612316298982805
         },
         "name": "",
         "showlegend": false,
         "type": "scattergeo"
        }
       ],
       "frames": [
        {
         "data": [
          {
           "customdata": [
            [
             1,
             0,
             0
            ],
            [
             14,
             0,
             0
            ],
            [
             6,
             0,
             0
            ],
            [
             1,
             0,
             0
            ],
            [
             0,
             0,
             0
            ],
            [
             26,
             0,
             0
            ],
            [
             2,
             0,
             0
            ],
            [
             1,
             0,
             0
            ],
            [
             4,
             0,
             0
            ],
            [
             1,
             0,
             0
            ],
            [
             0,
             0,
             0
            ],
            [
             5,
             0,
             0
            ],
            [
             444,
             0,
             0
            ],
            [
             4,
             0,
             0
            ],
            [
             1,
             0,
             0
            ],
            [
             2,
             0,
             0
            ],
            [
             0,
             0,
             0
            ],
            [
             2,
             0,
             0
            ],
            [
             0,
             0,
             0
            ],
            [
             0,
             0,
             0
            ],
            [
             2,
             0,
             0
            ],
            [
             9,
             0,
             0
            ],
            [
             5,
             0,
             0
            ],
            [
             4,
             0,
             0
            ],
            [
             1,
             0,
             0
            ],
            [
             10,
             0,
             0
            ],
            [
             0,
             0,
             0
            ],
            [
             0,
             0,
             0
            ],
            [
             1,
             0,
             0
            ],
            [
             1,
             0,
             0
            ]
           ],
           "geo": "geo",
           "hoverlabel": {
            "namelength": 0
           },
           "hovertemplate": "<b>%{hovertext}</b><br><br>Date=01/22/2020<br>size=%{marker.color}<br>Confirmed=%{customdata[0]}<br>Deaths=%{customdata[1]}<br>Recovered=%{customdata[2]}<br>Latitude=%{lat}<br>Longitude=%{lon}",
           "hovertext": [
            "Anhui",
            "Beijing",
            "Chongqing",
            "Fujian",
            "Gansu",
            "Guangdong",
            "Guangxi",
            "Guizhou",
            "Hainan",
            "Hebei",
            "Heilongjiang",
            "Henan",
            "Hubei",
            "Hunan",
            "Jiangsu",
            "Jiangxi",
            "Jilin",
            "Liaoning",
            "Inner Mongolia",
            "Shaanxi",
            "Shandong",
            "Shanghai",
            "Sichuan",
            "Tianjin",
            "Yunnan",
            "Zhejiang",
            "Tibet",
            "Hong Kong",
            "Macau",
            "Taiwan"
           ],
           "lat": [
            33.25,
            39.54,
            31.05,
            26.23,
            39.83,
            23.08,
            21.95,
            27.68,
            18.26,
            37.72,
            46.4,
            33.57,
            32.57,
            25.97,
            34.38,
            27.97,
            45.5,
            41.81,
            50.78,
            34.8,
            35.99,
            31.22,
            31.13,
            39.23,
            25.03,
            28.85,
            30.15,
            22.2,
            22.13,
            23.03
           ],
           "legendgroup": "",
           "lon": [
            115.35,
            115.79,
            109.52,
            117.58,
            97.73,
            114.4,
            108.62,
            109.13,
            109.5,
            115.7,
            125.32,
            114.03,
            110.78,
            113.4,
            118.35,
            116.36,
            124.3,
            120.76,
            121.52,
            109.94,
            119.38,
            121.44,
            104.4,
            117.78,
            98.47,
            121.12,
            88.78,
            114.08,
            113.33,
            121.5
           ],
           "marker": {
            "color": [
             1,
             3.7416573867739413,
             2.449489742783178,
             1,
             0,
             5.0990195135927845,
             1.4142135623730951,
             1,
             2,
             1,
             0,
             2.23606797749979,
             21.071307505705477,
             2,
             1,
             1.4142135623730951,
             0,
             1.4142135623730951,
             0,
             0,
             1.4142135623730951,
             3,
             2.23606797749979,
             2,
             1,
             3.1622776601683795,
             0,
             0,
             1,
             1
            ],
            "coloraxis": "coloraxis",
            "size": [
             1,
             3.7416573867739413,
             2.449489742783178,
             1,
             0,
             5.0990195135927845,
             1.4142135623730951,
             1,
             2,
             1,
             0,
             2.23606797749979,
             21.071307505705477,
             2,
             1,
             1.4142135623730951,
             0,
             1.4142135623730951,
             0,
             0,
             1.4142135623730951,
             3,
             2.23606797749979,
             2,
             1,
             3.1622776601683795,
             0,
             0,
             1,
             1
            ],
            "sizemode": "area",
            "sizeref": 0.612316298982805
           },
           "name": "",
           "showlegend": false,
           "type": "scattergeo"
          }
         ],
         "name": "01/22/2020"
        },
        {
         "data": [
          {
           "customdata": [
            [
             9,
             0,
             0
            ],
            [
             22,
             0,
             0
            ],
            [
             9,
             0,
             0
            ],
            [
             5,
             0,
             0
            ],
            [
             2,
             0,
             0
            ],
            [
             32,
             0,
             2
            ],
            [
             5,
             0,
             0
            ],
            [
             3,
             0,
             0
            ],
            [
             5,
             0,
             0
            ],
            [
             1,
             1,
             0
            ],
            [
             2,
             0,
             0
            ],
            [
             5,
             0,
             0
            ],
            [
             444,
             17,
             28
            ],
            [
             9,
             0,
             0
            ],
            [
             5,
             0,
             0
            ],
            [
             7,
             0,
             0
            ],
            [
             1,
             0,
             0
            ],
            [
             3,
             0,
             0
            ],
            [
             0,
             0,
             0
            ],
            [
             3,
             0,
             0
            ],
            [
             6,
             0,
             0
            ],
            [
             16,
             0,
             0
            ],
            [
             8,
             0,
             0
            ],
            [
             4,
             0,
             0
            ],
            [
             2,
             0,
             0
            ],
            [
             27,
             0,
             0
            ],
            [
             0,
             0,
             0
            ],
            [
             2,
             0,
             0
            ],
            [
             2,
             0,
             0
            ],
            [
             1,
             0,
             0
            ]
           ],
           "geo": "geo",
           "hoverlabel": {
            "namelength": 0
           },
           "hovertemplate": "<b>%{hovertext}</b><br><br>Date=01/23/2020<br>size=%{marker.color}<br>Confirmed=%{customdata[0]}<br>Deaths=%{customdata[1]}<br>Recovered=%{customdata[2]}<br>Latitude=%{lat}<br>Longitude=%{lon}",
           "hovertext": [
            "Anhui",
            "Beijing",
            "Chongqing",
            "Fujian",
            "Gansu",
            "Guangdong",
            "Guangxi",
            "Guizhou",
            "Hainan",
            "Hebei",
            "Heilongjiang",
            "Henan",
            "Hubei",
            "Hunan",
            "Jiangsu",
            "Jiangxi",
            "Jilin",
            "Liaoning",
            "Inner Mongolia",
            "Shaanxi",
            "Shandong",
            "Shanghai",
            "Sichuan",
            "Tianjin",
            "Yunnan",
            "Zhejiang",
            "Tibet",
            "Hong Kong",
            "Macau",
            "Taiwan"
           ],
           "lat": [
            33.25,
            39.54,
            31.05,
            26.23,
            39.83,
            23.08,
            21.95,
            27.68,
            18.26,
            37.72,
            46.4,
            33.57,
            32.57,
            25.97,
            34.38,
            27.97,
            45.5,
            41.81,
            50.78,
            34.8,
            35.99,
            31.22,
            31.13,
            39.23,
            25.03,
            28.85,
            30.15,
            22.2,
            22.13,
            23.03
           ],
           "legendgroup": "",
           "lon": [
            115.35,
            115.79,
            109.52,
            117.58,
            97.73,
            114.4,
            108.62,
            109.13,
            109.5,
            115.7,
            125.32,
            114.03,
            110.78,
            113.4,
            118.35,
            116.36,
            124.3,
            120.76,
            121.52,
            109.94,
            119.38,
            121.44,
            104.4,
            117.78,
            98.47,
            121.12,
            88.78,
            114.08,
            113.33,
            121.5
           ],
           "marker": {
            "color": [
             3,
             4.69041575982343,
             3,
             2.23606797749979,
             1.4142135623730951,
             5.656854249492381,
             2.23606797749979,
             1.7320508075688772,
             2.23606797749979,
             1,
             1.4142135623730951,
             2.23606797749979,
             21.071307505705477,
             3,
             2.23606797749979,
             2.6457513110645907,
             1,
             1.7320508075688772,
             0,
             1.7320508075688772,
             2.449489742783178,
             4,
             2.8284271247461903,
             2,
             1.4142135623730951,
             5.196152422706632,
             0,
             1.4142135623730951,
             1.4142135623730951,
             1
            ],
            "coloraxis": "coloraxis",
            "size": [
             3,
             4.69041575982343,
             3,
             2.23606797749979,
             1.4142135623730951,
             5.656854249492381,
             2.23606797749979,
             1.7320508075688772,
             2.23606797749979,
             1,
             1.4142135623730951,
             2.23606797749979,
             21.071307505705477,
             3,
             2.23606797749979,
             2.6457513110645907,
             1,
             1.7320508075688772,
             0,
             1.7320508075688772,
             2.449489742783178,
             4,
             2.8284271247461903,
             2,
             1.4142135623730951,
             5.196152422706632,
             0,
             1.4142135623730951,
             1.4142135623730951,
             1
            ],
            "sizemode": "area",
            "sizeref": 0.612316298982805
           },
           "name": "",
           "showlegend": false,
           "type": "scattergeo"
          }
         ],
         "name": "01/23/2020"
        },
        {
         "data": [
          {
           "customdata": [
            [
             15,
             0,
             0
            ],
            [
             36,
             0,
             1
            ],
            [
             27,
             0,
             0
            ],
            [
             10,
             0,
             0
            ],
            [
             2,
             0,
             0
            ],
            [
             53,
             0,
             2
            ],
            [
             23,
             0,
             0
            ],
            [
             3,
             0,
             0
            ],
            [
             8,
             0,
             0
            ],
            [
             2,
             1,
             0
            ],
            [
             4,
             1,
             0
            ],
            [
             9,
             0,
             0
            ],
            [
             549,
             24,
             31
            ],
            [
             24,
             0,
             0
            ],
            [
             9,
             0,
             0
            ],
            [
             18,
             0,
             0
            ],
            [
             3,
             0,
             0
            ],
            [
             4,
             0,
             0
            ],
            [
             1,
             0,
             0
            ],
            [
             5,
             0,
             0
            ],
            [
             15,
             0,
             0
            ],
            [
             20,
             0,
             1
            ],
            [
             15,
             0,
             0
            ],
            [
             8,
             0,
             0
            ],
            [
             5,
             0,
             0
            ],
            [
             43,
             0,
             1
            ],
            [
             2,
             0,
             0
            ],
            [
             2,
             0,
             0
            ],
            [
             3,
             0,
             0
            ]
           ],
           "geo": "geo",
           "hoverlabel": {
            "namelength": 0
           },
           "hovertemplate": "<b>%{hovertext}</b><br><br>Date=01/24/2020<br>size=%{marker.color}<br>Confirmed=%{customdata[0]}<br>Deaths=%{customdata[1]}<br>Recovered=%{customdata[2]}<br>Latitude=%{lat}<br>Longitude=%{lon}",
           "hovertext": [
            "Anhui",
            "Beijing",
            "Chongqing",
            "Fujian",
            "Gansu",
            "Guangdong",
            "Guangxi",
            "Guizhou",
            "Hainan",
            "Hebei",
            "Heilongjiang",
            "Henan",
            "Hubei",
            "Hunan",
            "Jiangsu",
            "Jiangxi",
            "Jilin",
            "Liaoning",
            "Inner Mongolia",
            "Shaanxi",
            "Shandong",
            "Shanghai",
            "Sichuan",
            "Tianjin",
            "Yunnan",
            "Zhejiang",
            "Hong Kong",
            "Macau",
            "Taiwan"
           ],
           "lat": [
            33.25,
            39.54,
            31.05,
            26.23,
            39.83,
            23.08,
            21.95,
            27.68,
            18.26,
            37.72,
            46.4,
            33.57,
            32.57,
            25.97,
            34.38,
            27.97,
            45.5,
            41.81,
            50.78,
            34.8,
            35.99,
            31.22,
            31.13,
            39.23,
            25.03,
            28.85,
            22.2,
            22.13,
            23.03
           ],
           "legendgroup": "",
           "lon": [
            115.35,
            115.79,
            109.52,
            117.58,
            97.73,
            114.4,
            108.62,
            109.13,
            109.5,
            115.7,
            125.32,
            114.03,
            110.78,
            113.4,
            118.35,
            116.36,
            124.3,
            120.76,
            121.52,
            109.94,
            119.38,
            121.44,
            104.4,
            117.78,
            98.47,
            121.12,
            114.08,
            113.33,
            121.5
           ],
           "marker": {
            "color": [
             3.872983346207417,
             6,
             5.196152422706632,
             3.1622776601683795,
             1.4142135623730951,
             7.280109889280518,
             4.795831523312719,
             1.7320508075688772,
             2.8284271247461903,
             1.4142135623730951,
             2,
             3,
             23.430749027719962,
             4.898979485566356,
             3,
             4.242640687119285,
             1.7320508075688772,
             2,
             1,
             2.23606797749979,
             3.872983346207417,
             4.47213595499958,
             3.872983346207417,
             2.8284271247461903,
             2.23606797749979,
             6.557438524302,
             1.4142135623730951,
             1.4142135623730951,
             1.7320508075688772
            ],
            "coloraxis": "coloraxis",
            "size": [
             3.872983346207417,
             6,
             5.196152422706632,
             3.1622776601683795,
             1.4142135623730951,
             7.280109889280518,
             4.795831523312719,
             1.7320508075688772,
             2.8284271247461903,
             1.4142135623730951,
             2,
             3,
             23.430749027719962,
             4.898979485566356,
             3,
             4.242640687119285,
             1.7320508075688772,
             2,
             1,
             2.23606797749979,
             3.872983346207417,
             4.47213595499958,
             3.872983346207417,
             2.8284271247461903,
             2.23606797749979,
             6.557438524302,
             1.4142135623730951,
             1.4142135623730951,
             1.7320508075688772
            ],
            "sizemode": "area",
            "sizeref": 0.612316298982805
           },
           "name": "",
           "showlegend": false,
           "type": "scattergeo"
          }
         ],
         "name": "01/24/2020"
        },
        {
         "data": [
          {
           "customdata": [
            [
             60,
             0,
             0
            ],
            [
             51,
             0,
             2
            ],
            [
             75,
             0,
             0
            ],
            [
             18,
             1,
             0
            ],
            [
             7,
             0,
             0
            ],
            [
             98,
             0,
             2
            ],
            [
             33,
             0,
             0
            ],
            [
             5,
             0,
             0
            ],
            [
             19,
             0,
             0
            ],
            [
             13,
             1,
             0
            ],
            [
             15,
             0,
             0
            ],
            [
             83,
             1,
             0
            ],
            [
             1052,
             52,
             42
            ],
            [
             69,
             0,
             0
            ],
            [
             31,
             0,
             1
            ],
            [
             36,
             0,
             0
            ],
            [
             4,
             0,
             0
            ],
            [
             19,
             0,
             0
            ],
            [
             7,
             0,
             0
            ],
            [
             15,
             0,
             0
            ],
            [
             39,
             0,
             0
            ],
            [
             40,
             1,
             1
            ],
            [
             44,
             0,
             0
            ],
            [
             13,
             0,
             0
            ],
            [
             11,
             0,
             0
            ],
            [
             104,
             0,
             1
            ],
            [
             5,
             0,
             0
            ],
            [
             2,
             0,
             0
            ],
            [
             3,
             0,
             0
            ]
           ],
           "geo": "geo",
           "hoverlabel": {
            "namelength": 0
           },
           "hovertemplate": "<b>%{hovertext}</b><br><br>Date=01/25/2020<br>size=%{marker.color}<br>Confirmed=%{customdata[0]}<br>Deaths=%{customdata[1]}<br>Recovered=%{customdata[2]}<br>Latitude=%{lat}<br>Longitude=%{lon}",
           "hovertext": [
            "Anhui",
            "Beijing",
            "Chongqing",
            "Fujian",
            "Gansu",
            "Guangdong",
            "Guangxi",
            "Guizhou",
            "Hainan",
            "Hebei",
            "Heilongjiang",
            "Henan",
            "Hubei",
            "Hunan",
            "Jiangsu",
            "Jiangxi",
            "Jilin",
            "Liaoning",
            "Inner Mongolia",
            "Shaanxi",
            "Shandong",
            "Shanghai",
            "Sichuan",
            "Tianjin",
            "Yunnan",
            "Zhejiang",
            "Hong Kong",
            "Macau",
            "Taiwan"
           ],
           "lat": [
            33.25,
            39.54,
            31.05,
            26.23,
            39.83,
            23.08,
            21.95,
            27.68,
            18.26,
            37.72,
            46.4,
            33.57,
            32.57,
            25.97,
            34.38,
            27.97,
            45.5,
            41.81,
            50.78,
            34.8,
            35.99,
            31.22,
            31.13,
            39.23,
            25.03,
            28.85,
            22.2,
            22.13,
            23.03
           ],
           "legendgroup": "",
           "lon": [
            115.35,
            115.79,
            109.52,
            117.58,
            97.73,
            114.4,
            108.62,
            109.13,
            109.5,
            115.7,
            125.32,
            114.03,
            110.78,
            113.4,
            118.35,
            116.36,
            124.3,
            120.76,
            121.52,
            109.94,
            119.38,
            121.44,
            104.4,
            117.78,
            98.47,
            121.12,
            114.08,
            113.33,
            121.5
           ],
           "marker": {
            "color": [
             7.745966692414834,
             7.14142842854285,
             8.660254037844387,
             4.242640687119285,
             2.6457513110645907,
             9.899494936611665,
             5.744562646538029,
             2.23606797749979,
             4.358898943540674,
             3.605551275463989,
             3.872983346207417,
             9.1104335791443,
             32.43454948045371,
             8.306623862918075,
             5.5677643628300215,
             6,
             2,
             4.358898943540674,
             2.6457513110645907,
             3.872983346207417,
             6.244997998398398,
             6.324555320336759,
             6.6332495807108,
             3.605551275463989,
             3.3166247903554,
             10.198039027185569,
             2.23606797749979,
             1.4142135623730951,
             1.7320508075688772
            ],
            "coloraxis": "coloraxis",
            "size": [
             7.745966692414834,
             7.14142842854285,
             8.660254037844387,
             4.242640687119285,
             2.6457513110645907,
             9.899494936611665,
             5.744562646538029,
             2.23606797749979,
             4.358898943540674,
             3.605551275463989,
             3.872983346207417,
             9.1104335791443,
             32.43454948045371,
             8.306623862918075,
             5.5677643628300215,
             6,
             2,
             4.358898943540674,
             2.6457513110645907,
             3.872983346207417,
             6.244997998398398,
             6.324555320336759,
             6.6332495807108,
             3.605551275463989,
             3.3166247903554,
             10.198039027185569,
             2.23606797749979,
             1.4142135623730951,
             1.7320508075688772
            ],
            "sizemode": "area",
            "sizeref": 0.612316298982805
           },
           "name": "",
           "showlegend": false,
           "type": "scattergeo"
          }
         ],
         "name": "01/25/2020"
        },
        {
         "data": [
          {
           "customdata": [
            [
             70,
             0,
             0
            ],
            [
             68,
             0,
             2
            ],
            [
             110,
             0,
             0
            ],
            [
             35,
             0,
             0
            ],
            [
             14,
             0,
             0
            ],
            [
             146,
             0,
             2
            ],
            [
             46,
             0,
             0
            ],
            [
             7,
             0,
             0
            ],
            [
             22,
             0,
             0
            ],
            [
             18,
             1,
             0
            ],
            [
             21,
             1,
             0
            ],
            [
             128,
             1,
             0
            ],
            [
             1423,
             76,
             44
            ],
            [
             100,
             0,
             0
            ],
            [
             47,
             0,
             1
            ],
            [
             48,
             0,
             0
            ],
            [
             6,
             0,
             0
            ],
            [
             23,
             0,
             0
            ],
            [
             11,
             0,
             0
            ],
            [
             22,
             0,
             0
            ],
            [
             63,
             0,
             0
            ],
            [
             53,
             1,
             1
            ],
            [
             69,
             0,
             0
            ],
            [
             14,
             0,
             0
            ],
            [
             19,
             0,
             0
            ],
            [
             128,
             0,
             1
            ],
            [
             8,
             0,
             0
            ],
            [
             6,
             0,
             0
            ],
            [
             4,
             0,
             0
            ]
           ],
           "geo": "geo",
           "hoverlabel": {
            "namelength": 0
           },
           "hovertemplate": "<b>%{hovertext}</b><br><br>Date=01/26/2020<br>size=%{marker.color}<br>Confirmed=%{customdata[0]}<br>Deaths=%{customdata[1]}<br>Recovered=%{customdata[2]}<br>Latitude=%{lat}<br>Longitude=%{lon}",
           "hovertext": [
            "Anhui",
            "Beijing",
            "Chongqing",
            "Fujian",
            "Gansu",
            "Guangdong",
            "Guangxi",
            "Guizhou",
            "Hainan",
            "Hebei",
            "Heilongjiang",
            "Henan",
            "Hubei",
            "Hunan",
            "Jiangsu",
            "Jiangxi",
            "Jilin",
            "Liaoning",
            "Inner Mongolia",
            "Shaanxi",
            "Shandong",
            "Shanghai",
            "Sichuan",
            "Tianjin",
            "Yunnan",
            "Zhejiang",
            "Hong Kong",
            "Macau",
            "Taiwan"
           ],
           "lat": [
            33.25,
            39.54,
            31.05,
            26.23,
            39.83,
            23.08,
            21.95,
            27.68,
            18.26,
            37.72,
            46.4,
            33.57,
            32.57,
            25.97,
            34.38,
            27.97,
            45.5,
            41.81,
            50.78,
            34.8,
            35.99,
            31.22,
            31.13,
            39.23,
            25.03,
            28.85,
            22.2,
            22.13,
            23.03
           ],
           "legendgroup": "",
           "lon": [
            115.35,
            115.79,
            109.52,
            117.58,
            97.73,
            114.4,
            108.62,
            109.13,
            109.5,
            115.7,
            125.32,
            114.03,
            110.78,
            113.4,
            118.35,
            116.36,
            124.3,
            120.76,
            121.52,
            109.94,
            119.38,
            121.44,
            104.4,
            117.78,
            98.47,
            121.12,
            114.08,
            113.33,
            121.5
           ],
           "marker": {
            "color": [
             8.366600265340756,
             8.246211251235321,
             10.488088481701515,
             5.916079783099616,
             3.7416573867739413,
             12.083045973594572,
             6.782329983125268,
             2.6457513110645907,
             4.69041575982343,
             4.242640687119285,
             4.58257569495584,
             11.313708498984761,
             37.72267222772003,
             10,
             6.855654600401044,
             6.928203230275509,
             2.449489742783178,
             4.795831523312719,
             3.3166247903554,
             4.69041575982343,
             7.937253933193772,
             7.280109889280518,
             8.306623862918075,
             3.7416573867739413,
             4.358898943540674,
             11.313708498984761,
             2.8284271247461903,
             2.449489742783178,
             2
            ],
            "coloraxis": "coloraxis",
            "size": [
             8.366600265340756,
             8.246211251235321,
             10.488088481701515,
             5.916079783099616,
             3.7416573867739413,
             12.083045973594572,
             6.782329983125268,
             2.6457513110645907,
             4.69041575982343,
             4.242640687119285,
             4.58257569495584,
             11.313708498984761,
             37.72267222772003,
             10,
             6.855654600401044,
             6.928203230275509,
             2.449489742783178,
             4.795831523312719,
             3.3166247903554,
             4.69041575982343,
             7.937253933193772,
             7.280109889280518,
             8.306623862918075,
             3.7416573867739413,
             4.358898943540674,
             11.313708498984761,
             2.8284271247461903,
             2.449489742783178,
             2
            ],
            "sizemode": "area",
            "sizeref": 0.612316298982805
           },
           "name": "",
           "showlegend": false,
           "type": "scattergeo"
          }
         ],
         "name": "01/26/2020"
        },
        {
         "data": [
          {
           "customdata": [
            [
             106,
             0,
             0
            ],
            [
             80,
             1,
             2
            ],
            [
             132,
             0,
             0
            ],
            [
             59,
             0,
             0
            ],
            [
             19,
             0,
             0
            ],
            [
             151,
             0,
             4
            ],
            [
             51,
             0,
             0
            ],
            [
             9,
             0,
             0
            ],
            [
             33,
             1,
             0
            ],
            [
             33,
             1,
             0
            ],
            [
             30,
             1,
             0
            ],
            [
             168,
             1,
             0
            ],
            [
             2714,
             100,
             47
            ],
            [
             100,
             0,
             0
            ],
            [
             70,
             0,
             1
            ],
            [
             72,
             0,
             2
            ],
            [
             6,
             0,
             0
            ],
            [
             27,
             0,
             0
            ],
            [
             11,
             0,
             0
            ],
            [
             35,
             0,
             0
            ],
            [
             87,
             1,
             0
            ],
            [
             66,
             1,
             3
            ],
            [
             90,
             0,
             0
            ],
            [
             23,
             0,
             0
            ],
            [
             26,
             0,
             0
            ],
            [
             173,
             0,
             1
            ],
            [
             8,
             0,
             0
            ],
            [
             6,
             0,
             0
            ],
            [
             5,
             0,
             0
            ]
           ],
           "geo": "geo",
           "hoverlabel": {
            "namelength": 0
           },
           "hovertemplate": "<b>%{hovertext}</b><br><br>Date=01/27/2020<br>size=%{marker.color}<br>Confirmed=%{customdata[0]}<br>Deaths=%{customdata[1]}<br>Recovered=%{customdata[2]}<br>Latitude=%{lat}<br>Longitude=%{lon}",
           "hovertext": [
            "Anhui",
            "Beijing",
            "Chongqing",
            "Fujian",
            "Gansu",
            "Guangdong",
            "Guangxi",
            "Guizhou",
            "Hainan",
            "Hebei",
            "Heilongjiang",
            "Henan",
            "Hubei",
            "Hunan",
            "Jiangsu",
            "Jiangxi",
            "Jilin",
            "Liaoning",
            "Inner Mongolia",
            "Shaanxi",
            "Shandong",
            "Shanghai",
            "Sichuan",
            "Tianjin",
            "Yunnan",
            "Zhejiang",
            "Hong Kong",
            "Macau",
            "Taiwan"
           ],
           "lat": [
            33.25,
            39.54,
            31.05,
            26.23,
            39.83,
            23.08,
            21.95,
            27.68,
            18.26,
            37.72,
            46.4,
            33.57,
            32.57,
            25.97,
            34.38,
            27.97,
            45.5,
            41.81,
            50.78,
            34.8,
            35.99,
            31.22,
            31.13,
            39.23,
            25.03,
            28.85,
            22.2,
            22.13,
            23.03
           ],
           "legendgroup": "",
           "lon": [
            115.35,
            115.79,
            109.52,
            117.58,
            97.73,
            114.4,
            108.62,
            109.13,
            109.5,
            115.7,
            125.32,
            114.03,
            110.78,
            113.4,
            118.35,
            116.36,
            124.3,
            120.76,
            121.52,
            109.94,
            119.38,
            121.44,
            104.4,
            117.78,
            98.47,
            121.12,
            114.08,
            113.33,
            121.5
           ],
           "marker": {
            "color": [
             10.295630140987,
             8.94427190999916,
             11.489125293076057,
             7.681145747868608,
             4.358898943540674,
             12.288205727444508,
             7.14142842854285,
             3,
             5.744562646538029,
             5.744562646538029,
             5.477225575051661,
             12.96148139681572,
             52.09606511052442,
             10,
             8.366600265340756,
             8.48528137423857,
             2.449489742783178,
             5.196152422706632,
             3.3166247903554,
             5.916079783099616,
             9.327379053088816,
             8.12403840463596,
             9.486832980505138,
             4.795831523312719,
             5.0990195135927845,
             13.152946437965905,
             2.8284271247461903,
             2.449489742783178,
             2.23606797749979
            ],
            "coloraxis": "coloraxis",
            "size": [
             10.295630140987,
             8.94427190999916,
             11.489125293076057,
             7.681145747868608,
             4.358898943540674,
             12.288205727444508,
             7.14142842854285,
             3,
             5.744562646538029,
             5.744562646538029,
             5.477225575051661,
             12.96148139681572,
             52.09606511052442,
             10,
             8.366600265340756,
             8.48528137423857,
             2.449489742783178,
             5.196152422706632,
             3.3166247903554,
             5.916079783099616,
             9.327379053088816,
             8.12403840463596,
             9.486832980505138,
             4.795831523312719,
             5.0990195135927845,
             13.152946437965905,
             2.8284271247461903,
             2.449489742783178,
             2.23606797749979
            ],
            "sizemode": "area",
            "sizeref": 0.612316298982805
           },
           "name": "",
           "showlegend": false,
           "type": "scattergeo"
          }
         ],
         "name": "01/27/2020"
        },
        {
         "data": [
          {
           "customdata": [
            [
             152,
             0,
             0
            ],
            [
             91,
             1,
             4
            ],
            [
             147,
             0,
             1
            ],
            [
             82,
             0,
             0
            ],
            [
             24,
             0,
             0
            ],
            [
             241,
             0,
             5
            ],
            [
             58,
             0,
             2
            ],
            [
             9,
             0,
             0
            ],
            [
             43,
             1,
             0
            ],
            [
             48,
             1,
             0
            ],
            [
             37,
             1,
             0
            ],
            [
             206,
             2,
             1
            ],
            [
             3554,
             125,
             80
            ],
            [
             221,
             0,
             0
            ],
            [
             99,
             0,
             1
            ],
            [
             109,
             0,
             3
            ],
            [
             9,
             0,
             0
            ],
            [
             36,
             0,
             0
            ],
            [
             16,
             0,
             0
            ],
            [
             56,
             0,
             0
            ],
            [
             121,
             0,
             0
            ],
            [
             80,
             1,
             4
            ],
            [
             108,
             0,
             0
            ],
            [
             25,
             0,
             0
            ],
            [
             44,
             0,
             0
            ],
            [
             296,
             0,
             3
            ],
            [
             8,
             0,
             0
            ],
            [
             7,
             0,
             0
            ],
            [
             8,
             0,
             0
            ]
           ],
           "geo": "geo",
           "hoverlabel": {
            "namelength": 0
           },
           "hovertemplate": "<b>%{hovertext}</b><br><br>Date=01/28/2020<br>size=%{marker.color}<br>Confirmed=%{customdata[0]}<br>Deaths=%{customdata[1]}<br>Recovered=%{customdata[2]}<br>Latitude=%{lat}<br>Longitude=%{lon}",
           "hovertext": [
            "Anhui",
            "Beijing",
            "Chongqing",
            "Fujian",
            "Gansu",
            "Guangdong",
            "Guangxi",
            "Guizhou",
            "Hainan",
            "Hebei",
            "Heilongjiang",
            "Henan",
            "Hubei",
            "Hunan",
            "Jiangsu",
            "Jiangxi",
            "Jilin",
            "Liaoning",
            "Inner Mongolia",
            "Shaanxi",
            "Shandong",
            "Shanghai",
            "Sichuan",
            "Tianjin",
            "Yunnan",
            "Zhejiang",
            "Hong Kong",
            "Macau",
            "Taiwan"
           ],
           "lat": [
            33.25,
            39.54,
            31.05,
            26.23,
            39.83,
            23.08,
            21.95,
            27.68,
            18.26,
            37.72,
            46.4,
            33.57,
            32.57,
            25.97,
            34.38,
            27.97,
            45.5,
            41.81,
            50.78,
            34.8,
            35.99,
            31.22,
            31.13,
            39.23,
            25.03,
            28.85,
            22.2,
            22.13,
            23.03
           ],
           "legendgroup": "",
           "lon": [
            115.35,
            115.79,
            109.52,
            117.58,
            97.73,
            114.4,
            108.62,
            109.13,
            109.5,
            115.7,
            125.32,
            114.03,
            110.78,
            113.4,
            118.35,
            116.36,
            124.3,
            120.76,
            121.52,
            109.94,
            119.38,
            121.44,
            104.4,
            117.78,
            98.47,
            121.12,
            114.08,
            113.33,
            121.5
           ],
           "marker": {
            "color": [
             12.328828005937952,
             9.539392014169456,
             12.12435565298214,
             9.055385138137417,
             4.898979485566356,
             15.524174696260024,
             7.615773105863909,
             3,
             6.557438524302,
             6.928203230275509,
             6.082762530298219,
             14.352700094407323,
             59.61543424315552,
             14.866068747318506,
             9.9498743710662,
             10.44030650891055,
             3,
             6,
             4,
             7.483314773547883,
             11,
             8.94427190999916,
             10.392304845413264,
             5,
             6.6332495807108,
             17.204650534085253,
             2.8284271247461903,
             2.6457513110645907,
             2.8284271247461903
            ],
            "coloraxis": "coloraxis",
            "size": [
             12.328828005937952,
             9.539392014169456,
             12.12435565298214,
             9.055385138137417,
             4.898979485566356,
             15.524174696260024,
             7.615773105863909,
             3,
             6.557438524302,
             6.928203230275509,
             6.082762530298219,
             14.352700094407323,
             59.61543424315552,
             14.866068747318506,
             9.9498743710662,
             10.44030650891055,
             3,
             6,
             4,
             7.483314773547883,
             11,
             8.94427190999916,
             10.392304845413264,
             5,
             6.6332495807108,
             17.204650534085253,
             2.8284271247461903,
             2.6457513110645907,
             2.8284271247461903
            ],
            "sizemode": "area",
            "sizeref": 0.612316298982805
           },
           "name": "",
           "showlegend": false,
           "type": "scattergeo"
          }
         ],
         "name": "01/28/2020"
        },
        {
         "data": [
          {
           "customdata": [
            [
             200,
             0,
             2
            ],
            [
             111,
             1,
             4
            ],
            [
             165,
             0,
             1
            ],
            [
             101,
             0,
             0
            ],
            [
             26,
             0,
             0
            ],
            [
             311,
             0,
             6
            ],
            [
             78,
             0,
             2
            ],
            [
             12,
             0,
             1
            ],
            [
             43,
             1,
             0
            ],
            [
             65,
             1,
             0
            ],
            [
             43,
             1,
             0
            ],
            [
             278,
             2,
             2
            ],
            [
             4586,
             162,
             90
            ],
            [
             277,
             0,
             0
            ],
            [
             129,
             0,
             1
            ],
            [
             162,
             0,
             4
            ],
            [
             14,
             0,
             1
            ],
            [
             39,
             0,
             1
            ],
            [
             16,
             0,
             0
            ],
            [
             56,
             0,
             0
            ],
            [
             145,
             0,
             1
            ],
            [
             101,
             1,
             5
            ],
            [
             142,
             1,
             1
            ],
            [
             27,
             0,
             0
            ],
            [
             55,
             0,
             0
            ],
            [
             428,
             0,
             4
            ],
            [
             1,
             0,
             0
            ],
            [
             10,
             0,
             0
            ],
            [
             7,
             0,
             0
            ],
            [
             8,
             0,
             0
            ]
           ],
           "geo": "geo",
           "hoverlabel": {
            "namelength": 0
           },
           "hovertemplate": "<b>%{hovertext}</b><br><br>Date=01/29/2020<br>size=%{marker.color}<br>Confirmed=%{customdata[0]}<br>Deaths=%{customdata[1]}<br>Recovered=%{customdata[2]}<br>Latitude=%{lat}<br>Longitude=%{lon}",
           "hovertext": [
            "Anhui",
            "Beijing",
            "Chongqing",
            "Fujian",
            "Gansu",
            "Guangdong",
            "Guangxi",
            "Guizhou",
            "Hainan",
            "Hebei",
            "Heilongjiang",
            "Henan",
            "Hubei",
            "Hunan",
            "Jiangsu",
            "Jiangxi",
            "Jilin",
            "Liaoning",
            "Inner Mongolia",
            "Shaanxi",
            "Shandong",
            "Shanghai",
            "Sichuan",
            "Tianjin",
            "Yunnan",
            "Zhejiang",
            "Tibet",
            "Hong Kong",
            "Macau",
            "Taiwan"
           ],
           "lat": [
            33.25,
            39.54,
            31.05,
            26.23,
            39.83,
            23.08,
            21.95,
            27.68,
            18.26,
            37.72,
            46.4,
            33.57,
            32.57,
            25.97,
            34.38,
            27.97,
            45.5,
            41.81,
            50.78,
            34.8,
            35.99,
            31.22,
            31.13,
            39.23,
            25.03,
            28.85,
            30.15,
            22.2,
            22.13,
            23.03
           ],
           "legendgroup": "",
           "lon": [
            115.35,
            115.79,
            109.52,
            117.58,
            97.73,
            114.4,
            108.62,
            109.13,
            109.5,
            115.7,
            125.32,
            114.03,
            110.78,
            113.4,
            118.35,
            116.36,
            124.3,
            120.76,
            121.52,
            109.94,
            119.38,
            121.44,
            104.4,
            117.78,
            98.47,
            121.12,
            88.78,
            114.08,
            113.33,
            121.5
           ],
           "marker": {
            "color": [
             14.142135623730951,
             10.535653752852738,
             12.84523257866513,
             10.04987562112089,
             5.0990195135927845,
             17.635192088548397,
             8.831760866327848,
             3.4641016151377544,
             6.557438524302,
             8.06225774829855,
             6.557438524302,
             16.673332000533065,
             67.72001181334805,
             16.64331697709324,
             11.357816691600547,
             12.727922061357855,
             3.7416573867739413,
             6.244997998398398,
             4,
             7.483314773547883,
             12.041594578792296,
             10.04987562112089,
             11.916375287812984,
             5.196152422706632,
             7.416198487095663,
             20.688160865577203,
             1,
             3.1622776601683795,
             2.6457513110645907,
             2.8284271247461903
            ],
            "coloraxis": "coloraxis",
            "size": [
             14.142135623730951,
             10.535653752852738,
             12.84523257866513,
             10.04987562112089,
             5.0990195135927845,
             17.635192088548397,
             8.831760866327848,
             3.4641016151377544,
             6.557438524302,
             8.06225774829855,
             6.557438524302,
             16.673332000533065,
             67.72001181334805,
             16.64331697709324,
             11.357816691600547,
             12.727922061357855,
             3.7416573867739413,
             6.244997998398398,
             4,
             7.483314773547883,
             12.041594578792296,
             10.04987562112089,
             11.916375287812984,
             5.196152422706632,
             7.416198487095663,
             20.688160865577203,
             1,
             3.1622776601683795,
             2.6457513110645907,
             2.8284271247461903
            ],
            "sizemode": "area",
            "sizeref": 0.612316298982805
           },
           "name": "",
           "showlegend": false,
           "type": "scattergeo"
          }
         ],
         "name": "01/29/2020"
        },
        {
         "data": [
          {
           "customdata": [
            [
             237,
             0,
             3
            ],
            [
             121,
             1,
             5
            ],
            [
             206,
             0,
             1
            ],
            [
             101,
             0,
             0
            ],
            [
             29,
             0,
             0
            ],
            [
             393,
             0,
             11
            ],
            [
             87,
             0,
             2
            ],
            [
             15,
             0,
             1
            ],
            [
             50,
             1,
             1
            ],
            [
             82,
             1,
             0
            ],
            [
             59,
             2,
             0
            ],
            [
             352,
             2,
             3
            ],
            [
             5806,
             204,
             116
            ],
            [
             332,
             0,
             2
            ],
            [
             168,
             0,
             2
            ],
            [
             240,
             0,
             7
            ],
            [
             14,
             0,
             1
            ],
            [
             45,
             0,
             1
            ],
            [
             20,
             0,
             0
            ],
            [
             87,
             0,
             0
            ],
            [
             178,
             0,
             2
            ],
            [
             128,
             1,
             9
            ],
            [
             177,
             1,
             1
            ],
            [
             32,
             0,
             0
            ],
            [
             76,
             0,
             0
            ],
            [
             537,
             0,
             9
            ],
            [
             1,
             0,
             0
            ],
            [
             12,
             0,
             0
            ],
            [
             7,
             0,
             0
            ],
            [
             9,
             0,
             0
            ]
           ],
           "geo": "geo",
           "hoverlabel": {
            "namelength": 0
           },
           "hovertemplate": "<b>%{hovertext}</b><br><br>Date=01/30/2020<br>size=%{marker.color}<br>Confirmed=%{customdata[0]}<br>Deaths=%{customdata[1]}<br>Recovered=%{customdata[2]}<br>Latitude=%{lat}<br>Longitude=%{lon}",
           "hovertext": [
            "Anhui",
            "Beijing",
            "Chongqing",
            "Fujian",
            "Gansu",
            "Guangdong",
            "Guangxi",
            "Guizhou",
            "Hainan",
            "Hebei",
            "Heilongjiang",
            "Henan",
            "Hubei",
            "Hunan",
            "Jiangsu",
            "Jiangxi",
            "Jilin",
            "Liaoning",
            "Inner Mongolia",
            "Shaanxi",
            "Shandong",
            "Shanghai",
            "Sichuan",
            "Tianjin",
            "Yunnan",
            "Zhejiang",
            "Tibet",
            "Hong Kong",
            "Macau",
            "Taiwan"
           ],
           "lat": [
            33.25,
            39.54,
            31.05,
            26.23,
            39.83,
            23.08,
            21.95,
            27.68,
            18.26,
            37.72,
            46.4,
            33.57,
            32.57,
            25.97,
            34.38,
            27.97,
            45.5,
            41.81,
            50.78,
            34.8,
            35.99,
            31.22,
            31.13,
            39.23,
            25.03,
            28.85,
            30.15,
            22.2,
            22.13,
            23.03
           ],
           "legendgroup": "",
           "lon": [
            115.35,
            115.79,
            109.52,
            117.58,
            97.73,
            114.4,
            108.62,
            109.13,
            109.5,
            115.7,
            125.32,
            114.03,
            110.78,
            113.4,
            118.35,
            116.36,
            124.3,
            120.76,
            121.52,
            109.94,
            119.38,
            121.44,
            104.4,
            117.78,
            98.47,
            121.12,
            88.78,
            114.08,
            113.33,
            121.5
           ],
           "marker": {
            "color": [
             15.394804318340652,
             11,
             14.352700094407323,
             10.04987562112089,
             5.385164807134504,
             19.82422760159901,
             9.327379053088816,
             3.872983346207417,
             7.0710678118654755,
             9.055385138137417,
             7.681145747868608,
             18.76166303929372,
             76.19711280619497,
             18.2208671582886,
             12.96148139681572,
             15.491933384829668,
             3.7416573867739413,
             6.708203932499369,
             4.47213595499958,
             9.327379053088816,
             13.341664064126334,
             11.313708498984761,
             13.30413469565007,
             5.656854249492381,
             8.717797887081348,
             23.173260452512935,
             1,
             3.4641016151377544,
             2.6457513110645907,
             3
            ],
            "coloraxis": "coloraxis",
            "size": [
             15.394804318340652,
             11,
             14.352700094407323,
             10.04987562112089,
             5.385164807134504,
             19.82422760159901,
             9.327379053088816,
             3.872983346207417,
             7.0710678118654755,
             9.055385138137417,
             7.681145747868608,
             18.76166303929372,
             76.19711280619497,
             18.2208671582886,
             12.96148139681572,
             15.491933384829668,
             3.7416573867739413,
             6.708203932499369,
             4.47213595499958,
             9.327379053088816,
             13.341664064126334,
             11.313708498984761,
             13.30413469565007,
             5.656854249492381,
             8.717797887081348,
             23.173260452512935,
             1,
             3.4641016151377544,
             2.6457513110645907,
             3
            ],
            "sizemode": "area",
            "sizeref": 0.612316298982805
           },
           "name": "",
           "showlegend": false,
           "type": "scattergeo"
          }
         ],
         "name": "01/30/2020"
        },
        {
         "data": [
          {
           "customdata": [
            [
             237,
             0,
             3
            ],
            [
             139,
             1,
             5
            ],
            [
             238,
             1,
             1
            ],
            [
             120,
             0,
             0
            ],
            [
             35,
             0,
             0
            ],
            [
             436,
             0,
             10
            ],
            [
             88,
             0,
             2
            ],
            [
             29,
             0,
             2
            ],
            [
             58,
             1,
             1
            ],
            [
             96,
             1,
             0
            ],
            [
             59,
             2,
             0
            ],
            [
             352,
             2,
             3
            ],
            [
             7153,
             249,
             169
            ],
            [
             332,
             0,
             3
            ],
            [
             168,
             0,
             5
            ],
            [
             240,
             0,
             7
            ],
            [
             14,
             0,
             1
            ],
            [
             60,
             0,
             1
            ],
            [
             20,
             0,
             0
            ],
            [
             87,
             0,
             0
            ],
            [
             184,
             0,
             2
            ],
            [
             153,
             1,
             9
            ],
            [
             177,
             1,
             1
            ],
            [
             32,
             0,
             0
            ],
            [
             83,
             0,
             1
            ],
            [
             537,
             0,
             14
            ],
            [
             1,
             0,
             0
            ],
            [
             13,
             0,
             0
            ],
            [
             7,
             0,
             0
            ],
            [
             10,
             0,
             0
            ]
           ],
           "geo": "geo",
           "hoverlabel": {
            "namelength": 0
           },
           "hovertemplate": "<b>%{hovertext}</b><br><br>Date=01/31/2020<br>size=%{marker.color}<br>Confirmed=%{customdata[0]}<br>Deaths=%{customdata[1]}<br>Recovered=%{customdata[2]}<br>Latitude=%{lat}<br>Longitude=%{lon}",
           "hovertext": [
            "Anhui",
            "Beijing",
            "Chongqing",
            "Fujian",
            "Gansu",
            "Guangdong",
            "Guangxi",
            "Guizhou",
            "Hainan",
            "Hebei",
            "Heilongjiang",
            "Henan",
            "Hubei",
            "Hunan",
            "Jiangsu",
            "Jiangxi",
            "Jilin",
            "Liaoning",
            "Inner Mongolia",
            "Shaanxi",
            "Shandong",
            "Shanghai",
            "Sichuan",
            "Tianjin",
            "Yunnan",
            "Zhejiang",
            "Tibet",
            "Hong Kong",
            "Macau",
            "Taiwan"
           ],
           "lat": [
            33.25,
            39.54,
            31.05,
            26.23,
            39.83,
            23.08,
            21.95,
            27.68,
            18.26,
            37.72,
            46.4,
            33.57,
            32.57,
            25.97,
            34.38,
            27.97,
            45.5,
            41.81,
            50.78,
            34.8,
            35.99,
            31.22,
            31.13,
            39.23,
            25.03,
            28.85,
            30.15,
            22.2,
            22.13,
            23.03
           ],
           "legendgroup": "",
           "lon": [
            115.35,
            115.79,
            109.52,
            117.58,
            97.73,
            114.4,
            108.62,
            109.13,
            109.5,
            115.7,
            125.32,
            114.03,
            110.78,
            113.4,
            118.35,
            116.36,
            124.3,
            120.76,
            121.52,
            109.94,
            119.38,
            121.44,
            104.4,
            117.78,
            98.47,
            121.12,
            88.78,
            114.08,
            113.33,
            121.5
           ],
           "marker": {
            "color": [
             15.394804318340652,
             11.789826122551595,
             15.427248620541512,
             10.954451150103322,
             5.916079783099616,
             20.8806130178211,
             9.38083151964686,
             5.385164807134504,
             7.615773105863909,
             9.797958971132712,
             7.681145747868608,
             18.76166303929372,
             84.57541013793548,
             18.2208671582886,
             12.96148139681572,
             15.491933384829668,
             3.7416573867739413,
             7.745966692414834,
             4.47213595499958,
             9.327379053088816,
             13.564659966250536,
             12.36931687685298,
             13.30413469565007,
             5.656854249492381,
             9.1104335791443,
             23.173260452512935,
             1,
             3.605551275463989,
             2.6457513110645907,
             3.1622776601683795
            ],
            "coloraxis": "coloraxis",
            "size": [
             15.394804318340652,
             11.789826122551595,
             15.427248620541512,
             10.954451150103322,
             5.916079783099616,
             20.8806130178211,
             9.38083151964686,
             5.385164807134504,
             7.615773105863909,
             9.797958971132712,
             7.681145747868608,
             18.76166303929372,
             84.57541013793548,
             18.2208671582886,
             12.96148139681572,
             15.491933384829668,
             3.7416573867739413,
             7.745966692414834,
             4.47213595499958,
             9.327379053088816,
             13.564659966250536,
             12.36931687685298,
             13.30413469565007,
             5.656854249492381,
             9.1104335791443,
             23.173260452512935,
             1,
             3.605551275463989,
             2.6457513110645907,
             3.1622776601683795
            ],
            "sizemode": "area",
            "sizeref": 0.612316298982805
           },
           "name": "",
           "showlegend": false,
           "type": "scattergeo"
          }
         ],
         "name": "01/31/2020"
        },
        {
         "data": [
          {
           "customdata": [
            [
             340,
             0,
             5
            ],
            [
             183,
             1,
             9
            ],
            [
             262,
             1,
             3
            ],
            [
             159,
             0,
             0
            ],
            [
             40,
             0,
             0
            ],
            [
             604,
             0,
             14
            ],
            [
             111,
             0,
             2
            ],
            [
             38,
             0,
             2
            ],
            [
             63,
             1,
             1
            ],
            [
             104,
             1,
             3
            ],
            [
             95,
             2,
             2
            ],
            [
             493,
             2,
             4
            ],
            [
             9074,
             294,
             215
            ],
            [
             463,
             0,
             8
            ],
            [
             236,
             0,
             6
            ],
            [
             333,
             0,
             10
            ],
            [
             23,
             0,
             1
            ],
            [
             64,
             0,
             1
            ],
            [
             27,
             0,
             1
            ],
            [
             116,
             0,
             0
            ],
            [
             225,
             0,
             5
            ],
            [
             177,
             1,
             10
            ],
            [
             231,
             1,
             3
            ],
            [
             45,
             0,
             0
            ],
            [
             93,
             0,
             2
            ],
            [
             661,
             0,
             23
            ],
            [
             1,
             0,
             0
            ],
            [
             14,
             0,
             0
            ],
            [
             7,
             0,
             0
            ],
            [
             10,
             0,
             0
            ]
           ],
           "geo": "geo",
           "hoverlabel": {
            "namelength": 0
           },
           "hovertemplate": "<b>%{hovertext}</b><br><br>Date=02/01/2020<br>size=%{marker.color}<br>Confirmed=%{customdata[0]}<br>Deaths=%{customdata[1]}<br>Recovered=%{customdata[2]}<br>Latitude=%{lat}<br>Longitude=%{lon}",
           "hovertext": [
            "Anhui",
            "Beijing",
            "Chongqing",
            "Fujian",
            "Gansu",
            "Guangdong",
            "Guangxi",
            "Guizhou",
            "Hainan",
            "Hebei",
            "Heilongjiang",
            "Henan",
            "Hubei",
            "Hunan",
            "Jiangsu",
            "Jiangxi",
            "Jilin",
            "Liaoning",
            "Inner Mongolia",
            "Shaanxi",
            "Shandong",
            "Shanghai",
            "Sichuan",
            "Tianjin",
            "Yunnan",
            "Zhejiang",
            "Tibet",
            "Hong Kong",
            "Macau",
            "Taiwan"
           ],
           "lat": [
            33.25,
            39.54,
            31.05,
            26.23,
            39.83,
            23.08,
            21.95,
            27.68,
            18.26,
            37.72,
            46.4,
            33.57,
            32.57,
            25.97,
            34.38,
            27.97,
            45.5,
            41.81,
            50.78,
            34.8,
            35.99,
            31.22,
            31.13,
            39.23,
            25.03,
            28.85,
            30.15,
            22.2,
            22.13,
            23.03
           ],
           "legendgroup": "",
           "lon": [
            115.35,
            115.79,
            109.52,
            117.58,
            97.73,
            114.4,
            108.62,
            109.13,
            109.5,
            115.7,
            125.32,
            114.03,
            110.78,
            113.4,
            118.35,
            116.36,
            124.3,
            120.76,
            121.52,
            109.94,
            119.38,
            121.44,
            104.4,
            117.78,
            98.47,
            121.12,
            88.78,
            114.08,
            113.33,
            121.5
           ],
           "marker": {
            "color": [
             18.439088914585774,
             13.527749258468683,
             16.186414056238647,
             12.609520212918492,
             6.324555320336759,
             24.576411454889016,
             10.535653752852738,
             6.164414002968976,
             7.937253933193772,
             10.198039027185569,
             9.746794344808963,
             22.20360331117452,
             95.25754563287887,
             21.517434791350013,
             15.362291495737216,
             18.24828759089466,
             4.795831523312719,
             8,
             5.196152422706632,
             10.770329614269007,
             15,
             13.30413469565007,
             15.198684153570664,
             6.708203932499369,
             9.643650760992955,
             25.709920264364882,
             1,
             3.7416573867739413,
             2.6457513110645907,
             3.1622776601683795
            ],
            "coloraxis": "coloraxis",
            "size": [
             18.439088914585774,
             13.527749258468683,
             16.186414056238647,
             12.609520212918492,
             6.324555320336759,
             24.576411454889016,
             10.535653752852738,
             6.164414002968976,
             7.937253933193772,
             10.198039027185569,
             9.746794344808963,
             22.20360331117452,
             95.25754563287887,
             21.517434791350013,
             15.362291495737216,
             18.24828759089466,
             4.795831523312719,
             8,
             5.196152422706632,
             10.770329614269007,
             15,
             13.30413469565007,
             15.198684153570664,
             6.708203932499369,
             9.643650760992955,
             25.709920264364882,
             1,
             3.7416573867739413,
             2.6457513110645907,
             3.1622776601683795
            ],
            "sizemode": "area",
            "sizeref": 0.612316298982805
           },
           "name": "",
           "showlegend": false,
           "type": "scattergeo"
          }
         ],
         "name": "02/01/2020"
        },
        {
         "data": [
          {
           "customdata": [
            [
             408,
             0,
             7
            ],
            [
             191,
             1,
             9
            ],
            [
             300,
             2,
             7
            ],
            [
             159,
             0,
             0
            ],
            [
             51,
             0,
             3
            ],
            [
             683,
             0,
             15
            ],
            [
             127,
             0,
             2
            ],
            [
             46,
             0,
             2
            ],
            [
             71,
             1,
             4
            ],
            [
             113,
             1,
             3
            ],
            [
             95,
             2,
             2
            ],
            [
             566,
             2,
             14
            ],
            [
             11177,
             350,
             295
            ],
            [
             521,
             0,
             16
            ],
            [
             271,
             0,
             7
            ],
            [
             391,
             0,
             18
            ],
            [
             31,
             0,
             1
            ],
            [
             70,
             0,
             1
            ],
            [
             27,
             0,
             1
            ],
            [
             116,
             0,
             0
            ],
            [
             246,
             0,
             6
            ],
            [
             193,
             1,
             10
            ],
            [
             254,
             1,
             12
            ],
            [
             48,
             0,
             1
            ],
            [
             105,
             0,
             3
            ],
            [
             724,
             0,
             36
            ],
            [
             1,
             0,
             0
            ],
            [
             15,
             0,
             0
            ],
            [
             8,
             0,
             0
            ],
            [
             10,
             0,
             0
            ]
           ],
           "geo": "geo",
           "hoverlabel": {
            "namelength": 0
           },
           "hovertemplate": "<b>%{hovertext}</b><br><br>Date=02/02/2020<br>size=%{marker.color}<br>Confirmed=%{customdata[0]}<br>Deaths=%{customdata[1]}<br>Recovered=%{customdata[2]}<br>Latitude=%{lat}<br>Longitude=%{lon}",
           "hovertext": [
            "Anhui",
            "Beijing",
            "Chongqing",
            "Fujian",
            "Gansu",
            "Guangdong",
            "Guangxi",
            "Guizhou",
            "Hainan",
            "Hebei",
            "Heilongjiang",
            "Henan",
            "Hubei",
            "Hunan",
            "Jiangsu",
            "Jiangxi",
            "Jilin",
            "Liaoning",
            "Inner Mongolia",
            "Shaanxi",
            "Shandong",
            "Shanghai",
            "Sichuan",
            "Tianjin",
            "Yunnan",
            "Zhejiang",
            "Tibet",
            "Hong Kong",
            "Macau",
            "Taiwan"
           ],
           "lat": [
            33.25,
            39.54,
            31.05,
            26.23,
            39.83,
            23.08,
            21.95,
            27.68,
            18.26,
            37.72,
            46.4,
            33.57,
            32.57,
            25.97,
            34.38,
            27.97,
            45.5,
            41.81,
            50.78,
            34.8,
            35.99,
            31.22,
            31.13,
            39.23,
            25.03,
            28.85,
            30.15,
            22.2,
            22.13,
            23.03
           ],
           "legendgroup": "",
           "lon": [
            115.35,
            115.79,
            109.52,
            117.58,
            97.73,
            114.4,
            108.62,
            109.13,
            109.5,
            115.7,
            125.32,
            114.03,
            110.78,
            113.4,
            118.35,
            116.36,
            124.3,
            120.76,
            121.52,
            109.94,
            119.38,
            121.44,
            104.4,
            117.78,
            98.47,
            121.12,
            88.78,
            114.08,
            113.33,
            121.5
           ],
           "marker": {
            "color": [
             20.199009876724155,
             13.820274961085254,
             17.320508075688775,
             12.609520212918492,
             7.14142842854285,
             26.13426869074396,
             11.269427669584644,
             6.782329983125268,
             8.426149773176359,
             10.63014581273465,
             9.746794344808963,
             23.790754506740637,
             105.72133181151285,
             22.825424421026653,
             16.46207763315433,
             19.77371993328519,
             5.5677643628300215,
             8.366600265340756,
             5.196152422706632,
             10.770329614269007,
             15.684387141358123,
             13.892443989449804,
             15.937377450509228,
             6.928203230275509,
             10.246950765959598,
             26.90724809414742,
             1,
             3.872983346207417,
             2.8284271247461903,
             3.1622776601683795
            ],
            "coloraxis": "coloraxis",
            "size": [
             20.199009876724155,
             13.820274961085254,
             17.320508075688775,
             12.609520212918492,
             7.14142842854285,
             26.13426869074396,
             11.269427669584644,
             6.782329983125268,
             8.426149773176359,
             10.63014581273465,
             9.746794344808963,
             23.790754506740637,
             105.72133181151285,
             22.825424421026653,
             16.46207763315433,
             19.77371993328519,
             5.5677643628300215,
             8.366600265340756,
             5.196152422706632,
             10.770329614269007,
             15.684387141358123,
             13.892443989449804,
             15.937377450509228,
             6.928203230275509,
             10.246950765959598,
             26.90724809414742,
             1,
             3.872983346207417,
             2.8284271247461903,
             3.1622776601683795
            ],
            "sizemode": "area",
            "sizeref": 0.612316298982805
           },
           "name": "",
           "showlegend": false,
           "type": "scattergeo"
          }
         ],
         "name": "02/02/2020"
        },
        {
         "data": [
          {
           "customdata": [
            [
             480,
             0,
             14
            ],
            [
             212,
             1,
             12
            ],
            [
             337,
             2,
             9
            ],
            [
             179,
             0,
             1
            ],
            [
             55,
             0,
             3
            ],
            [
             797,
             0,
             21
            ],
            [
             139,
             0,
             7
            ],
            [
             56,
             0,
             2
            ],
            [
             79,
             1,
             4
            ],
            [
             126,
             1,
             3
            ],
            [
             155,
             2,
             2
            ],
            [
             675,
             2,
             20
            ],
            [
             13522,
             414,
             396
            ],
            [
             593,
             0,
             22
            ],
            [
             308,
             0,
             8
            ],
            [
             476,
             0,
             19
            ],
            [
             42,
             0,
             1
            ],
            [
             74,
             0,
             1
            ],
            [
             34,
             0,
             1
            ],
            [
             142,
             0,
             1
            ],
            [
             270,
             0,
             7
            ],
            [
             208,
             1,
             10
            ],
            [
             282,
             1,
             14
            ],
            [
             60,
             0,
             1
            ],
            [
             117,
             0,
             5
            ],
            [
             829,
             0,
             48
            ],
            [
             1,
             0,
             0
            ],
            [
             15,
             0,
             0
            ],
            [
             8,
             0,
             0
            ],
            [
             10,
             0,
             0
            ]
           ],
           "geo": "geo",
           "hoverlabel": {
            "namelength": 0
           },
           "hovertemplate": "<b>%{hovertext}</b><br><br>Date=02/03/2020<br>size=%{marker.color}<br>Confirmed=%{customdata[0]}<br>Deaths=%{customdata[1]}<br>Recovered=%{customdata[2]}<br>Latitude=%{lat}<br>Longitude=%{lon}",
           "hovertext": [
            "Anhui",
            "Beijing",
            "Chongqing",
            "Fujian",
            "Gansu",
            "Guangdong",
            "Guangxi",
            "Guizhou",
            "Hainan",
            "Hebei",
            "Heilongjiang",
            "Henan",
            "Hubei",
            "Hunan",
            "Jiangsu",
            "Jiangxi",
            "Jilin",
            "Liaoning",
            "Inner Mongolia",
            "Shaanxi",
            "Shandong",
            "Shanghai",
            "Sichuan",
            "Tianjin",
            "Yunnan",
            "Zhejiang",
            "Tibet",
            "Hong Kong",
            "Macau",
            "Taiwan"
           ],
           "lat": [
            33.25,
            39.54,
            31.05,
            26.23,
            39.83,
            23.08,
            21.95,
            27.68,
            18.26,
            37.72,
            46.4,
            33.57,
            32.57,
            25.97,
            34.38,
            27.97,
            45.5,
            41.81,
            50.78,
            34.8,
            35.99,
            31.22,
            31.13,
            39.23,
            25.03,
            28.85,
            30.15,
            22.2,
            22.13,
            23.03
           ],
           "legendgroup": "",
           "lon": [
            115.35,
            115.79,
            109.52,
            117.58,
            97.73,
            114.4,
            108.62,
            109.13,
            109.5,
            115.7,
            125.32,
            114.03,
            110.78,
            113.4,
            118.35,
            116.36,
            124.3,
            120.76,
            121.52,
            109.94,
            119.38,
            121.44,
            104.4,
            117.78,
            98.47,
            121.12,
            88.78,
            114.08,
            113.33,
            121.5
           ],
           "marker": {
            "color": [
             21.908902300206645,
             14.560219778561036,
             18.35755975068582,
             13.379088160259652,
             7.416198487095663,
             28.231188426986208,
             11.789826122551595,
             7.483314773547883,
             8.888194417315589,
             11.224972160321824,
             12.449899597988733,
             25.98076211353316,
             116.2841347734075,
             24.351591323771842,
             17.549928774784245,
             21.817424229271428,
             6.48074069840786,
             8.602325267042627,
             5.830951894845301,
             11.916375287812984,
             16.431676725154983,
             14.422205101855956,
             16.792855623746664,
             7.745966692414834,
             10.816653826391969,
             28.792360097775937,
             1,
             3.872983346207417,
             2.8284271247461903,
             3.1622776601683795
            ],
            "coloraxis": "coloraxis",
            "size": [
             21.908902300206645,
             14.560219778561036,
             18.35755975068582,
             13.379088160259652,
             7.416198487095663,
             28.231188426986208,
             11.789826122551595,
             7.483314773547883,
             8.888194417315589,
             11.224972160321824,
             12.449899597988733,
             25.98076211353316,
             116.2841347734075,
             24.351591323771842,
             17.549928774784245,
             21.817424229271428,
             6.48074069840786,
             8.602325267042627,
             5.830951894845301,
             11.916375287812984,
             16.431676725154983,
             14.422205101855956,
             16.792855623746664,
             7.745966692414834,
             10.816653826391969,
             28.792360097775937,
             1,
             3.872983346207417,
             2.8284271247461903,
             3.1622776601683795
            ],
            "sizemode": "area",
            "sizeref": 0.612316298982805
           },
           "name": "",
           "showlegend": false,
           "type": "scattergeo"
          }
         ],
         "name": "02/03/2020"
        },
        {
         "data": [
          {
           "customdata": [
            [
             530,
             0,
             20
            ],
            [
             228,
             1,
             23
            ],
            [
             366,
             2,
             14
            ],
            [
             194,
             0,
             3
            ],
            [
             57,
             0,
             4
            ],
            [
             870,
             0,
             32
            ],
            [
             150,
             0,
             10
            ],
            [
             64,
             0,
             5
            ],
            [
             91,
             1,
             4
            ],
            [
             135,
             1,
             4
            ],
            [
             190,
             2,
             4
            ],
            [
             764,
             2,
             41
            ],
            [
             16678,
             479,
             522
            ],
            [
             661,
             0,
             35
            ],
            [
             341,
             0,
             13
            ],
            [
             548,
             0,
             27
            ],
            [
             54,
             0,
             1
            ],
            [
             81,
             0,
             2
            ],
            [
             42,
             0,
             1
            ],
            [
             165,
             0,
             2
            ],
            [
             298,
             0,
             13
            ],
            [
             233,
             1,
             12
            ],
            [
             301,
             1,
             23
            ],
            [
             67,
             0,
             2
            ],
            [
             122,
             0,
             5
            ],
            [
             895,
             0,
             63
            ],
            [
             1,
             0,
             0
            ],
            [
             18,
             1,
             0
            ],
            [
             10,
             0,
             0
            ],
            [
             11,
             0,
             0
            ]
           ],
           "geo": "geo",
           "hoverlabel": {
            "namelength": 0
           },
           "hovertemplate": "<b>%{hovertext}</b><br><br>Date=02/04/2020<br>size=%{marker.color}<br>Confirmed=%{customdata[0]}<br>Deaths=%{customdata[1]}<br>Recovered=%{customdata[2]}<br>Latitude=%{lat}<br>Longitude=%{lon}",
           "hovertext": [
            "Anhui",
            "Beijing",
            "Chongqing",
            "Fujian",
            "Gansu",
            "Guangdong",
            "Guangxi",
            "Guizhou",
            "Hainan",
            "Hebei",
            "Heilongjiang",
            "Henan",
            "Hubei",
            "Hunan",
            "Jiangsu",
            "Jiangxi",
            "Jilin",
            "Liaoning",
            "Inner Mongolia",
            "Shaanxi",
            "Shandong",
            "Shanghai",
            "Sichuan",
            "Tianjin",
            "Yunnan",
            "Zhejiang",
            "Tibet",
            "Hong Kong",
            "Macau",
            "Taiwan"
           ],
           "lat": [
            33.25,
            39.54,
            31.05,
            26.23,
            39.83,
            23.08,
            21.95,
            27.68,
            18.26,
            37.72,
            46.4,
            33.57,
            32.57,
            25.97,
            34.38,
            27.97,
            45.5,
            41.81,
            50.78,
            34.8,
            35.99,
            31.22,
            31.13,
            39.23,
            25.03,
            28.85,
            30.15,
            22.2,
            22.13,
            23.03
           ],
           "legendgroup": "",
           "lon": [
            115.35,
            115.79,
            109.52,
            117.58,
            97.73,
            114.4,
            108.62,
            109.13,
            109.5,
            115.7,
            125.32,
            114.03,
            110.78,
            113.4,
            118.35,
            116.36,
            124.3,
            120.76,
            121.52,
            109.94,
            119.38,
            121.44,
            104.4,
            117.78,
            98.47,
            121.12,
            88.78,
            114.08,
            113.33,
            121.5
           ],
           "marker": {
            "color": [
             23.021728866442675,
             15.0996688705415,
             19.131126469708992,
             13.92838827718412,
             7.54983443527075,
             29.49576240750525,
             12.24744871391589,
             8,
             9.539392014169456,
             11.61895003862225,
             13.784048752090222,
             27.640549922170507,
             129.14333122542564,
             25.709920264364882,
             18.466185312619388,
             23.40939982143925,
             7.3484692283495345,
             9,
             6.48074069840786,
             12.84523257866513,
             17.26267650163207,
             15.264337522473747,
             17.349351572897472,
             8.18535277187245,
             11.045361017187261,
             29.916550603303182,
             1,
             4.242640687119285,
             3.1622776601683795,
             3.3166247903554
            ],
            "coloraxis": "coloraxis",
            "size": [
             23.021728866442675,
             15.0996688705415,
             19.131126469708992,
             13.92838827718412,
             7.54983443527075,
             29.49576240750525,
             12.24744871391589,
             8,
             9.539392014169456,
             11.61895003862225,
             13.784048752090222,
             27.640549922170507,
             129.14333122542564,
             25.709920264364882,
             18.466185312619388,
             23.40939982143925,
             7.3484692283495345,
             9,
             6.48074069840786,
             12.84523257866513,
             17.26267650163207,
             15.264337522473747,
             17.349351572897472,
             8.18535277187245,
             11.045361017187261,
             29.916550603303182,
             1,
             4.242640687119285,
             3.1622776601683795,
             3.3166247903554
            ],
            "sizemode": "area",
            "sizeref": 0.612316298982805
           },
           "name": "",
           "showlegend": false,
           "type": "scattergeo"
          }
         ],
         "name": "02/04/2020"
        },
        {
         "data": [
          {
           "customdata": [
            [
             530,
             0,
             23
            ],
            [
             253,
             1,
             24
            ],
            [
             376,
             2,
             15
            ],
            [
             205,
             0,
             11
            ],
            [
             62,
             0,
             6
            ],
            [
             895,
             0,
             49
            ],
            [
             150,
             0,
             13
            ],
            [
             64,
             1,
             9
            ],
            [
             99,
             1,
             5
            ],
            [
             135,
             1,
             6
            ],
            [
             190,
             2,
             7
            ],
            [
             764,
             2,
             47
            ],
            [
             16678,
             479,
             538
            ],
            [
             661,
             0,
             54
            ],
            [
             341,
             0,
             23
            ],
            [
             548,
             0,
             27
            ],
            [
             54,
             0,
             2
            ],
            [
             89,
             0,
             4
            ],
            [
             42,
             0,
             3
            ],
            [
             165,
             0,
             6
            ],
            [
             307,
             0,
             15
            ],
            [
             243,
             1,
             15
            ],
            [
             301,
             1,
             24
            ],
            [
             69,
             1,
             2
            ],
            [
             124,
             0,
             5
            ],
            [
             895,
             0,
             78
            ],
            [
             1,
             0,
             0
            ],
            [
             21,
             1,
             0
            ],
            [
             10,
             0,
             0
            ],
            [
             11,
             0,
             0
            ]
           ],
           "geo": "geo",
           "hoverlabel": {
            "namelength": 0
           },
           "hovertemplate": "<b>%{hovertext}</b><br><br>Date=02/05/2020<br>size=%{marker.color}<br>Confirmed=%{customdata[0]}<br>Deaths=%{customdata[1]}<br>Recovered=%{customdata[2]}<br>Latitude=%{lat}<br>Longitude=%{lon}",
           "hovertext": [
            "Anhui",
            "Beijing",
            "Chongqing",
            "Fujian",
            "Gansu",
            "Guangdong",
            "Guangxi",
            "Guizhou",
            "Hainan",
            "Hebei",
            "Heilongjiang",
            "Henan",
            "Hubei",
            "Hunan",
            "Jiangsu",
            "Jiangxi",
            "Jilin",
            "Liaoning",
            "Inner Mongolia",
            "Shaanxi",
            "Shandong",
            "Shanghai",
            "Sichuan",
            "Tianjin",
            "Yunnan",
            "Zhejiang",
            "Tibet",
            "Hong Kong",
            "Macau",
            "Taiwan"
           ],
           "lat": [
            33.25,
            39.54,
            31.05,
            26.23,
            39.83,
            23.08,
            21.95,
            27.68,
            18.26,
            37.72,
            46.4,
            33.57,
            32.57,
            25.97,
            34.38,
            27.97,
            45.5,
            41.81,
            50.78,
            34.8,
            35.99,
            31.22,
            31.13,
            39.23,
            25.03,
            28.85,
            30.15,
            22.2,
            22.13,
            23.03
           ],
           "legendgroup": "",
           "lon": [
            115.35,
            115.79,
            109.52,
            117.58,
            97.73,
            114.4,
            108.62,
            109.13,
            109.5,
            115.7,
            125.32,
            114.03,
            110.78,
            113.4,
            118.35,
            116.36,
            124.3,
            120.76,
            121.52,
            109.94,
            119.38,
            121.44,
            104.4,
            117.78,
            98.47,
            121.12,
            88.78,
            114.08,
            113.33,
            121.5
           ],
           "marker": {
            "color": [
             23.021728866442675,
             15.905973720586866,
             19.390719429665317,
             14.317821063276353,
             7.874007874011811,
             29.916550603303182,
             12.24744871391589,
             8,
             9.9498743710662,
             11.61895003862225,
             13.784048752090222,
             27.640549922170507,
             129.14333122542564,
             25.709920264364882,
             18.466185312619388,
             23.40939982143925,
             7.3484692283495345,
             9.433981132056603,
             6.48074069840786,
             12.84523257866513,
             17.52141546793523,
             15.588457268119896,
             17.349351572897472,
             8.306623862918075,
             11.135528725660043,
             29.916550603303182,
             1,
             4.58257569495584,
             3.1622776601683795,
             3.3166247903554
            ],
            "coloraxis": "coloraxis",
            "size": [
             23.021728866442675,
             15.905973720586866,
             19.390719429665317,
             14.317821063276353,
             7.874007874011811,
             29.916550603303182,
             12.24744871391589,
             8,
             9.9498743710662,
             11.61895003862225,
             13.784048752090222,
             27.640549922170507,
             129.14333122542564,
             25.709920264364882,
             18.466185312619388,
             23.40939982143925,
             7.3484692283495345,
             9.433981132056603,
             6.48074069840786,
             12.84523257866513,
             17.52141546793523,
             15.588457268119896,
             17.349351572897472,
             8.306623862918075,
             11.135528725660043,
             29.916550603303182,
             1,
             4.58257569495584,
             3.1622776601683795,
             3.3166247903554
            ],
            "sizemode": "area",
            "sizeref": 0.612316298982805
           },
           "name": "",
           "showlegend": false,
           "type": "scattergeo"
          }
         ],
         "name": "02/05/2020"
        },
        {
         "data": [
          {
           "customdata": [
            [
             591,
             0,
             34
            ],
            [
             274,
             1,
             31
            ],
            [
             400,
             2,
             24
            ],
            [
             215,
             0,
             14
            ],
            [
             62,
             0,
             6
            ],
            [
             970,
             0,
             69
            ],
            [
             168,
             0,
             14
            ],
            [
             71,
             1,
             6
            ],
            [
             106,
             1,
             8
            ],
            [
             157,
             1,
             13
            ],
            [
             227,
             3,
             8
            ],
            [
             851,
             2,
             56
            ],
            [
             22112,
             618,
             817
            ],
            [
             711,
             0,
             81
            ],
            [
             373,
             0,
             34
            ],
            [
             600,
             0,
             37
            ],
            [
             59,
             0,
             4
            ],
            [
             94,
             0,
             5
            ],
            [
             46,
             0,
             4
            ],
            [
             173,
             0,
             9
            ],
            [
             347,
             0,
             27
            ],
            [
             257,
             1,
             25
            ],
            [
             321,
             1,
             31
            ],
            [
             78,
             1,
             2
            ],
            [
             133,
             0,
             7
            ],
            [
             954,
             0,
             94
            ],
            [
             1,
             0,
             0
            ],
            [
             24,
             1,
             0
            ],
            [
             10,
             0,
             1
            ],
            [
             16,
             0,
             1
            ]
           ],
           "geo": "geo",
           "hoverlabel": {
            "namelength": 0
           },
           "hovertemplate": "<b>%{hovertext}</b><br><br>Date=02/06/2020<br>size=%{marker.color}<br>Confirmed=%{customdata[0]}<br>Deaths=%{customdata[1]}<br>Recovered=%{customdata[2]}<br>Latitude=%{lat}<br>Longitude=%{lon}",
           "hovertext": [
            "Anhui",
            "Beijing",
            "Chongqing",
            "Fujian",
            "Gansu",
            "Guangdong",
            "Guangxi",
            "Guizhou",
            "Hainan",
            "Hebei",
            "Heilongjiang",
            "Henan",
            "Hubei",
            "Hunan",
            "Jiangsu",
            "Jiangxi",
            "Jilin",
            "Liaoning",
            "Inner Mongolia",
            "Shaanxi",
            "Shandong",
            "Shanghai",
            "Sichuan",
            "Tianjin",
            "Yunnan",
            "Zhejiang",
            "Tibet",
            "Hong Kong",
            "Macau",
            "Taiwan"
           ],
           "lat": [
            33.25,
            39.54,
            31.05,
            26.23,
            39.83,
            23.08,
            21.95,
            27.68,
            18.26,
            37.72,
            46.4,
            33.57,
            32.57,
            25.97,
            34.38,
            27.97,
            45.5,
            41.81,
            50.78,
            34.8,
            35.99,
            31.22,
            31.13,
            39.23,
            25.03,
            28.85,
            30.15,
            22.2,
            22.13,
            23.03
           ],
           "legendgroup": "",
           "lon": [
            115.35,
            115.79,
            109.52,
            117.58,
            97.73,
            114.4,
            108.62,
            109.13,
            109.5,
            115.7,
            125.32,
            114.03,
            110.78,
            113.4,
            118.35,
            116.36,
            124.3,
            120.76,
            121.52,
            109.94,
            119.38,
            121.44,
            104.4,
            117.78,
            98.47,
            121.12,
            88.78,
            114.08,
            113.33,
            121.5
           ],
           "marker": {
            "color": [
             24.310491562286437,
             16.55294535724685,
             20,
             14.66287829861518,
             7.874007874011811,
             31.144823004794873,
             12.96148139681572,
             8.426149773176359,
             10.295630140987,
             12.529964086141668,
             15.066519173319364,
             29.171904291629644,
             148.70104236352884,
             26.664583251946766,
             19.313207915827967,
             24.49489742783178,
             7.681145747868608,
             9.695359714832659,
             6.782329983125268,
             13.152946437965905,
             18.627936010197157,
             16.0312195418814,
             17.916472867168917,
             8.831760866327848,
             11.532562594670797,
             30.886890422961002,
             1,
             4.898979485566356,
             3.1622776601683795,
             4
            ],
            "coloraxis": "coloraxis",
            "size": [
             24.310491562286437,
             16.55294535724685,
             20,
             14.66287829861518,
             7.874007874011811,
             31.144823004794873,
             12.96148139681572,
             8.426149773176359,
             10.295630140987,
             12.529964086141668,
             15.066519173319364,
             29.171904291629644,
             148.70104236352884,
             26.664583251946766,
             19.313207915827967,
             24.49489742783178,
             7.681145747868608,
             9.695359714832659,
             6.782329983125268,
             13.152946437965905,
             18.627936010197157,
             16.0312195418814,
             17.916472867168917,
             8.831760866327848,
             11.532562594670797,
             30.886890422961002,
             1,
             4.898979485566356,
             3.1622776601683795,
             4
            ],
            "sizemode": "area",
            "sizeref": 0.612316298982805
           },
           "name": "",
           "showlegend": false,
           "type": "scattergeo"
          }
         ],
         "name": "02/06/2020"
        },
        {
         "data": [
          {
           "customdata": [
            [
             665,
             0,
             47
            ],
            [
             297,
             1,
             33
            ],
            [
             415,
             2,
             31
            ],
            [
             224,
             0,
             20
            ],
            [
             67,
             0,
             9
            ],
            [
             1034,
             1,
             88
            ],
            [
             172,
             0,
             17
            ],
            [
             81,
             1,
             6
            ],
            [
             117,
             2,
             10
            ],
            [
             172,
             1,
             22
            ],
            [
             277,
             3,
             12
            ],
            [
             914,
             3,
             86
            ],
            [
             22112,
             618,
             867
            ],
            [
             772,
             0,
             112
            ],
            [
             408,
             0,
             43
            ],
            [
             661,
             0,
             45
            ],
            [
             65,
             1,
             4
            ],
            [
             99,
             0,
             7
            ],
            [
             50,
             0,
             5
            ],
            [
             184,
             0,
             17
            ],
            [
             386,
             0,
             37
            ],
            [
             277,
             1,
             30
            ],
            [
             344,
             1,
             42
            ],
            [
             81,
             1,
             2
            ],
            [
             138,
             0,
             12
            ],
            [
             1006,
             0,
             123
            ],
            [
             1,
             0,
             0
            ],
            [
             25,
             1,
             0
            ],
            [
             10,
             0,
             1
            ],
            [
             16,
             0,
             1
            ]
           ],
           "geo": "geo",
           "hoverlabel": {
            "namelength": 0
           },
           "hovertemplate": "<b>%{hovertext}</b><br><br>Date=02/07/2020<br>size=%{marker.color}<br>Confirmed=%{customdata[0]}<br>Deaths=%{customdata[1]}<br>Recovered=%{customdata[2]}<br>Latitude=%{lat}<br>Longitude=%{lon}",
           "hovertext": [
            "Anhui",
            "Beijing",
            "Chongqing",
            "Fujian",
            "Gansu",
            "Guangdong",
            "Guangxi",
            "Guizhou",
            "Hainan",
            "Hebei",
            "Heilongjiang",
            "Henan",
            "Hubei",
            "Hunan",
            "Jiangsu",
            "Jiangxi",
            "Jilin",
            "Liaoning",
            "Inner Mongolia",
            "Shaanxi",
            "Shandong",
            "Shanghai",
            "Sichuan",
            "Tianjin",
            "Yunnan",
            "Zhejiang",
            "Tibet",
            "Hong Kong",
            "Macau",
            "Taiwan"
           ],
           "lat": [
            33.25,
            39.54,
            31.05,
            26.23,
            39.83,
            23.08,
            21.95,
            27.68,
            18.26,
            37.72,
            46.4,
            33.57,
            32.57,
            25.97,
            34.38,
            27.97,
            45.5,
            41.81,
            50.78,
            34.8,
            35.99,
            31.22,
            31.13,
            39.23,
            25.03,
            28.85,
            30.15,
            22.2,
            22.13,
            23.03
           ],
           "legendgroup": "",
           "lon": [
            115.35,
            115.79,
            109.52,
            117.58,
            97.73,
            114.4,
            108.62,
            109.13,
            109.5,
            115.7,
            125.32,
            114.03,
            110.78,
            113.4,
            118.35,
            116.36,
            124.3,
            120.76,
            121.52,
            109.94,
            119.38,
            121.44,
            104.4,
            117.78,
            98.47,
            121.12,
            88.78,
            114.08,
            113.33,
            121.5
           ],
           "marker": {
            "color": [
             25.787593916455254,
             17.233687939614086,
             20.37154878746336,
             14.966629547095765,
             8.18535277187245,
             32.155870381627054,
             13.114877048604,
             9,
             10.816653826391969,
             13.114877048604,
             16.64331697709324,
             30.23243291566195,
             148.70104236352884,
             27.784887978899608,
             20.199009876724155,
             25.709920264364882,
             8.06225774829855,
             9.9498743710662,
             7.0710678118654755,
             13.564659966250536,
             19.6468827043885,
             16.64331697709324,
             18.547236990991408,
             9,
             11.74734012447073,
             31.71750305430741,
             1,
             5,
             3.1622776601683795,
             4
            ],
            "coloraxis": "coloraxis",
            "size": [
             25.787593916455254,
             17.233687939614086,
             20.37154878746336,
             14.966629547095765,
             8.18535277187245,
             32.155870381627054,
             13.114877048604,
             9,
             10.816653826391969,
             13.114877048604,
             16.64331697709324,
             30.23243291566195,
             148.70104236352884,
             27.784887978899608,
             20.199009876724155,
             25.709920264364882,
             8.06225774829855,
             9.9498743710662,
             7.0710678118654755,
             13.564659966250536,
             19.6468827043885,
             16.64331697709324,
             18.547236990991408,
             9,
             11.74734012447073,
             31.71750305430741,
             1,
             5,
             3.1622776601683795,
             4
            ],
            "sizemode": "area",
            "sizeref": 0.612316298982805
           },
           "name": "",
           "showlegend": false,
           "type": "scattergeo"
          }
         ],
         "name": "02/07/2020"
        },
        {
         "data": [
          {
           "customdata": [
            [
             779,
             1,
             59
            ],
            [
             326,
             2,
             37
            ],
            [
             446,
             2,
             39
            ],
            [
             250,
             0,
             26
            ],
            [
             79,
             1,
             12
            ],
            [
             1120,
             1,
             125
            ],
            [
             195,
             1,
             18
            ],
            [
             96,
             1,
             7
            ],
            [
             128,
             2,
             15
            ],
            [
             206,
             2,
             30
            ],
            [
             307,
             6,
             13
            ],
            [
             1033,
             6,
             131
            ],
            [
             27100,
             780,
             1440
            ],
            [
             838,
             1,
             159
            ],
            [
             468,
             0,
             58
            ],
            [
             740,
             0,
             72
            ],
            [
             78,
             1,
             5
            ],
            [
             105,
             0,
             8
            ],
            [
             54,
             0,
             5
            ],
            [
             208,
             0,
             25
            ],
            [
             435,
             1,
             50
            ],
            [
             292,
             1,
             41
            ],
            [
             386,
             1,
             60
            ],
            [
             90,
             1,
             4
            ],
            [
             140,
             0,
             17
            ],
            [
             1075,
             0,
             185
            ],
            [
             1,
             0,
             0
            ],
            [
             26,
             1,
             0
            ],
            [
             10,
             0,
             1
            ],
            [
             17,
             0,
             1
            ]
           ],
           "geo": "geo",
           "hoverlabel": {
            "namelength": 0
           },
           "hovertemplate": "<b>%{hovertext}</b><br><br>Date=02/08/2020<br>size=%{marker.color}<br>Confirmed=%{customdata[0]}<br>Deaths=%{customdata[1]}<br>Recovered=%{customdata[2]}<br>Latitude=%{lat}<br>Longitude=%{lon}",
           "hovertext": [
            "Anhui",
            "Beijing",
            "Chongqing",
            "Fujian",
            "Gansu",
            "Guangdong",
            "Guangxi",
            "Guizhou",
            "Hainan",
            "Hebei",
            "Heilongjiang",
            "Henan",
            "Hubei",
            "Hunan",
            "Jiangsu",
            "Jiangxi",
            "Jilin",
            "Liaoning",
            "Inner Mongolia",
            "Shaanxi",
            "Shandong",
            "Shanghai",
            "Sichuan",
            "Tianjin",
            "Yunnan",
            "Zhejiang",
            "Tibet",
            "Hong Kong",
            "Macau",
            "Taiwan"
           ],
           "lat": [
            33.25,
            39.54,
            31.05,
            26.23,
            39.83,
            23.08,
            21.95,
            27.68,
            18.26,
            37.72,
            46.4,
            33.57,
            32.57,
            25.97,
            34.38,
            27.97,
            45.5,
            41.81,
            50.78,
            34.8,
            35.99,
            31.22,
            31.13,
            39.23,
            25.03,
            28.85,
            30.15,
            22.2,
            22.13,
            23.03
           ],
           "legendgroup": "",
           "lon": [
            115.35,
            115.79,
            109.52,
            117.58,
            97.73,
            114.4,
            108.62,
            109.13,
            109.5,
            115.7,
            125.32,
            114.03,
            110.78,
            113.4,
            118.35,
            116.36,
            124.3,
            120.76,
            121.52,
            109.94,
            119.38,
            121.44,
            104.4,
            117.78,
            98.47,
            121.12,
            88.78,
            114.08,
            113.33,
            121.5
           ],
           "marker": {
            "color": [
             27.910571473905726,
             18.05547008526779,
             21.118712081942874,
             15.811388300841896,
             8.888194417315589,
             33.46640106136302,
             13.96424004376894,
             9.797958971132712,
             11.313708498984761,
             14.352700094407323,
             17.52141546793523,
             32.14031735997639,
             164.62077633154328,
             28.948229652260256,
             21.633307652783937,
             27.202941017470888,
             8.831760866327848,
             10.246950765959598,
             7.3484692283495345,
             14.422205101855956,
             20.85665361461421,
             17.08800749063506,
             19.6468827043885,
             9.486832980505138,
             11.832159566199232,
             32.78719262151,
             1,
             5.0990195135927845,
             3.1622776601683795,
             4.123105625617661
            ],
            "coloraxis": "coloraxis",
            "size": [
             27.910571473905726,
             18.05547008526779,
             21.118712081942874,
             15.811388300841896,
             8.888194417315589,
             33.46640106136302,
             13.96424004376894,
             9.797958971132712,
             11.313708498984761,
             14.352700094407323,
             17.52141546793523,
             32.14031735997639,
             164.62077633154328,
             28.948229652260256,
             21.633307652783937,
             27.202941017470888,
             8.831760866327848,
             10.246950765959598,
             7.3484692283495345,
             14.422205101855956,
             20.85665361461421,
             17.08800749063506,
             19.6468827043885,
             9.486832980505138,
             11.832159566199232,
             32.78719262151,
             1,
             5.0990195135927845,
             3.1622776601683795,
             4.123105625617661
            ],
            "sizemode": "area",
            "sizeref": 0.612316298982805
           },
           "name": "",
           "showlegend": false,
           "type": "scattergeo"
          }
         ],
         "name": "02/08/2020"
        },
        {
         "data": [
          {
           "customdata": [
            [
             830,
             3,
             73
            ],
            [
             337,
             2,
             44
            ],
            [
             468,
             2,
             51
            ],
            [
             261,
             0,
             35
            ],
            [
             83,
             2,
             16
            ],
            [
             1151,
             1,
             147
            ],
            [
             210,
             1,
             18
            ],
            [
             109,
             1,
             7
            ],
            [
             136,
             3,
             19
            ],
            [
             218,
             2,
             35
            ],
            [
             331,
             7,
             15
            ],
            [
             1073,
             6,
             169
            ],
            [
             29631,
             871,
             1795
            ],
            [
             879,
             1,
             186
            ],
            [
             492,
             0,
             72
            ],
            [
             771,
             1,
             102
            ],
            [
             80,
             1,
             12
            ],
            [
             107,
             0,
             12
            ],
            [
             58,
             0,
             5
            ],
            [
             213,
             0,
             26
            ],
            [
             459,
             1,
             63
            ],
            [
             295,
             1,
             44
            ],
            [
             405,
             1,
             76
            ],
            [
             94,
             1,
             4
            ],
            [
             141,
             0,
             18
            ],
            [
             1092,
             0,
             201
            ],
            [
             1,
             0,
             0
            ],
            [
             36,
             1,
             0
            ],
            [
             10,
             0,
             1
            ],
            [
             18,
             0,
             1
            ]
           ],
           "geo": "geo",
           "hoverlabel": {
            "namelength": 0
           },
           "hovertemplate": "<b>%{hovertext}</b><br><br>Date=02/09/2020<br>size=%{marker.color}<br>Confirmed=%{customdata[0]}<br>Deaths=%{customdata[1]}<br>Recovered=%{customdata[2]}<br>Latitude=%{lat}<br>Longitude=%{lon}",
           "hovertext": [
            "Anhui",
            "Beijing",
            "Chongqing",
            "Fujian",
            "Gansu",
            "Guangdong",
            "Guangxi",
            "Guizhou",
            "Hainan",
            "Hebei",
            "Heilongjiang",
            "Henan",
            "Hubei",
            "Hunan",
            "Jiangsu",
            "Jiangxi",
            "Jilin",
            "Liaoning",
            "Inner Mongolia",
            "Shaanxi",
            "Shandong",
            "Shanghai",
            "Sichuan",
            "Tianjin",
            "Yunnan",
            "Zhejiang",
            "Tibet",
            "Hong Kong",
            "Macau",
            "Taiwan"
           ],
           "lat": [
            33.25,
            39.54,
            31.05,
            26.23,
            39.83,
            23.08,
            21.95,
            27.68,
            18.26,
            37.72,
            46.4,
            33.57,
            32.57,
            25.97,
            34.38,
            27.97,
            45.5,
            41.81,
            50.78,
            34.8,
            35.99,
            31.22,
            31.13,
            39.23,
            25.03,
            28.85,
            30.15,
            22.2,
            22.13,
            23.03
           ],
           "legendgroup": "",
           "lon": [
            115.35,
            115.79,
            109.52,
            117.58,
            97.73,
            114.4,
            108.62,
            109.13,
            109.5,
            115.7,
            125.32,
            114.03,
            110.78,
            113.4,
            118.35,
            116.36,
            124.3,
            120.76,
            121.52,
            109.94,
            119.38,
            121.44,
            104.4,
            117.78,
            98.47,
            121.12,
            88.78,
            114.08,
            113.33,
            121.5
           ],
           "marker": {
            "color": [
             28.809720581775867,
             18.35755975068582,
             21.633307652783937,
             16.15549442140351,
             9.1104335791443,
             33.926390907374746,
             14.491376746189438,
             10.44030650891055,
             11.661903789690601,
             14.7648230602334,
             18.193405398660254,
             32.7566787083184,
             172.13657368496678,
             29.647934160747187,
             22.181073012818835,
             27.76688675382964,
             8.94427190999916,
             10.344080432788601,
             7.615773105863909,
             14.594519519326424,
             21.42428528562855,
             17.175564037317667,
             20.12461179749811,
             9.695359714832659,
             11.874342087037917,
             33.04542328371661,
             1,
             6,
             3.1622776601683795,
             4.242640687119285
            ],
            "coloraxis": "coloraxis",
            "size": [
             28.809720581775867,
             18.35755975068582,
             21.633307652783937,
             16.15549442140351,
             9.1104335791443,
             33.926390907374746,
             14.491376746189438,
             10.44030650891055,
             11.661903789690601,
             14.7648230602334,
             18.193405398660254,
             32.7566787083184,
             172.13657368496678,
             29.647934160747187,
             22.181073012818835,
             27.76688675382964,
             8.94427190999916,
             10.344080432788601,
             7.615773105863909,
             14.594519519326424,
             21.42428528562855,
             17.175564037317667,
             20.12461179749811,
             9.695359714832659,
             11.874342087037917,
             33.04542328371661,
             1,
             6,
             3.1622776601683795,
             4.242640687119285
            ],
            "sizemode": "area",
            "sizeref": 0.612316298982805
           },
           "name": "",
           "showlegend": false,
           "type": "scattergeo"
          }
         ],
         "name": "02/09/2020"
        },
        {
         "data": [
          {
           "customdata": [
            [
             830,
             3,
             88
            ],
            [
             337,
             2,
             44
            ],
            [
             486,
             2,
             66
            ],
            [
             261,
             0,
             39
            ],
            [
             86,
             2,
             21
            ],
            [
             1159,
             1,
             167
            ],
            [
             210,
             1,
             24
            ],
            [
             109,
             1,
             10
            ],
            [
             138,
             3,
             19
            ],
            [
             218,
             2,
             41
            ],
            [
             331,
             7,
             30
            ],
            [
             1073,
             6,
             191
            ],
            [
             31728,
             974,
             2222
            ],
            [
             879,
             1,
             208
            ],
            [
             492,
             0,
             81
            ],
            [
             771,
             1,
             105
            ],
            [
             81,
             1,
             13
            ],
            [
             108,
             0,
             13
            ],
            [
             58,
             0,
             5
            ],
            [
             213,
             0,
             30
            ],
            [
             466,
             1,
             66
            ],
            [
             299,
             1,
             48
            ],
            [
             405,
             1,
             80
            ],
            [
             95,
             1,
             8
            ],
            [
             149,
             0,
             19
            ],
            [
             1092,
             0,
             242
            ],
            [
             1,
             0,
             0
            ],
            [
             38,
             1,
             0
            ],
            [
             10,
             0,
             1
            ],
            [
             18,
             0,
             1
            ]
           ],
           "geo": "geo",
           "hoverlabel": {
            "namelength": 0
           },
           "hovertemplate": "<b>%{hovertext}</b><br><br>Date=02/10/2020<br>size=%{marker.color}<br>Confirmed=%{customdata[0]}<br>Deaths=%{customdata[1]}<br>Recovered=%{customdata[2]}<br>Latitude=%{lat}<br>Longitude=%{lon}",
           "hovertext": [
            "Anhui",
            "Beijing",
            "Chongqing",
            "Fujian",
            "Gansu",
            "Guangdong",
            "Guangxi",
            "Guizhou",
            "Hainan",
            "Hebei",
            "Heilongjiang",
            "Henan",
            "Hubei",
            "Hunan",
            "Jiangsu",
            "Jiangxi",
            "Jilin",
            "Liaoning",
            "Inner Mongolia",
            "Shaanxi",
            "Shandong",
            "Shanghai",
            "Sichuan",
            "Tianjin",
            "Yunnan",
            "Zhejiang",
            "Tibet",
            "Hong Kong",
            "Macau",
            "Taiwan"
           ],
           "lat": [
            33.25,
            39.54,
            31.05,
            26.23,
            39.83,
            23.08,
            21.95,
            27.68,
            18.26,
            37.72,
            46.4,
            33.57,
            32.57,
            25.97,
            34.38,
            27.97,
            45.5,
            41.81,
            50.78,
            34.8,
            35.99,
            31.22,
            31.13,
            39.23,
            25.03,
            28.85,
            30.15,
            22.2,
            22.13,
            23.03
           ],
           "legendgroup": "",
           "lon": [
            115.35,
            115.79,
            109.52,
            117.58,
            97.73,
            114.4,
            108.62,
            109.13,
            109.5,
            115.7,
            125.32,
            114.03,
            110.78,
            113.4,
            118.35,
            116.36,
            124.3,
            120.76,
            121.52,
            109.94,
            119.38,
            121.44,
            104.4,
            117.78,
            98.47,
            121.12,
            88.78,
            114.08,
            113.33,
            121.5
           ],
           "marker": {
            "color": [
             28.809720581775867,
             18.35755975068582,
             22.045407685048602,
             16.15549442140351,
             9.273618495495704,
             34.044089061098404,
             14.491376746189438,
             10.44030650891055,
             11.74734012447073,
             14.7648230602334,
             18.193405398660254,
             32.7566787083184,
             178.12355262569855,
             29.647934160747187,
             22.181073012818835,
             27.76688675382964,
             9,
             10.392304845413264,
             7.615773105863909,
             14.594519519326424,
             21.587033144922902,
             17.291616465790582,
             20.12461179749811,
             9.746794344808963,
             12.206555615733702,
             33.04542328371661,
             1,
             6.164414002968976,
             3.1622776601683795,
             4.242640687119285
            ],
            "coloraxis": "coloraxis",
            "size": [
             28.809720581775867,
             18.35755975068582,
             22.045407685048602,
             16.15549442140351,
             9.273618495495704,
             34.044089061098404,
             14.491376746189438,
             10.44030650891055,
             11.74734012447073,
             14.7648230602334,
             18.193405398660254,
             32.7566787083184,
             178.12355262569855,
             29.647934160747187,
             22.181073012818835,
             27.76688675382964,
             9,
             10.392304845413264,
             7.615773105863909,
             14.594519519326424,
             21.587033144922902,
             17.291616465790582,
             20.12461179749811,
             9.746794344808963,
             12.206555615733702,
             33.04542328371661,
             1,
             6.164414002968976,
             3.1622776601683795,
             4.242640687119285
            ],
            "sizemode": "area",
            "sizeref": 0.612316298982805
           },
           "name": "",
           "showlegend": false,
           "type": "scattergeo"
          }
         ],
         "name": "02/10/2020"
        },
        {
         "data": [
          {
           "customdata": [
            [
             889,
             4,
             108
            ],
            [
             342,
             3,
             48
            ],
            [
             505,
             3,
             79
            ],
            [
             272,
             0,
             46
            ],
            [
             86,
             2,
             24
            ],
            [
             1219,
             1,
             241
            ],
            [
             222,
             1,
             31
            ],
            [
             131,
             1,
             17
            ],
            [
             151,
             3,
             20
            ],
            [
             251,
             2,
             48
            ],
            [
             378,
             8,
             28
            ],
            [
             1135,
             8,
             231
            ],
            [
             33366,
             1068,
             2639
            ],
            [
             946,
             2,
             263
            ],
            [
             543,
             0,
             94
            ],
            [
             844,
             1,
             152
            ],
            [
             83,
             1,
             18
            ],
            [
             116,
             0,
             19
            ],
            [
             58,
             0,
             5
            ],
            [
             219,
             0,
             32
            ],
            [
             497,
             1,
             80
            ],
            [
             306,
             1,
             53
            ],
            [
             436,
             1,
             85
            ],
            [
             106,
             2,
             10
            ],
            [
             154,
             0,
             20
            ],
            [
             1131,
             0,
             279
            ],
            [
             1,
             0,
             0
            ],
            [
             49,
             1,
             0
            ],
            [
             10,
             0,
             1
            ],
            [
             18,
             0,
             1
            ]
           ],
           "geo": "geo",
           "hoverlabel": {
            "namelength": 0
           },
           "hovertemplate": "<b>%{hovertext}</b><br><br>Date=02/11/2020<br>size=%{marker.color}<br>Confirmed=%{customdata[0]}<br>Deaths=%{customdata[1]}<br>Recovered=%{customdata[2]}<br>Latitude=%{lat}<br>Longitude=%{lon}",
           "hovertext": [
            "Anhui",
            "Beijing",
            "Chongqing",
            "Fujian",
            "Gansu",
            "Guangdong",
            "Guangxi",
            "Guizhou",
            "Hainan",
            "Hebei",
            "Heilongjiang",
            "Henan",
            "Hubei",
            "Hunan",
            "Jiangsu",
            "Jiangxi",
            "Jilin",
            "Liaoning",
            "Inner Mongolia",
            "Shaanxi",
            "Shandong",
            "Shanghai",
            "Sichuan",
            "Tianjin",
            "Yunnan",
            "Zhejiang",
            "Tibet",
            "Hong Kong",
            "Macau",
            "Taiwan"
           ],
           "lat": [
            33.25,
            39.54,
            31.05,
            26.23,
            39.83,
            23.08,
            21.95,
            27.68,
            18.26,
            37.72,
            46.4,
            33.57,
            32.57,
            25.97,
            34.38,
            27.97,
            45.5,
            41.81,
            50.78,
            34.8,
            35.99,
            31.22,
            31.13,
            39.23,
            25.03,
            28.85,
            30.15,
            22.2,
            22.13,
            23.03
           ],
           "legendgroup": "",
           "lon": [
            115.35,
            115.79,
            109.52,
            117.58,
            97.73,
            114.4,
            108.62,
            109.13,
            109.5,
            115.7,
            125.32,
            114.03,
            110.78,
            113.4,
            118.35,
            116.36,
            124.3,
            120.76,
            121.52,
            109.94,
            119.38,
            121.44,
            104.4,
            117.78,
            98.47,
            121.12,
            88.78,
            114.08,
            113.33,
            121.5
           ],
           "marker": {
            "color": [
             29.816103031751148,
             18.49324200890693,
             22.47220505424423,
             16.492422502470642,
             9.273618495495704,
             34.91418050019218,
             14.89966442575134,
             11.445523142259598,
             12.288205727444508,
             15.84297951775486,
             19.44222209522358,
             33.689761055846034,
             182.6636252788168,
             30.757112998459398,
             23.302360395462088,
             29.0516780926679,
             9.1104335791443,
             10.770329614269007,
             7.615773105863909,
             14.798648586948742,
             22.293496809607955,
             17.4928556845359,
             20.8806130178211,
             10.295630140987,
             12.409673645990857,
             33.63034344160047,
             1,
             7,
             3.1622776601683795,
             4.242640687119285
            ],
            "coloraxis": "coloraxis",
            "size": [
             29.816103031751148,
             18.49324200890693,
             22.47220505424423,
             16.492422502470642,
             9.273618495495704,
             34.91418050019218,
             14.89966442575134,
             11.445523142259598,
             12.288205727444508,
             15.84297951775486,
             19.44222209522358,
             33.689761055846034,
             182.6636252788168,
             30.757112998459398,
             23.302360395462088,
             29.0516780926679,
             9.1104335791443,
             10.770329614269007,
             7.615773105863909,
             14.798648586948742,
             22.293496809607955,
             17.4928556845359,
             20.8806130178211,
             10.295630140987,
             12.409673645990857,
             33.63034344160047,
             1,
             7,
             3.1622776601683795,
             4.242640687119285
            ],
            "sizemode": "area",
            "sizeref": 0.612316298982805
           },
           "name": "",
           "showlegend": false,
           "type": "scattergeo"
          }
         ],
         "name": "02/11/2020"
        },
        {
         "data": [
          {
           "customdata": [
            [
             910,
             5,
             128
            ],
            [
             366,
             3,
             68
            ],
            [
             518,
             3,
             102
            ],
            [
             279,
             0,
             54
            ],
            [
             87,
             2,
             31
            ],
            [
             1241,
             2,
             284
            ],
            [
             222,
             2,
             33
            ],
            [
             135,
             1,
             20
            ],
            [
             157,
             4,
             27
            ],
            [
             265,
             3,
             55
            ],
            [
             395,
             9,
             31
            ],
            [
             1169,
             10,
             258
            ],
            [
             48206,
             1310,
             3441
            ],
            [
             968,
             2,
             312
            ],
            [
             570,
             0,
             131
            ],
            [
             872,
             1,
             170
            ],
            [
             84,
             1,
             22
            ],
            [
             116,
             1,
             21
            ],
            [
             61,
             0,
             6
            ],
            [
             229,
             0,
             42
            ],
            [
             506,
             2,
             98
            ],
            [
             313,
             1,
             57
            ],
            [
             451,
             1,
             93
            ],
            [
             113,
             2,
             11
            ],
            [
             155,
             0,
             23
            ],
            [
             1145,
             0,
             327
            ],
            [
             1,
             0,
             1
            ],
            [
             50,
             1,
             1
            ],
            [
             10,
             0,
             2
            ],
            [
             18,
             0,
             1
            ]
           ],
           "geo": "geo",
           "hoverlabel": {
            "namelength": 0
           },
           "hovertemplate": "<b>%{hovertext}</b><br><br>Date=02/12/2020<br>size=%{marker.color}<br>Confirmed=%{customdata[0]}<br>Deaths=%{customdata[1]}<br>Recovered=%{customdata[2]}<br>Latitude=%{lat}<br>Longitude=%{lon}",
           "hovertext": [
            "Anhui",
            "Beijing",
            "Chongqing",
            "Fujian",
            "Gansu",
            "Guangdong",
            "Guangxi",
            "Guizhou",
            "Hainan",
            "Hebei",
            "Heilongjiang",
            "Henan",
            "Hubei",
            "Hunan",
            "Jiangsu",
            "Jiangxi",
            "Jilin",
            "Liaoning",
            "Inner Mongolia",
            "Shaanxi",
            "Shandong",
            "Shanghai",
            "Sichuan",
            "Tianjin",
            "Yunnan",
            "Zhejiang",
            "Tibet",
            "Hong Kong",
            "Macau",
            "Taiwan"
           ],
           "lat": [
            33.25,
            39.54,
            31.05,
            26.23,
            39.83,
            23.08,
            21.95,
            27.68,
            18.26,
            37.72,
            46.4,
            33.57,
            32.57,
            25.97,
            34.38,
            27.97,
            45.5,
            41.81,
            50.78,
            34.8,
            35.99,
            31.22,
            31.13,
            39.23,
            25.03,
            28.85,
            30.15,
            22.2,
            22.13,
            23.03
           ],
           "legendgroup": "",
           "lon": [
            115.35,
            115.79,
            109.52,
            117.58,
            97.73,
            114.4,
            108.62,
            109.13,
            109.5,
            115.7,
            125.32,
            114.03,
            110.78,
            113.4,
            118.35,
            116.36,
            124.3,
            120.76,
            121.52,
            109.94,
            119.38,
            121.44,
            104.4,
            117.78,
            98.47,
            121.12,
            88.78,
            114.08,
            113.33,
            121.5
           ],
           "marker": {
            "color": [
             30.166206257996713,
             19.131126469708992,
             22.759613353482084,
             16.703293088490067,
             9.327379053088816,
             35.22782990761707,
             14.89966442575134,
             11.61895003862225,
             12.529964086141668,
             16.278820596099706,
             19.87460691435179,
             34.19064199455752,
             219.5586482013405,
             31.11269837220809,
             23.874672772626646,
             29.5296461204668,
             9.16515138991168,
             10.770329614269007,
             7.810249675906654,
             15.132745950421556,
             22.494443758403985,
             17.69180601295413,
             21.236760581595302,
             10.63014581273465,
             12.449899597988733,
             33.83784863137726,
             1,
             7.0710678118654755,
             3.1622776601683795,
             4.242640687119285
            ],
            "coloraxis": "coloraxis",
            "size": [
             30.166206257996713,
             19.131126469708992,
             22.759613353482084,
             16.703293088490067,
             9.327379053088816,
             35.22782990761707,
             14.89966442575134,
             11.61895003862225,
             12.529964086141668,
             16.278820596099706,
             19.87460691435179,
             34.19064199455752,
             219.5586482013405,
             31.11269837220809,
             23.874672772626646,
             29.5296461204668,
             9.16515138991168,
             10.770329614269007,
             7.810249675906654,
             15.132745950421556,
             22.494443758403985,
             17.69180601295413,
             21.236760581595302,
             10.63014581273465,
             12.449899597988733,
             33.83784863137726,
             1,
             7.0710678118654755,
             3.1622776601683795,
             4.242640687119285
            ],
            "sizemode": "area",
            "sizeref": 0.612316298982805
           },
           "name": "",
           "showlegend": false,
           "type": "scattergeo"
          }
         ],
         "name": "02/12/2020"
        },
        {
         "data": [
          {
           "customdata": [
            [
             934,
             6,
             166
            ],
            [
             366,
             3,
             69
            ],
            [
             529,
             4,
             128
            ],
            [
             281,
             0,
             59
            ],
            [
             90,
             2,
             39
            ],
            [
             1261,
             2,
             332
            ],
            [
             226,
             2,
             35
            ],
            [
             140,
             1,
             28
            ],
            [
             158,
             4,
             30
            ],
            [
             283,
             3,
             69
            ],
            [
             418,
             11,
             37
            ],
            [
             1184,
             11,
             313
            ],
            [
             51986,
             1426,
             4131
            ],
            [
             988,
             2,
             352
            ],
            [
             593,
             0,
             137
            ],
            [
             900,
             1,
             187
            ],
            [
             86,
             1,
             25
            ],
            [
             117,
             1,
             22
            ],
            [
             65,
             0,
             6
            ],
            [
             229,
             0,
             46
            ],
            [
             519,
             2,
             111
            ],
            [
             318,
             1,
             62
            ],
            [
             463,
             1,
             105
            ],
            [
             119,
             3,
             21
            ],
            [
             156,
             0,
             27
            ],
            [
             1155,
             0,
             367
            ],
            [
             1,
             0,
             1
            ],
            [
             53,
             1,
             1
            ],
            [
             10,
             0,
             3
            ],
            [
             18,
             0,
             1
            ]
           ],
           "geo": "geo",
           "hoverlabel": {
            "namelength": 0
           },
           "hovertemplate": "<b>%{hovertext}</b><br><br>Date=02/13/2020<br>size=%{marker.color}<br>Confirmed=%{customdata[0]}<br>Deaths=%{customdata[1]}<br>Recovered=%{customdata[2]}<br>Latitude=%{lat}<br>Longitude=%{lon}",
           "hovertext": [
            "Anhui",
            "Beijing",
            "Chongqing",
            "Fujian",
            "Gansu",
            "Guangdong",
            "Guangxi",
            "Guizhou",
            "Hainan",
            "Hebei",
            "Heilongjiang",
            "Henan",
            "Hubei",
            "Hunan",
            "Jiangsu",
            "Jiangxi",
            "Jilin",
            "Liaoning",
            "Inner Mongolia",
            "Shaanxi",
            "Shandong",
            "Shanghai",
            "Sichuan",
            "Tianjin",
            "Yunnan",
            "Zhejiang",
            "Tibet",
            "Hong Kong",
            "Macau",
            "Taiwan"
           ],
           "lat": [
            33.25,
            39.54,
            31.05,
            26.23,
            39.83,
            23.08,
            21.95,
            27.68,
            18.26,
            37.72,
            46.4,
            33.57,
            32.57,
            25.97,
            34.38,
            27.97,
            45.5,
            41.81,
            50.78,
            34.8,
            35.99,
            31.22,
            31.13,
            39.23,
            25.03,
            28.85,
            30.15,
            22.2,
            22.13,
            23.03
           ],
           "legendgroup": "",
           "lon": [
            115.35,
            115.79,
            109.52,
            117.58,
            97.73,
            114.4,
            108.62,
            109.13,
            109.5,
            115.7,
            125.32,
            114.03,
            110.78,
            113.4,
            118.35,
            116.36,
            124.3,
            120.76,
            121.52,
            109.94,
            119.38,
            121.44,
            104.4,
            117.78,
            98.47,
            121.12,
            88.78,
            114.08,
            113.33,
            121.5
           ],
           "marker": {
            "color": [
             30.56141357987225,
             19.131126469708992,
             23,
             16.76305461424021,
             9.486832980505138,
             35.510561809129406,
             15.033296378372908,
             11.832159566199232,
             12.569805089976535,
             16.822603841260722,
             20.445048300260872,
             34.40930106817051,
             228.00438592272738,
             31.432467291003423,
             24.351591323771842,
             30,
             9.273618495495704,
             10.816653826391969,
             8.06225774829855,
             15.132745950421556,
             22.781571499789035,
             17.832554500127006,
             21.517434791350013,
             10.908712114635714,
             12.489995996796797,
             33.98529093593286,
             1,
             7.280109889280518,
             3.1622776601683795,
             4.242640687119285
            ],
            "coloraxis": "coloraxis",
            "size": [
             30.56141357987225,
             19.131126469708992,
             23,
             16.76305461424021,
             9.486832980505138,
             35.510561809129406,
             15.033296378372908,
             11.832159566199232,
             12.569805089976535,
             16.822603841260722,
             20.445048300260872,
             34.40930106817051,
             228.00438592272738,
             31.432467291003423,
             24.351591323771842,
             30,
             9.273618495495704,
             10.816653826391969,
             8.06225774829855,
             15.132745950421556,
             22.781571499789035,
             17.832554500127006,
             21.517434791350013,
             10.908712114635714,
             12.489995996796797,
             33.98529093593286,
             1,
             7.280109889280518,
             3.1622776601683795,
             4.242640687119285
            ],
            "sizemode": "area",
            "sizeref": 0.612316298982805
           },
           "name": "",
           "showlegend": false,
           "type": "scattergeo"
          }
         ],
         "name": "02/13/2020"
        },
        {
         "data": [
          {
           "customdata": [
            [
             934,
             6,
             193
            ],
            [
             372,
             3,
             80
            ],
            [
             537,
             5,
             152
            ],
            [
             281,
             0,
             63
            ],
            [
             90,
             2,
             39
            ],
            [
             1261,
             2,
             362
            ],
            [
             226,
             2,
             36
            ],
            [
             140,
             1,
             28
            ],
            [
             159,
             4,
             43
            ],
            [
             283,
             3,
             87
            ],
            [
             419,
             11,
             47
            ],
            [
             1184,
             11,
             357
            ],
            [
             54406,
             1457,
             4774
            ],
            [
             988,
             2,
             364
            ],
            [
             593,
             0,
             157
            ],
            [
             900,
             1,
             187
            ],
            [
             86,
             1,
             25
            ],
            [
             119,
             1,
             29
            ],
            [
             65,
             0,
             6
            ],
            [
             230,
             0,
             54
            ],
            [
             523,
             2,
             136
            ],
            [
             318,
             1,
             90
            ],
            [
             463,
             1,
             114
            ],
            [
             120,
             3,
             31
            ],
            [
             162,
             0,
             36
            ],
            [
             1155,
             0,
             403
            ],
            [
             1,
             0,
             1
            ],
            [
             56,
             1,
             1
            ],
            [
             10,
             0,
             3
            ],
            [
             18,
             0,
             2
            ]
           ],
           "geo": "geo",
           "hoverlabel": {
            "namelength": 0
           },
           "hovertemplate": "<b>%{hovertext}</b><br><br>Date=02/14/2020<br>size=%{marker.color}<br>Confirmed=%{customdata[0]}<br>Deaths=%{customdata[1]}<br>Recovered=%{customdata[2]}<br>Latitude=%{lat}<br>Longitude=%{lon}",
           "hovertext": [
            "Anhui",
            "Beijing",
            "Chongqing",
            "Fujian",
            "Gansu",
            "Guangdong",
            "Guangxi",
            "Guizhou",
            "Hainan",
            "Hebei",
            "Heilongjiang",
            "Henan",
            "Hubei",
            "Hunan",
            "Jiangsu",
            "Jiangxi",
            "Jilin",
            "Liaoning",
            "Inner Mongolia",
            "Shaanxi",
            "Shandong",
            "Shanghai",
            "Sichuan",
            "Tianjin",
            "Yunnan",
            "Zhejiang",
            "Tibet",
            "Hong Kong",
            "Macau",
            "Taiwan"
           ],
           "lat": [
            33.25,
            39.54,
            31.05,
            26.23,
            39.83,
            23.08,
            21.95,
            27.68,
            18.26,
            37.72,
            46.4,
            33.57,
            32.57,
            25.97,
            34.38,
            27.97,
            45.5,
            41.81,
            50.78,
            34.8,
            35.99,
            31.22,
            31.13,
            39.23,
            25.03,
            28.85,
            30.15,
            22.2,
            22.13,
            23.03
           ],
           "legendgroup": "",
           "lon": [
            115.35,
            115.79,
            109.52,
            117.58,
            97.73,
            114.4,
            108.62,
            109.13,
            109.5,
            115.7,
            125.32,
            114.03,
            110.78,
            113.4,
            118.35,
            116.36,
            124.3,
            120.76,
            121.52,
            109.94,
            119.38,
            121.44,
            104.4,
            117.78,
            98.47,
            121.12,
            88.78,
            114.08,
            113.33,
            121.5
           ],
           "marker": {
            "color": [
             30.56141357987225,
             19.28730152198591,
             23.173260452512935,
             16.76305461424021,
             9.486832980505138,
             35.510561809129406,
             15.033296378372908,
             11.832159566199232,
             12.609520212918492,
             16.822603841260722,
             20.46948949045872,
             34.40930106817051,
             233.25093783305567,
             31.432467291003423,
             24.351591323771842,
             30,
             9.273618495495704,
             10.908712114635714,
             8.06225774829855,
             15.165750888103101,
             22.869193252058544,
             17.832554500127006,
             21.517434791350013,
             10.954451150103322,
             12.727922061357855,
             33.98529093593286,
             1,
             7.483314773547883,
             3.1622776601683795,
             4.242640687119285
            ],
            "coloraxis": "coloraxis",
            "size": [
             30.56141357987225,
             19.28730152198591,
             23.173260452512935,
             16.76305461424021,
             9.486832980505138,
             35.510561809129406,
             15.033296378372908,
             11.832159566199232,
             12.609520212918492,
             16.822603841260722,
             20.46948949045872,
             34.40930106817051,
             233.25093783305567,
             31.432467291003423,
             24.351591323771842,
             30,
             9.273618495495704,
             10.908712114635714,
             8.06225774829855,
             15.165750888103101,
             22.869193252058544,
             17.832554500127006,
             21.517434791350013,
             10.954451150103322,
             12.727922061357855,
             33.98529093593286,
             1,
             7.483314773547883,
             3.1622776601683795,
             4.242640687119285
            ],
            "sizemode": "area",
            "sizeref": 0.612316298982805
           },
           "name": "",
           "showlegend": false,
           "type": "scattergeo"
          }
         ],
         "name": "02/14/2020"
        },
        {
         "data": [
          {
           "customdata": [
            [
             950,
             6,
             221
            ],
            [
             375,
             4,
             98
            ],
            [
             544,
             5,
             184
            ],
            [
             285,
             0,
             71
            ],
            [
             90,
             2,
             49
            ],
            [
             1294,
             2,
             410
            ],
            [
             235,
             2,
             44
            ],
            [
             143,
             1,
             41
            ],
            [
             162,
             4,
             39
            ],
            [
             291,
             3,
             101
            ],
            [
             425,
             11,
             68
            ],
            [
             1212,
             13,
             391
            ],
            [
             56249,
             1596,
             5623
            ],
            [
             1001,
             2,
             425
            ],
            [
             604,
             0,
             186
            ],
            [
             913,
             1,
             210
            ],
            [
             88,
             1,
             26
            ],
            [
             119,
             1,
             31
            ],
            [
             68,
             0,
             7
            ],
            [
             232,
             0,
             60
            ],
            [
             532,
             2,
             156
            ],
            [
             326,
             1,
             124
            ],
            [
             470,
             1,
             119
            ],
            [
             122,
             3,
             37
            ],
            [
             168,
             0,
             42
            ],
            [
             1162,
             0,
             428
            ],
            [
             1,
             0,
             1
            ],
            [
             56,
             1,
             1
            ],
            [
             10,
             0,
             3
            ],
            [
             18,
             0,
             2
            ]
           ],
           "geo": "geo",
           "hoverlabel": {
            "namelength": 0
           },
           "hovertemplate": "<b>%{hovertext}</b><br><br>Date=02/15/2020<br>size=%{marker.color}<br>Confirmed=%{customdata[0]}<br>Deaths=%{customdata[1]}<br>Recovered=%{customdata[2]}<br>Latitude=%{lat}<br>Longitude=%{lon}",
           "hovertext": [
            "Anhui",
            "Beijing",
            "Chongqing",
            "Fujian",
            "Gansu",
            "Guangdong",
            "Guangxi",
            "Guizhou",
            "Hainan",
            "Hebei",
            "Heilongjiang",
            "Henan",
            "Hubei",
            "Hunan",
            "Jiangsu",
            "Jiangxi",
            "Jilin",
            "Liaoning",
            "Inner Mongolia",
            "Shaanxi",
            "Shandong",
            "Shanghai",
            "Sichuan",
            "Tianjin",
            "Yunnan",
            "Zhejiang",
            "Tibet",
            "Hong Kong",
            "Macau",
            "Taiwan"
           ],
           "lat": [
            33.25,
            39.54,
            31.05,
            26.23,
            39.83,
            23.08,
            21.95,
            27.68,
            18.26,
            37.72,
            46.4,
            33.57,
            32.57,
            25.97,
            34.38,
            27.97,
            45.5,
            41.81,
            50.78,
            34.8,
            35.99,
            31.22,
            31.13,
            39.23,
            25.03,
            28.85,
            30.15,
            22.2,
            22.13,
            23.03
           ],
           "legendgroup": "",
           "lon": [
            115.35,
            115.79,
            109.52,
            117.58,
            97.73,
            114.4,
            108.62,
            109.13,
            109.5,
            115.7,
            125.32,
            114.03,
            110.78,
            113.4,
            118.35,
            116.36,
            124.3,
            120.76,
            121.52,
            109.94,
            119.38,
            121.44,
            104.4,
            117.78,
            98.47,
            121.12,
            88.78,
            114.08,
            113.33,
            121.5
           ],
           "marker": {
            "color": [
             30.822070014844883,
             19.364916731037084,
             23.323807579381203,
             16.881943016134134,
             9.486832980505138,
             35.9722114972099,
             15.329709716755891,
             11.958260743101398,
             12.727922061357855,
             17.05872210923198,
             20.615528128088304,
             34.813790371058424,
             237.16871631815187,
             31.63858403911275,
             24.576411454889016,
             30.215889859476256,
             9.38083151964686,
             10.908712114635714,
             8.246211251235321,
             15.231546211727817,
             23.065125189341593,
             18.05547008526779,
             21.6794833886788,
             11.045361017187261,
             12.96148139681572,
             34.08812109811862,
             1,
             7.483314773547883,
             3.1622776601683795,
             4.242640687119285
            ],
            "coloraxis": "coloraxis",
            "size": [
             30.822070014844883,
             19.364916731037084,
             23.323807579381203,
             16.881943016134134,
             9.486832980505138,
             35.9722114972099,
             15.329709716755891,
             11.958260743101398,
             12.727922061357855,
             17.05872210923198,
             20.615528128088304,
             34.813790371058424,
             237.16871631815187,
             31.63858403911275,
             24.576411454889016,
             30.215889859476256,
             9.38083151964686,
             10.908712114635714,
             8.246211251235321,
             15.231546211727817,
             23.065125189341593,
             18.05547008526779,
             21.6794833886788,
             11.045361017187261,
             12.96148139681572,
             34.08812109811862,
             1,
             7.483314773547883,
             3.1622776601683795,
             4.242640687119285
            ],
            "sizemode": "area",
            "sizeref": 0.612316298982805
           },
           "name": "",
           "showlegend": false,
           "type": "scattergeo"
          }
         ],
         "name": "02/15/2020"
        },
        {
         "data": [
          {
           "customdata": [
            [
             962,
             6,
             255
            ],
            [
             380,
             4,
             108
            ],
            [
             551,
             5,
             207
            ],
            [
             287,
             0,
             82
            ],
            [
             90,
             2,
             54
            ],
            [
             1316,
             2,
             465
            ],
            [
             237,
             2,
             49
            ],
            [
             144,
             1,
             46
            ],
            [
             162,
             4,
             52
            ],
            [
             300,
             3,
             105
            ],
            [
             445,
             11,
             79
            ],
            [
             1231,
             13,
             440
            ],
            [
             58182,
             1696,
             6639
            ],
            [
             1004,
             3,
             464
            ],
            [
             617,
             0,
             218
            ],
            [
             925,
             1,
             240
            ],
            [
             89,
             1,
             30
            ],
            [
             121,
             1,
             40
            ],
            [
             70,
             0,
             8
            ],
            [
             236,
             0,
             71
            ],
            [
             537,
             2,
             173
            ],
            [
             328,
             1,
             140
            ],
            [
             481,
             3,
             131
            ],
            [
             124,
             3,
             45
            ],
            [
             171,
             0,
             42
            ],
            [
             1167,
             0,
             456
            ],
            [
             1,
             0,
             1
            ],
            [
             57,
             1,
             2
            ],
            [
             10,
             0,
             5
            ],
            [
             20,
             1,
             2
            ]
           ],
           "geo": "geo",
           "hoverlabel": {
            "namelength": 0
           },
           "hovertemplate": "<b>%{hovertext}</b><br><br>Date=02/16/2020<br>size=%{marker.color}<br>Confirmed=%{customdata[0]}<br>Deaths=%{customdata[1]}<br>Recovered=%{customdata[2]}<br>Latitude=%{lat}<br>Longitude=%{lon}",
           "hovertext": [
            "Anhui",
            "Beijing",
            "Chongqing",
            "Fujian",
            "Gansu",
            "Guangdong",
            "Guangxi",
            "Guizhou",
            "Hainan",
            "Hebei",
            "Heilongjiang",
            "Henan",
            "Hubei",
            "Hunan",
            "Jiangsu",
            "Jiangxi",
            "Jilin",
            "Liaoning",
            "Inner Mongolia",
            "Shaanxi",
            "Shandong",
            "Shanghai",
            "Sichuan",
            "Tianjin",
            "Yunnan",
            "Zhejiang",
            "Tibet",
            "Hong Kong",
            "Macau",
            "Taiwan"
           ],
           "lat": [
            33.25,
            39.54,
            31.05,
            26.23,
            39.83,
            23.08,
            21.95,
            27.68,
            18.26,
            37.72,
            46.4,
            33.57,
            32.57,
            25.97,
            34.38,
            27.97,
            45.5,
            41.81,
            50.78,
            34.8,
            35.99,
            31.22,
            31.13,
            39.23,
            25.03,
            28.85,
            30.15,
            22.2,
            22.13,
            23.03
           ],
           "legendgroup": "",
           "lon": [
            115.35,
            115.79,
            109.52,
            117.58,
            97.73,
            114.4,
            108.62,
            109.13,
            109.5,
            115.7,
            125.32,
            114.03,
            110.78,
            113.4,
            118.35,
            116.36,
            124.3,
            120.76,
            121.52,
            109.94,
            119.38,
            121.44,
            104.4,
            117.78,
            98.47,
            121.12,
            88.78,
            114.08,
            113.33,
            121.5
           ],
           "marker": {
            "color": [
             31.016124838541646,
             19.493588689617926,
             23.473389188611005,
             16.941074346097416,
             9.486832980505138,
             36.27671429443411,
             15.394804318340652,
             12,
             12.727922061357855,
             17.320508075688775,
             21.095023109728988,
             35.08560958569767,
             241.20945255109717,
             31.68595903550972,
             24.839484696748443,
             30.4138126514911,
             9.433981132056603,
             11,
             8.366600265340756,
             15.362291495737216,
             23.173260452512935,
             18.110770276274835,
             21.93171219946131,
             11.135528725660043,
             13.076696830622021,
             34.161381705077446,
             1,
             7.54983443527075,
             3.1622776601683795,
             4.47213595499958
            ],
            "coloraxis": "coloraxis",
            "size": [
             31.016124838541646,
             19.493588689617926,
             23.473389188611005,
             16.941074346097416,
             9.486832980505138,
             36.27671429443411,
             15.394804318340652,
             12,
             12.727922061357855,
             17.320508075688775,
             21.095023109728988,
             35.08560958569767,
             241.20945255109717,
             31.68595903550972,
             24.839484696748443,
             30.4138126514911,
             9.433981132056603,
             11,
             8.366600265340756,
             15.362291495737216,
             23.173260452512935,
             18.110770276274835,
             21.93171219946131,
             11.135528725660043,
             13.076696830622021,
             34.161381705077446,
             1,
             7.54983443527075,
             3.1622776601683795,
             4.47213595499958
            ],
            "sizemode": "area",
            "sizeref": 0.612316298982805
           },
           "name": "",
           "showlegend": false,
           "type": "scattergeo"
          }
         ],
         "name": "02/16/2020"
        },
        {
         "data": [
          {
           "customdata": [
            [
             973,
             6,
             280
            ],
            [
             381,
             4,
             114
            ],
            [
             553,
             5,
             225
            ],
            [
             290,
             0,
             90
            ],
            [
             91,
             2,
             58
            ],
            [
             1322,
             4,
             524
            ],
            [
             238,
             2,
             53
            ],
            [
             146,
             1,
             57
            ],
            [
             163,
             4,
             59
            ],
            [
             301,
             3,
             122
            ],
            [
             457,
             11,
             85
            ],
            [
             1246,
             16,
             509
            ],
            [
             59989,
             1789,
             7862
            ],
            [
             1006,
             3,
             498
            ],
            [
             626,
             0,
             258
            ],
            [
             930,
             1,
             275
            ],
            [
             89,
             1,
             34
            ],
            [
             121,
             1,
             43
            ],
            [
             72,
             0,
             8
            ],
            [
             240,
             0,
             79
            ],
            [
             541,
             2,
             191
            ],
            [
             333,
             1,
             161
            ],
            [
             495,
             3,
             156
            ],
            [
             125,
             3,
             46
            ],
            [
             171,
             0,
             47
            ],
            [
             1171,
             0,
             507
            ],
            [
             1,
             0,
             1
            ],
            [
             60,
             1,
             2
            ],
            [
             10,
             0,
             5
            ],
            [
             22,
             1,
             2
            ]
           ],
           "geo": "geo",
           "hoverlabel": {
            "namelength": 0
           },
           "hovertemplate": "<b>%{hovertext}</b><br><br>Date=02/17/2020<br>size=%{marker.color}<br>Confirmed=%{customdata[0]}<br>Deaths=%{customdata[1]}<br>Recovered=%{customdata[2]}<br>Latitude=%{lat}<br>Longitude=%{lon}",
           "hovertext": [
            "Anhui",
            "Beijing",
            "Chongqing",
            "Fujian",
            "Gansu",
            "Guangdong",
            "Guangxi",
            "Guizhou",
            "Hainan",
            "Hebei",
            "Heilongjiang",
            "Henan",
            "Hubei",
            "Hunan",
            "Jiangsu",
            "Jiangxi",
            "Jilin",
            "Liaoning",
            "Inner Mongolia",
            "Shaanxi",
            "Shandong",
            "Shanghai",
            "Sichuan",
            "Tianjin",
            "Yunnan",
            "Zhejiang",
            "Tibet",
            "Hong Kong",
            "Macau",
            "Taiwan"
           ],
           "lat": [
            33.25,
            39.54,
            31.05,
            26.23,
            39.83,
            23.08,
            21.95,
            27.68,
            18.26,
            37.72,
            46.4,
            33.57,
            32.57,
            25.97,
            34.38,
            27.97,
            45.5,
            41.81,
            50.78,
            34.8,
            35.99,
            31.22,
            31.13,
            39.23,
            25.03,
            28.85,
            30.15,
            22.2,
            22.13,
            23.03
           ],
           "legendgroup": "",
           "lon": [
            115.35,
            115.79,
            109.52,
            117.58,
            97.73,
            114.4,
            108.62,
            109.13,
            109.5,
            115.7,
            125.32,
            114.03,
            110.78,
            113.4,
            118.35,
            116.36,
            124.3,
            120.76,
            121.52,
            109.94,
            119.38,
            121.44,
            104.4,
            117.78,
            98.47,
            121.12,
            88.78,
            114.08,
            113.33,
            121.5
           ],
           "marker": {
            "color": [
             31.192947920964443,
             19.519221295943137,
             23.515952032609693,
             17.029386365926403,
             9.539392014169456,
             36.359317925395686,
             15.427248620541512,
             12.083045973594572,
             12.767145334803704,
             17.349351572897472,
             21.37755832643195,
             35.298725189445584,
             244.92651959312204,
             31.71750305430741,
             25.019992006393608,
             30.495901363953813,
             9.433981132056603,
             11,
             8.48528137423857,
             15.491933384829668,
             23.259406699226016,
             18.24828759089466,
             22.24859546128699,
             11.180339887498949,
             13.076696830622021,
             34.219877264537345,
             1,
             7.745966692414834,
             3.1622776601683795,
             4.69041575982343
            ],
            "coloraxis": "coloraxis",
            "size": [
             31.192947920964443,
             19.519221295943137,
             23.515952032609693,
             17.029386365926403,
             9.539392014169456,
             36.359317925395686,
             15.427248620541512,
             12.083045973594572,
             12.767145334803704,
             17.349351572897472,
             21.37755832643195,
             35.298725189445584,
             244.92651959312204,
             31.71750305430741,
             25.019992006393608,
             30.495901363953813,
             9.433981132056603,
             11,
             8.48528137423857,
             15.491933384829668,
             23.259406699226016,
             18.24828759089466,
             22.24859546128699,
             11.180339887498949,
             13.076696830622021,
             34.219877264537345,
             1,
             7.745966692414834,
             3.1622776601683795,
             4.69041575982343
            ],
            "sizemode": "area",
            "sizeref": 0.612316298982805
           },
           "name": "",
           "showlegend": false,
           "type": "scattergeo"
          }
         ],
         "name": "02/17/2020"
        }
       ],
       "layout": {
        "coloraxis": {
         "colorbar": {
          "title": {
           "text": "size"
          }
         },
         "colorscale": [
          [
           0,
           "#0d0887"
          ],
          [
           0.1111111111111111,
           "#46039f"
          ],
          [
           0.2222222222222222,
           "#7201a8"
          ],
          [
           0.3333333333333333,
           "#9c179e"
          ],
          [
           0.4444444444444444,
           "#bd3786"
          ],
          [
           0.5555555555555556,
           "#d8576b"
          ],
          [
           0.6666666666666666,
           "#ed7953"
          ],
          [
           0.7777777777777778,
           "#fb9f3a"
          ],
          [
           0.8888888888888888,
           "#fdca26"
          ],
          [
           1,
           "#f0f921"
          ]
         ],
         "showscale": false
        },
        "geo": {
         "center": {},
         "domain": {
          "x": [
           0,
           1
          ],
          "y": [
           0,
           1
          ]
         },
         "projection": {
          "type": "natural earth"
         },
         "scope": "asia"
        },
        "legend": {
         "itemsizing": "constant",
         "tracegroupgap": 0
        },
        "sliders": [
         {
          "active": 0,
          "currentvalue": {
           "prefix": "Date="
          },
          "len": 0.9,
          "pad": {
           "b": 10,
           "t": 60
          },
          "steps": [
           {
            "args": [
             [
              "01/22/2020"
             ],
             {
              "frame": {
               "duration": 0,
               "redraw": true
              },
              "fromcurrent": true,
              "mode": "immediate",
              "transition": {
               "duration": 0,
               "easing": "linear"
              }
             }
            ],
            "label": "01/22/2020",
            "method": "animate"
           },
           {
            "args": [
             [
              "01/23/2020"
             ],
             {
              "frame": {
               "duration": 0,
               "redraw": true
              },
              "fromcurrent": true,
              "mode": "immediate",
              "transition": {
               "duration": 0,
               "easing": "linear"
              }
             }
            ],
            "label": "01/23/2020",
            "method": "animate"
           },
           {
            "args": [
             [
              "01/24/2020"
             ],
             {
              "frame": {
               "duration": 0,
               "redraw": true
              },
              "fromcurrent": true,
              "mode": "immediate",
              "transition": {
               "duration": 0,
               "easing": "linear"
              }
             }
            ],
            "label": "01/24/2020",
            "method": "animate"
           },
           {
            "args": [
             [
              "01/25/2020"
             ],
             {
              "frame": {
               "duration": 0,
               "redraw": true
              },
              "fromcurrent": true,
              "mode": "immediate",
              "transition": {
               "duration": 0,
               "easing": "linear"
              }
             }
            ],
            "label": "01/25/2020",
            "method": "animate"
           },
           {
            "args": [
             [
              "01/26/2020"
             ],
             {
              "frame": {
               "duration": 0,
               "redraw": true
              },
              "fromcurrent": true,
              "mode": "immediate",
              "transition": {
               "duration": 0,
               "easing": "linear"
              }
             }
            ],
            "label": "01/26/2020",
            "method": "animate"
           },
           {
            "args": [
             [
              "01/27/2020"
             ],
             {
              "frame": {
               "duration": 0,
               "redraw": true
              },
              "fromcurrent": true,
              "mode": "immediate",
              "transition": {
               "duration": 0,
               "easing": "linear"
              }
             }
            ],
            "label": "01/27/2020",
            "method": "animate"
           },
           {
            "args": [
             [
              "01/28/2020"
             ],
             {
              "frame": {
               "duration": 0,
               "redraw": true
              },
              "fromcurrent": true,
              "mode": "immediate",
              "transition": {
               "duration": 0,
               "easing": "linear"
              }
             }
            ],
            "label": "01/28/2020",
            "method": "animate"
           },
           {
            "args": [
             [
              "01/29/2020"
             ],
             {
              "frame": {
               "duration": 0,
               "redraw": true
              },
              "fromcurrent": true,
              "mode": "immediate",
              "transition": {
               "duration": 0,
               "easing": "linear"
              }
             }
            ],
            "label": "01/29/2020",
            "method": "animate"
           },
           {
            "args": [
             [
              "01/30/2020"
             ],
             {
              "frame": {
               "duration": 0,
               "redraw": true
              },
              "fromcurrent": true,
              "mode": "immediate",
              "transition": {
               "duration": 0,
               "easing": "linear"
              }
             }
            ],
            "label": "01/30/2020",
            "method": "animate"
           },
           {
            "args": [
             [
              "01/31/2020"
             ],
             {
              "frame": {
               "duration": 0,
               "redraw": true
              },
              "fromcurrent": true,
              "mode": "immediate",
              "transition": {
               "duration": 0,
               "easing": "linear"
              }
             }
            ],
            "label": "01/31/2020",
            "method": "animate"
           },
           {
            "args": [
             [
              "02/01/2020"
             ],
             {
              "frame": {
               "duration": 0,
               "redraw": true
              },
              "fromcurrent": true,
              "mode": "immediate",
              "transition": {
               "duration": 0,
               "easing": "linear"
              }
             }
            ],
            "label": "02/01/2020",
            "method": "animate"
           },
           {
            "args": [
             [
              "02/02/2020"
             ],
             {
              "frame": {
               "duration": 0,
               "redraw": true
              },
              "fromcurrent": true,
              "mode": "immediate",
              "transition": {
               "duration": 0,
               "easing": "linear"
              }
             }
            ],
            "label": "02/02/2020",
            "method": "animate"
           },
           {
            "args": [
             [
              "02/03/2020"
             ],
             {
              "frame": {
               "duration": 0,
               "redraw": true
              },
              "fromcurrent": true,
              "mode": "immediate",
              "transition": {
               "duration": 0,
               "easing": "linear"
              }
             }
            ],
            "label": "02/03/2020",
            "method": "animate"
           },
           {
            "args": [
             [
              "02/04/2020"
             ],
             {
              "frame": {
               "duration": 0,
               "redraw": true
              },
              "fromcurrent": true,
              "mode": "immediate",
              "transition": {
               "duration": 0,
               "easing": "linear"
              }
             }
            ],
            "label": "02/04/2020",
            "method": "animate"
           },
           {
            "args": [
             [
              "02/05/2020"
             ],
             {
              "frame": {
               "duration": 0,
               "redraw": true
              },
              "fromcurrent": true,
              "mode": "immediate",
              "transition": {
               "duration": 0,
               "easing": "linear"
              }
             }
            ],
            "label": "02/05/2020",
            "method": "animate"
           },
           {
            "args": [
             [
              "02/06/2020"
             ],
             {
              "frame": {
               "duration": 0,
               "redraw": true
              },
              "fromcurrent": true,
              "mode": "immediate",
              "transition": {
               "duration": 0,
               "easing": "linear"
              }
             }
            ],
            "label": "02/06/2020",
            "method": "animate"
           },
           {
            "args": [
             [
              "02/07/2020"
             ],
             {
              "frame": {
               "duration": 0,
               "redraw": true
              },
              "fromcurrent": true,
              "mode": "immediate",
              "transition": {
               "duration": 0,
               "easing": "linear"
              }
             }
            ],
            "label": "02/07/2020",
            "method": "animate"
           },
           {
            "args": [
             [
              "02/08/2020"
             ],
             {
              "frame": {
               "duration": 0,
               "redraw": true
              },
              "fromcurrent": true,
              "mode": "immediate",
              "transition": {
               "duration": 0,
               "easing": "linear"
              }
             }
            ],
            "label": "02/08/2020",
            "method": "animate"
           },
           {
            "args": [
             [
              "02/09/2020"
             ],
             {
              "frame": {
               "duration": 0,
               "redraw": true
              },
              "fromcurrent": true,
              "mode": "immediate",
              "transition": {
               "duration": 0,
               "easing": "linear"
              }
             }
            ],
            "label": "02/09/2020",
            "method": "animate"
           },
           {
            "args": [
             [
              "02/10/2020"
             ],
             {
              "frame": {
               "duration": 0,
               "redraw": true
              },
              "fromcurrent": true,
              "mode": "immediate",
              "transition": {
               "duration": 0,
               "easing": "linear"
              }
             }
            ],
            "label": "02/10/2020",
            "method": "animate"
           },
           {
            "args": [
             [
              "02/11/2020"
             ],
             {
              "frame": {
               "duration": 0,
               "redraw": true
              },
              "fromcurrent": true,
              "mode": "immediate",
              "transition": {
               "duration": 0,
               "easing": "linear"
              }
             }
            ],
            "label": "02/11/2020",
            "method": "animate"
           },
           {
            "args": [
             [
              "02/12/2020"
             ],
             {
              "frame": {
               "duration": 0,
               "redraw": true
              },
              "fromcurrent": true,
              "mode": "immediate",
              "transition": {
               "duration": 0,
               "easing": "linear"
              }
             }
            ],
            "label": "02/12/2020",
            "method": "animate"
           },
           {
            "args": [
             [
              "02/13/2020"
             ],
             {
              "frame": {
               "duration": 0,
               "redraw": true
              },
              "fromcurrent": true,
              "mode": "immediate",
              "transition": {
               "duration": 0,
               "easing": "linear"
              }
             }
            ],
            "label": "02/13/2020",
            "method": "animate"
           },
           {
            "args": [
             [
              "02/14/2020"
             ],
             {
              "frame": {
               "duration": 0,
               "redraw": true
              },
              "fromcurrent": true,
              "mode": "immediate",
              "transition": {
               "duration": 0,
               "easing": "linear"
              }
             }
            ],
            "label": "02/14/2020",
            "method": "animate"
           },
           {
            "args": [
             [
              "02/15/2020"
             ],
             {
              "frame": {
               "duration": 0,
               "redraw": true
              },
              "fromcurrent": true,
              "mode": "immediate",
              "transition": {
               "duration": 0,
               "easing": "linear"
              }
             }
            ],
            "label": "02/15/2020",
            "method": "animate"
           },
           {
            "args": [
             [
              "02/16/2020"
             ],
             {
              "frame": {
               "duration": 0,
               "redraw": true
              },
              "fromcurrent": true,
              "mode": "immediate",
              "transition": {
               "duration": 0,
               "easing": "linear"
              }
             }
            ],
            "label": "02/16/2020",
            "method": "animate"
           },
           {
            "args": [
             [
              "02/17/2020"
             ],
             {
              "frame": {
               "duration": 0,
               "redraw": true
              },
              "fromcurrent": true,
              "mode": "immediate",
              "transition": {
               "duration": 0,
               "easing": "linear"
              }
             }
            ],
            "label": "02/17/2020",
            "method": "animate"
           }
          ],
          "x": 0.1,
          "xanchor": "left",
          "y": 0,
          "yanchor": "top"
         }
        ],
        "template": {
         "data": {
          "bar": [
           {
            "error_x": {
             "color": "#2a3f5f"
            },
            "error_y": {
             "color": "#2a3f5f"
            },
            "marker": {
             "line": {
              "color": "#E5ECF6",
              "width": 0.5
             }
            },
            "type": "bar"
           }
          ],
          "barpolar": [
           {
            "marker": {
             "line": {
              "color": "#E5ECF6",
              "width": 0.5
             }
            },
            "type": "barpolar"
           }
          ],
          "carpet": [
           {
            "aaxis": {
             "endlinecolor": "#2a3f5f",
             "gridcolor": "white",
             "linecolor": "white",
             "minorgridcolor": "white",
             "startlinecolor": "#2a3f5f"
            },
            "baxis": {
             "endlinecolor": "#2a3f5f",
             "gridcolor": "white",
             "linecolor": "white",
             "minorgridcolor": "white",
             "startlinecolor": "#2a3f5f"
            },
            "type": "carpet"
           }
          ],
          "choropleth": [
           {
            "colorbar": {
             "outlinewidth": 0,
             "ticks": ""
            },
            "type": "choropleth"
           }
          ],
          "contour": [
           {
            "colorbar": {
             "outlinewidth": 0,
             "ticks": ""
            },
            "colorscale": [
             [
              0,
              "#0d0887"
             ],
             [
              0.1111111111111111,
              "#46039f"
             ],
             [
              0.2222222222222222,
              "#7201a8"
             ],
             [
              0.3333333333333333,
              "#9c179e"
             ],
             [
              0.4444444444444444,
              "#bd3786"
             ],
             [
              0.5555555555555556,
              "#d8576b"
             ],
             [
              0.6666666666666666,
              "#ed7953"
             ],
             [
              0.7777777777777778,
              "#fb9f3a"
             ],
             [
              0.8888888888888888,
              "#fdca26"
             ],
             [
              1,
              "#f0f921"
             ]
            ],
            "type": "contour"
           }
          ],
          "contourcarpet": [
           {
            "colorbar": {
             "outlinewidth": 0,
             "ticks": ""
            },
            "type": "contourcarpet"
           }
          ],
          "heatmap": [
           {
            "colorbar": {
             "outlinewidth": 0,
             "ticks": ""
            },
            "colorscale": [
             [
              0,
              "#0d0887"
             ],
             [
              0.1111111111111111,
              "#46039f"
             ],
             [
              0.2222222222222222,
              "#7201a8"
             ],
             [
              0.3333333333333333,
              "#9c179e"
             ],
             [
              0.4444444444444444,
              "#bd3786"
             ],
             [
              0.5555555555555556,
              "#d8576b"
             ],
             [
              0.6666666666666666,
              "#ed7953"
             ],
             [
              0.7777777777777778,
              "#fb9f3a"
             ],
             [
              0.8888888888888888,
              "#fdca26"
             ],
             [
              1,
              "#f0f921"
             ]
            ],
            "type": "heatmap"
           }
          ],
          "heatmapgl": [
           {
            "colorbar": {
             "outlinewidth": 0,
             "ticks": ""
            },
            "colorscale": [
             [
              0,
              "#0d0887"
             ],
             [
              0.1111111111111111,
              "#46039f"
             ],
             [
              0.2222222222222222,
              "#7201a8"
             ],
             [
              0.3333333333333333,
              "#9c179e"
             ],
             [
              0.4444444444444444,
              "#bd3786"
             ],
             [
              0.5555555555555556,
              "#d8576b"
             ],
             [
              0.6666666666666666,
              "#ed7953"
             ],
             [
              0.7777777777777778,
              "#fb9f3a"
             ],
             [
              0.8888888888888888,
              "#fdca26"
             ],
             [
              1,
              "#f0f921"
             ]
            ],
            "type": "heatmapgl"
           }
          ],
          "histogram": [
           {
            "marker": {
             "colorbar": {
              "outlinewidth": 0,
              "ticks": ""
             }
            },
            "type": "histogram"
           }
          ],
          "histogram2d": [
           {
            "colorbar": {
             "outlinewidth": 0,
             "ticks": ""
            },
            "colorscale": [
             [
              0,
              "#0d0887"
             ],
             [
              0.1111111111111111,
              "#46039f"
             ],
             [
              0.2222222222222222,
              "#7201a8"
             ],
             [
              0.3333333333333333,
              "#9c179e"
             ],
             [
              0.4444444444444444,
              "#bd3786"
             ],
             [
              0.5555555555555556,
              "#d8576b"
             ],
             [
              0.6666666666666666,
              "#ed7953"
             ],
             [
              0.7777777777777778,
              "#fb9f3a"
             ],
             [
              0.8888888888888888,
              "#fdca26"
             ],
             [
              1,
              "#f0f921"
             ]
            ],
            "type": "histogram2d"
           }
          ],
          "histogram2dcontour": [
           {
            "colorbar": {
             "outlinewidth": 0,
             "ticks": ""
            },
            "colorscale": [
             [
              0,
              "#0d0887"
             ],
             [
              0.1111111111111111,
              "#46039f"
             ],
             [
              0.2222222222222222,
              "#7201a8"
             ],
             [
              0.3333333333333333,
              "#9c179e"
             ],
             [
              0.4444444444444444,
              "#bd3786"
             ],
             [
              0.5555555555555556,
              "#d8576b"
             ],
             [
              0.6666666666666666,
              "#ed7953"
             ],
             [
              0.7777777777777778,
              "#fb9f3a"
             ],
             [
              0.8888888888888888,
              "#fdca26"
             ],
             [
              1,
              "#f0f921"
             ]
            ],
            "type": "histogram2dcontour"
           }
          ],
          "mesh3d": [
           {
            "colorbar": {
             "outlinewidth": 0,
             "ticks": ""
            },
            "type": "mesh3d"
           }
          ],
          "parcoords": [
           {
            "line": {
             "colorbar": {
              "outlinewidth": 0,
              "ticks": ""
             }
            },
            "type": "parcoords"
           }
          ],
          "pie": [
           {
            "automargin": true,
            "type": "pie"
           }
          ],
          "scatter": [
           {
            "marker": {
             "colorbar": {
              "outlinewidth": 0,
              "ticks": ""
             }
            },
            "type": "scatter"
           }
          ],
          "scatter3d": [
           {
            "line": {
             "colorbar": {
              "outlinewidth": 0,
              "ticks": ""
             }
            },
            "marker": {
             "colorbar": {
              "outlinewidth": 0,
              "ticks": ""
             }
            },
            "type": "scatter3d"
           }
          ],
          "scattercarpet": [
           {
            "marker": {
             "colorbar": {
              "outlinewidth": 0,
              "ticks": ""
             }
            },
            "type": "scattercarpet"
           }
          ],
          "scattergeo": [
           {
            "marker": {
             "colorbar": {
              "outlinewidth": 0,
              "ticks": ""
             }
            },
            "type": "scattergeo"
           }
          ],
          "scattergl": [
           {
            "marker": {
             "colorbar": {
              "outlinewidth": 0,
              "ticks": ""
             }
            },
            "type": "scattergl"
           }
          ],
          "scattermapbox": [
           {
            "marker": {
             "colorbar": {
              "outlinewidth": 0,
              "ticks": ""
             }
            },
            "type": "scattermapbox"
           }
          ],
          "scatterpolar": [
           {
            "marker": {
             "colorbar": {
              "outlinewidth": 0,
              "ticks": ""
             }
            },
            "type": "scatterpolar"
           }
          ],
          "scatterpolargl": [
           {
            "marker": {
             "colorbar": {
              "outlinewidth": 0,
              "ticks": ""
             }
            },
            "type": "scatterpolargl"
           }
          ],
          "scatterternary": [
           {
            "marker": {
             "colorbar": {
              "outlinewidth": 0,
              "ticks": ""
             }
            },
            "type": "scatterternary"
           }
          ],
          "surface": [
           {
            "colorbar": {
             "outlinewidth": 0,
             "ticks": ""
            },
            "colorscale": [
             [
              0,
              "#0d0887"
             ],
             [
              0.1111111111111111,
              "#46039f"
             ],
             [
              0.2222222222222222,
              "#7201a8"
             ],
             [
              0.3333333333333333,
              "#9c179e"
             ],
             [
              0.4444444444444444,
              "#bd3786"
             ],
             [
              0.5555555555555556,
              "#d8576b"
             ],
             [
              0.6666666666666666,
              "#ed7953"
             ],
             [
              0.7777777777777778,
              "#fb9f3a"
             ],
             [
              0.8888888888888888,
              "#fdca26"
             ],
             [
              1,
              "#f0f921"
             ]
            ],
            "type": "surface"
           }
          ],
          "table": [
           {
            "cells": {
             "fill": {
              "color": "#EBF0F8"
             },
             "line": {
              "color": "white"
             }
            },
            "header": {
             "fill": {
              "color": "#C8D4E3"
             },
             "line": {
              "color": "white"
             }
            },
            "type": "table"
           }
          ]
         },
         "layout": {
          "annotationdefaults": {
           "arrowcolor": "#2a3f5f",
           "arrowhead": 0,
           "arrowwidth": 1
          },
          "coloraxis": {
           "colorbar": {
            "outlinewidth": 0,
            "ticks": ""
           }
          },
          "colorscale": {
           "diverging": [
            [
             0,
             "#8e0152"
            ],
            [
             0.1,
             "#c51b7d"
            ],
            [
             0.2,
             "#de77ae"
            ],
            [
             0.3,
             "#f1b6da"
            ],
            [
             0.4,
             "#fde0ef"
            ],
            [
             0.5,
             "#f7f7f7"
            ],
            [
             0.6,
             "#e6f5d0"
            ],
            [
             0.7,
             "#b8e186"
            ],
            [
             0.8,
             "#7fbc41"
            ],
            [
             0.9,
             "#4d9221"
            ],
            [
             1,
             "#276419"
            ]
           ],
           "sequential": [
            [
             0,
             "#0d0887"
            ],
            [
             0.1111111111111111,
             "#46039f"
            ],
            [
             0.2222222222222222,
             "#7201a8"
            ],
            [
             0.3333333333333333,
             "#9c179e"
            ],
            [
             0.4444444444444444,
             "#bd3786"
            ],
            [
             0.5555555555555556,
             "#d8576b"
            ],
            [
             0.6666666666666666,
             "#ed7953"
            ],
            [
             0.7777777777777778,
             "#fb9f3a"
            ],
            [
             0.8888888888888888,
             "#fdca26"
            ],
            [
             1,
             "#f0f921"
            ]
           ],
           "sequentialminus": [
            [
             0,
             "#0d0887"
            ],
            [
             0.1111111111111111,
             "#46039f"
            ],
            [
             0.2222222222222222,
             "#7201a8"
            ],
            [
             0.3333333333333333,
             "#9c179e"
            ],
            [
             0.4444444444444444,
             "#bd3786"
            ],
            [
             0.5555555555555556,
             "#d8576b"
            ],
            [
             0.6666666666666666,
             "#ed7953"
            ],
            [
             0.7777777777777778,
             "#fb9f3a"
            ],
            [
             0.8888888888888888,
             "#fdca26"
            ],
            [
             1,
             "#f0f921"
            ]
           ]
          },
          "colorway": [
           "#636efa",
           "#EF553B",
           "#00cc96",
           "#ab63fa",
           "#FFA15A",
           "#19d3f3",
           "#FF6692",
           "#B6E880",
           "#FF97FF",
           "#FECB52"
          ],
          "font": {
           "color": "#2a3f5f"
          },
          "geo": {
           "bgcolor": "white",
           "lakecolor": "white",
           "landcolor": "#E5ECF6",
           "showlakes": true,
           "showland": true,
           "subunitcolor": "white"
          },
          "hoverlabel": {
           "align": "left"
          },
          "hovermode": "closest",
          "mapbox": {
           "style": "light"
          },
          "paper_bgcolor": "white",
          "plot_bgcolor": "#E5ECF6",
          "polar": {
           "angularaxis": {
            "gridcolor": "white",
            "linecolor": "white",
            "ticks": ""
           },
           "bgcolor": "#E5ECF6",
           "radialaxis": {
            "gridcolor": "white",
            "linecolor": "white",
            "ticks": ""
           }
          },
          "scene": {
           "xaxis": {
            "backgroundcolor": "#E5ECF6",
            "gridcolor": "white",
            "gridwidth": 2,
            "linecolor": "white",
            "showbackground": true,
            "ticks": "",
            "zerolinecolor": "white"
           },
           "yaxis": {
            "backgroundcolor": "#E5ECF6",
            "gridcolor": "white",
            "gridwidth": 2,
            "linecolor": "white",
            "showbackground": true,
            "ticks": "",
            "zerolinecolor": "white"
           },
           "zaxis": {
            "backgroundcolor": "#E5ECF6",
            "gridcolor": "white",
            "gridwidth": 2,
            "linecolor": "white",
            "showbackground": true,
            "ticks": "",
            "zerolinecolor": "white"
           }
          },
          "shapedefaults": {
           "line": {
            "color": "#2a3f5f"
           }
          },
          "ternary": {
           "aaxis": {
            "gridcolor": "white",
            "linecolor": "white",
            "ticks": ""
           },
           "baxis": {
            "gridcolor": "white",
            "linecolor": "white",
            "ticks": ""
           },
           "bgcolor": "#E5ECF6",
           "caxis": {
            "gridcolor": "white",
            "linecolor": "white",
            "ticks": ""
           }
          },
          "title": {
           "x": 0.05
          },
          "xaxis": {
           "automargin": true,
           "gridcolor": "white",
           "linecolor": "white",
           "ticks": "",
           "title": {
            "standoff": 15
           },
           "zerolinecolor": "white",
           "zerolinewidth": 2
          },
          "yaxis": {
           "automargin": true,
           "gridcolor": "white",
           "linecolor": "white",
           "ticks": "",
           "title": {
            "standoff": 15
           },
           "zerolinecolor": "white",
           "zerolinewidth": 2
          }
         }
        },
        "title": {
         "text": "Spread in China over time"
        },
        "updatemenus": [
         {
          "buttons": [
           {
            "args": [
             null,
             {
              "frame": {
               "duration": 500,
               "redraw": true
              },
              "fromcurrent": true,
              "mode": "immediate",
              "transition": {
               "duration": 500,
               "easing": "linear"
              }
             }
            ],
            "label": "&#9654;",
            "method": "animate"
           },
           {
            "args": [
             [
              null
             ],
             {
              "frame": {
               "duration": 0,
               "redraw": true
              },
              "fromcurrent": true,
              "mode": "immediate",
              "transition": {
               "duration": 0,
               "easing": "linear"
              }
             }
            ],
            "label": "&#9724;",
            "method": "animate"
           }
          ],
          "direction": "left",
          "pad": {
           "r": 10,
           "t": 70
          },
          "showactive": false,
          "type": "buttons",
          "x": 0.1,
          "xanchor": "right",
          "y": 0,
          "yanchor": "top"
         }
        ]
       }
      },
      "text/html": [
       "<div>\n",
       "        \n",
       "        \n",
       "            <div id=\"2dfa81e4-8596-413e-9f82-2d36fca07773\" class=\"plotly-graph-div\" style=\"height:525px; width:100%;\"></div>\n",
       "            <script type=\"text/javascript\">\n",
       "                require([\"plotly\"], function(Plotly) {\n",
       "                    window.PLOTLYENV=window.PLOTLYENV || {};\n",
       "                    \n",
       "                if (document.getElementById(\"2dfa81e4-8596-413e-9f82-2d36fca07773\")) {\n",
       "                    Plotly.newPlot(\n",
       "                        '2dfa81e4-8596-413e-9f82-2d36fca07773',\n",
       "                        [{\"customdata\": [[1.0, 0.0, 0.0], [14.0, 0.0, 0.0], [6.0, 0.0, 0.0], [1.0, 0.0, 0.0], [0.0, 0.0, 0.0], [26.0, 0.0, 0.0], [2.0, 0.0, 0.0], [1.0, 0.0, 0.0], [4.0, 0.0, 0.0], [1.0, 0.0, 0.0], [0.0, 0.0, 0.0], [5.0, 0.0, 0.0], [444.0, 0.0, 0.0], [4.0, 0.0, 0.0], [1.0, 0.0, 0.0], [2.0, 0.0, 0.0], [0.0, 0.0, 0.0], [2.0, 0.0, 0.0], [0.0, 0.0, 0.0], [0.0, 0.0, 0.0], [2.0, 0.0, 0.0], [9.0, 0.0, 0.0], [5.0, 0.0, 0.0], [4.0, 0.0, 0.0], [1.0, 0.0, 0.0], [10.0, 0.0, 0.0], [0.0, 0.0, 0.0], [0.0, 0.0, 0.0], [1.0, 0.0, 0.0], [1.0, 0.0, 0.0]], \"geo\": \"geo\", \"hoverlabel\": {\"namelength\": 0}, \"hovertemplate\": \"<b>%{hovertext}</b><br><br>Date=01/22/2020<br>size=%{marker.color}<br>Confirmed=%{customdata[0]}<br>Deaths=%{customdata[1]}<br>Recovered=%{customdata[2]}<br>Latitude=%{lat}<br>Longitude=%{lon}\", \"hovertext\": [\"Anhui\", \"Beijing\", \"Chongqing\", \"Fujian\", \"Gansu\", \"Guangdong\", \"Guangxi\", \"Guizhou\", \"Hainan\", \"Hebei\", \"Heilongjiang\", \"Henan\", \"Hubei\", \"Hunan\", \"Jiangsu\", \"Jiangxi\", \"Jilin\", \"Liaoning\", \"Inner Mongolia\", \"Shaanxi\", \"Shandong\", \"Shanghai\", \"Sichuan\", \"Tianjin\", \"Yunnan\", \"Zhejiang\", \"Tibet\", \"Hong Kong\", \"Macau\", \"Taiwan\"], \"lat\": [33.25, 39.54, 31.05, 26.23, 39.83, 23.08, 21.95, 27.68, 18.26, 37.72, 46.4, 33.57, 32.57, 25.97, 34.38, 27.97, 45.5, 41.81, 50.78, 34.8, 35.99, 31.22, 31.13, 39.23, 25.03, 28.85, 30.15, 22.2, 22.13, 23.03], \"legendgroup\": \"\", \"lon\": [115.35, 115.79, 109.52, 117.58, 97.73, 114.4, 108.62, 109.13, 109.5, 115.7, 125.32, 114.03, 110.78, 113.4, 118.35, 116.36, 124.3, 120.76, 121.52, 109.94, 119.38, 121.44, 104.4, 117.78, 98.47, 121.12, 88.78, 114.08, 113.33, 121.5], \"marker\": {\"color\": [1.0, 3.7416573867739413, 2.449489742783178, 1.0, 0.0, 5.0990195135927845, 1.4142135623730951, 1.0, 2.0, 1.0, 0.0, 2.23606797749979, 21.071307505705477, 2.0, 1.0, 1.4142135623730951, 0.0, 1.4142135623730951, 0.0, 0.0, 1.4142135623730951, 3.0, 2.23606797749979, 2.0, 1.0, 3.1622776601683795, 0.0, 0.0, 1.0, 1.0], \"coloraxis\": \"coloraxis\", \"size\": [1.0, 3.7416573867739413, 2.449489742783178, 1.0, 0.0, 5.0990195135927845, 1.4142135623730951, 1.0, 2.0, 1.0, 0.0, 2.23606797749979, 21.071307505705477, 2.0, 1.0, 1.4142135623730951, 0.0, 1.4142135623730951, 0.0, 0.0, 1.4142135623730951, 3.0, 2.23606797749979, 2.0, 1.0, 3.1622776601683795, 0.0, 0.0, 1.0, 1.0], \"sizemode\": \"area\", \"sizeref\": 0.612316298982805}, \"name\": \"\", \"showlegend\": false, \"type\": \"scattergeo\"}],\n",
       "                        {\"coloraxis\": {\"colorbar\": {\"title\": {\"text\": \"size\"}}, \"colorscale\": [[0.0, \"#0d0887\"], [0.1111111111111111, \"#46039f\"], [0.2222222222222222, \"#7201a8\"], [0.3333333333333333, \"#9c179e\"], [0.4444444444444444, \"#bd3786\"], [0.5555555555555556, \"#d8576b\"], [0.6666666666666666, \"#ed7953\"], [0.7777777777777778, \"#fb9f3a\"], [0.8888888888888888, \"#fdca26\"], [1.0, \"#f0f921\"]], \"showscale\": false}, \"geo\": {\"center\": {}, \"domain\": {\"x\": [0.0, 1.0], \"y\": [0.0, 1.0]}, \"projection\": {\"type\": \"natural earth\"}, \"scope\": \"asia\"}, \"legend\": {\"itemsizing\": \"constant\", \"tracegroupgap\": 0}, \"sliders\": [{\"active\": 0, \"currentvalue\": {\"prefix\": \"Date=\"}, \"len\": 0.9, \"pad\": {\"b\": 10, \"t\": 60}, \"steps\": [{\"args\": [[\"01/22/2020\"], {\"frame\": {\"duration\": 0, \"redraw\": true}, \"fromcurrent\": true, \"mode\": \"immediate\", \"transition\": {\"duration\": 0, \"easing\": \"linear\"}}], \"label\": \"01/22/2020\", \"method\": \"animate\"}, {\"args\": [[\"01/23/2020\"], {\"frame\": {\"duration\": 0, \"redraw\": true}, \"fromcurrent\": true, \"mode\": \"immediate\", \"transition\": {\"duration\": 0, \"easing\": \"linear\"}}], \"label\": \"01/23/2020\", \"method\": \"animate\"}, {\"args\": [[\"01/24/2020\"], {\"frame\": {\"duration\": 0, \"redraw\": true}, \"fromcurrent\": true, \"mode\": \"immediate\", \"transition\": {\"duration\": 0, \"easing\": \"linear\"}}], \"label\": \"01/24/2020\", \"method\": \"animate\"}, {\"args\": [[\"01/25/2020\"], {\"frame\": {\"duration\": 0, \"redraw\": true}, \"fromcurrent\": true, \"mode\": \"immediate\", \"transition\": {\"duration\": 0, \"easing\": \"linear\"}}], \"label\": \"01/25/2020\", \"method\": \"animate\"}, {\"args\": [[\"01/26/2020\"], {\"frame\": {\"duration\": 0, \"redraw\": true}, \"fromcurrent\": true, \"mode\": \"immediate\", \"transition\": {\"duration\": 0, \"easing\": \"linear\"}}], \"label\": \"01/26/2020\", \"method\": \"animate\"}, {\"args\": [[\"01/27/2020\"], {\"frame\": {\"duration\": 0, \"redraw\": true}, \"fromcurrent\": true, \"mode\": \"immediate\", \"transition\": {\"duration\": 0, \"easing\": \"linear\"}}], \"label\": \"01/27/2020\", \"method\": \"animate\"}, {\"args\": [[\"01/28/2020\"], {\"frame\": {\"duration\": 0, \"redraw\": true}, \"fromcurrent\": true, \"mode\": \"immediate\", \"transition\": {\"duration\": 0, \"easing\": \"linear\"}}], \"label\": \"01/28/2020\", \"method\": \"animate\"}, {\"args\": [[\"01/29/2020\"], {\"frame\": {\"duration\": 0, \"redraw\": true}, \"fromcurrent\": true, \"mode\": \"immediate\", \"transition\": {\"duration\": 0, \"easing\": \"linear\"}}], \"label\": \"01/29/2020\", \"method\": \"animate\"}, {\"args\": [[\"01/30/2020\"], {\"frame\": {\"duration\": 0, \"redraw\": true}, \"fromcurrent\": true, \"mode\": \"immediate\", \"transition\": {\"duration\": 0, \"easing\": \"linear\"}}], \"label\": \"01/30/2020\", \"method\": \"animate\"}, {\"args\": [[\"01/31/2020\"], {\"frame\": {\"duration\": 0, \"redraw\": true}, \"fromcurrent\": true, \"mode\": \"immediate\", \"transition\": {\"duration\": 0, \"easing\": \"linear\"}}], \"label\": \"01/31/2020\", \"method\": \"animate\"}, {\"args\": [[\"02/01/2020\"], {\"frame\": {\"duration\": 0, \"redraw\": true}, \"fromcurrent\": true, \"mode\": \"immediate\", \"transition\": {\"duration\": 0, \"easing\": \"linear\"}}], \"label\": \"02/01/2020\", \"method\": \"animate\"}, {\"args\": [[\"02/02/2020\"], {\"frame\": {\"duration\": 0, \"redraw\": true}, \"fromcurrent\": true, \"mode\": \"immediate\", \"transition\": {\"duration\": 0, \"easing\": \"linear\"}}], \"label\": \"02/02/2020\", \"method\": \"animate\"}, {\"args\": [[\"02/03/2020\"], {\"frame\": {\"duration\": 0, \"redraw\": true}, \"fromcurrent\": true, \"mode\": \"immediate\", \"transition\": {\"duration\": 0, \"easing\": \"linear\"}}], \"label\": \"02/03/2020\", \"method\": \"animate\"}, {\"args\": [[\"02/04/2020\"], {\"frame\": {\"duration\": 0, \"redraw\": true}, \"fromcurrent\": true, \"mode\": \"immediate\", \"transition\": {\"duration\": 0, \"easing\": \"linear\"}}], \"label\": \"02/04/2020\", \"method\": \"animate\"}, {\"args\": [[\"02/05/2020\"], {\"frame\": {\"duration\": 0, \"redraw\": true}, \"fromcurrent\": true, \"mode\": \"immediate\", \"transition\": {\"duration\": 0, \"easing\": \"linear\"}}], \"label\": \"02/05/2020\", \"method\": \"animate\"}, {\"args\": [[\"02/06/2020\"], {\"frame\": {\"duration\": 0, \"redraw\": true}, \"fromcurrent\": true, \"mode\": \"immediate\", \"transition\": {\"duration\": 0, \"easing\": \"linear\"}}], \"label\": \"02/06/2020\", \"method\": \"animate\"}, {\"args\": [[\"02/07/2020\"], {\"frame\": {\"duration\": 0, \"redraw\": true}, \"fromcurrent\": true, \"mode\": \"immediate\", \"transition\": {\"duration\": 0, \"easing\": \"linear\"}}], \"label\": \"02/07/2020\", \"method\": \"animate\"}, {\"args\": [[\"02/08/2020\"], {\"frame\": {\"duration\": 0, \"redraw\": true}, \"fromcurrent\": true, \"mode\": \"immediate\", \"transition\": {\"duration\": 0, \"easing\": \"linear\"}}], \"label\": \"02/08/2020\", \"method\": \"animate\"}, {\"args\": [[\"02/09/2020\"], {\"frame\": {\"duration\": 0, \"redraw\": true}, \"fromcurrent\": true, \"mode\": \"immediate\", \"transition\": {\"duration\": 0, \"easing\": \"linear\"}}], \"label\": \"02/09/2020\", \"method\": \"animate\"}, {\"args\": [[\"02/10/2020\"], {\"frame\": {\"duration\": 0, \"redraw\": true}, \"fromcurrent\": true, \"mode\": \"immediate\", \"transition\": {\"duration\": 0, \"easing\": \"linear\"}}], \"label\": \"02/10/2020\", \"method\": \"animate\"}, {\"args\": [[\"02/11/2020\"], {\"frame\": {\"duration\": 0, \"redraw\": true}, \"fromcurrent\": true, \"mode\": \"immediate\", \"transition\": {\"duration\": 0, \"easing\": \"linear\"}}], \"label\": \"02/11/2020\", \"method\": \"animate\"}, {\"args\": [[\"02/12/2020\"], {\"frame\": {\"duration\": 0, \"redraw\": true}, \"fromcurrent\": true, \"mode\": \"immediate\", \"transition\": {\"duration\": 0, \"easing\": \"linear\"}}], \"label\": \"02/12/2020\", \"method\": \"animate\"}, {\"args\": [[\"02/13/2020\"], {\"frame\": {\"duration\": 0, \"redraw\": true}, \"fromcurrent\": true, \"mode\": \"immediate\", \"transition\": {\"duration\": 0, \"easing\": \"linear\"}}], \"label\": \"02/13/2020\", \"method\": \"animate\"}, {\"args\": [[\"02/14/2020\"], {\"frame\": {\"duration\": 0, \"redraw\": true}, \"fromcurrent\": true, \"mode\": \"immediate\", \"transition\": {\"duration\": 0, \"easing\": \"linear\"}}], \"label\": \"02/14/2020\", \"method\": \"animate\"}, {\"args\": [[\"02/15/2020\"], {\"frame\": {\"duration\": 0, \"redraw\": true}, \"fromcurrent\": true, \"mode\": \"immediate\", \"transition\": {\"duration\": 0, \"easing\": \"linear\"}}], \"label\": \"02/15/2020\", \"method\": \"animate\"}, {\"args\": [[\"02/16/2020\"], {\"frame\": {\"duration\": 0, \"redraw\": true}, \"fromcurrent\": true, \"mode\": \"immediate\", \"transition\": {\"duration\": 0, \"easing\": \"linear\"}}], \"label\": \"02/16/2020\", \"method\": \"animate\"}, {\"args\": [[\"02/17/2020\"], {\"frame\": {\"duration\": 0, \"redraw\": true}, \"fromcurrent\": true, \"mode\": \"immediate\", \"transition\": {\"duration\": 0, \"easing\": \"linear\"}}], \"label\": \"02/17/2020\", \"method\": \"animate\"}], \"x\": 0.1, \"xanchor\": \"left\", \"y\": 0, \"yanchor\": \"top\"}], \"template\": {\"data\": {\"bar\": [{\"error_x\": {\"color\": \"#2a3f5f\"}, \"error_y\": {\"color\": \"#2a3f5f\"}, \"marker\": {\"line\": {\"color\": \"#E5ECF6\", \"width\": 0.5}}, \"type\": \"bar\"}], \"barpolar\": [{\"marker\": {\"line\": {\"color\": \"#E5ECF6\", \"width\": 0.5}}, \"type\": \"barpolar\"}], \"carpet\": [{\"aaxis\": {\"endlinecolor\": \"#2a3f5f\", \"gridcolor\": \"white\", \"linecolor\": \"white\", \"minorgridcolor\": \"white\", \"startlinecolor\": \"#2a3f5f\"}, \"baxis\": {\"endlinecolor\": \"#2a3f5f\", \"gridcolor\": \"white\", \"linecolor\": \"white\", \"minorgridcolor\": \"white\", \"startlinecolor\": \"#2a3f5f\"}, \"type\": \"carpet\"}], \"choropleth\": [{\"colorbar\": {\"outlinewidth\": 0, \"ticks\": \"\"}, \"type\": \"choropleth\"}], \"contour\": [{\"colorbar\": {\"outlinewidth\": 0, \"ticks\": \"\"}, \"colorscale\": [[0.0, \"#0d0887\"], [0.1111111111111111, \"#46039f\"], [0.2222222222222222, \"#7201a8\"], [0.3333333333333333, \"#9c179e\"], [0.4444444444444444, \"#bd3786\"], [0.5555555555555556, \"#d8576b\"], [0.6666666666666666, \"#ed7953\"], [0.7777777777777778, \"#fb9f3a\"], [0.8888888888888888, \"#fdca26\"], [1.0, \"#f0f921\"]], \"type\": \"contour\"}], \"contourcarpet\": [{\"colorbar\": {\"outlinewidth\": 0, \"ticks\": \"\"}, \"type\": \"contourcarpet\"}], \"heatmap\": [{\"colorbar\": {\"outlinewidth\": 0, \"ticks\": \"\"}, \"colorscale\": [[0.0, \"#0d0887\"], [0.1111111111111111, \"#46039f\"], [0.2222222222222222, \"#7201a8\"], [0.3333333333333333, \"#9c179e\"], [0.4444444444444444, \"#bd3786\"], [0.5555555555555556, \"#d8576b\"], [0.6666666666666666, \"#ed7953\"], [0.7777777777777778, \"#fb9f3a\"], [0.8888888888888888, \"#fdca26\"], [1.0, \"#f0f921\"]], \"type\": \"heatmap\"}], \"heatmapgl\": [{\"colorbar\": {\"outlinewidth\": 0, \"ticks\": \"\"}, \"colorscale\": [[0.0, \"#0d0887\"], [0.1111111111111111, \"#46039f\"], [0.2222222222222222, \"#7201a8\"], [0.3333333333333333, \"#9c179e\"], [0.4444444444444444, \"#bd3786\"], [0.5555555555555556, \"#d8576b\"], [0.6666666666666666, \"#ed7953\"], [0.7777777777777778, \"#fb9f3a\"], [0.8888888888888888, \"#fdca26\"], [1.0, \"#f0f921\"]], \"type\": \"heatmapgl\"}], \"histogram\": [{\"marker\": {\"colorbar\": {\"outlinewidth\": 0, \"ticks\": \"\"}}, \"type\": \"histogram\"}], \"histogram2d\": [{\"colorbar\": {\"outlinewidth\": 0, \"ticks\": \"\"}, \"colorscale\": [[0.0, \"#0d0887\"], [0.1111111111111111, \"#46039f\"], [0.2222222222222222, \"#7201a8\"], [0.3333333333333333, \"#9c179e\"], [0.4444444444444444, \"#bd3786\"], [0.5555555555555556, \"#d8576b\"], [0.6666666666666666, \"#ed7953\"], [0.7777777777777778, \"#fb9f3a\"], [0.8888888888888888, \"#fdca26\"], [1.0, \"#f0f921\"]], \"type\": \"histogram2d\"}], \"histogram2dcontour\": [{\"colorbar\": {\"outlinewidth\": 0, \"ticks\": \"\"}, \"colorscale\": [[0.0, \"#0d0887\"], [0.1111111111111111, \"#46039f\"], [0.2222222222222222, \"#7201a8\"], [0.3333333333333333, \"#9c179e\"], [0.4444444444444444, \"#bd3786\"], [0.5555555555555556, \"#d8576b\"], [0.6666666666666666, \"#ed7953\"], [0.7777777777777778, \"#fb9f3a\"], [0.8888888888888888, \"#fdca26\"], [1.0, \"#f0f921\"]], \"type\": \"histogram2dcontour\"}], \"mesh3d\": [{\"colorbar\": {\"outlinewidth\": 0, \"ticks\": \"\"}, \"type\": \"mesh3d\"}], \"parcoords\": [{\"line\": {\"colorbar\": {\"outlinewidth\": 0, \"ticks\": \"\"}}, \"type\": \"parcoords\"}], \"pie\": [{\"automargin\": true, \"type\": \"pie\"}], \"scatter\": [{\"marker\": {\"colorbar\": {\"outlinewidth\": 0, \"ticks\": \"\"}}, \"type\": \"scatter\"}], \"scatter3d\": [{\"line\": {\"colorbar\": {\"outlinewidth\": 0, \"ticks\": \"\"}}, \"marker\": {\"colorbar\": {\"outlinewidth\": 0, \"ticks\": \"\"}}, \"type\": \"scatter3d\"}], \"scattercarpet\": [{\"marker\": {\"colorbar\": {\"outlinewidth\": 0, \"ticks\": \"\"}}, \"type\": \"scattercarpet\"}], \"scattergeo\": [{\"marker\": {\"colorbar\": {\"outlinewidth\": 0, \"ticks\": \"\"}}, \"type\": \"scattergeo\"}], \"scattergl\": [{\"marker\": {\"colorbar\": {\"outlinewidth\": 0, \"ticks\": \"\"}}, \"type\": \"scattergl\"}], \"scattermapbox\": [{\"marker\": {\"colorbar\": {\"outlinewidth\": 0, \"ticks\": \"\"}}, \"type\": \"scattermapbox\"}], \"scatterpolar\": [{\"marker\": {\"colorbar\": {\"outlinewidth\": 0, \"ticks\": \"\"}}, \"type\": \"scatterpolar\"}], \"scatterpolargl\": [{\"marker\": {\"colorbar\": {\"outlinewidth\": 0, \"ticks\": \"\"}}, \"type\": \"scatterpolargl\"}], \"scatterternary\": [{\"marker\": {\"colorbar\": {\"outlinewidth\": 0, \"ticks\": \"\"}}, \"type\": \"scatterternary\"}], \"surface\": [{\"colorbar\": {\"outlinewidth\": 0, \"ticks\": \"\"}, \"colorscale\": [[0.0, \"#0d0887\"], [0.1111111111111111, \"#46039f\"], [0.2222222222222222, \"#7201a8\"], [0.3333333333333333, \"#9c179e\"], [0.4444444444444444, \"#bd3786\"], [0.5555555555555556, \"#d8576b\"], [0.6666666666666666, \"#ed7953\"], [0.7777777777777778, \"#fb9f3a\"], [0.8888888888888888, \"#fdca26\"], [1.0, \"#f0f921\"]], \"type\": \"surface\"}], \"table\": [{\"cells\": {\"fill\": {\"color\": \"#EBF0F8\"}, \"line\": {\"color\": \"white\"}}, \"header\": {\"fill\": {\"color\": \"#C8D4E3\"}, \"line\": {\"color\": \"white\"}}, \"type\": \"table\"}]}, \"layout\": {\"annotationdefaults\": {\"arrowcolor\": \"#2a3f5f\", \"arrowhead\": 0, \"arrowwidth\": 1}, \"coloraxis\": {\"colorbar\": {\"outlinewidth\": 0, \"ticks\": \"\"}}, \"colorscale\": {\"diverging\": [[0, \"#8e0152\"], [0.1, \"#c51b7d\"], [0.2, \"#de77ae\"], [0.3, \"#f1b6da\"], [0.4, \"#fde0ef\"], [0.5, \"#f7f7f7\"], [0.6, \"#e6f5d0\"], [0.7, \"#b8e186\"], [0.8, \"#7fbc41\"], [0.9, \"#4d9221\"], [1, \"#276419\"]], \"sequential\": [[0.0, \"#0d0887\"], [0.1111111111111111, \"#46039f\"], [0.2222222222222222, \"#7201a8\"], [0.3333333333333333, \"#9c179e\"], [0.4444444444444444, \"#bd3786\"], [0.5555555555555556, \"#d8576b\"], [0.6666666666666666, \"#ed7953\"], [0.7777777777777778, \"#fb9f3a\"], [0.8888888888888888, \"#fdca26\"], [1.0, \"#f0f921\"]], \"sequentialminus\": [[0.0, \"#0d0887\"], [0.1111111111111111, \"#46039f\"], [0.2222222222222222, \"#7201a8\"], [0.3333333333333333, \"#9c179e\"], [0.4444444444444444, \"#bd3786\"], [0.5555555555555556, \"#d8576b\"], [0.6666666666666666, \"#ed7953\"], [0.7777777777777778, \"#fb9f3a\"], [0.8888888888888888, \"#fdca26\"], [1.0, \"#f0f921\"]]}, \"colorway\": [\"#636efa\", \"#EF553B\", \"#00cc96\", \"#ab63fa\", \"#FFA15A\", \"#19d3f3\", \"#FF6692\", \"#B6E880\", \"#FF97FF\", \"#FECB52\"], \"font\": {\"color\": \"#2a3f5f\"}, \"geo\": {\"bgcolor\": \"white\", \"lakecolor\": \"white\", \"landcolor\": \"#E5ECF6\", \"showlakes\": true, \"showland\": true, \"subunitcolor\": \"white\"}, \"hoverlabel\": {\"align\": \"left\"}, \"hovermode\": \"closest\", \"mapbox\": {\"style\": \"light\"}, \"paper_bgcolor\": \"white\", \"plot_bgcolor\": \"#E5ECF6\", \"polar\": {\"angularaxis\": {\"gridcolor\": \"white\", \"linecolor\": \"white\", \"ticks\": \"\"}, \"bgcolor\": \"#E5ECF6\", \"radialaxis\": {\"gridcolor\": \"white\", \"linecolor\": \"white\", \"ticks\": \"\"}}, \"scene\": {\"xaxis\": {\"backgroundcolor\": \"#E5ECF6\", \"gridcolor\": \"white\", \"gridwidth\": 2, \"linecolor\": \"white\", \"showbackground\": true, \"ticks\": \"\", \"zerolinecolor\": \"white\"}, \"yaxis\": {\"backgroundcolor\": \"#E5ECF6\", \"gridcolor\": \"white\", \"gridwidth\": 2, \"linecolor\": \"white\", \"showbackground\": true, \"ticks\": \"\", \"zerolinecolor\": \"white\"}, \"zaxis\": {\"backgroundcolor\": \"#E5ECF6\", \"gridcolor\": \"white\", \"gridwidth\": 2, \"linecolor\": \"white\", \"showbackground\": true, \"ticks\": \"\", \"zerolinecolor\": \"white\"}}, \"shapedefaults\": {\"line\": {\"color\": \"#2a3f5f\"}}, \"ternary\": {\"aaxis\": {\"gridcolor\": \"white\", \"linecolor\": \"white\", \"ticks\": \"\"}, \"baxis\": {\"gridcolor\": \"white\", \"linecolor\": \"white\", \"ticks\": \"\"}, \"bgcolor\": \"#E5ECF6\", \"caxis\": {\"gridcolor\": \"white\", \"linecolor\": \"white\", \"ticks\": \"\"}}, \"title\": {\"x\": 0.05}, \"xaxis\": {\"automargin\": true, \"gridcolor\": \"white\", \"linecolor\": \"white\", \"ticks\": \"\", \"title\": {\"standoff\": 15}, \"zerolinecolor\": \"white\", \"zerolinewidth\": 2}, \"yaxis\": {\"automargin\": true, \"gridcolor\": \"white\", \"linecolor\": \"white\", \"ticks\": \"\", \"title\": {\"standoff\": 15}, \"zerolinecolor\": \"white\", \"zerolinewidth\": 2}}}, \"title\": {\"text\": \"Spread in China over time\"}, \"updatemenus\": [{\"buttons\": [{\"args\": [null, {\"frame\": {\"duration\": 500, \"redraw\": true}, \"fromcurrent\": true, \"mode\": \"immediate\", \"transition\": {\"duration\": 500, \"easing\": \"linear\"}}], \"label\": \"&#9654;\", \"method\": \"animate\"}, {\"args\": [[null], {\"frame\": {\"duration\": 0, \"redraw\": true}, \"fromcurrent\": true, \"mode\": \"immediate\", \"transition\": {\"duration\": 0, \"easing\": \"linear\"}}], \"label\": \"&#9724;\", \"method\": \"animate\"}], \"direction\": \"left\", \"pad\": {\"r\": 10, \"t\": 70}, \"showactive\": false, \"type\": \"buttons\", \"x\": 0.1, \"xanchor\": \"right\", \"y\": 0, \"yanchor\": \"top\"}]},\n",
       "                        {\"responsive\": true}\n",
       "                    ).then(function(){\n",
       "                            Plotly.addFrames('2dfa81e4-8596-413e-9f82-2d36fca07773', [{\"data\": [{\"customdata\": [[1.0, 0.0, 0.0], [14.0, 0.0, 0.0], [6.0, 0.0, 0.0], [1.0, 0.0, 0.0], [0.0, 0.0, 0.0], [26.0, 0.0, 0.0], [2.0, 0.0, 0.0], [1.0, 0.0, 0.0], [4.0, 0.0, 0.0], [1.0, 0.0, 0.0], [0.0, 0.0, 0.0], [5.0, 0.0, 0.0], [444.0, 0.0, 0.0], [4.0, 0.0, 0.0], [1.0, 0.0, 0.0], [2.0, 0.0, 0.0], [0.0, 0.0, 0.0], [2.0, 0.0, 0.0], [0.0, 0.0, 0.0], [0.0, 0.0, 0.0], [2.0, 0.0, 0.0], [9.0, 0.0, 0.0], [5.0, 0.0, 0.0], [4.0, 0.0, 0.0], [1.0, 0.0, 0.0], [10.0, 0.0, 0.0], [0.0, 0.0, 0.0], [0.0, 0.0, 0.0], [1.0, 0.0, 0.0], [1.0, 0.0, 0.0]], \"geo\": \"geo\", \"hoverlabel\": {\"namelength\": 0}, \"hovertemplate\": \"<b>%{hovertext}</b><br><br>Date=01/22/2020<br>size=%{marker.color}<br>Confirmed=%{customdata[0]}<br>Deaths=%{customdata[1]}<br>Recovered=%{customdata[2]}<br>Latitude=%{lat}<br>Longitude=%{lon}\", \"hovertext\": [\"Anhui\", \"Beijing\", \"Chongqing\", \"Fujian\", \"Gansu\", \"Guangdong\", \"Guangxi\", \"Guizhou\", \"Hainan\", \"Hebei\", \"Heilongjiang\", \"Henan\", \"Hubei\", \"Hunan\", \"Jiangsu\", \"Jiangxi\", \"Jilin\", \"Liaoning\", \"Inner Mongolia\", \"Shaanxi\", \"Shandong\", \"Shanghai\", \"Sichuan\", \"Tianjin\", \"Yunnan\", \"Zhejiang\", \"Tibet\", \"Hong Kong\", \"Macau\", \"Taiwan\"], \"lat\": [33.25, 39.54, 31.05, 26.23, 39.83, 23.08, 21.95, 27.68, 18.26, 37.72, 46.4, 33.57, 32.57, 25.97, 34.38, 27.97, 45.5, 41.81, 50.78, 34.8, 35.99, 31.22, 31.13, 39.23, 25.03, 28.85, 30.15, 22.2, 22.13, 23.03], \"legendgroup\": \"\", \"lon\": [115.35, 115.79, 109.52, 117.58, 97.73, 114.4, 108.62, 109.13, 109.5, 115.7, 125.32, 114.03, 110.78, 113.4, 118.35, 116.36, 124.3, 120.76, 121.52, 109.94, 119.38, 121.44, 104.4, 117.78, 98.47, 121.12, 88.78, 114.08, 113.33, 121.5], \"marker\": {\"color\": [1.0, 3.7416573867739413, 2.449489742783178, 1.0, 0.0, 5.0990195135927845, 1.4142135623730951, 1.0, 2.0, 1.0, 0.0, 2.23606797749979, 21.071307505705477, 2.0, 1.0, 1.4142135623730951, 0.0, 1.4142135623730951, 0.0, 0.0, 1.4142135623730951, 3.0, 2.23606797749979, 2.0, 1.0, 3.1622776601683795, 0.0, 0.0, 1.0, 1.0], \"coloraxis\": \"coloraxis\", \"size\": [1.0, 3.7416573867739413, 2.449489742783178, 1.0, 0.0, 5.0990195135927845, 1.4142135623730951, 1.0, 2.0, 1.0, 0.0, 2.23606797749979, 21.071307505705477, 2.0, 1.0, 1.4142135623730951, 0.0, 1.4142135623730951, 0.0, 0.0, 1.4142135623730951, 3.0, 2.23606797749979, 2.0, 1.0, 3.1622776601683795, 0.0, 0.0, 1.0, 1.0], \"sizemode\": \"area\", \"sizeref\": 0.612316298982805}, \"name\": \"\", \"showlegend\": false, \"type\": \"scattergeo\"}], \"name\": \"01/22/2020\"}, {\"data\": [{\"customdata\": [[9.0, 0.0, 0.0], [22.0, 0.0, 0.0], [9.0, 0.0, 0.0], [5.0, 0.0, 0.0], [2.0, 0.0, 0.0], [32.0, 0.0, 2.0], [5.0, 0.0, 0.0], [3.0, 0.0, 0.0], [5.0, 0.0, 0.0], [1.0, 1.0, 0.0], [2.0, 0.0, 0.0], [5.0, 0.0, 0.0], [444.0, 17.0, 28.0], [9.0, 0.0, 0.0], [5.0, 0.0, 0.0], [7.0, 0.0, 0.0], [1.0, 0.0, 0.0], [3.0, 0.0, 0.0], [0.0, 0.0, 0.0], [3.0, 0.0, 0.0], [6.0, 0.0, 0.0], [16.0, 0.0, 0.0], [8.0, 0.0, 0.0], [4.0, 0.0, 0.0], [2.0, 0.0, 0.0], [27.0, 0.0, 0.0], [0.0, 0.0, 0.0], [2.0, 0.0, 0.0], [2.0, 0.0, 0.0], [1.0, 0.0, 0.0]], \"geo\": \"geo\", \"hoverlabel\": {\"namelength\": 0}, \"hovertemplate\": \"<b>%{hovertext}</b><br><br>Date=01/23/2020<br>size=%{marker.color}<br>Confirmed=%{customdata[0]}<br>Deaths=%{customdata[1]}<br>Recovered=%{customdata[2]}<br>Latitude=%{lat}<br>Longitude=%{lon}\", \"hovertext\": [\"Anhui\", \"Beijing\", \"Chongqing\", \"Fujian\", \"Gansu\", \"Guangdong\", \"Guangxi\", \"Guizhou\", \"Hainan\", \"Hebei\", \"Heilongjiang\", \"Henan\", \"Hubei\", \"Hunan\", \"Jiangsu\", \"Jiangxi\", \"Jilin\", \"Liaoning\", \"Inner Mongolia\", \"Shaanxi\", \"Shandong\", \"Shanghai\", \"Sichuan\", \"Tianjin\", \"Yunnan\", \"Zhejiang\", \"Tibet\", \"Hong Kong\", \"Macau\", \"Taiwan\"], \"lat\": [33.25, 39.54, 31.05, 26.23, 39.83, 23.08, 21.95, 27.68, 18.26, 37.72, 46.4, 33.57, 32.57, 25.97, 34.38, 27.97, 45.5, 41.81, 50.78, 34.8, 35.99, 31.22, 31.13, 39.23, 25.03, 28.85, 30.15, 22.2, 22.13, 23.03], \"legendgroup\": \"\", \"lon\": [115.35, 115.79, 109.52, 117.58, 97.73, 114.4, 108.62, 109.13, 109.5, 115.7, 125.32, 114.03, 110.78, 113.4, 118.35, 116.36, 124.3, 120.76, 121.52, 109.94, 119.38, 121.44, 104.4, 117.78, 98.47, 121.12, 88.78, 114.08, 113.33, 121.5], \"marker\": {\"color\": [3.0, 4.69041575982343, 3.0, 2.23606797749979, 1.4142135623730951, 5.656854249492381, 2.23606797749979, 1.7320508075688772, 2.23606797749979, 1.0, 1.4142135623730951, 2.23606797749979, 21.071307505705477, 3.0, 2.23606797749979, 2.6457513110645907, 1.0, 1.7320508075688772, 0.0, 1.7320508075688772, 2.449489742783178, 4.0, 2.8284271247461903, 2.0, 1.4142135623730951, 5.196152422706632, 0.0, 1.4142135623730951, 1.4142135623730951, 1.0], \"coloraxis\": \"coloraxis\", \"size\": [3.0, 4.69041575982343, 3.0, 2.23606797749979, 1.4142135623730951, 5.656854249492381, 2.23606797749979, 1.7320508075688772, 2.23606797749979, 1.0, 1.4142135623730951, 2.23606797749979, 21.071307505705477, 3.0, 2.23606797749979, 2.6457513110645907, 1.0, 1.7320508075688772, 0.0, 1.7320508075688772, 2.449489742783178, 4.0, 2.8284271247461903, 2.0, 1.4142135623730951, 5.196152422706632, 0.0, 1.4142135623730951, 1.4142135623730951, 1.0], \"sizemode\": \"area\", \"sizeref\": 0.612316298982805}, \"name\": \"\", \"showlegend\": false, \"type\": \"scattergeo\"}], \"name\": \"01/23/2020\"}, {\"data\": [{\"customdata\": [[15.0, 0.0, 0.0], [36.0, 0.0, 1.0], [27.0, 0.0, 0.0], [10.0, 0.0, 0.0], [2.0, 0.0, 0.0], [53.0, 0.0, 2.0], [23.0, 0.0, 0.0], [3.0, 0.0, 0.0], [8.0, 0.0, 0.0], [2.0, 1.0, 0.0], [4.0, 1.0, 0.0], [9.0, 0.0, 0.0], [549.0, 24.0, 31.0], [24.0, 0.0, 0.0], [9.0, 0.0, 0.0], [18.0, 0.0, 0.0], [3.0, 0.0, 0.0], [4.0, 0.0, 0.0], [1.0, 0.0, 0.0], [5.0, 0.0, 0.0], [15.0, 0.0, 0.0], [20.0, 0.0, 1.0], [15.0, 0.0, 0.0], [8.0, 0.0, 0.0], [5.0, 0.0, 0.0], [43.0, 0.0, 1.0], [2.0, 0.0, 0.0], [2.0, 0.0, 0.0], [3.0, 0.0, 0.0]], \"geo\": \"geo\", \"hoverlabel\": {\"namelength\": 0}, \"hovertemplate\": \"<b>%{hovertext}</b><br><br>Date=01/24/2020<br>size=%{marker.color}<br>Confirmed=%{customdata[0]}<br>Deaths=%{customdata[1]}<br>Recovered=%{customdata[2]}<br>Latitude=%{lat}<br>Longitude=%{lon}\", \"hovertext\": [\"Anhui\", \"Beijing\", \"Chongqing\", \"Fujian\", \"Gansu\", \"Guangdong\", \"Guangxi\", \"Guizhou\", \"Hainan\", \"Hebei\", \"Heilongjiang\", \"Henan\", \"Hubei\", \"Hunan\", \"Jiangsu\", \"Jiangxi\", \"Jilin\", \"Liaoning\", \"Inner Mongolia\", \"Shaanxi\", \"Shandong\", \"Shanghai\", \"Sichuan\", \"Tianjin\", \"Yunnan\", \"Zhejiang\", \"Hong Kong\", \"Macau\", \"Taiwan\"], \"lat\": [33.25, 39.54, 31.05, 26.23, 39.83, 23.08, 21.95, 27.68, 18.26, 37.72, 46.4, 33.57, 32.57, 25.97, 34.38, 27.97, 45.5, 41.81, 50.78, 34.8, 35.99, 31.22, 31.13, 39.23, 25.03, 28.85, 22.2, 22.13, 23.03], \"legendgroup\": \"\", \"lon\": [115.35, 115.79, 109.52, 117.58, 97.73, 114.4, 108.62, 109.13, 109.5, 115.7, 125.32, 114.03, 110.78, 113.4, 118.35, 116.36, 124.3, 120.76, 121.52, 109.94, 119.38, 121.44, 104.4, 117.78, 98.47, 121.12, 114.08, 113.33, 121.5], \"marker\": {\"color\": [3.872983346207417, 6.0, 5.196152422706632, 3.1622776601683795, 1.4142135623730951, 7.280109889280518, 4.795831523312719, 1.7320508075688772, 2.8284271247461903, 1.4142135623730951, 2.0, 3.0, 23.430749027719962, 4.898979485566356, 3.0, 4.242640687119285, 1.7320508075688772, 2.0, 1.0, 2.23606797749979, 3.872983346207417, 4.47213595499958, 3.872983346207417, 2.8284271247461903, 2.23606797749979, 6.557438524302, 1.4142135623730951, 1.4142135623730951, 1.7320508075688772], \"coloraxis\": \"coloraxis\", \"size\": [3.872983346207417, 6.0, 5.196152422706632, 3.1622776601683795, 1.4142135623730951, 7.280109889280518, 4.795831523312719, 1.7320508075688772, 2.8284271247461903, 1.4142135623730951, 2.0, 3.0, 23.430749027719962, 4.898979485566356, 3.0, 4.242640687119285, 1.7320508075688772, 2.0, 1.0, 2.23606797749979, 3.872983346207417, 4.47213595499958, 3.872983346207417, 2.8284271247461903, 2.23606797749979, 6.557438524302, 1.4142135623730951, 1.4142135623730951, 1.7320508075688772], \"sizemode\": \"area\", \"sizeref\": 0.612316298982805}, \"name\": \"\", \"showlegend\": false, \"type\": \"scattergeo\"}], \"name\": \"01/24/2020\"}, {\"data\": [{\"customdata\": [[60.0, 0.0, 0.0], [51.0, 0.0, 2.0], [75.0, 0.0, 0.0], [18.0, 1.0, 0.0], [7.0, 0.0, 0.0], [98.0, 0.0, 2.0], [33.0, 0.0, 0.0], [5.0, 0.0, 0.0], [19.0, 0.0, 0.0], [13.0, 1.0, 0.0], [15.0, 0.0, 0.0], [83.0, 1.0, 0.0], [1052.0, 52.0, 42.0], [69.0, 0.0, 0.0], [31.0, 0.0, 1.0], [36.0, 0.0, 0.0], [4.0, 0.0, 0.0], [19.0, 0.0, 0.0], [7.0, 0.0, 0.0], [15.0, 0.0, 0.0], [39.0, 0.0, 0.0], [40.0, 1.0, 1.0], [44.0, 0.0, 0.0], [13.0, 0.0, 0.0], [11.0, 0.0, 0.0], [104.0, 0.0, 1.0], [5.0, 0.0, 0.0], [2.0, 0.0, 0.0], [3.0, 0.0, 0.0]], \"geo\": \"geo\", \"hoverlabel\": {\"namelength\": 0}, \"hovertemplate\": \"<b>%{hovertext}</b><br><br>Date=01/25/2020<br>size=%{marker.color}<br>Confirmed=%{customdata[0]}<br>Deaths=%{customdata[1]}<br>Recovered=%{customdata[2]}<br>Latitude=%{lat}<br>Longitude=%{lon}\", \"hovertext\": [\"Anhui\", \"Beijing\", \"Chongqing\", \"Fujian\", \"Gansu\", \"Guangdong\", \"Guangxi\", \"Guizhou\", \"Hainan\", \"Hebei\", \"Heilongjiang\", \"Henan\", \"Hubei\", \"Hunan\", \"Jiangsu\", \"Jiangxi\", \"Jilin\", \"Liaoning\", \"Inner Mongolia\", \"Shaanxi\", \"Shandong\", \"Shanghai\", \"Sichuan\", \"Tianjin\", \"Yunnan\", \"Zhejiang\", \"Hong Kong\", \"Macau\", \"Taiwan\"], \"lat\": [33.25, 39.54, 31.05, 26.23, 39.83, 23.08, 21.95, 27.68, 18.26, 37.72, 46.4, 33.57, 32.57, 25.97, 34.38, 27.97, 45.5, 41.81, 50.78, 34.8, 35.99, 31.22, 31.13, 39.23, 25.03, 28.85, 22.2, 22.13, 23.03], \"legendgroup\": \"\", \"lon\": [115.35, 115.79, 109.52, 117.58, 97.73, 114.4, 108.62, 109.13, 109.5, 115.7, 125.32, 114.03, 110.78, 113.4, 118.35, 116.36, 124.3, 120.76, 121.52, 109.94, 119.38, 121.44, 104.4, 117.78, 98.47, 121.12, 114.08, 113.33, 121.5], \"marker\": {\"color\": [7.745966692414834, 7.14142842854285, 8.660254037844387, 4.242640687119285, 2.6457513110645907, 9.899494936611665, 5.744562646538029, 2.23606797749979, 4.358898943540674, 3.605551275463989, 3.872983346207417, 9.1104335791443, 32.43454948045371, 8.306623862918075, 5.5677643628300215, 6.0, 2.0, 4.358898943540674, 2.6457513110645907, 3.872983346207417, 6.244997998398398, 6.324555320336759, 6.6332495807108, 3.605551275463989, 3.3166247903554, 10.198039027185569, 2.23606797749979, 1.4142135623730951, 1.7320508075688772], \"coloraxis\": \"coloraxis\", \"size\": [7.745966692414834, 7.14142842854285, 8.660254037844387, 4.242640687119285, 2.6457513110645907, 9.899494936611665, 5.744562646538029, 2.23606797749979, 4.358898943540674, 3.605551275463989, 3.872983346207417, 9.1104335791443, 32.43454948045371, 8.306623862918075, 5.5677643628300215, 6.0, 2.0, 4.358898943540674, 2.6457513110645907, 3.872983346207417, 6.244997998398398, 6.324555320336759, 6.6332495807108, 3.605551275463989, 3.3166247903554, 10.198039027185569, 2.23606797749979, 1.4142135623730951, 1.7320508075688772], \"sizemode\": \"area\", \"sizeref\": 0.612316298982805}, \"name\": \"\", \"showlegend\": false, \"type\": \"scattergeo\"}], \"name\": \"01/25/2020\"}, {\"data\": [{\"customdata\": [[70.0, 0.0, 0.0], [68.0, 0.0, 2.0], [110.0, 0.0, 0.0], [35.0, 0.0, 0.0], [14.0, 0.0, 0.0], [146.0, 0.0, 2.0], [46.0, 0.0, 0.0], [7.0, 0.0, 0.0], [22.0, 0.0, 0.0], [18.0, 1.0, 0.0], [21.0, 1.0, 0.0], [128.0, 1.0, 0.0], [1423.0, 76.0, 44.0], [100.0, 0.0, 0.0], [47.0, 0.0, 1.0], [48.0, 0.0, 0.0], [6.0, 0.0, 0.0], [23.0, 0.0, 0.0], [11.0, 0.0, 0.0], [22.0, 0.0, 0.0], [63.0, 0.0, 0.0], [53.0, 1.0, 1.0], [69.0, 0.0, 0.0], [14.0, 0.0, 0.0], [19.0, 0.0, 0.0], [128.0, 0.0, 1.0], [8.0, 0.0, 0.0], [6.0, 0.0, 0.0], [4.0, 0.0, 0.0]], \"geo\": \"geo\", \"hoverlabel\": {\"namelength\": 0}, \"hovertemplate\": \"<b>%{hovertext}</b><br><br>Date=01/26/2020<br>size=%{marker.color}<br>Confirmed=%{customdata[0]}<br>Deaths=%{customdata[1]}<br>Recovered=%{customdata[2]}<br>Latitude=%{lat}<br>Longitude=%{lon}\", \"hovertext\": [\"Anhui\", \"Beijing\", \"Chongqing\", \"Fujian\", \"Gansu\", \"Guangdong\", \"Guangxi\", \"Guizhou\", \"Hainan\", \"Hebei\", \"Heilongjiang\", \"Henan\", \"Hubei\", \"Hunan\", \"Jiangsu\", \"Jiangxi\", \"Jilin\", \"Liaoning\", \"Inner Mongolia\", \"Shaanxi\", \"Shandong\", \"Shanghai\", \"Sichuan\", \"Tianjin\", \"Yunnan\", \"Zhejiang\", \"Hong Kong\", \"Macau\", \"Taiwan\"], \"lat\": [33.25, 39.54, 31.05, 26.23, 39.83, 23.08, 21.95, 27.68, 18.26, 37.72, 46.4, 33.57, 32.57, 25.97, 34.38, 27.97, 45.5, 41.81, 50.78, 34.8, 35.99, 31.22, 31.13, 39.23, 25.03, 28.85, 22.2, 22.13, 23.03], \"legendgroup\": \"\", \"lon\": [115.35, 115.79, 109.52, 117.58, 97.73, 114.4, 108.62, 109.13, 109.5, 115.7, 125.32, 114.03, 110.78, 113.4, 118.35, 116.36, 124.3, 120.76, 121.52, 109.94, 119.38, 121.44, 104.4, 117.78, 98.47, 121.12, 114.08, 113.33, 121.5], \"marker\": {\"color\": [8.366600265340756, 8.246211251235321, 10.488088481701515, 5.916079783099616, 3.7416573867739413, 12.083045973594572, 6.782329983125268, 2.6457513110645907, 4.69041575982343, 4.242640687119285, 4.58257569495584, 11.313708498984761, 37.72267222772003, 10.0, 6.855654600401044, 6.928203230275509, 2.449489742783178, 4.795831523312719, 3.3166247903554, 4.69041575982343, 7.937253933193772, 7.280109889280518, 8.306623862918075, 3.7416573867739413, 4.358898943540674, 11.313708498984761, 2.8284271247461903, 2.449489742783178, 2.0], \"coloraxis\": \"coloraxis\", \"size\": [8.366600265340756, 8.246211251235321, 10.488088481701515, 5.916079783099616, 3.7416573867739413, 12.083045973594572, 6.782329983125268, 2.6457513110645907, 4.69041575982343, 4.242640687119285, 4.58257569495584, 11.313708498984761, 37.72267222772003, 10.0, 6.855654600401044, 6.928203230275509, 2.449489742783178, 4.795831523312719, 3.3166247903554, 4.69041575982343, 7.937253933193772, 7.280109889280518, 8.306623862918075, 3.7416573867739413, 4.358898943540674, 11.313708498984761, 2.8284271247461903, 2.449489742783178, 2.0], \"sizemode\": \"area\", \"sizeref\": 0.612316298982805}, \"name\": \"\", \"showlegend\": false, \"type\": \"scattergeo\"}], \"name\": \"01/26/2020\"}, {\"data\": [{\"customdata\": [[106.0, 0.0, 0.0], [80.0, 1.0, 2.0], [132.0, 0.0, 0.0], [59.0, 0.0, 0.0], [19.0, 0.0, 0.0], [151.0, 0.0, 4.0], [51.0, 0.0, 0.0], [9.0, 0.0, 0.0], [33.0, 1.0, 0.0], [33.0, 1.0, 0.0], [30.0, 1.0, 0.0], [168.0, 1.0, 0.0], [2714.0, 100.0, 47.0], [100.0, 0.0, 0.0], [70.0, 0.0, 1.0], [72.0, 0.0, 2.0], [6.0, 0.0, 0.0], [27.0, 0.0, 0.0], [11.0, 0.0, 0.0], [35.0, 0.0, 0.0], [87.0, 1.0, 0.0], [66.0, 1.0, 3.0], [90.0, 0.0, 0.0], [23.0, 0.0, 0.0], [26.0, 0.0, 0.0], [173.0, 0.0, 1.0], [8.0, 0.0, 0.0], [6.0, 0.0, 0.0], [5.0, 0.0, 0.0]], \"geo\": \"geo\", \"hoverlabel\": {\"namelength\": 0}, \"hovertemplate\": \"<b>%{hovertext}</b><br><br>Date=01/27/2020<br>size=%{marker.color}<br>Confirmed=%{customdata[0]}<br>Deaths=%{customdata[1]}<br>Recovered=%{customdata[2]}<br>Latitude=%{lat}<br>Longitude=%{lon}\", \"hovertext\": [\"Anhui\", \"Beijing\", \"Chongqing\", \"Fujian\", \"Gansu\", \"Guangdong\", \"Guangxi\", \"Guizhou\", \"Hainan\", \"Hebei\", \"Heilongjiang\", \"Henan\", \"Hubei\", \"Hunan\", \"Jiangsu\", \"Jiangxi\", \"Jilin\", \"Liaoning\", \"Inner Mongolia\", \"Shaanxi\", \"Shandong\", \"Shanghai\", \"Sichuan\", \"Tianjin\", \"Yunnan\", \"Zhejiang\", \"Hong Kong\", \"Macau\", \"Taiwan\"], \"lat\": [33.25, 39.54, 31.05, 26.23, 39.83, 23.08, 21.95, 27.68, 18.26, 37.72, 46.4, 33.57, 32.57, 25.97, 34.38, 27.97, 45.5, 41.81, 50.78, 34.8, 35.99, 31.22, 31.13, 39.23, 25.03, 28.85, 22.2, 22.13, 23.03], \"legendgroup\": \"\", \"lon\": [115.35, 115.79, 109.52, 117.58, 97.73, 114.4, 108.62, 109.13, 109.5, 115.7, 125.32, 114.03, 110.78, 113.4, 118.35, 116.36, 124.3, 120.76, 121.52, 109.94, 119.38, 121.44, 104.4, 117.78, 98.47, 121.12, 114.08, 113.33, 121.5], \"marker\": {\"color\": [10.295630140987, 8.94427190999916, 11.489125293076057, 7.681145747868608, 4.358898943540674, 12.288205727444508, 7.14142842854285, 3.0, 5.744562646538029, 5.744562646538029, 5.477225575051661, 12.96148139681572, 52.09606511052442, 10.0, 8.366600265340756, 8.48528137423857, 2.449489742783178, 5.196152422706632, 3.3166247903554, 5.916079783099616, 9.327379053088816, 8.12403840463596, 9.486832980505138, 4.795831523312719, 5.0990195135927845, 13.152946437965905, 2.8284271247461903, 2.449489742783178, 2.23606797749979], \"coloraxis\": \"coloraxis\", \"size\": [10.295630140987, 8.94427190999916, 11.489125293076057, 7.681145747868608, 4.358898943540674, 12.288205727444508, 7.14142842854285, 3.0, 5.744562646538029, 5.744562646538029, 5.477225575051661, 12.96148139681572, 52.09606511052442, 10.0, 8.366600265340756, 8.48528137423857, 2.449489742783178, 5.196152422706632, 3.3166247903554, 5.916079783099616, 9.327379053088816, 8.12403840463596, 9.486832980505138, 4.795831523312719, 5.0990195135927845, 13.152946437965905, 2.8284271247461903, 2.449489742783178, 2.23606797749979], \"sizemode\": \"area\", \"sizeref\": 0.612316298982805}, \"name\": \"\", \"showlegend\": false, \"type\": \"scattergeo\"}], \"name\": \"01/27/2020\"}, {\"data\": [{\"customdata\": [[152.0, 0.0, 0.0], [91.0, 1.0, 4.0], [147.0, 0.0, 1.0], [82.0, 0.0, 0.0], [24.0, 0.0, 0.0], [241.0, 0.0, 5.0], [58.0, 0.0, 2.0], [9.0, 0.0, 0.0], [43.0, 1.0, 0.0], [48.0, 1.0, 0.0], [37.0, 1.0, 0.0], [206.0, 2.0, 1.0], [3554.0, 125.0, 80.0], [221.0, 0.0, 0.0], [99.0, 0.0, 1.0], [109.0, 0.0, 3.0], [9.0, 0.0, 0.0], [36.0, 0.0, 0.0], [16.0, 0.0, 0.0], [56.0, 0.0, 0.0], [121.0, 0.0, 0.0], [80.0, 1.0, 4.0], [108.0, 0.0, 0.0], [25.0, 0.0, 0.0], [44.0, 0.0, 0.0], [296.0, 0.0, 3.0], [8.0, 0.0, 0.0], [7.0, 0.0, 0.0], [8.0, 0.0, 0.0]], \"geo\": \"geo\", \"hoverlabel\": {\"namelength\": 0}, \"hovertemplate\": \"<b>%{hovertext}</b><br><br>Date=01/28/2020<br>size=%{marker.color}<br>Confirmed=%{customdata[0]}<br>Deaths=%{customdata[1]}<br>Recovered=%{customdata[2]}<br>Latitude=%{lat}<br>Longitude=%{lon}\", \"hovertext\": [\"Anhui\", \"Beijing\", \"Chongqing\", \"Fujian\", \"Gansu\", \"Guangdong\", \"Guangxi\", \"Guizhou\", \"Hainan\", \"Hebei\", \"Heilongjiang\", \"Henan\", \"Hubei\", \"Hunan\", \"Jiangsu\", \"Jiangxi\", \"Jilin\", \"Liaoning\", \"Inner Mongolia\", \"Shaanxi\", \"Shandong\", \"Shanghai\", \"Sichuan\", \"Tianjin\", \"Yunnan\", \"Zhejiang\", \"Hong Kong\", \"Macau\", \"Taiwan\"], \"lat\": [33.25, 39.54, 31.05, 26.23, 39.83, 23.08, 21.95, 27.68, 18.26, 37.72, 46.4, 33.57, 32.57, 25.97, 34.38, 27.97, 45.5, 41.81, 50.78, 34.8, 35.99, 31.22, 31.13, 39.23, 25.03, 28.85, 22.2, 22.13, 23.03], \"legendgroup\": \"\", \"lon\": [115.35, 115.79, 109.52, 117.58, 97.73, 114.4, 108.62, 109.13, 109.5, 115.7, 125.32, 114.03, 110.78, 113.4, 118.35, 116.36, 124.3, 120.76, 121.52, 109.94, 119.38, 121.44, 104.4, 117.78, 98.47, 121.12, 114.08, 113.33, 121.5], \"marker\": {\"color\": [12.328828005937952, 9.539392014169456, 12.12435565298214, 9.055385138137417, 4.898979485566356, 15.524174696260024, 7.615773105863909, 3.0, 6.557438524302, 6.928203230275509, 6.082762530298219, 14.352700094407323, 59.61543424315552, 14.866068747318506, 9.9498743710662, 10.44030650891055, 3.0, 6.0, 4.0, 7.483314773547883, 11.0, 8.94427190999916, 10.392304845413264, 5.0, 6.6332495807108, 17.204650534085253, 2.8284271247461903, 2.6457513110645907, 2.8284271247461903], \"coloraxis\": \"coloraxis\", \"size\": [12.328828005937952, 9.539392014169456, 12.12435565298214, 9.055385138137417, 4.898979485566356, 15.524174696260024, 7.615773105863909, 3.0, 6.557438524302, 6.928203230275509, 6.082762530298219, 14.352700094407323, 59.61543424315552, 14.866068747318506, 9.9498743710662, 10.44030650891055, 3.0, 6.0, 4.0, 7.483314773547883, 11.0, 8.94427190999916, 10.392304845413264, 5.0, 6.6332495807108, 17.204650534085253, 2.8284271247461903, 2.6457513110645907, 2.8284271247461903], \"sizemode\": \"area\", \"sizeref\": 0.612316298982805}, \"name\": \"\", \"showlegend\": false, \"type\": \"scattergeo\"}], \"name\": \"01/28/2020\"}, {\"data\": [{\"customdata\": [[200.0, 0.0, 2.0], [111.0, 1.0, 4.0], [165.0, 0.0, 1.0], [101.0, 0.0, 0.0], [26.0, 0.0, 0.0], [311.0, 0.0, 6.0], [78.0, 0.0, 2.0], [12.0, 0.0, 1.0], [43.0, 1.0, 0.0], [65.0, 1.0, 0.0], [43.0, 1.0, 0.0], [278.0, 2.0, 2.0], [4586.0, 162.0, 90.0], [277.0, 0.0, 0.0], [129.0, 0.0, 1.0], [162.0, 0.0, 4.0], [14.0, 0.0, 1.0], [39.0, 0.0, 1.0], [16.0, 0.0, 0.0], [56.0, 0.0, 0.0], [145.0, 0.0, 1.0], [101.0, 1.0, 5.0], [142.0, 1.0, 1.0], [27.0, 0.0, 0.0], [55.0, 0.0, 0.0], [428.0, 0.0, 4.0], [1.0, 0.0, 0.0], [10.0, 0.0, 0.0], [7.0, 0.0, 0.0], [8.0, 0.0, 0.0]], \"geo\": \"geo\", \"hoverlabel\": {\"namelength\": 0}, \"hovertemplate\": \"<b>%{hovertext}</b><br><br>Date=01/29/2020<br>size=%{marker.color}<br>Confirmed=%{customdata[0]}<br>Deaths=%{customdata[1]}<br>Recovered=%{customdata[2]}<br>Latitude=%{lat}<br>Longitude=%{lon}\", \"hovertext\": [\"Anhui\", \"Beijing\", \"Chongqing\", \"Fujian\", \"Gansu\", \"Guangdong\", \"Guangxi\", \"Guizhou\", \"Hainan\", \"Hebei\", \"Heilongjiang\", \"Henan\", \"Hubei\", \"Hunan\", \"Jiangsu\", \"Jiangxi\", \"Jilin\", \"Liaoning\", \"Inner Mongolia\", \"Shaanxi\", \"Shandong\", \"Shanghai\", \"Sichuan\", \"Tianjin\", \"Yunnan\", \"Zhejiang\", \"Tibet\", \"Hong Kong\", \"Macau\", \"Taiwan\"], \"lat\": [33.25, 39.54, 31.05, 26.23, 39.83, 23.08, 21.95, 27.68, 18.26, 37.72, 46.4, 33.57, 32.57, 25.97, 34.38, 27.97, 45.5, 41.81, 50.78, 34.8, 35.99, 31.22, 31.13, 39.23, 25.03, 28.85, 30.15, 22.2, 22.13, 23.03], \"legendgroup\": \"\", \"lon\": [115.35, 115.79, 109.52, 117.58, 97.73, 114.4, 108.62, 109.13, 109.5, 115.7, 125.32, 114.03, 110.78, 113.4, 118.35, 116.36, 124.3, 120.76, 121.52, 109.94, 119.38, 121.44, 104.4, 117.78, 98.47, 121.12, 88.78, 114.08, 113.33, 121.5], \"marker\": {\"color\": [14.142135623730951, 10.535653752852738, 12.84523257866513, 10.04987562112089, 5.0990195135927845, 17.635192088548397, 8.831760866327848, 3.4641016151377544, 6.557438524302, 8.06225774829855, 6.557438524302, 16.673332000533065, 67.72001181334805, 16.64331697709324, 11.357816691600547, 12.727922061357855, 3.7416573867739413, 6.244997998398398, 4.0, 7.483314773547883, 12.041594578792296, 10.04987562112089, 11.916375287812984, 5.196152422706632, 7.416198487095663, 20.688160865577203, 1.0, 3.1622776601683795, 2.6457513110645907, 2.8284271247461903], \"coloraxis\": \"coloraxis\", \"size\": [14.142135623730951, 10.535653752852738, 12.84523257866513, 10.04987562112089, 5.0990195135927845, 17.635192088548397, 8.831760866327848, 3.4641016151377544, 6.557438524302, 8.06225774829855, 6.557438524302, 16.673332000533065, 67.72001181334805, 16.64331697709324, 11.357816691600547, 12.727922061357855, 3.7416573867739413, 6.244997998398398, 4.0, 7.483314773547883, 12.041594578792296, 10.04987562112089, 11.916375287812984, 5.196152422706632, 7.416198487095663, 20.688160865577203, 1.0, 3.1622776601683795, 2.6457513110645907, 2.8284271247461903], \"sizemode\": \"area\", \"sizeref\": 0.612316298982805}, \"name\": \"\", \"showlegend\": false, \"type\": \"scattergeo\"}], \"name\": \"01/29/2020\"}, {\"data\": [{\"customdata\": [[237.0, 0.0, 3.0], [121.0, 1.0, 5.0], [206.0, 0.0, 1.0], [101.0, 0.0, 0.0], [29.0, 0.0, 0.0], [393.0, 0.0, 11.0], [87.0, 0.0, 2.0], [15.0, 0.0, 1.0], [50.0, 1.0, 1.0], [82.0, 1.0, 0.0], [59.0, 2.0, 0.0], [352.0, 2.0, 3.0], [5806.0, 204.0, 116.0], [332.0, 0.0, 2.0], [168.0, 0.0, 2.0], [240.0, 0.0, 7.0], [14.0, 0.0, 1.0], [45.0, 0.0, 1.0], [20.0, 0.0, 0.0], [87.0, 0.0, 0.0], [178.0, 0.0, 2.0], [128.0, 1.0, 9.0], [177.0, 1.0, 1.0], [32.0, 0.0, 0.0], [76.0, 0.0, 0.0], [537.0, 0.0, 9.0], [1.0, 0.0, 0.0], [12.0, 0.0, 0.0], [7.0, 0.0, 0.0], [9.0, 0.0, 0.0]], \"geo\": \"geo\", \"hoverlabel\": {\"namelength\": 0}, \"hovertemplate\": \"<b>%{hovertext}</b><br><br>Date=01/30/2020<br>size=%{marker.color}<br>Confirmed=%{customdata[0]}<br>Deaths=%{customdata[1]}<br>Recovered=%{customdata[2]}<br>Latitude=%{lat}<br>Longitude=%{lon}\", \"hovertext\": [\"Anhui\", \"Beijing\", \"Chongqing\", \"Fujian\", \"Gansu\", \"Guangdong\", \"Guangxi\", \"Guizhou\", \"Hainan\", \"Hebei\", \"Heilongjiang\", \"Henan\", \"Hubei\", \"Hunan\", \"Jiangsu\", \"Jiangxi\", \"Jilin\", \"Liaoning\", \"Inner Mongolia\", \"Shaanxi\", \"Shandong\", \"Shanghai\", \"Sichuan\", \"Tianjin\", \"Yunnan\", \"Zhejiang\", \"Tibet\", \"Hong Kong\", \"Macau\", \"Taiwan\"], \"lat\": [33.25, 39.54, 31.05, 26.23, 39.83, 23.08, 21.95, 27.68, 18.26, 37.72, 46.4, 33.57, 32.57, 25.97, 34.38, 27.97, 45.5, 41.81, 50.78, 34.8, 35.99, 31.22, 31.13, 39.23, 25.03, 28.85, 30.15, 22.2, 22.13, 23.03], \"legendgroup\": \"\", \"lon\": [115.35, 115.79, 109.52, 117.58, 97.73, 114.4, 108.62, 109.13, 109.5, 115.7, 125.32, 114.03, 110.78, 113.4, 118.35, 116.36, 124.3, 120.76, 121.52, 109.94, 119.38, 121.44, 104.4, 117.78, 98.47, 121.12, 88.78, 114.08, 113.33, 121.5], \"marker\": {\"color\": [15.394804318340652, 11.0, 14.352700094407323, 10.04987562112089, 5.385164807134504, 19.82422760159901, 9.327379053088816, 3.872983346207417, 7.0710678118654755, 9.055385138137417, 7.681145747868608, 18.76166303929372, 76.19711280619497, 18.2208671582886, 12.96148139681572, 15.491933384829668, 3.7416573867739413, 6.708203932499369, 4.47213595499958, 9.327379053088816, 13.341664064126334, 11.313708498984761, 13.30413469565007, 5.656854249492381, 8.717797887081348, 23.173260452512935, 1.0, 3.4641016151377544, 2.6457513110645907, 3.0], \"coloraxis\": \"coloraxis\", \"size\": [15.394804318340652, 11.0, 14.352700094407323, 10.04987562112089, 5.385164807134504, 19.82422760159901, 9.327379053088816, 3.872983346207417, 7.0710678118654755, 9.055385138137417, 7.681145747868608, 18.76166303929372, 76.19711280619497, 18.2208671582886, 12.96148139681572, 15.491933384829668, 3.7416573867739413, 6.708203932499369, 4.47213595499958, 9.327379053088816, 13.341664064126334, 11.313708498984761, 13.30413469565007, 5.656854249492381, 8.717797887081348, 23.173260452512935, 1.0, 3.4641016151377544, 2.6457513110645907, 3.0], \"sizemode\": \"area\", \"sizeref\": 0.612316298982805}, \"name\": \"\", \"showlegend\": false, \"type\": \"scattergeo\"}], \"name\": \"01/30/2020\"}, {\"data\": [{\"customdata\": [[237.0, 0.0, 3.0], [139.0, 1.0, 5.0], [238.0, 1.0, 1.0], [120.0, 0.0, 0.0], [35.0, 0.0, 0.0], [436.0, 0.0, 10.0], [88.0, 0.0, 2.0], [29.0, 0.0, 2.0], [58.0, 1.0, 1.0], [96.0, 1.0, 0.0], [59.0, 2.0, 0.0], [352.0, 2.0, 3.0], [7153.0, 249.0, 169.0], [332.0, 0.0, 3.0], [168.0, 0.0, 5.0], [240.0, 0.0, 7.0], [14.0, 0.0, 1.0], [60.0, 0.0, 1.0], [20.0, 0.0, 0.0], [87.0, 0.0, 0.0], [184.0, 0.0, 2.0], [153.0, 1.0, 9.0], [177.0, 1.0, 1.0], [32.0, 0.0, 0.0], [83.0, 0.0, 1.0], [537.0, 0.0, 14.0], [1.0, 0.0, 0.0], [13.0, 0.0, 0.0], [7.0, 0.0, 0.0], [10.0, 0.0, 0.0]], \"geo\": \"geo\", \"hoverlabel\": {\"namelength\": 0}, \"hovertemplate\": \"<b>%{hovertext}</b><br><br>Date=01/31/2020<br>size=%{marker.color}<br>Confirmed=%{customdata[0]}<br>Deaths=%{customdata[1]}<br>Recovered=%{customdata[2]}<br>Latitude=%{lat}<br>Longitude=%{lon}\", \"hovertext\": [\"Anhui\", \"Beijing\", \"Chongqing\", \"Fujian\", \"Gansu\", \"Guangdong\", \"Guangxi\", \"Guizhou\", \"Hainan\", \"Hebei\", \"Heilongjiang\", \"Henan\", \"Hubei\", \"Hunan\", \"Jiangsu\", \"Jiangxi\", \"Jilin\", \"Liaoning\", \"Inner Mongolia\", \"Shaanxi\", \"Shandong\", \"Shanghai\", \"Sichuan\", \"Tianjin\", \"Yunnan\", \"Zhejiang\", \"Tibet\", \"Hong Kong\", \"Macau\", \"Taiwan\"], \"lat\": [33.25, 39.54, 31.05, 26.23, 39.83, 23.08, 21.95, 27.68, 18.26, 37.72, 46.4, 33.57, 32.57, 25.97, 34.38, 27.97, 45.5, 41.81, 50.78, 34.8, 35.99, 31.22, 31.13, 39.23, 25.03, 28.85, 30.15, 22.2, 22.13, 23.03], \"legendgroup\": \"\", \"lon\": [115.35, 115.79, 109.52, 117.58, 97.73, 114.4, 108.62, 109.13, 109.5, 115.7, 125.32, 114.03, 110.78, 113.4, 118.35, 116.36, 124.3, 120.76, 121.52, 109.94, 119.38, 121.44, 104.4, 117.78, 98.47, 121.12, 88.78, 114.08, 113.33, 121.5], \"marker\": {\"color\": [15.394804318340652, 11.789826122551595, 15.427248620541512, 10.954451150103322, 5.916079783099616, 20.8806130178211, 9.38083151964686, 5.385164807134504, 7.615773105863909, 9.797958971132712, 7.681145747868608, 18.76166303929372, 84.57541013793548, 18.2208671582886, 12.96148139681572, 15.491933384829668, 3.7416573867739413, 7.745966692414834, 4.47213595499958, 9.327379053088816, 13.564659966250536, 12.36931687685298, 13.30413469565007, 5.656854249492381, 9.1104335791443, 23.173260452512935, 1.0, 3.605551275463989, 2.6457513110645907, 3.1622776601683795], \"coloraxis\": \"coloraxis\", \"size\": [15.394804318340652, 11.789826122551595, 15.427248620541512, 10.954451150103322, 5.916079783099616, 20.8806130178211, 9.38083151964686, 5.385164807134504, 7.615773105863909, 9.797958971132712, 7.681145747868608, 18.76166303929372, 84.57541013793548, 18.2208671582886, 12.96148139681572, 15.491933384829668, 3.7416573867739413, 7.745966692414834, 4.47213595499958, 9.327379053088816, 13.564659966250536, 12.36931687685298, 13.30413469565007, 5.656854249492381, 9.1104335791443, 23.173260452512935, 1.0, 3.605551275463989, 2.6457513110645907, 3.1622776601683795], \"sizemode\": \"area\", \"sizeref\": 0.612316298982805}, \"name\": \"\", \"showlegend\": false, \"type\": \"scattergeo\"}], \"name\": \"01/31/2020\"}, {\"data\": [{\"customdata\": [[340.0, 0.0, 5.0], [183.0, 1.0, 9.0], [262.0, 1.0, 3.0], [159.0, 0.0, 0.0], [40.0, 0.0, 0.0], [604.0, 0.0, 14.0], [111.0, 0.0, 2.0], [38.0, 0.0, 2.0], [63.0, 1.0, 1.0], [104.0, 1.0, 3.0], [95.0, 2.0, 2.0], [493.0, 2.0, 4.0], [9074.0, 294.0, 215.0], [463.0, 0.0, 8.0], [236.0, 0.0, 6.0], [333.0, 0.0, 10.0], [23.0, 0.0, 1.0], [64.0, 0.0, 1.0], [27.0, 0.0, 1.0], [116.0, 0.0, 0.0], [225.0, 0.0, 5.0], [177.0, 1.0, 10.0], [231.0, 1.0, 3.0], [45.0, 0.0, 0.0], [93.0, 0.0, 2.0], [661.0, 0.0, 23.0], [1.0, 0.0, 0.0], [14.0, 0.0, 0.0], [7.0, 0.0, 0.0], [10.0, 0.0, 0.0]], \"geo\": \"geo\", \"hoverlabel\": {\"namelength\": 0}, \"hovertemplate\": \"<b>%{hovertext}</b><br><br>Date=02/01/2020<br>size=%{marker.color}<br>Confirmed=%{customdata[0]}<br>Deaths=%{customdata[1]}<br>Recovered=%{customdata[2]}<br>Latitude=%{lat}<br>Longitude=%{lon}\", \"hovertext\": [\"Anhui\", \"Beijing\", \"Chongqing\", \"Fujian\", \"Gansu\", \"Guangdong\", \"Guangxi\", \"Guizhou\", \"Hainan\", \"Hebei\", \"Heilongjiang\", \"Henan\", \"Hubei\", \"Hunan\", \"Jiangsu\", \"Jiangxi\", \"Jilin\", \"Liaoning\", \"Inner Mongolia\", \"Shaanxi\", \"Shandong\", \"Shanghai\", \"Sichuan\", \"Tianjin\", \"Yunnan\", \"Zhejiang\", \"Tibet\", \"Hong Kong\", \"Macau\", \"Taiwan\"], \"lat\": [33.25, 39.54, 31.05, 26.23, 39.83, 23.08, 21.95, 27.68, 18.26, 37.72, 46.4, 33.57, 32.57, 25.97, 34.38, 27.97, 45.5, 41.81, 50.78, 34.8, 35.99, 31.22, 31.13, 39.23, 25.03, 28.85, 30.15, 22.2, 22.13, 23.03], \"legendgroup\": \"\", \"lon\": [115.35, 115.79, 109.52, 117.58, 97.73, 114.4, 108.62, 109.13, 109.5, 115.7, 125.32, 114.03, 110.78, 113.4, 118.35, 116.36, 124.3, 120.76, 121.52, 109.94, 119.38, 121.44, 104.4, 117.78, 98.47, 121.12, 88.78, 114.08, 113.33, 121.5], \"marker\": {\"color\": [18.439088914585774, 13.527749258468683, 16.186414056238647, 12.609520212918492, 6.324555320336759, 24.576411454889016, 10.535653752852738, 6.164414002968976, 7.937253933193772, 10.198039027185569, 9.746794344808963, 22.20360331117452, 95.25754563287887, 21.517434791350013, 15.362291495737216, 18.24828759089466, 4.795831523312719, 8.0, 5.196152422706632, 10.770329614269007, 15.0, 13.30413469565007, 15.198684153570664, 6.708203932499369, 9.643650760992955, 25.709920264364882, 1.0, 3.7416573867739413, 2.6457513110645907, 3.1622776601683795], \"coloraxis\": \"coloraxis\", \"size\": [18.439088914585774, 13.527749258468683, 16.186414056238647, 12.609520212918492, 6.324555320336759, 24.576411454889016, 10.535653752852738, 6.164414002968976, 7.937253933193772, 10.198039027185569, 9.746794344808963, 22.20360331117452, 95.25754563287887, 21.517434791350013, 15.362291495737216, 18.24828759089466, 4.795831523312719, 8.0, 5.196152422706632, 10.770329614269007, 15.0, 13.30413469565007, 15.198684153570664, 6.708203932499369, 9.643650760992955, 25.709920264364882, 1.0, 3.7416573867739413, 2.6457513110645907, 3.1622776601683795], \"sizemode\": \"area\", \"sizeref\": 0.612316298982805}, \"name\": \"\", \"showlegend\": false, \"type\": \"scattergeo\"}], \"name\": \"02/01/2020\"}, {\"data\": [{\"customdata\": [[408.0, 0.0, 7.0], [191.0, 1.0, 9.0], [300.0, 2.0, 7.0], [159.0, 0.0, 0.0], [51.0, 0.0, 3.0], [683.0, 0.0, 15.0], [127.0, 0.0, 2.0], [46.0, 0.0, 2.0], [71.0, 1.0, 4.0], [113.0, 1.0, 3.0], [95.0, 2.0, 2.0], [566.0, 2.0, 14.0], [11177.0, 350.0, 295.0], [521.0, 0.0, 16.0], [271.0, 0.0, 7.0], [391.0, 0.0, 18.0], [31.0, 0.0, 1.0], [70.0, 0.0, 1.0], [27.0, 0.0, 1.0], [116.0, 0.0, 0.0], [246.0, 0.0, 6.0], [193.0, 1.0, 10.0], [254.0, 1.0, 12.0], [48.0, 0.0, 1.0], [105.0, 0.0, 3.0], [724.0, 0.0, 36.0], [1.0, 0.0, 0.0], [15.0, 0.0, 0.0], [8.0, 0.0, 0.0], [10.0, 0.0, 0.0]], \"geo\": \"geo\", \"hoverlabel\": {\"namelength\": 0}, \"hovertemplate\": \"<b>%{hovertext}</b><br><br>Date=02/02/2020<br>size=%{marker.color}<br>Confirmed=%{customdata[0]}<br>Deaths=%{customdata[1]}<br>Recovered=%{customdata[2]}<br>Latitude=%{lat}<br>Longitude=%{lon}\", \"hovertext\": [\"Anhui\", \"Beijing\", \"Chongqing\", \"Fujian\", \"Gansu\", \"Guangdong\", \"Guangxi\", \"Guizhou\", \"Hainan\", \"Hebei\", \"Heilongjiang\", \"Henan\", \"Hubei\", \"Hunan\", \"Jiangsu\", \"Jiangxi\", \"Jilin\", \"Liaoning\", \"Inner Mongolia\", \"Shaanxi\", \"Shandong\", \"Shanghai\", \"Sichuan\", \"Tianjin\", \"Yunnan\", \"Zhejiang\", \"Tibet\", \"Hong Kong\", \"Macau\", \"Taiwan\"], \"lat\": [33.25, 39.54, 31.05, 26.23, 39.83, 23.08, 21.95, 27.68, 18.26, 37.72, 46.4, 33.57, 32.57, 25.97, 34.38, 27.97, 45.5, 41.81, 50.78, 34.8, 35.99, 31.22, 31.13, 39.23, 25.03, 28.85, 30.15, 22.2, 22.13, 23.03], \"legendgroup\": \"\", \"lon\": [115.35, 115.79, 109.52, 117.58, 97.73, 114.4, 108.62, 109.13, 109.5, 115.7, 125.32, 114.03, 110.78, 113.4, 118.35, 116.36, 124.3, 120.76, 121.52, 109.94, 119.38, 121.44, 104.4, 117.78, 98.47, 121.12, 88.78, 114.08, 113.33, 121.5], \"marker\": {\"color\": [20.199009876724155, 13.820274961085254, 17.320508075688775, 12.609520212918492, 7.14142842854285, 26.13426869074396, 11.269427669584644, 6.782329983125268, 8.426149773176359, 10.63014581273465, 9.746794344808963, 23.790754506740637, 105.72133181151285, 22.825424421026653, 16.46207763315433, 19.77371993328519, 5.5677643628300215, 8.366600265340756, 5.196152422706632, 10.770329614269007, 15.684387141358123, 13.892443989449804, 15.937377450509228, 6.928203230275509, 10.246950765959598, 26.90724809414742, 1.0, 3.872983346207417, 2.8284271247461903, 3.1622776601683795], \"coloraxis\": \"coloraxis\", \"size\": [20.199009876724155, 13.820274961085254, 17.320508075688775, 12.609520212918492, 7.14142842854285, 26.13426869074396, 11.269427669584644, 6.782329983125268, 8.426149773176359, 10.63014581273465, 9.746794344808963, 23.790754506740637, 105.72133181151285, 22.825424421026653, 16.46207763315433, 19.77371993328519, 5.5677643628300215, 8.366600265340756, 5.196152422706632, 10.770329614269007, 15.684387141358123, 13.892443989449804, 15.937377450509228, 6.928203230275509, 10.246950765959598, 26.90724809414742, 1.0, 3.872983346207417, 2.8284271247461903, 3.1622776601683795], \"sizemode\": \"area\", \"sizeref\": 0.612316298982805}, \"name\": \"\", \"showlegend\": false, \"type\": \"scattergeo\"}], \"name\": \"02/02/2020\"}, {\"data\": [{\"customdata\": [[480.0, 0.0, 14.0], [212.0, 1.0, 12.0], [337.0, 2.0, 9.0], [179.0, 0.0, 1.0], [55.0, 0.0, 3.0], [797.0, 0.0, 21.0], [139.0, 0.0, 7.0], [56.0, 0.0, 2.0], [79.0, 1.0, 4.0], [126.0, 1.0, 3.0], [155.0, 2.0, 2.0], [675.0, 2.0, 20.0], [13522.0, 414.0, 396.0], [593.0, 0.0, 22.0], [308.0, 0.0, 8.0], [476.0, 0.0, 19.0], [42.0, 0.0, 1.0], [74.0, 0.0, 1.0], [34.0, 0.0, 1.0], [142.0, 0.0, 1.0], [270.0, 0.0, 7.0], [208.0, 1.0, 10.0], [282.0, 1.0, 14.0], [60.0, 0.0, 1.0], [117.0, 0.0, 5.0], [829.0, 0.0, 48.0], [1.0, 0.0, 0.0], [15.0, 0.0, 0.0], [8.0, 0.0, 0.0], [10.0, 0.0, 0.0]], \"geo\": \"geo\", \"hoverlabel\": {\"namelength\": 0}, \"hovertemplate\": \"<b>%{hovertext}</b><br><br>Date=02/03/2020<br>size=%{marker.color}<br>Confirmed=%{customdata[0]}<br>Deaths=%{customdata[1]}<br>Recovered=%{customdata[2]}<br>Latitude=%{lat}<br>Longitude=%{lon}\", \"hovertext\": [\"Anhui\", \"Beijing\", \"Chongqing\", \"Fujian\", \"Gansu\", \"Guangdong\", \"Guangxi\", \"Guizhou\", \"Hainan\", \"Hebei\", \"Heilongjiang\", \"Henan\", \"Hubei\", \"Hunan\", \"Jiangsu\", \"Jiangxi\", \"Jilin\", \"Liaoning\", \"Inner Mongolia\", \"Shaanxi\", \"Shandong\", \"Shanghai\", \"Sichuan\", \"Tianjin\", \"Yunnan\", \"Zhejiang\", \"Tibet\", \"Hong Kong\", \"Macau\", \"Taiwan\"], \"lat\": [33.25, 39.54, 31.05, 26.23, 39.83, 23.08, 21.95, 27.68, 18.26, 37.72, 46.4, 33.57, 32.57, 25.97, 34.38, 27.97, 45.5, 41.81, 50.78, 34.8, 35.99, 31.22, 31.13, 39.23, 25.03, 28.85, 30.15, 22.2, 22.13, 23.03], \"legendgroup\": \"\", \"lon\": [115.35, 115.79, 109.52, 117.58, 97.73, 114.4, 108.62, 109.13, 109.5, 115.7, 125.32, 114.03, 110.78, 113.4, 118.35, 116.36, 124.3, 120.76, 121.52, 109.94, 119.38, 121.44, 104.4, 117.78, 98.47, 121.12, 88.78, 114.08, 113.33, 121.5], \"marker\": {\"color\": [21.908902300206645, 14.560219778561036, 18.35755975068582, 13.379088160259652, 7.416198487095663, 28.231188426986208, 11.789826122551595, 7.483314773547883, 8.888194417315589, 11.224972160321824, 12.449899597988733, 25.98076211353316, 116.2841347734075, 24.351591323771842, 17.549928774784245, 21.817424229271428, 6.48074069840786, 8.602325267042627, 5.830951894845301, 11.916375287812984, 16.431676725154983, 14.422205101855956, 16.792855623746664, 7.745966692414834, 10.816653826391969, 28.792360097775937, 1.0, 3.872983346207417, 2.8284271247461903, 3.1622776601683795], \"coloraxis\": \"coloraxis\", \"size\": [21.908902300206645, 14.560219778561036, 18.35755975068582, 13.379088160259652, 7.416198487095663, 28.231188426986208, 11.789826122551595, 7.483314773547883, 8.888194417315589, 11.224972160321824, 12.449899597988733, 25.98076211353316, 116.2841347734075, 24.351591323771842, 17.549928774784245, 21.817424229271428, 6.48074069840786, 8.602325267042627, 5.830951894845301, 11.916375287812984, 16.431676725154983, 14.422205101855956, 16.792855623746664, 7.745966692414834, 10.816653826391969, 28.792360097775937, 1.0, 3.872983346207417, 2.8284271247461903, 3.1622776601683795], \"sizemode\": \"area\", \"sizeref\": 0.612316298982805}, \"name\": \"\", \"showlegend\": false, \"type\": \"scattergeo\"}], \"name\": \"02/03/2020\"}, {\"data\": [{\"customdata\": [[530.0, 0.0, 20.0], [228.0, 1.0, 23.0], [366.0, 2.0, 14.0], [194.0, 0.0, 3.0], [57.0, 0.0, 4.0], [870.0, 0.0, 32.0], [150.0, 0.0, 10.0], [64.0, 0.0, 5.0], [91.0, 1.0, 4.0], [135.0, 1.0, 4.0], [190.0, 2.0, 4.0], [764.0, 2.0, 41.0], [16678.0, 479.0, 522.0], [661.0, 0.0, 35.0], [341.0, 0.0, 13.0], [548.0, 0.0, 27.0], [54.0, 0.0, 1.0], [81.0, 0.0, 2.0], [42.0, 0.0, 1.0], [165.0, 0.0, 2.0], [298.0, 0.0, 13.0], [233.0, 1.0, 12.0], [301.0, 1.0, 23.0], [67.0, 0.0, 2.0], [122.0, 0.0, 5.0], [895.0, 0.0, 63.0], [1.0, 0.0, 0.0], [18.0, 1.0, 0.0], [10.0, 0.0, 0.0], [11.0, 0.0, 0.0]], \"geo\": \"geo\", \"hoverlabel\": {\"namelength\": 0}, \"hovertemplate\": \"<b>%{hovertext}</b><br><br>Date=02/04/2020<br>size=%{marker.color}<br>Confirmed=%{customdata[0]}<br>Deaths=%{customdata[1]}<br>Recovered=%{customdata[2]}<br>Latitude=%{lat}<br>Longitude=%{lon}\", \"hovertext\": [\"Anhui\", \"Beijing\", \"Chongqing\", \"Fujian\", \"Gansu\", \"Guangdong\", \"Guangxi\", \"Guizhou\", \"Hainan\", \"Hebei\", \"Heilongjiang\", \"Henan\", \"Hubei\", \"Hunan\", \"Jiangsu\", \"Jiangxi\", \"Jilin\", \"Liaoning\", \"Inner Mongolia\", \"Shaanxi\", \"Shandong\", \"Shanghai\", \"Sichuan\", \"Tianjin\", \"Yunnan\", \"Zhejiang\", \"Tibet\", \"Hong Kong\", \"Macau\", \"Taiwan\"], \"lat\": [33.25, 39.54, 31.05, 26.23, 39.83, 23.08, 21.95, 27.68, 18.26, 37.72, 46.4, 33.57, 32.57, 25.97, 34.38, 27.97, 45.5, 41.81, 50.78, 34.8, 35.99, 31.22, 31.13, 39.23, 25.03, 28.85, 30.15, 22.2, 22.13, 23.03], \"legendgroup\": \"\", \"lon\": [115.35, 115.79, 109.52, 117.58, 97.73, 114.4, 108.62, 109.13, 109.5, 115.7, 125.32, 114.03, 110.78, 113.4, 118.35, 116.36, 124.3, 120.76, 121.52, 109.94, 119.38, 121.44, 104.4, 117.78, 98.47, 121.12, 88.78, 114.08, 113.33, 121.5], \"marker\": {\"color\": [23.021728866442675, 15.0996688705415, 19.131126469708992, 13.92838827718412, 7.54983443527075, 29.49576240750525, 12.24744871391589, 8.0, 9.539392014169456, 11.61895003862225, 13.784048752090222, 27.640549922170507, 129.14333122542564, 25.709920264364882, 18.466185312619388, 23.40939982143925, 7.3484692283495345, 9.0, 6.48074069840786, 12.84523257866513, 17.26267650163207, 15.264337522473747, 17.349351572897472, 8.18535277187245, 11.045361017187261, 29.916550603303182, 1.0, 4.242640687119285, 3.1622776601683795, 3.3166247903554], \"coloraxis\": \"coloraxis\", \"size\": [23.021728866442675, 15.0996688705415, 19.131126469708992, 13.92838827718412, 7.54983443527075, 29.49576240750525, 12.24744871391589, 8.0, 9.539392014169456, 11.61895003862225, 13.784048752090222, 27.640549922170507, 129.14333122542564, 25.709920264364882, 18.466185312619388, 23.40939982143925, 7.3484692283495345, 9.0, 6.48074069840786, 12.84523257866513, 17.26267650163207, 15.264337522473747, 17.349351572897472, 8.18535277187245, 11.045361017187261, 29.916550603303182, 1.0, 4.242640687119285, 3.1622776601683795, 3.3166247903554], \"sizemode\": \"area\", \"sizeref\": 0.612316298982805}, \"name\": \"\", \"showlegend\": false, \"type\": \"scattergeo\"}], \"name\": \"02/04/2020\"}, {\"data\": [{\"customdata\": [[530.0, 0.0, 23.0], [253.0, 1.0, 24.0], [376.0, 2.0, 15.0], [205.0, 0.0, 11.0], [62.0, 0.0, 6.0], [895.0, 0.0, 49.0], [150.0, 0.0, 13.0], [64.0, 1.0, 9.0], [99.0, 1.0, 5.0], [135.0, 1.0, 6.0], [190.0, 2.0, 7.0], [764.0, 2.0, 47.0], [16678.0, 479.0, 538.0], [661.0, 0.0, 54.0], [341.0, 0.0, 23.0], [548.0, 0.0, 27.0], [54.0, 0.0, 2.0], [89.0, 0.0, 4.0], [42.0, 0.0, 3.0], [165.0, 0.0, 6.0], [307.0, 0.0, 15.0], [243.0, 1.0, 15.0], [301.0, 1.0, 24.0], [69.0, 1.0, 2.0], [124.0, 0.0, 5.0], [895.0, 0.0, 78.0], [1.0, 0.0, 0.0], [21.0, 1.0, 0.0], [10.0, 0.0, 0.0], [11.0, 0.0, 0.0]], \"geo\": \"geo\", \"hoverlabel\": {\"namelength\": 0}, \"hovertemplate\": \"<b>%{hovertext}</b><br><br>Date=02/05/2020<br>size=%{marker.color}<br>Confirmed=%{customdata[0]}<br>Deaths=%{customdata[1]}<br>Recovered=%{customdata[2]}<br>Latitude=%{lat}<br>Longitude=%{lon}\", \"hovertext\": [\"Anhui\", \"Beijing\", \"Chongqing\", \"Fujian\", \"Gansu\", \"Guangdong\", \"Guangxi\", \"Guizhou\", \"Hainan\", \"Hebei\", \"Heilongjiang\", \"Henan\", \"Hubei\", \"Hunan\", \"Jiangsu\", \"Jiangxi\", \"Jilin\", \"Liaoning\", \"Inner Mongolia\", \"Shaanxi\", \"Shandong\", \"Shanghai\", \"Sichuan\", \"Tianjin\", \"Yunnan\", \"Zhejiang\", \"Tibet\", \"Hong Kong\", \"Macau\", \"Taiwan\"], \"lat\": [33.25, 39.54, 31.05, 26.23, 39.83, 23.08, 21.95, 27.68, 18.26, 37.72, 46.4, 33.57, 32.57, 25.97, 34.38, 27.97, 45.5, 41.81, 50.78, 34.8, 35.99, 31.22, 31.13, 39.23, 25.03, 28.85, 30.15, 22.2, 22.13, 23.03], \"legendgroup\": \"\", \"lon\": [115.35, 115.79, 109.52, 117.58, 97.73, 114.4, 108.62, 109.13, 109.5, 115.7, 125.32, 114.03, 110.78, 113.4, 118.35, 116.36, 124.3, 120.76, 121.52, 109.94, 119.38, 121.44, 104.4, 117.78, 98.47, 121.12, 88.78, 114.08, 113.33, 121.5], \"marker\": {\"color\": [23.021728866442675, 15.905973720586866, 19.390719429665317, 14.317821063276353, 7.874007874011811, 29.916550603303182, 12.24744871391589, 8.0, 9.9498743710662, 11.61895003862225, 13.784048752090222, 27.640549922170507, 129.14333122542564, 25.709920264364882, 18.466185312619388, 23.40939982143925, 7.3484692283495345, 9.433981132056603, 6.48074069840786, 12.84523257866513, 17.52141546793523, 15.588457268119896, 17.349351572897472, 8.306623862918075, 11.135528725660043, 29.916550603303182, 1.0, 4.58257569495584, 3.1622776601683795, 3.3166247903554], \"coloraxis\": \"coloraxis\", \"size\": [23.021728866442675, 15.905973720586866, 19.390719429665317, 14.317821063276353, 7.874007874011811, 29.916550603303182, 12.24744871391589, 8.0, 9.9498743710662, 11.61895003862225, 13.784048752090222, 27.640549922170507, 129.14333122542564, 25.709920264364882, 18.466185312619388, 23.40939982143925, 7.3484692283495345, 9.433981132056603, 6.48074069840786, 12.84523257866513, 17.52141546793523, 15.588457268119896, 17.349351572897472, 8.306623862918075, 11.135528725660043, 29.916550603303182, 1.0, 4.58257569495584, 3.1622776601683795, 3.3166247903554], \"sizemode\": \"area\", \"sizeref\": 0.612316298982805}, \"name\": \"\", \"showlegend\": false, \"type\": \"scattergeo\"}], \"name\": \"02/05/2020\"}, {\"data\": [{\"customdata\": [[591.0, 0.0, 34.0], [274.0, 1.0, 31.0], [400.0, 2.0, 24.0], [215.0, 0.0, 14.0], [62.0, 0.0, 6.0], [970.0, 0.0, 69.0], [168.0, 0.0, 14.0], [71.0, 1.0, 6.0], [106.0, 1.0, 8.0], [157.0, 1.0, 13.0], [227.0, 3.0, 8.0], [851.0, 2.0, 56.0], [22112.0, 618.0, 817.0], [711.0, 0.0, 81.0], [373.0, 0.0, 34.0], [600.0, 0.0, 37.0], [59.0, 0.0, 4.0], [94.0, 0.0, 5.0], [46.0, 0.0, 4.0], [173.0, 0.0, 9.0], [347.0, 0.0, 27.0], [257.0, 1.0, 25.0], [321.0, 1.0, 31.0], [78.0, 1.0, 2.0], [133.0, 0.0, 7.0], [954.0, 0.0, 94.0], [1.0, 0.0, 0.0], [24.0, 1.0, 0.0], [10.0, 0.0, 1.0], [16.0, 0.0, 1.0]], \"geo\": \"geo\", \"hoverlabel\": {\"namelength\": 0}, \"hovertemplate\": \"<b>%{hovertext}</b><br><br>Date=02/06/2020<br>size=%{marker.color}<br>Confirmed=%{customdata[0]}<br>Deaths=%{customdata[1]}<br>Recovered=%{customdata[2]}<br>Latitude=%{lat}<br>Longitude=%{lon}\", \"hovertext\": [\"Anhui\", \"Beijing\", \"Chongqing\", \"Fujian\", \"Gansu\", \"Guangdong\", \"Guangxi\", \"Guizhou\", \"Hainan\", \"Hebei\", \"Heilongjiang\", \"Henan\", \"Hubei\", \"Hunan\", \"Jiangsu\", \"Jiangxi\", \"Jilin\", \"Liaoning\", \"Inner Mongolia\", \"Shaanxi\", \"Shandong\", \"Shanghai\", \"Sichuan\", \"Tianjin\", \"Yunnan\", \"Zhejiang\", \"Tibet\", \"Hong Kong\", \"Macau\", \"Taiwan\"], \"lat\": [33.25, 39.54, 31.05, 26.23, 39.83, 23.08, 21.95, 27.68, 18.26, 37.72, 46.4, 33.57, 32.57, 25.97, 34.38, 27.97, 45.5, 41.81, 50.78, 34.8, 35.99, 31.22, 31.13, 39.23, 25.03, 28.85, 30.15, 22.2, 22.13, 23.03], \"legendgroup\": \"\", \"lon\": [115.35, 115.79, 109.52, 117.58, 97.73, 114.4, 108.62, 109.13, 109.5, 115.7, 125.32, 114.03, 110.78, 113.4, 118.35, 116.36, 124.3, 120.76, 121.52, 109.94, 119.38, 121.44, 104.4, 117.78, 98.47, 121.12, 88.78, 114.08, 113.33, 121.5], \"marker\": {\"color\": [24.310491562286437, 16.55294535724685, 20.0, 14.66287829861518, 7.874007874011811, 31.144823004794873, 12.96148139681572, 8.426149773176359, 10.295630140987, 12.529964086141668, 15.066519173319364, 29.171904291629644, 148.70104236352884, 26.664583251946766, 19.313207915827967, 24.49489742783178, 7.681145747868608, 9.695359714832659, 6.782329983125268, 13.152946437965905, 18.627936010197157, 16.0312195418814, 17.916472867168917, 8.831760866327848, 11.532562594670797, 30.886890422961002, 1.0, 4.898979485566356, 3.1622776601683795, 4.0], \"coloraxis\": \"coloraxis\", \"size\": [24.310491562286437, 16.55294535724685, 20.0, 14.66287829861518, 7.874007874011811, 31.144823004794873, 12.96148139681572, 8.426149773176359, 10.295630140987, 12.529964086141668, 15.066519173319364, 29.171904291629644, 148.70104236352884, 26.664583251946766, 19.313207915827967, 24.49489742783178, 7.681145747868608, 9.695359714832659, 6.782329983125268, 13.152946437965905, 18.627936010197157, 16.0312195418814, 17.916472867168917, 8.831760866327848, 11.532562594670797, 30.886890422961002, 1.0, 4.898979485566356, 3.1622776601683795, 4.0], \"sizemode\": \"area\", \"sizeref\": 0.612316298982805}, \"name\": \"\", \"showlegend\": false, \"type\": \"scattergeo\"}], \"name\": \"02/06/2020\"}, {\"data\": [{\"customdata\": [[665.0, 0.0, 47.0], [297.0, 1.0, 33.0], [415.0, 2.0, 31.0], [224.0, 0.0, 20.0], [67.0, 0.0, 9.0], [1034.0, 1.0, 88.0], [172.0, 0.0, 17.0], [81.0, 1.0, 6.0], [117.0, 2.0, 10.0], [172.0, 1.0, 22.0], [277.0, 3.0, 12.0], [914.0, 3.0, 86.0], [22112.0, 618.0, 867.0], [772.0, 0.0, 112.0], [408.0, 0.0, 43.0], [661.0, 0.0, 45.0], [65.0, 1.0, 4.0], [99.0, 0.0, 7.0], [50.0, 0.0, 5.0], [184.0, 0.0, 17.0], [386.0, 0.0, 37.0], [277.0, 1.0, 30.0], [344.0, 1.0, 42.0], [81.0, 1.0, 2.0], [138.0, 0.0, 12.0], [1006.0, 0.0, 123.0], [1.0, 0.0, 0.0], [25.0, 1.0, 0.0], [10.0, 0.0, 1.0], [16.0, 0.0, 1.0]], \"geo\": \"geo\", \"hoverlabel\": {\"namelength\": 0}, \"hovertemplate\": \"<b>%{hovertext}</b><br><br>Date=02/07/2020<br>size=%{marker.color}<br>Confirmed=%{customdata[0]}<br>Deaths=%{customdata[1]}<br>Recovered=%{customdata[2]}<br>Latitude=%{lat}<br>Longitude=%{lon}\", \"hovertext\": [\"Anhui\", \"Beijing\", \"Chongqing\", \"Fujian\", \"Gansu\", \"Guangdong\", \"Guangxi\", \"Guizhou\", \"Hainan\", \"Hebei\", \"Heilongjiang\", \"Henan\", \"Hubei\", \"Hunan\", \"Jiangsu\", \"Jiangxi\", \"Jilin\", \"Liaoning\", \"Inner Mongolia\", \"Shaanxi\", \"Shandong\", \"Shanghai\", \"Sichuan\", \"Tianjin\", \"Yunnan\", \"Zhejiang\", \"Tibet\", \"Hong Kong\", \"Macau\", \"Taiwan\"], \"lat\": [33.25, 39.54, 31.05, 26.23, 39.83, 23.08, 21.95, 27.68, 18.26, 37.72, 46.4, 33.57, 32.57, 25.97, 34.38, 27.97, 45.5, 41.81, 50.78, 34.8, 35.99, 31.22, 31.13, 39.23, 25.03, 28.85, 30.15, 22.2, 22.13, 23.03], \"legendgroup\": \"\", \"lon\": [115.35, 115.79, 109.52, 117.58, 97.73, 114.4, 108.62, 109.13, 109.5, 115.7, 125.32, 114.03, 110.78, 113.4, 118.35, 116.36, 124.3, 120.76, 121.52, 109.94, 119.38, 121.44, 104.4, 117.78, 98.47, 121.12, 88.78, 114.08, 113.33, 121.5], \"marker\": {\"color\": [25.787593916455254, 17.233687939614086, 20.37154878746336, 14.966629547095765, 8.18535277187245, 32.155870381627054, 13.114877048604, 9.0, 10.816653826391969, 13.114877048604, 16.64331697709324, 30.23243291566195, 148.70104236352884, 27.784887978899608, 20.199009876724155, 25.709920264364882, 8.06225774829855, 9.9498743710662, 7.0710678118654755, 13.564659966250536, 19.6468827043885, 16.64331697709324, 18.547236990991408, 9.0, 11.74734012447073, 31.71750305430741, 1.0, 5.0, 3.1622776601683795, 4.0], \"coloraxis\": \"coloraxis\", \"size\": [25.787593916455254, 17.233687939614086, 20.37154878746336, 14.966629547095765, 8.18535277187245, 32.155870381627054, 13.114877048604, 9.0, 10.816653826391969, 13.114877048604, 16.64331697709324, 30.23243291566195, 148.70104236352884, 27.784887978899608, 20.199009876724155, 25.709920264364882, 8.06225774829855, 9.9498743710662, 7.0710678118654755, 13.564659966250536, 19.6468827043885, 16.64331697709324, 18.547236990991408, 9.0, 11.74734012447073, 31.71750305430741, 1.0, 5.0, 3.1622776601683795, 4.0], \"sizemode\": \"area\", \"sizeref\": 0.612316298982805}, \"name\": \"\", \"showlegend\": false, \"type\": \"scattergeo\"}], \"name\": \"02/07/2020\"}, {\"data\": [{\"customdata\": [[779.0, 1.0, 59.0], [326.0, 2.0, 37.0], [446.0, 2.0, 39.0], [250.0, 0.0, 26.0], [79.0, 1.0, 12.0], [1120.0, 1.0, 125.0], [195.0, 1.0, 18.0], [96.0, 1.0, 7.0], [128.0, 2.0, 15.0], [206.0, 2.0, 30.0], [307.0, 6.0, 13.0], [1033.0, 6.0, 131.0], [27100.0, 780.0, 1440.0], [838.0, 1.0, 159.0], [468.0, 0.0, 58.0], [740.0, 0.0, 72.0], [78.0, 1.0, 5.0], [105.0, 0.0, 8.0], [54.0, 0.0, 5.0], [208.0, 0.0, 25.0], [435.0, 1.0, 50.0], [292.0, 1.0, 41.0], [386.0, 1.0, 60.0], [90.0, 1.0, 4.0], [140.0, 0.0, 17.0], [1075.0, 0.0, 185.0], [1.0, 0.0, 0.0], [26.0, 1.0, 0.0], [10.0, 0.0, 1.0], [17.0, 0.0, 1.0]], \"geo\": \"geo\", \"hoverlabel\": {\"namelength\": 0}, \"hovertemplate\": \"<b>%{hovertext}</b><br><br>Date=02/08/2020<br>size=%{marker.color}<br>Confirmed=%{customdata[0]}<br>Deaths=%{customdata[1]}<br>Recovered=%{customdata[2]}<br>Latitude=%{lat}<br>Longitude=%{lon}\", \"hovertext\": [\"Anhui\", \"Beijing\", \"Chongqing\", \"Fujian\", \"Gansu\", \"Guangdong\", \"Guangxi\", \"Guizhou\", \"Hainan\", \"Hebei\", \"Heilongjiang\", \"Henan\", \"Hubei\", \"Hunan\", \"Jiangsu\", \"Jiangxi\", \"Jilin\", \"Liaoning\", \"Inner Mongolia\", \"Shaanxi\", \"Shandong\", \"Shanghai\", \"Sichuan\", \"Tianjin\", \"Yunnan\", \"Zhejiang\", \"Tibet\", \"Hong Kong\", \"Macau\", \"Taiwan\"], \"lat\": [33.25, 39.54, 31.05, 26.23, 39.83, 23.08, 21.95, 27.68, 18.26, 37.72, 46.4, 33.57, 32.57, 25.97, 34.38, 27.97, 45.5, 41.81, 50.78, 34.8, 35.99, 31.22, 31.13, 39.23, 25.03, 28.85, 30.15, 22.2, 22.13, 23.03], \"legendgroup\": \"\", \"lon\": [115.35, 115.79, 109.52, 117.58, 97.73, 114.4, 108.62, 109.13, 109.5, 115.7, 125.32, 114.03, 110.78, 113.4, 118.35, 116.36, 124.3, 120.76, 121.52, 109.94, 119.38, 121.44, 104.4, 117.78, 98.47, 121.12, 88.78, 114.08, 113.33, 121.5], \"marker\": {\"color\": [27.910571473905726, 18.05547008526779, 21.118712081942874, 15.811388300841896, 8.888194417315589, 33.46640106136302, 13.96424004376894, 9.797958971132712, 11.313708498984761, 14.352700094407323, 17.52141546793523, 32.14031735997639, 164.62077633154328, 28.948229652260256, 21.633307652783937, 27.202941017470888, 8.831760866327848, 10.246950765959598, 7.3484692283495345, 14.422205101855956, 20.85665361461421, 17.08800749063506, 19.6468827043885, 9.486832980505138, 11.832159566199232, 32.78719262151, 1.0, 5.0990195135927845, 3.1622776601683795, 4.123105625617661], \"coloraxis\": \"coloraxis\", \"size\": [27.910571473905726, 18.05547008526779, 21.118712081942874, 15.811388300841896, 8.888194417315589, 33.46640106136302, 13.96424004376894, 9.797958971132712, 11.313708498984761, 14.352700094407323, 17.52141546793523, 32.14031735997639, 164.62077633154328, 28.948229652260256, 21.633307652783937, 27.202941017470888, 8.831760866327848, 10.246950765959598, 7.3484692283495345, 14.422205101855956, 20.85665361461421, 17.08800749063506, 19.6468827043885, 9.486832980505138, 11.832159566199232, 32.78719262151, 1.0, 5.0990195135927845, 3.1622776601683795, 4.123105625617661], \"sizemode\": \"area\", \"sizeref\": 0.612316298982805}, \"name\": \"\", \"showlegend\": false, \"type\": \"scattergeo\"}], \"name\": \"02/08/2020\"}, {\"data\": [{\"customdata\": [[830.0, 3.0, 73.0], [337.0, 2.0, 44.0], [468.0, 2.0, 51.0], [261.0, 0.0, 35.0], [83.0, 2.0, 16.0], [1151.0, 1.0, 147.0], [210.0, 1.0, 18.0], [109.0, 1.0, 7.0], [136.0, 3.0, 19.0], [218.0, 2.0, 35.0], [331.0, 7.0, 15.0], [1073.0, 6.0, 169.0], [29631.0, 871.0, 1795.0], [879.0, 1.0, 186.0], [492.0, 0.0, 72.0], [771.0, 1.0, 102.0], [80.0, 1.0, 12.0], [107.0, 0.0, 12.0], [58.0, 0.0, 5.0], [213.0, 0.0, 26.0], [459.0, 1.0, 63.0], [295.0, 1.0, 44.0], [405.0, 1.0, 76.0], [94.0, 1.0, 4.0], [141.0, 0.0, 18.0], [1092.0, 0.0, 201.0], [1.0, 0.0, 0.0], [36.0, 1.0, 0.0], [10.0, 0.0, 1.0], [18.0, 0.0, 1.0]], \"geo\": \"geo\", \"hoverlabel\": {\"namelength\": 0}, \"hovertemplate\": \"<b>%{hovertext}</b><br><br>Date=02/09/2020<br>size=%{marker.color}<br>Confirmed=%{customdata[0]}<br>Deaths=%{customdata[1]}<br>Recovered=%{customdata[2]}<br>Latitude=%{lat}<br>Longitude=%{lon}\", \"hovertext\": [\"Anhui\", \"Beijing\", \"Chongqing\", \"Fujian\", \"Gansu\", \"Guangdong\", \"Guangxi\", \"Guizhou\", \"Hainan\", \"Hebei\", \"Heilongjiang\", \"Henan\", \"Hubei\", \"Hunan\", \"Jiangsu\", \"Jiangxi\", \"Jilin\", \"Liaoning\", \"Inner Mongolia\", \"Shaanxi\", \"Shandong\", \"Shanghai\", \"Sichuan\", \"Tianjin\", \"Yunnan\", \"Zhejiang\", \"Tibet\", \"Hong Kong\", \"Macau\", \"Taiwan\"], \"lat\": [33.25, 39.54, 31.05, 26.23, 39.83, 23.08, 21.95, 27.68, 18.26, 37.72, 46.4, 33.57, 32.57, 25.97, 34.38, 27.97, 45.5, 41.81, 50.78, 34.8, 35.99, 31.22, 31.13, 39.23, 25.03, 28.85, 30.15, 22.2, 22.13, 23.03], \"legendgroup\": \"\", \"lon\": [115.35, 115.79, 109.52, 117.58, 97.73, 114.4, 108.62, 109.13, 109.5, 115.7, 125.32, 114.03, 110.78, 113.4, 118.35, 116.36, 124.3, 120.76, 121.52, 109.94, 119.38, 121.44, 104.4, 117.78, 98.47, 121.12, 88.78, 114.08, 113.33, 121.5], \"marker\": {\"color\": [28.809720581775867, 18.35755975068582, 21.633307652783937, 16.15549442140351, 9.1104335791443, 33.926390907374746, 14.491376746189438, 10.44030650891055, 11.661903789690601, 14.7648230602334, 18.193405398660254, 32.7566787083184, 172.13657368496678, 29.647934160747187, 22.181073012818835, 27.76688675382964, 8.94427190999916, 10.344080432788601, 7.615773105863909, 14.594519519326424, 21.42428528562855, 17.175564037317667, 20.12461179749811, 9.695359714832659, 11.874342087037917, 33.04542328371661, 1.0, 6.0, 3.1622776601683795, 4.242640687119285], \"coloraxis\": \"coloraxis\", \"size\": [28.809720581775867, 18.35755975068582, 21.633307652783937, 16.15549442140351, 9.1104335791443, 33.926390907374746, 14.491376746189438, 10.44030650891055, 11.661903789690601, 14.7648230602334, 18.193405398660254, 32.7566787083184, 172.13657368496678, 29.647934160747187, 22.181073012818835, 27.76688675382964, 8.94427190999916, 10.344080432788601, 7.615773105863909, 14.594519519326424, 21.42428528562855, 17.175564037317667, 20.12461179749811, 9.695359714832659, 11.874342087037917, 33.04542328371661, 1.0, 6.0, 3.1622776601683795, 4.242640687119285], \"sizemode\": \"area\", \"sizeref\": 0.612316298982805}, \"name\": \"\", \"showlegend\": false, \"type\": \"scattergeo\"}], \"name\": \"02/09/2020\"}, {\"data\": [{\"customdata\": [[830.0, 3.0, 88.0], [337.0, 2.0, 44.0], [486.0, 2.0, 66.0], [261.0, 0.0, 39.0], [86.0, 2.0, 21.0], [1159.0, 1.0, 167.0], [210.0, 1.0, 24.0], [109.0, 1.0, 10.0], [138.0, 3.0, 19.0], [218.0, 2.0, 41.0], [331.0, 7.0, 30.0], [1073.0, 6.0, 191.0], [31728.0, 974.0, 2222.0], [879.0, 1.0, 208.0], [492.0, 0.0, 81.0], [771.0, 1.0, 105.0], [81.0, 1.0, 13.0], [108.0, 0.0, 13.0], [58.0, 0.0, 5.0], [213.0, 0.0, 30.0], [466.0, 1.0, 66.0], [299.0, 1.0, 48.0], [405.0, 1.0, 80.0], [95.0, 1.0, 8.0], [149.0, 0.0, 19.0], [1092.0, 0.0, 242.0], [1.0, 0.0, 0.0], [38.0, 1.0, 0.0], [10.0, 0.0, 1.0], [18.0, 0.0, 1.0]], \"geo\": \"geo\", \"hoverlabel\": {\"namelength\": 0}, \"hovertemplate\": \"<b>%{hovertext}</b><br><br>Date=02/10/2020<br>size=%{marker.color}<br>Confirmed=%{customdata[0]}<br>Deaths=%{customdata[1]}<br>Recovered=%{customdata[2]}<br>Latitude=%{lat}<br>Longitude=%{lon}\", \"hovertext\": [\"Anhui\", \"Beijing\", \"Chongqing\", \"Fujian\", \"Gansu\", \"Guangdong\", \"Guangxi\", \"Guizhou\", \"Hainan\", \"Hebei\", \"Heilongjiang\", \"Henan\", \"Hubei\", \"Hunan\", \"Jiangsu\", \"Jiangxi\", \"Jilin\", \"Liaoning\", \"Inner Mongolia\", \"Shaanxi\", \"Shandong\", \"Shanghai\", \"Sichuan\", \"Tianjin\", \"Yunnan\", \"Zhejiang\", \"Tibet\", \"Hong Kong\", \"Macau\", \"Taiwan\"], \"lat\": [33.25, 39.54, 31.05, 26.23, 39.83, 23.08, 21.95, 27.68, 18.26, 37.72, 46.4, 33.57, 32.57, 25.97, 34.38, 27.97, 45.5, 41.81, 50.78, 34.8, 35.99, 31.22, 31.13, 39.23, 25.03, 28.85, 30.15, 22.2, 22.13, 23.03], \"legendgroup\": \"\", \"lon\": [115.35, 115.79, 109.52, 117.58, 97.73, 114.4, 108.62, 109.13, 109.5, 115.7, 125.32, 114.03, 110.78, 113.4, 118.35, 116.36, 124.3, 120.76, 121.52, 109.94, 119.38, 121.44, 104.4, 117.78, 98.47, 121.12, 88.78, 114.08, 113.33, 121.5], \"marker\": {\"color\": [28.809720581775867, 18.35755975068582, 22.045407685048602, 16.15549442140351, 9.273618495495704, 34.044089061098404, 14.491376746189438, 10.44030650891055, 11.74734012447073, 14.7648230602334, 18.193405398660254, 32.7566787083184, 178.12355262569855, 29.647934160747187, 22.181073012818835, 27.76688675382964, 9.0, 10.392304845413264, 7.615773105863909, 14.594519519326424, 21.587033144922902, 17.291616465790582, 20.12461179749811, 9.746794344808963, 12.206555615733702, 33.04542328371661, 1.0, 6.164414002968976, 3.1622776601683795, 4.242640687119285], \"coloraxis\": \"coloraxis\", \"size\": [28.809720581775867, 18.35755975068582, 22.045407685048602, 16.15549442140351, 9.273618495495704, 34.044089061098404, 14.491376746189438, 10.44030650891055, 11.74734012447073, 14.7648230602334, 18.193405398660254, 32.7566787083184, 178.12355262569855, 29.647934160747187, 22.181073012818835, 27.76688675382964, 9.0, 10.392304845413264, 7.615773105863909, 14.594519519326424, 21.587033144922902, 17.291616465790582, 20.12461179749811, 9.746794344808963, 12.206555615733702, 33.04542328371661, 1.0, 6.164414002968976, 3.1622776601683795, 4.242640687119285], \"sizemode\": \"area\", \"sizeref\": 0.612316298982805}, \"name\": \"\", \"showlegend\": false, \"type\": \"scattergeo\"}], \"name\": \"02/10/2020\"}, {\"data\": [{\"customdata\": [[889.0, 4.0, 108.0], [342.0, 3.0, 48.0], [505.0, 3.0, 79.0], [272.0, 0.0, 46.0], [86.0, 2.0, 24.0], [1219.0, 1.0, 241.0], [222.0, 1.0, 31.0], [131.0, 1.0, 17.0], [151.0, 3.0, 20.0], [251.0, 2.0, 48.0], [378.0, 8.0, 28.0], [1135.0, 8.0, 231.0], [33366.0, 1068.0, 2639.0], [946.0, 2.0, 263.0], [543.0, 0.0, 94.0], [844.0, 1.0, 152.0], [83.0, 1.0, 18.0], [116.0, 0.0, 19.0], [58.0, 0.0, 5.0], [219.0, 0.0, 32.0], [497.0, 1.0, 80.0], [306.0, 1.0, 53.0], [436.0, 1.0, 85.0], [106.0, 2.0, 10.0], [154.0, 0.0, 20.0], [1131.0, 0.0, 279.0], [1.0, 0.0, 0.0], [49.0, 1.0, 0.0], [10.0, 0.0, 1.0], [18.0, 0.0, 1.0]], \"geo\": \"geo\", \"hoverlabel\": {\"namelength\": 0}, \"hovertemplate\": \"<b>%{hovertext}</b><br><br>Date=02/11/2020<br>size=%{marker.color}<br>Confirmed=%{customdata[0]}<br>Deaths=%{customdata[1]}<br>Recovered=%{customdata[2]}<br>Latitude=%{lat}<br>Longitude=%{lon}\", \"hovertext\": [\"Anhui\", \"Beijing\", \"Chongqing\", \"Fujian\", \"Gansu\", \"Guangdong\", \"Guangxi\", \"Guizhou\", \"Hainan\", \"Hebei\", \"Heilongjiang\", \"Henan\", \"Hubei\", \"Hunan\", \"Jiangsu\", \"Jiangxi\", \"Jilin\", \"Liaoning\", \"Inner Mongolia\", \"Shaanxi\", \"Shandong\", \"Shanghai\", \"Sichuan\", \"Tianjin\", \"Yunnan\", \"Zhejiang\", \"Tibet\", \"Hong Kong\", \"Macau\", \"Taiwan\"], \"lat\": [33.25, 39.54, 31.05, 26.23, 39.83, 23.08, 21.95, 27.68, 18.26, 37.72, 46.4, 33.57, 32.57, 25.97, 34.38, 27.97, 45.5, 41.81, 50.78, 34.8, 35.99, 31.22, 31.13, 39.23, 25.03, 28.85, 30.15, 22.2, 22.13, 23.03], \"legendgroup\": \"\", \"lon\": [115.35, 115.79, 109.52, 117.58, 97.73, 114.4, 108.62, 109.13, 109.5, 115.7, 125.32, 114.03, 110.78, 113.4, 118.35, 116.36, 124.3, 120.76, 121.52, 109.94, 119.38, 121.44, 104.4, 117.78, 98.47, 121.12, 88.78, 114.08, 113.33, 121.5], \"marker\": {\"color\": [29.816103031751148, 18.49324200890693, 22.47220505424423, 16.492422502470642, 9.273618495495704, 34.91418050019218, 14.89966442575134, 11.445523142259598, 12.288205727444508, 15.84297951775486, 19.44222209522358, 33.689761055846034, 182.6636252788168, 30.757112998459398, 23.302360395462088, 29.0516780926679, 9.1104335791443, 10.770329614269007, 7.615773105863909, 14.798648586948742, 22.293496809607955, 17.4928556845359, 20.8806130178211, 10.295630140987, 12.409673645990857, 33.63034344160047, 1.0, 7.0, 3.1622776601683795, 4.242640687119285], \"coloraxis\": \"coloraxis\", \"size\": [29.816103031751148, 18.49324200890693, 22.47220505424423, 16.492422502470642, 9.273618495495704, 34.91418050019218, 14.89966442575134, 11.445523142259598, 12.288205727444508, 15.84297951775486, 19.44222209522358, 33.689761055846034, 182.6636252788168, 30.757112998459398, 23.302360395462088, 29.0516780926679, 9.1104335791443, 10.770329614269007, 7.615773105863909, 14.798648586948742, 22.293496809607955, 17.4928556845359, 20.8806130178211, 10.295630140987, 12.409673645990857, 33.63034344160047, 1.0, 7.0, 3.1622776601683795, 4.242640687119285], \"sizemode\": \"area\", \"sizeref\": 0.612316298982805}, \"name\": \"\", \"showlegend\": false, \"type\": \"scattergeo\"}], \"name\": \"02/11/2020\"}, {\"data\": [{\"customdata\": [[910.0, 5.0, 128.0], [366.0, 3.0, 68.0], [518.0, 3.0, 102.0], [279.0, 0.0, 54.0], [87.0, 2.0, 31.0], [1241.0, 2.0, 284.0], [222.0, 2.0, 33.0], [135.0, 1.0, 20.0], [157.0, 4.0, 27.0], [265.0, 3.0, 55.0], [395.0, 9.0, 31.0], [1169.0, 10.0, 258.0], [48206.0, 1310.0, 3441.0], [968.0, 2.0, 312.0], [570.0, 0.0, 131.0], [872.0, 1.0, 170.0], [84.0, 1.0, 22.0], [116.0, 1.0, 21.0], [61.0, 0.0, 6.0], [229.0, 0.0, 42.0], [506.0, 2.0, 98.0], [313.0, 1.0, 57.0], [451.0, 1.0, 93.0], [113.0, 2.0, 11.0], [155.0, 0.0, 23.0], [1145.0, 0.0, 327.0], [1.0, 0.0, 1.0], [50.0, 1.0, 1.0], [10.0, 0.0, 2.0], [18.0, 0.0, 1.0]], \"geo\": \"geo\", \"hoverlabel\": {\"namelength\": 0}, \"hovertemplate\": \"<b>%{hovertext}</b><br><br>Date=02/12/2020<br>size=%{marker.color}<br>Confirmed=%{customdata[0]}<br>Deaths=%{customdata[1]}<br>Recovered=%{customdata[2]}<br>Latitude=%{lat}<br>Longitude=%{lon}\", \"hovertext\": [\"Anhui\", \"Beijing\", \"Chongqing\", \"Fujian\", \"Gansu\", \"Guangdong\", \"Guangxi\", \"Guizhou\", \"Hainan\", \"Hebei\", \"Heilongjiang\", \"Henan\", \"Hubei\", \"Hunan\", \"Jiangsu\", \"Jiangxi\", \"Jilin\", \"Liaoning\", \"Inner Mongolia\", \"Shaanxi\", \"Shandong\", \"Shanghai\", \"Sichuan\", \"Tianjin\", \"Yunnan\", \"Zhejiang\", \"Tibet\", \"Hong Kong\", \"Macau\", \"Taiwan\"], \"lat\": [33.25, 39.54, 31.05, 26.23, 39.83, 23.08, 21.95, 27.68, 18.26, 37.72, 46.4, 33.57, 32.57, 25.97, 34.38, 27.97, 45.5, 41.81, 50.78, 34.8, 35.99, 31.22, 31.13, 39.23, 25.03, 28.85, 30.15, 22.2, 22.13, 23.03], \"legendgroup\": \"\", \"lon\": [115.35, 115.79, 109.52, 117.58, 97.73, 114.4, 108.62, 109.13, 109.5, 115.7, 125.32, 114.03, 110.78, 113.4, 118.35, 116.36, 124.3, 120.76, 121.52, 109.94, 119.38, 121.44, 104.4, 117.78, 98.47, 121.12, 88.78, 114.08, 113.33, 121.5], \"marker\": {\"color\": [30.166206257996713, 19.131126469708992, 22.759613353482084, 16.703293088490067, 9.327379053088816, 35.22782990761707, 14.89966442575134, 11.61895003862225, 12.529964086141668, 16.278820596099706, 19.87460691435179, 34.19064199455752, 219.5586482013405, 31.11269837220809, 23.874672772626646, 29.5296461204668, 9.16515138991168, 10.770329614269007, 7.810249675906654, 15.132745950421556, 22.494443758403985, 17.69180601295413, 21.236760581595302, 10.63014581273465, 12.449899597988733, 33.83784863137726, 1.0, 7.0710678118654755, 3.1622776601683795, 4.242640687119285], \"coloraxis\": \"coloraxis\", \"size\": [30.166206257996713, 19.131126469708992, 22.759613353482084, 16.703293088490067, 9.327379053088816, 35.22782990761707, 14.89966442575134, 11.61895003862225, 12.529964086141668, 16.278820596099706, 19.87460691435179, 34.19064199455752, 219.5586482013405, 31.11269837220809, 23.874672772626646, 29.5296461204668, 9.16515138991168, 10.770329614269007, 7.810249675906654, 15.132745950421556, 22.494443758403985, 17.69180601295413, 21.236760581595302, 10.63014581273465, 12.449899597988733, 33.83784863137726, 1.0, 7.0710678118654755, 3.1622776601683795, 4.242640687119285], \"sizemode\": \"area\", \"sizeref\": 0.612316298982805}, \"name\": \"\", \"showlegend\": false, \"type\": \"scattergeo\"}], \"name\": \"02/12/2020\"}, {\"data\": [{\"customdata\": [[934.0, 6.0, 166.0], [366.0, 3.0, 69.0], [529.0, 4.0, 128.0], [281.0, 0.0, 59.0], [90.0, 2.0, 39.0], [1261.0, 2.0, 332.0], [226.0, 2.0, 35.0], [140.0, 1.0, 28.0], [158.0, 4.0, 30.0], [283.0, 3.0, 69.0], [418.0, 11.0, 37.0], [1184.0, 11.0, 313.0], [51986.0, 1426.0, 4131.0], [988.0, 2.0, 352.0], [593.0, 0.0, 137.0], [900.0, 1.0, 187.0], [86.0, 1.0, 25.0], [117.0, 1.0, 22.0], [65.0, 0.0, 6.0], [229.0, 0.0, 46.0], [519.0, 2.0, 111.0], [318.0, 1.0, 62.0], [463.0, 1.0, 105.0], [119.0, 3.0, 21.0], [156.0, 0.0, 27.0], [1155.0, 0.0, 367.0], [1.0, 0.0, 1.0], [53.0, 1.0, 1.0], [10.0, 0.0, 3.0], [18.0, 0.0, 1.0]], \"geo\": \"geo\", \"hoverlabel\": {\"namelength\": 0}, \"hovertemplate\": \"<b>%{hovertext}</b><br><br>Date=02/13/2020<br>size=%{marker.color}<br>Confirmed=%{customdata[0]}<br>Deaths=%{customdata[1]}<br>Recovered=%{customdata[2]}<br>Latitude=%{lat}<br>Longitude=%{lon}\", \"hovertext\": [\"Anhui\", \"Beijing\", \"Chongqing\", \"Fujian\", \"Gansu\", \"Guangdong\", \"Guangxi\", \"Guizhou\", \"Hainan\", \"Hebei\", \"Heilongjiang\", \"Henan\", \"Hubei\", \"Hunan\", \"Jiangsu\", \"Jiangxi\", \"Jilin\", \"Liaoning\", \"Inner Mongolia\", \"Shaanxi\", \"Shandong\", \"Shanghai\", \"Sichuan\", \"Tianjin\", \"Yunnan\", \"Zhejiang\", \"Tibet\", \"Hong Kong\", \"Macau\", \"Taiwan\"], \"lat\": [33.25, 39.54, 31.05, 26.23, 39.83, 23.08, 21.95, 27.68, 18.26, 37.72, 46.4, 33.57, 32.57, 25.97, 34.38, 27.97, 45.5, 41.81, 50.78, 34.8, 35.99, 31.22, 31.13, 39.23, 25.03, 28.85, 30.15, 22.2, 22.13, 23.03], \"legendgroup\": \"\", \"lon\": [115.35, 115.79, 109.52, 117.58, 97.73, 114.4, 108.62, 109.13, 109.5, 115.7, 125.32, 114.03, 110.78, 113.4, 118.35, 116.36, 124.3, 120.76, 121.52, 109.94, 119.38, 121.44, 104.4, 117.78, 98.47, 121.12, 88.78, 114.08, 113.33, 121.5], \"marker\": {\"color\": [30.56141357987225, 19.131126469708992, 23.0, 16.76305461424021, 9.486832980505138, 35.510561809129406, 15.033296378372908, 11.832159566199232, 12.569805089976535, 16.822603841260722, 20.445048300260872, 34.40930106817051, 228.00438592272738, 31.432467291003423, 24.351591323771842, 30.0, 9.273618495495704, 10.816653826391969, 8.06225774829855, 15.132745950421556, 22.781571499789035, 17.832554500127006, 21.517434791350013, 10.908712114635714, 12.489995996796797, 33.98529093593286, 1.0, 7.280109889280518, 3.1622776601683795, 4.242640687119285], \"coloraxis\": \"coloraxis\", \"size\": [30.56141357987225, 19.131126469708992, 23.0, 16.76305461424021, 9.486832980505138, 35.510561809129406, 15.033296378372908, 11.832159566199232, 12.569805089976535, 16.822603841260722, 20.445048300260872, 34.40930106817051, 228.00438592272738, 31.432467291003423, 24.351591323771842, 30.0, 9.273618495495704, 10.816653826391969, 8.06225774829855, 15.132745950421556, 22.781571499789035, 17.832554500127006, 21.517434791350013, 10.908712114635714, 12.489995996796797, 33.98529093593286, 1.0, 7.280109889280518, 3.1622776601683795, 4.242640687119285], \"sizemode\": \"area\", \"sizeref\": 0.612316298982805}, \"name\": \"\", \"showlegend\": false, \"type\": \"scattergeo\"}], \"name\": \"02/13/2020\"}, {\"data\": [{\"customdata\": [[934.0, 6.0, 193.0], [372.0, 3.0, 80.0], [537.0, 5.0, 152.0], [281.0, 0.0, 63.0], [90.0, 2.0, 39.0], [1261.0, 2.0, 362.0], [226.0, 2.0, 36.0], [140.0, 1.0, 28.0], [159.0, 4.0, 43.0], [283.0, 3.0, 87.0], [419.0, 11.0, 47.0], [1184.0, 11.0, 357.0], [54406.0, 1457.0, 4774.0], [988.0, 2.0, 364.0], [593.0, 0.0, 157.0], [900.0, 1.0, 187.0], [86.0, 1.0, 25.0], [119.0, 1.0, 29.0], [65.0, 0.0, 6.0], [230.0, 0.0, 54.0], [523.0, 2.0, 136.0], [318.0, 1.0, 90.0], [463.0, 1.0, 114.0], [120.0, 3.0, 31.0], [162.0, 0.0, 36.0], [1155.0, 0.0, 403.0], [1.0, 0.0, 1.0], [56.0, 1.0, 1.0], [10.0, 0.0, 3.0], [18.0, 0.0, 2.0]], \"geo\": \"geo\", \"hoverlabel\": {\"namelength\": 0}, \"hovertemplate\": \"<b>%{hovertext}</b><br><br>Date=02/14/2020<br>size=%{marker.color}<br>Confirmed=%{customdata[0]}<br>Deaths=%{customdata[1]}<br>Recovered=%{customdata[2]}<br>Latitude=%{lat}<br>Longitude=%{lon}\", \"hovertext\": [\"Anhui\", \"Beijing\", \"Chongqing\", \"Fujian\", \"Gansu\", \"Guangdong\", \"Guangxi\", \"Guizhou\", \"Hainan\", \"Hebei\", \"Heilongjiang\", \"Henan\", \"Hubei\", \"Hunan\", \"Jiangsu\", \"Jiangxi\", \"Jilin\", \"Liaoning\", \"Inner Mongolia\", \"Shaanxi\", \"Shandong\", \"Shanghai\", \"Sichuan\", \"Tianjin\", \"Yunnan\", \"Zhejiang\", \"Tibet\", \"Hong Kong\", \"Macau\", \"Taiwan\"], \"lat\": [33.25, 39.54, 31.05, 26.23, 39.83, 23.08, 21.95, 27.68, 18.26, 37.72, 46.4, 33.57, 32.57, 25.97, 34.38, 27.97, 45.5, 41.81, 50.78, 34.8, 35.99, 31.22, 31.13, 39.23, 25.03, 28.85, 30.15, 22.2, 22.13, 23.03], \"legendgroup\": \"\", \"lon\": [115.35, 115.79, 109.52, 117.58, 97.73, 114.4, 108.62, 109.13, 109.5, 115.7, 125.32, 114.03, 110.78, 113.4, 118.35, 116.36, 124.3, 120.76, 121.52, 109.94, 119.38, 121.44, 104.4, 117.78, 98.47, 121.12, 88.78, 114.08, 113.33, 121.5], \"marker\": {\"color\": [30.56141357987225, 19.28730152198591, 23.173260452512935, 16.76305461424021, 9.486832980505138, 35.510561809129406, 15.033296378372908, 11.832159566199232, 12.609520212918492, 16.822603841260722, 20.46948949045872, 34.40930106817051, 233.25093783305567, 31.432467291003423, 24.351591323771842, 30.0, 9.273618495495704, 10.908712114635714, 8.06225774829855, 15.165750888103101, 22.869193252058544, 17.832554500127006, 21.517434791350013, 10.954451150103322, 12.727922061357855, 33.98529093593286, 1.0, 7.483314773547883, 3.1622776601683795, 4.242640687119285], \"coloraxis\": \"coloraxis\", \"size\": [30.56141357987225, 19.28730152198591, 23.173260452512935, 16.76305461424021, 9.486832980505138, 35.510561809129406, 15.033296378372908, 11.832159566199232, 12.609520212918492, 16.822603841260722, 20.46948949045872, 34.40930106817051, 233.25093783305567, 31.432467291003423, 24.351591323771842, 30.0, 9.273618495495704, 10.908712114635714, 8.06225774829855, 15.165750888103101, 22.869193252058544, 17.832554500127006, 21.517434791350013, 10.954451150103322, 12.727922061357855, 33.98529093593286, 1.0, 7.483314773547883, 3.1622776601683795, 4.242640687119285], \"sizemode\": \"area\", \"sizeref\": 0.612316298982805}, \"name\": \"\", \"showlegend\": false, \"type\": \"scattergeo\"}], \"name\": \"02/14/2020\"}, {\"data\": [{\"customdata\": [[950.0, 6.0, 221.0], [375.0, 4.0, 98.0], [544.0, 5.0, 184.0], [285.0, 0.0, 71.0], [90.0, 2.0, 49.0], [1294.0, 2.0, 410.0], [235.0, 2.0, 44.0], [143.0, 1.0, 41.0], [162.0, 4.0, 39.0], [291.0, 3.0, 101.0], [425.0, 11.0, 68.0], [1212.0, 13.0, 391.0], [56249.0, 1596.0, 5623.0], [1001.0, 2.0, 425.0], [604.0, 0.0, 186.0], [913.0, 1.0, 210.0], [88.0, 1.0, 26.0], [119.0, 1.0, 31.0], [68.0, 0.0, 7.0], [232.0, 0.0, 60.0], [532.0, 2.0, 156.0], [326.0, 1.0, 124.0], [470.0, 1.0, 119.0], [122.0, 3.0, 37.0], [168.0, 0.0, 42.0], [1162.0, 0.0, 428.0], [1.0, 0.0, 1.0], [56.0, 1.0, 1.0], [10.0, 0.0, 3.0], [18.0, 0.0, 2.0]], \"geo\": \"geo\", \"hoverlabel\": {\"namelength\": 0}, \"hovertemplate\": \"<b>%{hovertext}</b><br><br>Date=02/15/2020<br>size=%{marker.color}<br>Confirmed=%{customdata[0]}<br>Deaths=%{customdata[1]}<br>Recovered=%{customdata[2]}<br>Latitude=%{lat}<br>Longitude=%{lon}\", \"hovertext\": [\"Anhui\", \"Beijing\", \"Chongqing\", \"Fujian\", \"Gansu\", \"Guangdong\", \"Guangxi\", \"Guizhou\", \"Hainan\", \"Hebei\", \"Heilongjiang\", \"Henan\", \"Hubei\", \"Hunan\", \"Jiangsu\", \"Jiangxi\", \"Jilin\", \"Liaoning\", \"Inner Mongolia\", \"Shaanxi\", \"Shandong\", \"Shanghai\", \"Sichuan\", \"Tianjin\", \"Yunnan\", \"Zhejiang\", \"Tibet\", \"Hong Kong\", \"Macau\", \"Taiwan\"], \"lat\": [33.25, 39.54, 31.05, 26.23, 39.83, 23.08, 21.95, 27.68, 18.26, 37.72, 46.4, 33.57, 32.57, 25.97, 34.38, 27.97, 45.5, 41.81, 50.78, 34.8, 35.99, 31.22, 31.13, 39.23, 25.03, 28.85, 30.15, 22.2, 22.13, 23.03], \"legendgroup\": \"\", \"lon\": [115.35, 115.79, 109.52, 117.58, 97.73, 114.4, 108.62, 109.13, 109.5, 115.7, 125.32, 114.03, 110.78, 113.4, 118.35, 116.36, 124.3, 120.76, 121.52, 109.94, 119.38, 121.44, 104.4, 117.78, 98.47, 121.12, 88.78, 114.08, 113.33, 121.5], \"marker\": {\"color\": [30.822070014844883, 19.364916731037084, 23.323807579381203, 16.881943016134134, 9.486832980505138, 35.9722114972099, 15.329709716755891, 11.958260743101398, 12.727922061357855, 17.05872210923198, 20.615528128088304, 34.813790371058424, 237.16871631815187, 31.63858403911275, 24.576411454889016, 30.215889859476256, 9.38083151964686, 10.908712114635714, 8.246211251235321, 15.231546211727817, 23.065125189341593, 18.05547008526779, 21.6794833886788, 11.045361017187261, 12.96148139681572, 34.08812109811862, 1.0, 7.483314773547883, 3.1622776601683795, 4.242640687119285], \"coloraxis\": \"coloraxis\", \"size\": [30.822070014844883, 19.364916731037084, 23.323807579381203, 16.881943016134134, 9.486832980505138, 35.9722114972099, 15.329709716755891, 11.958260743101398, 12.727922061357855, 17.05872210923198, 20.615528128088304, 34.813790371058424, 237.16871631815187, 31.63858403911275, 24.576411454889016, 30.215889859476256, 9.38083151964686, 10.908712114635714, 8.246211251235321, 15.231546211727817, 23.065125189341593, 18.05547008526779, 21.6794833886788, 11.045361017187261, 12.96148139681572, 34.08812109811862, 1.0, 7.483314773547883, 3.1622776601683795, 4.242640687119285], \"sizemode\": \"area\", \"sizeref\": 0.612316298982805}, \"name\": \"\", \"showlegend\": false, \"type\": \"scattergeo\"}], \"name\": \"02/15/2020\"}, {\"data\": [{\"customdata\": [[962.0, 6.0, 255.0], [380.0, 4.0, 108.0], [551.0, 5.0, 207.0], [287.0, 0.0, 82.0], [90.0, 2.0, 54.0], [1316.0, 2.0, 465.0], [237.0, 2.0, 49.0], [144.0, 1.0, 46.0], [162.0, 4.0, 52.0], [300.0, 3.0, 105.0], [445.0, 11.0, 79.0], [1231.0, 13.0, 440.0], [58182.0, 1696.0, 6639.0], [1004.0, 3.0, 464.0], [617.0, 0.0, 218.0], [925.0, 1.0, 240.0], [89.0, 1.0, 30.0], [121.0, 1.0, 40.0], [70.0, 0.0, 8.0], [236.0, 0.0, 71.0], [537.0, 2.0, 173.0], [328.0, 1.0, 140.0], [481.0, 3.0, 131.0], [124.0, 3.0, 45.0], [171.0, 0.0, 42.0], [1167.0, 0.0, 456.0], [1.0, 0.0, 1.0], [57.0, 1.0, 2.0], [10.0, 0.0, 5.0], [20.0, 1.0, 2.0]], \"geo\": \"geo\", \"hoverlabel\": {\"namelength\": 0}, \"hovertemplate\": \"<b>%{hovertext}</b><br><br>Date=02/16/2020<br>size=%{marker.color}<br>Confirmed=%{customdata[0]}<br>Deaths=%{customdata[1]}<br>Recovered=%{customdata[2]}<br>Latitude=%{lat}<br>Longitude=%{lon}\", \"hovertext\": [\"Anhui\", \"Beijing\", \"Chongqing\", \"Fujian\", \"Gansu\", \"Guangdong\", \"Guangxi\", \"Guizhou\", \"Hainan\", \"Hebei\", \"Heilongjiang\", \"Henan\", \"Hubei\", \"Hunan\", \"Jiangsu\", \"Jiangxi\", \"Jilin\", \"Liaoning\", \"Inner Mongolia\", \"Shaanxi\", \"Shandong\", \"Shanghai\", \"Sichuan\", \"Tianjin\", \"Yunnan\", \"Zhejiang\", \"Tibet\", \"Hong Kong\", \"Macau\", \"Taiwan\"], \"lat\": [33.25, 39.54, 31.05, 26.23, 39.83, 23.08, 21.95, 27.68, 18.26, 37.72, 46.4, 33.57, 32.57, 25.97, 34.38, 27.97, 45.5, 41.81, 50.78, 34.8, 35.99, 31.22, 31.13, 39.23, 25.03, 28.85, 30.15, 22.2, 22.13, 23.03], \"legendgroup\": \"\", \"lon\": [115.35, 115.79, 109.52, 117.58, 97.73, 114.4, 108.62, 109.13, 109.5, 115.7, 125.32, 114.03, 110.78, 113.4, 118.35, 116.36, 124.3, 120.76, 121.52, 109.94, 119.38, 121.44, 104.4, 117.78, 98.47, 121.12, 88.78, 114.08, 113.33, 121.5], \"marker\": {\"color\": [31.016124838541646, 19.493588689617926, 23.473389188611005, 16.941074346097416, 9.486832980505138, 36.27671429443411, 15.394804318340652, 12.0, 12.727922061357855, 17.320508075688775, 21.095023109728988, 35.08560958569767, 241.20945255109717, 31.68595903550972, 24.839484696748443, 30.4138126514911, 9.433981132056603, 11.0, 8.366600265340756, 15.362291495737216, 23.173260452512935, 18.110770276274835, 21.93171219946131, 11.135528725660043, 13.076696830622021, 34.161381705077446, 1.0, 7.54983443527075, 3.1622776601683795, 4.47213595499958], \"coloraxis\": \"coloraxis\", \"size\": [31.016124838541646, 19.493588689617926, 23.473389188611005, 16.941074346097416, 9.486832980505138, 36.27671429443411, 15.394804318340652, 12.0, 12.727922061357855, 17.320508075688775, 21.095023109728988, 35.08560958569767, 241.20945255109717, 31.68595903550972, 24.839484696748443, 30.4138126514911, 9.433981132056603, 11.0, 8.366600265340756, 15.362291495737216, 23.173260452512935, 18.110770276274835, 21.93171219946131, 11.135528725660043, 13.076696830622021, 34.161381705077446, 1.0, 7.54983443527075, 3.1622776601683795, 4.47213595499958], \"sizemode\": \"area\", \"sizeref\": 0.612316298982805}, \"name\": \"\", \"showlegend\": false, \"type\": \"scattergeo\"}], \"name\": \"02/16/2020\"}, {\"data\": [{\"customdata\": [[973.0, 6.0, 280.0], [381.0, 4.0, 114.0], [553.0, 5.0, 225.0], [290.0, 0.0, 90.0], [91.0, 2.0, 58.0], [1322.0, 4.0, 524.0], [238.0, 2.0, 53.0], [146.0, 1.0, 57.0], [163.0, 4.0, 59.0], [301.0, 3.0, 122.0], [457.0, 11.0, 85.0], [1246.0, 16.0, 509.0], [59989.0, 1789.0, 7862.0], [1006.0, 3.0, 498.0], [626.0, 0.0, 258.0], [930.0, 1.0, 275.0], [89.0, 1.0, 34.0], [121.0, 1.0, 43.0], [72.0, 0.0, 8.0], [240.0, 0.0, 79.0], [541.0, 2.0, 191.0], [333.0, 1.0, 161.0], [495.0, 3.0, 156.0], [125.0, 3.0, 46.0], [171.0, 0.0, 47.0], [1171.0, 0.0, 507.0], [1.0, 0.0, 1.0], [60.0, 1.0, 2.0], [10.0, 0.0, 5.0], [22.0, 1.0, 2.0]], \"geo\": \"geo\", \"hoverlabel\": {\"namelength\": 0}, \"hovertemplate\": \"<b>%{hovertext}</b><br><br>Date=02/17/2020<br>size=%{marker.color}<br>Confirmed=%{customdata[0]}<br>Deaths=%{customdata[1]}<br>Recovered=%{customdata[2]}<br>Latitude=%{lat}<br>Longitude=%{lon}\", \"hovertext\": [\"Anhui\", \"Beijing\", \"Chongqing\", \"Fujian\", \"Gansu\", \"Guangdong\", \"Guangxi\", \"Guizhou\", \"Hainan\", \"Hebei\", \"Heilongjiang\", \"Henan\", \"Hubei\", \"Hunan\", \"Jiangsu\", \"Jiangxi\", \"Jilin\", \"Liaoning\", \"Inner Mongolia\", \"Shaanxi\", \"Shandong\", \"Shanghai\", \"Sichuan\", \"Tianjin\", \"Yunnan\", \"Zhejiang\", \"Tibet\", \"Hong Kong\", \"Macau\", \"Taiwan\"], \"lat\": [33.25, 39.54, 31.05, 26.23, 39.83, 23.08, 21.95, 27.68, 18.26, 37.72, 46.4, 33.57, 32.57, 25.97, 34.38, 27.97, 45.5, 41.81, 50.78, 34.8, 35.99, 31.22, 31.13, 39.23, 25.03, 28.85, 30.15, 22.2, 22.13, 23.03], \"legendgroup\": \"\", \"lon\": [115.35, 115.79, 109.52, 117.58, 97.73, 114.4, 108.62, 109.13, 109.5, 115.7, 125.32, 114.03, 110.78, 113.4, 118.35, 116.36, 124.3, 120.76, 121.52, 109.94, 119.38, 121.44, 104.4, 117.78, 98.47, 121.12, 88.78, 114.08, 113.33, 121.5], \"marker\": {\"color\": [31.192947920964443, 19.519221295943137, 23.515952032609693, 17.029386365926403, 9.539392014169456, 36.359317925395686, 15.427248620541512, 12.083045973594572, 12.767145334803704, 17.349351572897472, 21.37755832643195, 35.298725189445584, 244.92651959312204, 31.71750305430741, 25.019992006393608, 30.495901363953813, 9.433981132056603, 11.0, 8.48528137423857, 15.491933384829668, 23.259406699226016, 18.24828759089466, 22.24859546128699, 11.180339887498949, 13.076696830622021, 34.219877264537345, 1.0, 7.745966692414834, 3.1622776601683795, 4.69041575982343], \"coloraxis\": \"coloraxis\", \"size\": [31.192947920964443, 19.519221295943137, 23.515952032609693, 17.029386365926403, 9.539392014169456, 36.359317925395686, 15.427248620541512, 12.083045973594572, 12.767145334803704, 17.349351572897472, 21.37755832643195, 35.298725189445584, 244.92651959312204, 31.71750305430741, 25.019992006393608, 30.495901363953813, 9.433981132056603, 11.0, 8.48528137423857, 15.491933384829668, 23.259406699226016, 18.24828759089466, 22.24859546128699, 11.180339887498949, 13.076696830622021, 34.219877264537345, 1.0, 7.745966692414834, 3.1622776601683795, 4.69041575982343], \"sizemode\": \"area\", \"sizeref\": 0.612316298982805}, \"name\": \"\", \"showlegend\": false, \"type\": \"scattergeo\"}], \"name\": \"02/17/2020\"}]);\n",
       "                        }).then(function(){\n",
       "                            \n",
       "var gd = document.getElementById('2dfa81e4-8596-413e-9f82-2d36fca07773');\n",
       "var x = new MutationObserver(function (mutations, observer) {{\n",
       "        var display = window.getComputedStyle(gd).display;\n",
       "        if (!display || display === 'none') {{\n",
       "            console.log([gd, 'removed!']);\n",
       "            Plotly.purge(gd);\n",
       "            observer.disconnect();\n",
       "        }}\n",
       "}});\n",
       "\n",
       "// Listen for the removal of the full notebook cells\n",
       "var notebookContainer = gd.closest('#notebook-container');\n",
       "if (notebookContainer) {{\n",
       "    x.observe(notebookContainer, {childList: true});\n",
       "}}\n",
       "\n",
       "// Listen for the clearing of the current output cell\n",
       "var outputEl = gd.closest('.output');\n",
       "if (outputEl) {{\n",
       "    x.observe(outputEl, {childList: true});\n",
       "}}\n",
       "\n",
       "                        })\n",
       "                };\n",
       "                });\n",
       "            </script>\n",
       "        </div>"
      ]
     },
     "metadata": {},
     "output_type": "display_data"
    }
   ],
   "source": [
    "fig = px.scatter_geo(china_map, lat='Latitude', lon='Longitude', scope='asia',\n",
    "                     color=\"size\", size='size', hover_name='Province/State', \n",
    "                     hover_data=['Confirmed', 'Deaths', 'Recovered'],\n",
    "                     projection=\"natural earth\", animation_frame=\"Date\", \n",
    "                     title='Spread in China over time')\n",
    "fig.update(layout_coloraxis_showscale=False)\n",
    "fig.show()"
   ]
  },
  {
   "cell_type": "markdown",
   "metadata": {},
   "source": [
    "# 预测模型"
   ]
  },
  {
   "cell_type": "code",
   "execution_count": null,
   "metadata": {},
   "outputs": [],
   "source": []
  }
 ],
 "metadata": {
  "kernelspec": {
   "display_name": "Python 3",
   "language": "python",
   "name": "python3"
  },
  "language_info": {
   "codemirror_mode": {
    "name": "ipython",
    "version": 3
   },
   "file_extension": ".py",
   "mimetype": "text/x-python",
   "name": "python",
   "nbconvert_exporter": "python",
   "pygments_lexer": "ipython3",
   "version": "3.6.5"
  }
 },
 "nbformat": 4,
 "nbformat_minor": 2
}
